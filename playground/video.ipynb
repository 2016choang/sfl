{
 "cells": [
  {
   "cell_type": "code",
   "execution_count": 1,
   "metadata": {},
   "outputs": [
    {
     "name": "stderr",
     "output_type": "stream",
     "text": [
      "Using TensorFlow backend.\n"
     ]
    }
   ],
   "source": [
    "from collections import defaultdict\n",
    "import copy\n",
    "import itertools as it\n",
    "import json\n",
    "import os\n",
    "import pickle\n",
    "import sys\n",
    "import time\n",
    "import warnings\n",
    "warnings.simplefilter(action='ignore', category=FutureWarning)\n",
    "\n",
    "import cv2\n",
    "import matplotlib\n",
    "from matplotlib import cm\n",
    "import matplotlib.pyplot as plt\n",
    "from matplotlib.colors import Normalize\n",
    "from matplotlib import collections as mc\n",
    "import networkx as nximport\n",
    "import numpy as np\n",
    "from scipy import stats\n",
    "import torch\n",
    "import vizdoom as vzd\n",
    "\n",
    "from rlpyt.envs.vizdoom.vizdoom_env import VizDoomEnv\n",
    "import rlpyt.models.resnet as resnet\n",
    "from rlpyt.models.dqn.dsr.dsr_model import DsrModel\n",
    "from rlpyt.models.dqn.dsr.tcf_model import FixedVizDoomModel\n",
    "from rlpyt.utils.seed import make_seed, get_seed\n",
    "\n",
    "vzd_dir = 'vizdoom_data'\n",
    "import keras\n",
    "import tensorflow as tf\n",
    "\n",
    "os.environ['CUDA_VISIBLE_DEVICES'] = '0'\n",
    "config = tf.ConfigProto()\n",
    "config.gpu_options.per_process_gpu_memory_fraction = 0.25\n",
    "keras.backend.tensorflow_backend.set_session(tf.Session(config=config))\n",
    "\n",
    "from itertools import tee, islice\n",
    "def nwise(iterable, n=2):                                                      \n",
    "    iters = tee(iterable, n)                                                     \n",
    "    for i, it in enumerate(iters):                                               \n",
    "        next(islice(it, i, i), None)                                               \n",
    "    return zip(*iters)\n",
    "\n",
    "np.random.seed(333)\n",
    "device = torch.device('cuda', index=0)"
   ]
  },
  {
   "cell_type": "code",
   "execution_count": 504,
   "metadata": {},
   "outputs": [],
   "source": [
    "TITLE_FONTSIZE = 36"
   ]
  },
  {
   "cell_type": "code",
   "execution_count": 505,
   "metadata": {},
   "outputs": [],
   "source": [
    "def plot_topdown(env, fig, linewidth=2):\n",
    "    env.reset()\n",
    "    state = env.state\n",
    "\n",
    "    for s in state.sectors:\n",
    "        # Plot sector on map\n",
    "        for l in s.lines:\n",
    "            if l.is_blocking:\n",
    "                fig.plot([l.x1, l.x2], [l.y1, l.y2], color='black', linewidth=linewidth)\n",
    "                \n",
    "def get_obs(env, pos):\n",
    "    return env.get_obs_at(pos)[0][:3]"
   ]
  },
  {
   "cell_type": "code",
   "execution_count": 624,
   "metadata": {},
   "outputs": [],
   "source": [
    "def plot_current_observation(ax, obs, title=None):\n",
    "    ax.axis('off')\n",
    "    ax.imshow(np.transpose(obs, [1, 2, 0]))\n",
    "    if title is None:\n",
    "        title = 'Current Observation'\n",
    "    ax.set_title(title, fontsize=TITLE_FONTSIZE, pad=20)"
   ]
  },
  {
   "cell_type": "markdown",
   "metadata": {},
   "source": [
    "## Exploration"
   ]
  },
  {
   "cell_type": "code",
   "execution_count": 551,
   "metadata": {},
   "outputs": [],
   "source": [
    "eval_dir = '../data/fixed-spawn-small/run_6/'"
   ]
  },
  {
   "cell_type": "code",
   "execution_count": 562,
   "metadata": {},
   "outputs": [],
   "source": [
    "landmarks = np.load('../data/fixed-spawn-small/run_6/landmarks_itr_9999.npz')\n",
    "\n",
    "config = json.load(open('../data/fixed-spawn-small/run_6/params.json'))\n",
    "config['env']['config'] = '../' + config['env']['config']"
   ]
  },
  {
   "cell_type": "code",
   "execution_count": 622,
   "metadata": {},
   "outputs": [],
   "source": [
    "env = VizDoomEnv(**config['env'])\n",
    "o = env.reset()"
   ]
  },
  {
   "cell_type": "code",
   "execution_count": 563,
   "metadata": {},
   "outputs": [],
   "source": [
    "landmark_pos = landmarks['positions']"
   ]
  },
  {
   "cell_type": "code",
   "execution_count": 564,
   "metadata": {},
   "outputs": [
    {
     "data": {
      "text/plain": [
       "<matplotlib.collections.PathCollection at 0x7f953b468dd0>"
      ]
     },
     "execution_count": 564,
     "metadata": {},
     "output_type": "execute_result"
    },
    {
     "data": {
      "image/png": "[encoded data removed]",
      "text/plain": [
       "<Figure size 432x288 with 1 Axes>"
      ]
     },
     "metadata": {
      "needs_background": "light"
     },
     "output_type": "display_data"
    }
   ],
   "source": [
    "plot_topdown(env, plt)\n",
    "plt.scatter(landmark_pos[:, 0], landmark_pos[:, 1])"
   ]
  },
  {
   "cell_type": "code",
   "execution_count": 548,
   "metadata": {},
   "outputs": [],
   "source": [
    "config['agent']['feature_model_kwargs']['fixed_weights_path'] = '../' + \\\n",
    "    config['agent']['feature_model_kwargs']['fixed_weights_path'] "
   ]
  },
  {
   "cell_type": "code",
   "execution_count": 549,
   "metadata": {},
   "outputs": [],
   "source": [
    "itr = 50000 - 1"
   ]
  },
  {
   "cell_type": "code",
   "execution_count": 552,
   "metadata": {},
   "outputs": [
    {
     "data": {
      "text/plain": [
       "DsrModel(\n",
       "  (dsr): MlpModel(\n",
       "    (model): Sequential(\n",
       "      (0): Linear(in_features=2048, out_features=2048, bias=True)\n",
       "      (1): BatchNorm1d(2048, eps=1e-05, momentum=0.1, affine=True, track_running_stats=True)\n",
       "      (2): ReLU()\n",
       "      (3): Linear(in_features=2048, out_features=1024, bias=True)\n",
       "      (4): BatchNorm1d(1024, eps=1e-05, momentum=0.1, affine=True, track_running_stats=True)\n",
       "      (5): ReLU()\n",
       "      (6): Linear(in_features=1024, out_features=14336, bias=True)\n",
       "    )\n",
       "  )\n",
       "  (q_estimate): Linear(in_features=2048, out_features=1, bias=True)\n",
       ")"
      ]
     },
     "execution_count": 552,
     "metadata": {},
     "output_type": "execute_result"
    }
   ],
   "source": [
    "feature_model = FixedVizDoomModel(**config['agent']['feature_model_kwargs'])\n",
    "feature_model.to(device)\n",
    "weights = torch.load(os.path.join(eval_dir, 'itr_{}.pkl'.format(itr)), map_location=device)\n",
    "dsr_model = DsrModel(env.observation_space.shape,\n",
    "                     env.action_space.n, **config['agent']['model_kwargs']).to(device)\n",
    "dsr_model.load_state_dict(weights['agent_state_dict']['model'])\n",
    "dsr_model.eval()\n",
    "dsr_model.to(device)"
   ]
  },
  {
   "cell_type": "code",
   "execution_count": 571,
   "metadata": {},
   "outputs": [],
   "source": [
    "features = landmarks['features']\n",
    "features = torch.Tensor(features).to(device)"
   ]
  },
  {
   "cell_type": "code",
   "execution_count": 572,
   "metadata": {},
   "outputs": [],
   "source": [
    "s_features = dsr_model(features, mode='dsr')"
   ]
  },
  {
   "cell_type": "code",
   "execution_count": 573,
   "metadata": {},
   "outputs": [],
   "source": [
    "s_features = torch.mean(s_features, dim=1)\n",
    "s_features = s_features / torch.norm(s_features, p=2, dim=1, keepdim=True)\n",
    "s_features = s_features.detach().cpu().numpy().squeeze()"
   ]
  },
  {
   "cell_type": "code",
   "execution_count": 580,
   "metadata": {},
   "outputs": [],
   "source": [
    "def get_s_features(state, feature_model, dsr_model, norm=True, numpy=True):\n",
    "    features = feature_model(torch.Tensor(state).unsqueeze(0).to(device))\n",
    "    s_features = dsr_model(features, mode='dsr')\n",
    "    if norm:\n",
    "        s_features = torch.mean(s_features, dim=1)\n",
    "        s_features = s_features / torch.norm(s_features, p=2, dim=1, keepdim=True)\n",
    "    if numpy:\n",
    "        s_features = s_features.detach().cpu().numpy().squeeze()\n",
    "    return s_features"
   ]
  },
  {
   "cell_type": "code",
   "execution_count": 608,
   "metadata": {},
   "outputs": [],
   "source": [
    "sfs_values = []\n",
    "agent_pos = []\n",
    "observations = []\n",
    "obs = env.reset()\n",
    "for i in range(500):\n",
    "    observations.append(obs[9:12])\n",
    "    agent_pos.append(env.agent_pos)\n",
    "    cur_s_features = get_s_features(obs, feature_model, dsr_model)\n",
    "    cur_sfs_values = np.dot(s_features, cur_s_features)\n",
    "    sfs_values.append(cur_sfs_values)\n",
    "    obs, r, d, env_info = env.step(env.action_space.sample())"
   ]
  },
  {
   "cell_type": "code",
   "execution_count": 616,
   "metadata": {},
   "outputs": [],
   "source": [
    "agent_pos = np.vstack(agent_pos)\n",
    "sfs_values = np.vstack(sfs_values)"
   ]
  },
  {
   "cell_type": "code",
   "execution_count": 617,
   "metadata": {},
   "outputs": [],
   "source": [
    "smoothed_sfs_values = np.copy(sfs_values)\n",
    "for i in range(8, len(sfs_values)):\n",
    "    smoothed_sfs_values[i] = np.median(sfs_values[i:i+8], axis=0)"
   ]
  },
  {
   "cell_type": "code",
   "execution_count": 680,
   "metadata": {},
   "outputs": [],
   "source": [
    "closest_sfs_values = smoothed_sfs_values.max(axis=1)"
   ]
  },
  {
   "cell_type": "code",
   "execution_count": 681,
   "metadata": {},
   "outputs": [],
   "source": [
    "LANDMARK_SIZE = 144\n",
    "PATH_SIZE = 400\n",
    "LEGEND_FONTSIZE=32\n",
    "\n",
    "def plot_exploration_landmark_graph(ax, env, landmark_pos, current_pos):\n",
    "    ax.axis('off')\n",
    "    plot_topdown(env, ax, WALL_WIDTH)\n",
    "    plt.scatter(landmark_pos[:, 0], landmark_pos[:, 1], s=LANDMARK_SIZE, color='tab:blue', zorder=1,\n",
    "                label='Existing Landmarks')\n",
    "    ax.scatter(*current_pos, s=AGENT_SIZE, color='tab:red', marker='d', zorder=6, label='Current Position')\n",
    "        \n",
    "    ax.legend(fontsize=LEGEND_FONTSIZE, loc='lower right', bbox_to_anchor=(0.975, -0.35), labelspacing=0.6)\n",
    "    ax.set_title('Landmark Graph', fontsize=TITLE_FONTSIZE)"
   ]
  },
  {
   "cell_type": "code",
   "execution_count": 688,
   "metadata": {},
   "outputs": [
    {
     "data": {
      "text/plain": [
       "(array([ 31,  52,  53,  78,  79, 168, 169, 170, 171, 172, 173, 174, 175,\n",
       "        176, 177, 178, 179, 180, 181, 182, 183, 184, 185, 186, 187, 188,\n",
       "        189, 190, 191, 192, 193, 194, 195, 196, 208, 209, 210, 211, 212,\n",
       "        213, 214, 215, 216, 217, 218, 219, 220, 221, 222, 223, 224, 225,\n",
       "        226, 227, 228, 229, 230, 231, 232, 233, 234, 235, 236, 237, 238,\n",
       "        239, 240, 241, 242, 243, 244, 245, 323, 324, 325, 326, 327, 328,\n",
       "        329, 330, 454, 455, 456, 457, 458, 459, 460, 461, 462]),)"
      ]
     },
     "execution_count": 688,
     "metadata": {},
     "output_type": "execute_result"
    }
   ],
   "source": [
    "np.where(closest_sfs_values < 0.8)"
   ]
  },
  {
   "cell_type": "code",
   "execution_count": 691,
   "metadata": {},
   "outputs": [
    {
     "data": {
      "image/png": "[encoded data removed]",
      "text/plain": [
       "<Figure size 2304x576 with 2 Axes>"
      ]
     },
     "metadata": {
      "needs_background": "light"
     },
     "output_type": "display_data"
    }
   ],
   "source": [
    "for idx in [454]:\n",
    "# for idx in range(len(observations)):\n",
    "    fig = plt.figure(figsize=(32,  8))\n",
    "    gridspec = {'wspace': 0}\n",
    "    gs = fig.add_gridspec(1, 2, **gridspec)\n",
    "    \n",
    "    ax1 = fig.add_subplot(gs[0, 0])\n",
    "    observation = observations[idx]\n",
    "    closest_sfs_value = closest_sfs_values[idx]\n",
    "    \n",
    "    plot_current_observation(ax1, observation)\n",
    "    if closest_sfs_value < 0.9:\n",
    "        comparison_text = r'$< \\delta_{add}$'\n",
    "    else:\n",
    "        comparison_text = r'$\\nless \\delta_{add}$'\n",
    "    ax1.axis('on')\n",
    "    ax1.set_xlabel('SFS with respect to existing landmarks:\\n {:.3f}'.format(closest_sfs_value) +\n",
    "                   comparison_text,\n",
    "                   fontsize=LEGEND_FONTSIZE, labelpad=20)\n",
    "    ax1.get_xaxis().set_ticks([])\n",
    "    ax1.get_yaxis().set_ticks([])\n",
    "    \n",
    "    ax2 = fig.add_subplot(gs[0, 1])\n",
    "    current_pos = agent_pos[idx, :2]\n",
    "    plot_exploration_landmark_graph(ax2, env, landmark_pos, current_pos)\n",
    "\n",
    "#     plt.savefig(video_dir + '/full%03d.png' % idx, bbox_inches='tight', pad_inches=0.65)\n",
    "#     plt.close()"
   ]
  },
  {
   "cell_type": "code",
   "execution_count": null,
   "metadata": {},
   "outputs": [],
   "source": []
  },
  {
   "cell_type": "code",
   "execution_count": null,
   "metadata": {},
   "outputs": [],
   "source": []
  },
  {
   "cell_type": "code",
   "execution_count": null,
   "metadata": {},
   "outputs": [],
   "source": []
  },
  {
   "cell_type": "code",
   "execution_count": null,
   "metadata": {},
   "outputs": [],
   "source": []
  },
  {
   "cell_type": "code",
   "execution_count": null,
   "metadata": {},
   "outputs": [],
   "source": []
  },
  {
   "cell_type": "markdown",
   "metadata": {},
   "source": [
    "## Planning"
   ]
  },
  {
   "cell_type": "code",
   "execution_count": null,
   "metadata": {},
   "outputs": [],
   "source": []
  },
  {
   "cell_type": "code",
   "execution_count": 307,
   "metadata": {},
   "outputs": [],
   "source": [
    "WALL_WIDTH = 5"
   ]
  },
  {
   "cell_type": "code",
   "execution_count": 284,
   "metadata": {},
   "outputs": [],
   "source": [
    "DOT_SIZE = 700\n",
    "START_COLOR = '#ff99ff'\n",
    "GOAL_COLOR = 'yellow'"
   ]
  },
  {
   "cell_type": "code",
   "execution_count": 409,
   "metadata": {},
   "outputs": [],
   "source": [
    "# video_data = np.load('../video-data/fixed-spawn_itr199999_hardest_traj13.npz', allow_pickle=True)\n",
    "video_data = np.load('../video-data/fixed-spawn_itr199999_hardest_traj13.npz', allow_pickle=True)"
   ]
  },
  {
   "cell_type": "code",
   "execution_count": 389,
   "metadata": {},
   "outputs": [],
   "source": [
    "landmarks = np.load('../data/fixed-spawn-small/run_6/landmarks_itr_199999.npz')\n",
    "\n",
    "config = json.load(open('../data/fixed-spawn-small/run_6/params.json'))\n",
    "config['env']['config'] = '../' + config['env']['config']"
   ]
  },
  {
   "cell_type": "code",
   "execution_count": 396,
   "metadata": {},
   "outputs": [],
   "source": [
    "env = VizDoomEnv(**config['env'])\n",
    "o = env.reset()"
   ]
  },
  {
   "cell_type": "code",
   "execution_count": 410,
   "metadata": {},
   "outputs": [],
   "source": [
    "positions = video_data['position']\n",
    "observations = video_data['observation']\n",
    "\n",
    "closest_landmarks = video_data['closest_landmark'].squeeze()\n",
    "path_to_goal = video_data['path_to_goal']\n",
    "path_idx = video_data['path_idx'].squeeze()\n",
    "\n",
    "start = video_data['start']\n",
    "goal = video_data['goal']\n",
    "\n",
    "landmark_pos = landmarks['positions']"
   ]
  },
  {
   "cell_type": "code",
   "execution_count": 276,
   "metadata": {},
   "outputs": [],
   "source": [
    "video_dir = '../videos'"
   ]
  },
  {
   "cell_type": "code",
   "execution_count": 353,
   "metadata": {},
   "outputs": [],
   "source": [
    "AGENT_SIZE = 700"
   ]
  },
  {
   "cell_type": "code",
   "execution_count": null,
   "metadata": {},
   "outputs": [],
   "source": []
  },
  {
   "cell_type": "code",
   "execution_count": 507,
   "metadata": {},
   "outputs": [],
   "source": [
    "def plot_closest_landmark(ax, landmark):\n",
    "    ax.axis('off')\n",
    "    ax.imshow(np.transpose(landmark, [1, 2, 0]))\n",
    "    ax.set_title('Target Landmark', fontsize=TITLE_FONTSIZE, pad=20)"
   ]
  },
  {
   "cell_type": "code",
   "execution_count": 508,
   "metadata": {},
   "outputs": [],
   "source": [
    "TRAJ_SIZE = 100\n",
    "\n",
    "def plot_agent_trajectory(ax, env, start, goal, trajectory, current_pos):\n",
    "    ax.axis('off')\n",
    "    plot_topdown(env, plt, WALL_WIDTH)\n",
    "    ax.scatter(*start[:2], marker='o', s=DOT_SIZE, color=START_COLOR, label='Start', zorder=2)\n",
    "    ax.scatter(*goal[:2], marker='s', s=DOT_SIZE, color=GOAL_COLOR, linewidths=3,\n",
    "                edgecolor='black', label='Goal', zorder=2)\n",
    "    plt.set_cmap('viridis')\n",
    "    ax.scatter(trajectory[:, 0], trajectory[:, 1], s=TRAJ_SIZE, c=range(len(trajectory)), zorder=1)\n",
    "    if len(trajectory):\n",
    "        ax.scatter(trajectory[-1, 0], trajectory[-1, 1], s=TRAJ_SIZE, c=len(trajectory) - 1, zorder=1, label='Trajectory')\n",
    "    ax.scatter(*current_pos, s=AGENT_SIZE, color='tab:red', marker='d', zorder=3, label='Current Position')\n",
    "#     ax.legend(fontsize=LEGEND_FONTSIZE, loc='upper right', bbox_to_anchor=(0.97, 1.2), labelspacing=0.8)\n",
    "    ax.set_title('Agent Trajectory', fontsize=TITLE_FONTSIZE)"
   ]
  },
  {
   "cell_type": "code",
   "execution_count": 531,
   "metadata": {},
   "outputs": [],
   "source": [
    "LANDMARK_SIZE = 144\n",
    "PATH_SIZE = 400\n",
    "LEGEND_FONTSIZE=32\n",
    "\n",
    "def plot_landmark_graph(ax, env, start, goal, landmark_pos, landmark_path, current_pos):\n",
    "    path_landmarks = landmark_pos[path, :2]\n",
    "    non_path_landmarks = np.delete(landmark_pos[:, :2], path, axis=0)\n",
    "\n",
    "    ax.axis('off')\n",
    "    plot_topdown(env, ax, WALL_WIDTH)\n",
    "    ax.scatter(*start[:2], marker='o', s=DOT_SIZE, color=START_COLOR, label='Start', zorder=5)\n",
    "    ax.scatter(*goal[:2], marker='s', s=DOT_SIZE, color=GOAL_COLOR, linewidths=3,\n",
    "                edgecolor='black', label='Goal', zorder=5)\n",
    "#     plt.scatter(non_path_landmarks[:, 0], non_path_landmarks[:, 1], s=LANDMARK_SIZE, color='gray', zorder=1, alpha=0.5)\n",
    "    ax.scatter(*current_pos, s=AGENT_SIZE, color='tab:red', marker='d', zorder=6, label='Current Position')\n",
    "    if len(path_landmarks):\n",
    "        ax.scatter(*path_landmarks[0], s=DOT_SIZE, color='tab:blue', edgecolor='tab:red', linewidth=5, zorder=3, label='Target Landmark')\n",
    "    ax.scatter(path_landmarks[:, 0], path_landmarks[:, 1], s=DOT_SIZE, color='tab:blue', zorder=2, label='Landmark Path')\n",
    "        \n",
    "    full_path = [*path_landmarks, goal[:2]]\n",
    "\n",
    "    full_path = list(map(tuple, full_path))\n",
    "    path_lines = list(zip(full_path, full_path[1:]))\n",
    "\n",
    "    for line in path_lines:\n",
    "        x1, y1 = line[0]\n",
    "        x2, y2 = line[1]\n",
    "        ax.arrow(x1, y1, x2 - x1, y2 - y1, linewidth=4, head_width=10, length_includes_head=True, color='black', zorder=4)\n",
    "    \n",
    "    ax.legend(fontsize=LEGEND_FONTSIZE, loc='lower right', bbox_to_anchor=(1.5, 0.025), labelspacing=0.6)\n",
    "    ax.set_title('Landmark Path to Goal', fontsize=TITLE_FONTSIZE)"
   ]
  },
  {
   "cell_type": "code",
   "execution_count": 535,
   "metadata": {},
   "outputs": [],
   "source": [
    "# for idx in [len(observations) - 1]:\n",
    "for idx in range(len(observations)):\n",
    "    fig = plt.figure(figsize=(32, 32))\n",
    "    gridspec = {'height_ratios': [3, 1], 'wspace': 0.1, 'hspace': -0.35}\n",
    "    gs = fig.add_gridspec(2, 2, **gridspec)\n",
    "    \n",
    "    ax1 = fig.add_subplot(gs[0, 0])\n",
    "    observation = observations[idx]\n",
    "    plot_current_observation(ax1, observation)\n",
    "#     plt.savefig(video_dir + '/obs%03d.png' % idx, bbox_inches='tight')\n",
    "#     plt.close()\n",
    "\n",
    "    if closest_landmarks[idx] == len(landmark_pos):\n",
    "        closest_landmark = get_obs(env, goal)\n",
    "    else:\n",
    "        closest_landmark = get_obs(env, landmark_pos[closest_landmarks[idx]])\n",
    "    ax2 = fig.add_subplot(gs[0, 1])\n",
    "    plot_closest_landmark(ax2, closest_landmark)\n",
    "#     plt.savefig(video_dir + '/landmark%03d.png' % idx, bbox_inches='tight')\n",
    "#     plt.close()\n",
    "    \n",
    "    ax3 = fig.add_subplot(gs[1, 0])\n",
    "    trajectory = positions[:idx]\n",
    "    current_pos = positions[idx, :2]\n",
    "    plot_agent_trajectory(ax3, env, start, goal, trajectory, current_pos)\n",
    "#     plt.savefig(video_dir + '/trajectory%03d.png' % idx, bbox_inches='tight')\n",
    "#     plt.close()\n",
    "\n",
    "    ax4 = fig.add_subplot(gs[1, 1])\n",
    "    path = path_to_goal[idx][path_idx[idx]:-1]\n",
    "    plot_landmark_graph(ax4, env, start, goal, landmark_pos, path, current_pos)\n",
    "#     plt.savefig(video_dir + '/graph%03d.png' % idx, bbox_inches='tight')\n",
    "#     plt.close()\n",
    "\n",
    "    plt.savefig(video_dir + '/full%03d.png' % idx, bbox_inches='tight', pad_inches=0.65)\n",
    "    plt.close()"
   ]
  },
  {
   "cell_type": "code",
   "execution_count": null,
   "metadata": {},
   "outputs": [],
   "source": []
  }
 ],
 "metadata": {
  "kernelspec": {
   "display_name": "Python [conda env:tf-vzd] *",
   "language": "python",
   "name": "conda-env-tf-vzd-py"
  },
  "language_info": {
   "codemirror_mode": {
    "name": "ipython",
    "version": 3
   },
   "file_extension": ".py",
   "mimetype": "text/x-python",
   "name": "python",
   "nbconvert_exporter": "python",
   "pygments_lexer": "ipython3",
   "version": "3.7.8"
  }
 },
 "nbformat": 4,
 "nbformat_minor": 4
}

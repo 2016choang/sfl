{
 "cells": [
  {
   "cell_type": "markdown",
   "metadata": {},
   "source": [
    "# VizDoom Playground"
   ]
  },
  {
   "cell_type": "code",
   "execution_count": 2,
   "metadata": {},
   "outputs": [],
   "source": [
    "import itertools as it\n",
    "import json\n",
    "import os\n",
    "\n",
    "import cv2\n",
    "import gym\n",
    "from gym.spaces import Box, Discrete\n",
    "import matplotlib.pyplot as plt\n",
    "import numpy as np\n",
    "import vizdoom as vzd\n",
    "\n",
    "from rlpyt.envs.vizdoom.vizdoom_env import VizDoomEnv\n",
    "import rlpyt.models.resnet as resnet\n",
    "\n",
    "vzd_dir = 'vizdoom_data'\n",
    "import keras\n",
    "import tensorflow as tf\n",
    "config = tf.ConfigProto()\n",
    "config.gpu_options.per_process_gpu_memory_fraction = 0.7\n",
    "keras.backend.tensorflow_backend.set_session(tf.Session(config=config))"
   ]
  },
  {
   "cell_type": "markdown",
   "metadata": {},
   "source": [
    "## Player Control"
   ]
  },
  {
   "cell_type": "code",
   "execution_count": null,
   "metadata": {},
   "outputs": [],
   "source": [
    "game = vzd.DoomGame()\n",
    "game.load_config('vizdoom_data/my_way_home_control.cfg')\n",
    "game.set_doom_scenario_path('vizdoom_data/my_way_home.wad')\n",
    "game.set_screen_resolution(vzd.ScreenResolution.RES_640X480)\n",
    "game.set_mode(vzd.Mode.SPECTATOR)\n",
    "game.set_window_visible(True)"
   ]
  },
  {
   "cell_type": "code",
   "execution_count": null,
   "metadata": {},
   "outputs": [],
   "source": [
    "game.init()\n",
    "game.new_episode()\n",
    "while not game.is_episode_finished():\n",
    "    s = game.get_state()\n",
    "    game.advance_action()\n",
    "    a = game.get_last_action()\n",
    "    r = game.get_last_reward()\n",
    "game.close()"
   ]
  },
  {
   "cell_type": "markdown",
   "metadata": {},
   "source": [
    "## Replay Episode"
   ]
  },
  {
   "cell_type": "code",
   "execution_count": null,
   "metadata": {},
   "outputs": [],
   "source": [
    "game = vzd.DoomGame()\n",
    "game.load_config('vizdoom_data/my_way_home_control.cfg')\n",
    "game.init()\n",
    "game.replay_episode('../data/local/20200722/vizdoom/run_0/eval_run_0_itr_0.lmp')\n",
    "while not game.is_episode_finished():\n",
    "    game.advance_action()\n",
    "game.close()"
   ]
  },
  {
   "cell_type": "markdown",
   "metadata": {},
   "source": [
    "## Cosine Similarity Exploration"
   ]
  },
  {
   "cell_type": "code",
   "execution_count": null,
   "metadata": {},
   "outputs": [],
   "source": [
    "np.random.seed(333)"
   ]
  },
  {
   "cell_type": "code",
   "execution_count": 3,
   "metadata": {},
   "outputs": [],
   "source": [
    "env = VizDoomEnv('../experiments/vizdoom/train_SPTM.cfg', 0, [500, 1000], 270, grayscale=False, map_id='map05')"
   ]
  },
  {
   "cell_type": "code",
   "execution_count": null,
   "metadata": {},
   "outputs": [],
   "source": [
    "positions = np.array([pos for _, pos in env.sample_states])"
   ]
  },
  {
   "cell_type": "code",
   "execution_count": null,
   "metadata": {},
   "outputs": [],
   "source": [
    "env.plot_topdown()\n",
    "plt.scatter(positions[:, 0], positions[:, 1])"
   ]
  },
  {
   "cell_type": "code",
   "execution_count": null,
   "metadata": {},
   "outputs": [],
   "source": [
    "env.plot_topdown()\n",
    "plt.scatter(env.sample_sectors[:, 0], env.sample_sectors[:, 1], c=env.sample_sectors[:, 2], s=100)"
   ]
  },
  {
   "cell_type": "code",
   "execution_count": null,
   "metadata": {},
   "outputs": [],
   "source": [
    "start_state = env.sample_states[0]"
   ]
  },
  {
   "cell_type": "code",
   "execution_count": null,
   "metadata": {},
   "outputs": [],
   "source": [
    "start_state_features = start_state[0].flatten() / np.linalg.norm(start_state[0])"
   ]
  },
  {
   "cell_type": "code",
   "execution_count": null,
   "metadata": {},
   "outputs": [],
   "source": [
    "similarities = []"
   ]
  },
  {
   "cell_type": "code",
   "execution_count": null,
   "metadata": {},
   "outputs": [],
   "source": [
    "for state, position in env.sample_states:\n",
    "    state_features = state.flatten() / np.linalg.norm(state)\n",
    "    similarity = np.dot(start_state_features, state_features)\n",
    "    similarities.append((*position, similarity))\n",
    "#     plt.figure(figsize=(7, 7))\n",
    "#     plt.imshow(np.transpose(state, [1, 2, 0]))\n",
    "#     plt.title('{} {}: {}'.format(*position, similarity))"
   ]
  },
  {
   "cell_type": "code",
   "execution_count": null,
   "metadata": {},
   "outputs": [],
   "source": [
    "similarities = np.array(similarities)"
   ]
  },
  {
   "cell_type": "code",
   "execution_count": null,
   "metadata": {},
   "outputs": [],
   "source": [
    "plt.figure(figsize=(7, 7))\n",
    "env.plot_topdown()\n",
    "plt.scatter(similarities[:, 0], similarities[:, 1], c=range(len(similarities)), s=100)\n",
    "plt.colorbar()"
   ]
  },
  {
   "cell_type": "markdown",
   "metadata": {},
   "source": [
    "## MyWayHome"
   ]
  },
  {
   "cell_type": "code",
   "execution_count": null,
   "metadata": {},
   "outputs": [],
   "source": [
    "env = VizDoomEnv('../experiments/vizdoom/my_way_home_SPTM.cfg', 0, [1040, -300], 270, grayscale=False)"
   ]
  },
  {
   "cell_type": "code",
   "execution_count": null,
   "metadata": {},
   "outputs": [],
   "source": [
    "env.plot_topdown()\n",
    "plt.scatter(env.sample_sectors[:, 0], env.sample_sectors[:, 1], c=env.sample_sectors[:, 2], s=100)"
   ]
  },
  {
   "cell_type": "code",
   "execution_count": null,
   "metadata": {},
   "outputs": [],
   "source": [
    "for state, position in env.sample_states:\n",
    "    plt.figure(figsize=(7, 7))\n",
    "    plt.imshow(np.transpose(state, [1, 2, 0]))\n",
    "    plt.title('{} {}'.format(*position))"
   ]
  },
  {
   "cell_type": "code",
   "execution_count": null,
   "metadata": {},
   "outputs": [],
   "source": [
    "obs = env.reset()"
   ]
  },
  {
   "cell_type": "code",
   "execution_count": null,
   "metadata": {},
   "outputs": [],
   "source": [
    "env.plot_topdown()"
   ]
  },
  {
   "cell_type": "code",
   "execution_count": null,
   "metadata": {},
   "outputs": [],
   "source": [
    "plt.imshow(env.goal_state[-1], cmap='gray')"
   ]
  },
  {
   "cell_type": "code",
   "execution_count": null,
   "metadata": {
    "scrolled": true
   },
   "outputs": [],
   "source": [
    "env.plot_topdown()"
   ]
  },
  {
   "cell_type": "code",
   "execution_count": null,
   "metadata": {},
   "outputs": [],
   "source": [
    "state = env.state"
   ]
  },
  {
   "cell_type": "code",
   "execution_count": null,
   "metadata": {},
   "outputs": [],
   "source": [
    "state.sectors[0].lines[5].y2"
   ]
  },
  {
   "cell_type": "code",
   "execution_count": null,
   "metadata": {},
   "outputs": [],
   "source": [
    "env.goal_position"
   ]
  },
  {
   "cell_type": "code",
   "execution_count": null,
   "metadata": {},
   "outputs": [],
   "source": [
    "env.game.get_game_variable(vzd.GameVariable.ANGLE)"
   ]
  },
  {
   "cell_type": "code",
   "execution_count": null,
   "metadata": {},
   "outputs": [],
   "source": [
    "env.game.send_game_command(\"warp 200 -200\")"
   ]
  },
  {
   "cell_type": "code",
   "execution_count": null,
   "metadata": {},
   "outputs": [],
   "source": [
    "obs, reward, done, info = env.step(3)"
   ]
  },
  {
   "cell_type": "code",
   "execution_count": null,
   "metadata": {},
   "outputs": [],
   "source": [
    "done"
   ]
  },
  {
   "cell_type": "code",
   "execution_count": null,
   "metadata": {},
   "outputs": [],
   "source": [
    "env.state.game_variables"
   ]
  },
  {
   "cell_type": "code",
   "execution_count": null,
   "metadata": {},
   "outputs": [],
   "source": [
    "plt.imshow(obs[-1], cmap='gray')"
   ]
  },
  {
   "cell_type": "code",
   "execution_count": null,
   "metadata": {},
   "outputs": [],
   "source": [
    "for i in range(500):\n",
    "    obs, reward, done, info = env.step(np.random.randint(3))\n",
    "    if done:\n",
    "        print(reward, i + 1)\n",
    "        break"
   ]
  },
  {
   "cell_type": "code",
   "execution_count": null,
   "metadata": {},
   "outputs": [],
   "source": [
    "env.plot_topdown()"
   ]
  },
  {
   "cell_type": "code",
   "execution_count": null,
   "metadata": {},
   "outputs": [],
   "source": [
    "plt.imshow(env.visited.T, origin='lower')"
   ]
  },
  {
   "cell_type": "markdown",
   "metadata": {},
   "source": [
    "## Testing SPTM Retrieval Network"
   ]
  },
  {
   "cell_type": "code",
   "execution_count": null,
   "metadata": {},
   "outputs": [],
   "source": [
    "game = vzd.DoomGame()\n",
    "game.load_config('vizdoom_data/train_SPTM_control.cfg')\n",
    "game.set_doom_map('map%02d' % 5)\n",
    "game.set_screen_resolution(vzd.ScreenResolution.RES_640X480)\n",
    "game.set_mode(vzd.Mode.SPECTATOR)\n",
    "game.set_seed(100)\n",
    "game.set_window_visible(True)"
   ]
  },
  {
   "cell_type": "code",
   "execution_count": null,
   "metadata": {},
   "outputs": [],
   "source": [
    "game.init()\n",
    "game.new_episode()\n",
    "new_episode = True\n",
    "while not game.is_episode_finished():\n",
    "    s = game.get_state()\n",
    "    if new_episode:\n",
    "        print(s.game_variables)\n",
    "        new_episode = False\n",
    "    game.advance_action()\n",
    "    a = game.get_last_action()\n",
    "    r = game.get_last_reward()\n",
    "game.close()"
   ]
  },
  {
   "cell_type": "code",
   "execution_count": null,
   "metadata": {},
   "outputs": [],
   "source": [
    "env = VizDoomEnv('vizdoom_data/train_SPTM.cfg', 100, [1600, 1500], grayscale=False, map_id=5)"
   ]
  },
  {
   "cell_type": "code",
   "execution_count": null,
   "metadata": {},
   "outputs": [],
   "source": [
    "for state, position in env.sample_states:\n",
    "    print(position)"
   ]
  },
  {
   "cell_type": "code",
   "execution_count": null,
   "metadata": {},
   "outputs": [],
   "source": [
    "model = resnet.ResnetBuilder.build_siamese_resnet_18((6, 120, 160), 2)"
   ]
  },
  {
   "cell_type": "code",
   "execution_count": null,
   "metadata": {},
   "outputs": [],
   "source": [
    "model.load_weights('../../sptm/experiments/0103_R/models/model_weights.h5')"
   ]
  },
  {
   "cell_type": "code",
   "execution_count": null,
   "metadata": {},
   "outputs": [],
   "source": [
    "model.compile(loss='categorical_crossentropy', optimizer='adam', metrics=['accuracy'])"
   ]
  },
  {
   "cell_type": "code",
   "execution_count": null,
   "metadata": {},
   "outputs": [],
   "source": [
    "def get_features(state, norm=True):\n",
    "    model_input = np.expand_dims(np.transpose(state, [1, 2, 0]), 0)\n",
    "    features = model.layers[3].predict(model_input).squeeze()\n",
    "    if norm:\n",
    "        features = features / np.linalg.norm(features, ord=2)\n",
    "    return features\n",
    "def get_edge_prediction(A, B):\n",
    "    concat = np.concatenate((A, B), axis=0)\n",
    "    model_input = np.expand_dims(np.transpose(concat, [1, 2, 0]), 0)\n",
    "    return model.predict(model_input)[:, 1]\n",
    "def get_valid(data, m=3):\n",
    "    return abs(data - np.mean(data)) < m * np.std(data)"
   ]
  },
  {
   "cell_type": "code",
   "execution_count": null,
   "metadata": {},
   "outputs": [],
   "source": [
    "start_state, start_position = env.get_obs_at((1200, 1000))\n",
    "start_state_features = get_features(start_state)"
   ]
  },
  {
   "cell_type": "code",
   "execution_count": null,
   "metadata": {},
   "outputs": [],
   "source": [
    "sample_x = np.random.randint(env.min_x, env.max_x, 100)\n",
    "sample_y = np.random.randint(env.min_y, env.max_y, 100)\n",
    "samples = []\n",
    "sample_states = []"
   ]
  },
  {
   "cell_type": "code",
   "execution_count": null,
   "metadata": {},
   "outputs": [],
   "source": [
    "for x, y in zip(sample_x, sample_y):\n",
    "    state, position = env.get_obs_at((x, y))\n",
    "    features = get_features(state)\n",
    "    similarity = np.dot(features, start_state_features)\n",
    "    prediction = get_edge_prediction(start_state, state).item()\n",
    "    samples.append((*position, similarity, prediction))\n",
    "    sample_states.append(state)\n",
    "samples = np.array(samples)"
   ]
  },
  {
   "cell_type": "code",
   "execution_count": null,
   "metadata": {},
   "outputs": [],
   "source": [
    "env.plot_topdown()\n",
    "plt.scatter(samples[:, 0], samples[:, 1], c=samples[:, 3], s=81)\n",
    "plt.scatter(*start_position, marker='D')\n",
    "plt.colorbar()"
   ]
  },
  {
   "cell_type": "code",
   "execution_count": null,
   "metadata": {},
   "outputs": [],
   "source": []
  }
 ],
 "metadata": {
  "kernelspec": {
   "display_name": "Python [conda env:rlpyt] *",
   "language": "python",
   "name": "conda-env-rlpyt-py"
  },
  "language_info": {
   "codemirror_mode": {
    "name": "ipython",
    "version": 3
   },
   "file_extension": ".py",
   "mimetype": "text/x-python",
   "name": "python",
   "nbconvert_exporter": "python",
   "pygments_lexer": "ipython3",
   "version": "3.7.6"
  }
 },
 "nbformat": 4,
 "nbformat_minor": 2
}

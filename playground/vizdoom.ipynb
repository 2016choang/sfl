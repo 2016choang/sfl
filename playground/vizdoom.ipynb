{
 "cells": [
  {
   "cell_type": "markdown",
   "metadata": {},
   "source": [
    "# VizDoom Playground"
   ]
  },
  {
   "cell_type": "code",
   "execution_count": null,
   "metadata": {},
   "outputs": [],
   "source": [
    "import warnings\n",
    "warnings.simplefilter(action='ignore', category=FutureWarning)\n",
    "\n",
    "import itertools as it\n",
    "import json\n",
    "import os\n",
    "import sys\n",
    "import time\n",
    "\n",
    "import cv2\n",
    "import matplotlib.pyplot as plt\n",
    "import networkx as nx\n",
    "import numpy as np\n",
    "import torch\n",
    "import vizdoom as vzd\n",
    "\n",
    "from rlpyt.envs.vizdoom.vizdoom_env import VizDoomEnv\n",
    "import rlpyt.models.resnet as resnet\n",
    "from rlpyt.models.dqn.dsr.dsr_model import DsrModel\n",
    "from rlpyt.models.dqn.dsr.tcf_model import FixedVizDoomModel\n",
    "\n",
    "vzd_dir = 'vizdoom_data'\n",
    "import keras\n",
    "import tensorflow as tf\n",
    "\n",
    "os.environ['CUDA_VISIBLE_DEVICES'] = '3'\n",
    "config = tf.ConfigProto()\n",
    "config.gpu_options.per_process_gpu_memory_fraction = 0.3\n",
    "keras.backend.tensorflow_backend.set_session(tf.Session(config=config))\n",
    "\n",
    "from itertools import tee, islice\n",
    "def nwise(iterable, n=2):                                                      \n",
    "    iters = tee(iterable, n)                                                     \n",
    "    for i, it in enumerate(iters):                                               \n",
    "        next(islice(it, i, i), None)                                               \n",
    "    return zip(*iters)\n",
    "\n",
    "np.random.seed(333)\n",
    "device = torch.device('cuda', index=0)"
   ]
  },
  {
   "cell_type": "code",
   "execution_count": 68,
   "metadata": {},
   "outputs": [],
   "source": [
    "A = np.zeros((3, 4, 5))\n",
    "A[1, 2, 3] = 1\n",
    "A[2, 2, 2] = 1\n",
    "A[1, 2, 2] = 1"
   ]
  },
  {
   "cell_type": "code",
   "execution_count": 70,
   "metadata": {},
   "outputs": [
    {
     "data": {
      "text/plain": [
       "array([0., 0.])"
      ]
     },
     "execution_count": 70,
     "metadata": {},
     "output_type": "execute_result"
    }
   ],
   "source": [
    "A[0, :2, 0]"
   ]
  },
  {
   "cell_type": "code",
   "execution_count": 69,
   "metadata": {},
   "outputs": [
    {
     "data": {
      "text/plain": [
       "array([[1, 2, 2],\n",
       "       [1, 2, 3],\n",
       "       [2, 2, 2]])"
      ]
     },
     "execution_count": 69,
     "metadata": {},
     "output_type": "execute_result"
    }
   ],
   "source": [
    "np.argwhere(A)"
   ]
  },
  {
   "cell_type": "code",
   "execution_count": 54,
   "metadata": {},
   "outputs": [],
   "source": [
    "B = np.full((7, 5), True, dtype=bool)"
   ]
  },
  {
   "cell_type": "code",
   "execution_count": 55,
   "metadata": {},
   "outputs": [
    {
     "data": {
      "text/plain": [
       "array([ True,  True,  True,  True,  True])"
      ]
     },
     "execution_count": 55,
     "metadata": {},
     "output_type": "execute_result"
    }
   ],
   "source": [
    "np.any(B, axis=0)"
   ]
  },
  {
   "cell_type": "code",
   "execution_count": 43,
   "metadata": {},
   "outputs": [],
   "source": [
    "A = np.random.random((1500, 2))\n",
    "B = np.random.random((2))"
   ]
  },
  {
   "cell_type": "code",
   "execution_count": 44,
   "metadata": {},
   "outputs": [
    {
     "name": "stdout",
     "output_type": "stream",
     "text": [
      "11.390409231185913\n"
     ]
    }
   ],
   "source": [
    "start = time.time()\n",
    "B = np.array(list(it.product(A, A)))\n",
    "end = time.time()\n",
    "print(end - start)"
   ]
  },
  {
   "cell_type": "code",
   "execution_count": 50,
   "metadata": {},
   "outputs": [
    {
     "data": {
      "text/plain": [
       "array([[0.69686354, 0.46070755],\n",
       "       [0.42882101, 0.08531956]])"
      ]
     },
     "execution_count": 50,
     "metadata": {},
     "output_type": "execute_result"
    }
   ],
   "source": [
    "B[1]"
   ]
  },
  {
   "cell_type": "code",
   "execution_count": 51,
   "metadata": {},
   "outputs": [
    {
     "data": {
      "text/plain": [
       "array([0.69686354, 0.46070755, 0.42882101, 0.08531956])"
      ]
     },
     "execution_count": 51,
     "metadata": {},
     "output_type": "execute_result"
    }
   ],
   "source": [
    "B.reshape(-1, 4)[1]"
   ]
  },
  {
   "cell_type": "code",
   "execution_count": 45,
   "metadata": {},
   "outputs": [
    {
     "name": "stdout",
     "output_type": "stream",
     "text": [
      "24.237098455429077\n"
     ]
    }
   ],
   "source": [
    "start = time.time()\n",
    "C = np.fromiter(it.chain.from_iterable(np.concatenate([a, b]) for a, b in it.product(A, A)), dtype=float)\n",
    "end = time.time()\n",
    "print(end - start)"
   ]
  },
  {
   "cell_type": "code",
   "execution_count": null,
   "metadata": {},
   "outputs": [],
   "source": [
    "A = np.arange(6)"
   ]
  },
  {
   "cell_type": "code",
   "execution_count": null,
   "metadata": {},
   "outputs": [],
   "source": []
  },
  {
   "cell_type": "code",
   "execution_count": null,
   "metadata": {},
   "outputs": [],
   "source": [
    "B = np.array(list(it.product(A, A))).reshape(6, 6, 2)"
   ]
  },
  {
   "cell_type": "code",
   "execution_count": null,
   "metadata": {},
   "outputs": [],
   "source": [
    "B[1, 4]"
   ]
  },
  {
   "cell_type": "code",
   "execution_count": null,
   "metadata": {},
   "outputs": [],
   "source": [
    "B.shape"
   ]
  },
  {
   "cell_type": "code",
   "execution_count": null,
   "metadata": {},
   "outputs": [],
   "source": [
    "count = 0\n",
    "for a, b in it.product(A, A):\n",
    "    print(a, b)\n",
    "    count += 1\n",
    "    if count == 6:\n",
    "        break"
   ]
  },
  {
   "cell_type": "code",
   "execution_count": null,
   "metadata": {
    "scrolled": true
   },
   "outputs": [],
   "source": [
    "B[:, np.newaxis].shape"
   ]
  },
  {
   "cell_type": "code",
   "execution_count": null,
   "metadata": {},
   "outputs": [],
   "source": [
    "B = np.broadcast_to(B, A.shape)"
   ]
  },
  {
   "cell_type": "code",
   "execution_count": null,
   "metadata": {},
   "outputs": [],
   "source": [
    "B"
   ]
  },
  {
   "cell_type": "code",
   "execution_count": null,
   "metadata": {},
   "outputs": [],
   "source": [
    "np.concatenate((A, B))"
   ]
  },
  {
   "cell_type": "code",
   "execution_count": null,
   "metadata": {},
   "outputs": [],
   "source": [
    "A = np.zeros((9, 6, 4))"
   ]
  },
  {
   "cell_type": "code",
   "execution_count": null,
   "metadata": {},
   "outputs": [],
   "source": []
  },
  {
   "cell_type": "markdown",
   "metadata": {},
   "source": [
    "## Landmarks Testing"
   ]
  },
  {
   "cell_type": "code",
   "execution_count": null,
   "metadata": {},
   "outputs": [],
   "source": []
  },
  {
   "cell_type": "code",
   "execution_count": null,
   "metadata": {},
   "outputs": [],
   "source": [
    "landmarks = np.load('../data/local/20200831/vizdoom/run_0/landmarks_itr_194999.npz')"
   ]
  },
  {
   "cell_type": "code",
   "execution_count": null,
   "metadata": {},
   "outputs": [],
   "source": [
    "with open('../experiments/configs/small-pipeline-vizdoom.json', 'r') as f:\n",
    "    config = json.load(f)"
   ]
  },
  {
   "cell_type": "code",
   "execution_count": null,
   "metadata": {},
   "outputs": [],
   "source": [
    "config['env']['config'] = '../experiments/vizdoom/small_SPTM.cfg'"
   ]
  },
  {
   "cell_type": "code",
   "execution_count": null,
   "metadata": {},
   "outputs": [],
   "source": [
    "env = VizDoomEnv(**config['env'])"
   ]
  },
  {
   "cell_type": "code",
   "execution_count": null,
   "metadata": {},
   "outputs": [],
   "source": [
    "env.plot_topdown()\n",
    "plt.scatter(landmarks['positions'][:, 0], landmarks['positions'][:, 1])"
   ]
  },
  {
   "cell_type": "code",
   "execution_count": null,
   "metadata": {},
   "outputs": [],
   "source": [
    "path_to_goal = [9, 85, 1162]"
   ]
  },
  {
   "cell_type": "code",
   "execution_count": null,
   "metadata": {},
   "outputs": [],
   "source": [
    "env.plot_topdown()\n",
    "plt.scatter(landmarks['positions'][path_to_goal, 0], landmarks['positions'][path_to_goal, 1])"
   ]
  },
  {
   "cell_type": "code",
   "execution_count": null,
   "metadata": {},
   "outputs": [],
   "source": [
    "sptm_model = resnet.ResnetBuilder.build_siamese_resnet_18((6, 120, 160), 2)\n",
    "sptm_model.load_weights('../../sptm/experiments/0103_R/models/model_weights.h5')\n",
    "sptm_model.compile(loss='categorical_crossentropy', optimizer='adam', metrics=['accuracy'])"
   ]
  },
  {
   "cell_type": "markdown",
   "metadata": {},
   "source": [
    "# SPTM Retrieval Network Features"
   ]
  },
  {
   "cell_type": "markdown",
   "metadata": {},
   "source": [
    "## Successor Feature Testing"
   ]
  },
  {
   "cell_type": "code",
   "execution_count": null,
   "metadata": {},
   "outputs": [],
   "source": [
    "with open('../experiments/configs/fixed-vizdoom.json', 'r') as f:\n",
    "    config = json.load(f)"
   ]
  },
  {
   "cell_type": "code",
   "execution_count": null,
   "metadata": {},
   "outputs": [],
   "source": [
    "config['env']['config'] = '../experiments/vizdoom/train_SPTM.cfg'"
   ]
  },
  {
   "cell_type": "code",
   "execution_count": null,
   "metadata": {},
   "outputs": [],
   "source": [
    "env = VizDoomEnv(**config['env'])"
   ]
  },
  {
   "cell_type": "code",
   "execution_count": null,
   "metadata": {},
   "outputs": [],
   "source": [
    "# dsr_weights = torch.load('../data/local/20200808/vizdoom/run_3/itr_599999.pkl', map_location=device)\n",
    "dsr_weights = torch.load('../data/local/20200826/vizdoom/run_32/itr_1249999.pkl', map_location=device)"
   ]
  },
  {
   "cell_type": "code",
   "execution_count": null,
   "metadata": {},
   "outputs": [],
   "source": [
    "dsr_model = DsrModel(env.observation_space.shape, env.action_space.n, **config['agent']['model_kwargs'])\n",
    "dsr_model = dsr_model.to(device=device)"
   ]
  },
  {
   "cell_type": "code",
   "execution_count": null,
   "metadata": {},
   "outputs": [],
   "source": [
    "dsr_model.load_state_dict(dsr_weights['agent_state_dict']['model'])\n",
    "dsr_model.eval()"
   ]
  },
  {
   "cell_type": "code",
   "execution_count": null,
   "metadata": {},
   "outputs": [],
   "source": [
    "obs = env.reset()"
   ]
  },
  {
   "cell_type": "code",
   "execution_count": null,
   "metadata": {},
   "outputs": [],
   "source": [
    "states = []\n",
    "positions = []"
   ]
  },
  {
   "cell_type": "code",
   "execution_count": null,
   "metadata": {},
   "outputs": [],
   "source": [
    "while True:\n",
    "    state, reward, done, info = env.step(np.random.randint(env.action_space.n))\n",
    "    states.append(state)\n",
    "    positions.append(info.position)\n",
    "    if done:\n",
    "        break\n",
    "states = np.array(states)\n",
    "positions = np.array(positions)"
   ]
  },
  {
   "cell_type": "code",
   "execution_count": null,
   "metadata": {},
   "outputs": [],
   "source": [
    "def get_representation(states):\n",
    "    features = []\n",
    "    s_features = []\n",
    "    for state in states:\n",
    "        feature = sptm_model.layers[3].predict(np.expand_dims(np.transpose(state, [1, 2, 0]), axis=0)).squeeze()\n",
    "        features.append(feature)\n",
    "        s_feature = dsr_model(torch.Tensor(feature).unsqueeze(0).to(device), mode='dsr')\n",
    "        s_features.append(s_feature)\n",
    "    features = np.array(features)\n",
    "    s_features = torch.cat(s_features, dim=0)\n",
    "    return features, s_features\n",
    "\n",
    "def get_sim(s_features, subgoal_index=0):\n",
    "    mean_s_features = torch.mean(s_features, dim=1)\n",
    "    norm_s_features = mean_s_features / torch.norm(mean_s_features, p=2, dim=1, keepdim=True)\n",
    "    similarities = torch.sum(norm_s_features * norm_s_features[subgoal_index], dim=1)\n",
    "    return similarities.detach().cpu().numpy()\n",
    "\n",
    "def get_f_sim(features, subgoal_index=0):\n",
    "    norm_features = features / np.linalg.norm(features, ord=2, keepdims=True, axis=1)\n",
    "    similarities = np.sum(norm_features * norm_features[subgoal_index], axis=1)\n",
    "    return similarities"
   ]
  },
  {
   "cell_type": "code",
   "execution_count": null,
   "metadata": {},
   "outputs": [],
   "source": [
    "features, s_features = get_representation(states)"
   ]
  },
  {
   "cell_type": "code",
   "execution_count": null,
   "metadata": {},
   "outputs": [],
   "source": [
    "subgoal_index = 1000"
   ]
  },
  {
   "cell_type": "code",
   "execution_count": null,
   "metadata": {},
   "outputs": [],
   "source": [
    "sims = get_sim(s_features, subgoal_index)"
   ]
  },
  {
   "cell_type": "code",
   "execution_count": null,
   "metadata": {},
   "outputs": [],
   "source": [
    "plt.figure(figsize=(14, 10))\n",
    "env.plot_topdown(objects=False)\n",
    "plt.scatter(positions[::4, 0], positions[::4, 1], c=sims[::4])\n",
    "plt.scatter(positions[subgoal_index, 0], positions[subgoal_index, 1], marker='D', c='pink')\n",
    "plt.colorbar()"
   ]
  },
  {
   "cell_type": "code",
   "execution_count": null,
   "metadata": {},
   "outputs": [],
   "source": [
    "f_sims = get_f_sim(features, subgoal_index)"
   ]
  },
  {
   "cell_type": "code",
   "execution_count": null,
   "metadata": {},
   "outputs": [],
   "source": [
    "plt.figure(figsize=(14, 10))\n",
    "env.plot_topdown(objects=False)\n",
    "plt.scatter(positions[::4, 0], positions[::4, 1], c=f_sims[::4])\n",
    "plt.scatter(positions[subgoal_index, 0], positions[subgoal_index, 1], marker='D', c='pink')\n",
    "plt.colorbar()"
   ]
  },
  {
   "cell_type": "markdown",
   "metadata": {},
   "source": [
    "### Landmarks Testing"
   ]
  },
  {
   "cell_type": "code",
   "execution_count": null,
   "metadata": {},
   "outputs": [],
   "source": [
    "mean_s_features = torch.mean(s_features, dim=1)\n",
    "norm_s_features = mean_s_features / torch.norm(mean_s_features, p=2, dim=1, keepdim=True)"
   ]
  },
  {
   "cell_type": "code",
   "execution_count": null,
   "metadata": {},
   "outputs": [],
   "source": [
    "def get_landmarks(s_features, threshold=0.9):\n",
    "    landmarks = s_features[0:1]\n",
    "    idxs = [0]\n",
    "    for i in range(1, len(s_features)):\n",
    "        cand = s_features[i]\n",
    "        cand_sim = torch.sum(landmarks * cand, dim=1)\n",
    "        if sum(cand_sim < threshold) >= len(landmarks):\n",
    "            landmarks = torch.cat([landmarks, cand.unsqueeze(0)])\n",
    "            idxs.append(i)\n",
    "    idxs = np.array(idxs)\n",
    "    return landmarks, idxs"
   ]
  },
  {
   "cell_type": "code",
   "execution_count": null,
   "metadata": {},
   "outputs": [],
   "source": [
    "landmarks, idxs = get_landmarks(norm_s_features, threshold=0.85)"
   ]
  },
  {
   "cell_type": "code",
   "execution_count": null,
   "metadata": {},
   "outputs": [],
   "source": [
    "similarity = torch.matmul(landmarks, landmarks.T)"
   ]
  },
  {
   "cell_type": "code",
   "execution_count": null,
   "metadata": {},
   "outputs": [],
   "source": [
    "neighbors = torch.topk(similarity, k=4).indices.detach().cpu().numpy()"
   ]
  },
  {
   "cell_type": "code",
   "execution_count": null,
   "metadata": {},
   "outputs": [],
   "source": [
    "random_points = np.random.randint(len(neighbors), size=3)"
   ]
  },
  {
   "cell_type": "code",
   "execution_count": null,
   "metadata": {},
   "outputs": [],
   "source": [
    "plt.figure()\n",
    "env.plot_topdown(objects=False)\n",
    "for point in random_points:\n",
    "    plt.scatter(positions[neighbors[point, 1:], 0], positions[neighbors[point, 1:], 1])\n",
    "    plt.scatter(positions[random_points, 0], positions[random_points, 1], marker='x', c='red')"
   ]
  },
  {
   "cell_type": "code",
   "execution_count": null,
   "metadata": {},
   "outputs": [],
   "source": [
    "plt.figure(figsize=(14, 10))\n",
    "env.plot_topdown(objects=False)\n",
    "plt.scatter(positions[idxs, 0], positions[idxs, 1], c=range(len(idxs)))\n",
    "plt.colorbar()"
   ]
  },
  {
   "cell_type": "markdown",
   "metadata": {},
   "source": [
    "### Subgoal Policy"
   ]
  },
  {
   "cell_type": "code",
   "execution_count": null,
   "metadata": {},
   "outputs": [],
   "source": [
    "ACTIONS = ['MOVE_LEFT', 'MOVE_RIGHT', 'MOVE_FORWARD', 'MOVE_BACKWARD', 'TURN_LEFT', 'TURN_RIGHT', 'NOOP']\n",
    "# ACTIONS = ['MOVE_FORWARD', 'MOVE_BACKWARD', 'TURN_LEFT', 'TURN_RIGHT']"
   ]
  },
  {
   "cell_type": "code",
   "execution_count": null,
   "metadata": {},
   "outputs": [],
   "source": [
    "HORIZON = 10\n",
    "num_actions = 20\n",
    "eps = 0.05\n",
    "stop_threshold = 0.96"
   ]
  },
  {
   "cell_type": "code",
   "execution_count": null,
   "metadata": {},
   "outputs": [],
   "source": [
    "start_idx = np.random.randint(len(states) - 1 - HORIZON) # 126\n",
    "print(start_idx)\n",
    "goal_idx = start_idx + HORIZON"
   ]
  },
  {
   "cell_type": "code",
   "execution_count": null,
   "metadata": {},
   "outputs": [],
   "source": [
    "env.reset()\n",
    "cur_obs, cur_pos = env.get_obs_at(positions[start_idx])\n",
    "policy_states = [cur_obs]\n",
    "policy_pos = [cur_pos]\n",
    "policy_actions = []\n",
    "policy_sims = []"
   ]
  },
  {
   "cell_type": "code",
   "execution_count": null,
   "metadata": {},
   "outputs": [],
   "source": [
    "for i in range(num_actions):\n",
    "    cur_s_feature = get_representation([cur_obs])[1].squeeze(0)\n",
    "    cur_mean_s_feature = cur_s_feature.mean(dim=0)\n",
    "    cur_norm_mean_s_feature = cur_mean_s_feature / torch.norm(cur_mean_s_feature, p=2, dim=-1, keepdim=True)\n",
    "    cur_sim = torch.sum(cur_norm_mean_s_feature * norm_s_features[goal_idx])\n",
    "    policy_sims.append(cur_sim)\n",
    "    cur_s_feature = cur_s_feature / torch.norm(cur_s_feature, p=2, dim=-1, keepdim=True)\n",
    "    q_values = torch.sum(cur_s_feature * norm_s_features[goal_idx], dim=-1)\n",
    "    if np.random.random() < eps:\n",
    "        action = np.random.randint(env.action_space.n)\n",
    "    else:\n",
    "        action = q_values.argmax().item()\n",
    "    \n",
    "    policy_actions.append(action)\n",
    "    cur_obs, _, _, info = env.step(action)\n",
    "    cur_pos = info.position\n",
    "    policy_states.append(cur_obs)\n",
    "    policy_pos.append(cur_pos)\n",
    "    if cur_sim > stop_threshold:\n",
    "        print('STOPPED AT ACTION {}'.format(i))\n",
    "        break\n",
    "policy_pos = np.array(policy_pos)"
   ]
  },
  {
   "cell_type": "code",
   "execution_count": null,
   "metadata": {},
   "outputs": [],
   "source": [
    "plt.figure(figsize=(14, 10))\n",
    "env.plot_topdown(objects=False)\n",
    "plt.scatter(policy_pos[:, 0], policy_pos[:, 1], c=range(len(policy_pos)))\n",
    "plt.scatter(*positions[start_idx, :2], c='orange', marker='d', label='start', s=100)\n",
    "plt.scatter(*positions[goal_idx, :2], c='red', marker='x', label='goal', s=100)\n",
    "plt.legend()\n",
    "plt.colorbar()"
   ]
  },
  {
   "cell_type": "code",
   "execution_count": null,
   "metadata": {},
   "outputs": [],
   "source": [
    "for idx in [start_idx, goal_idx]:\n",
    "    plt.figure()\n",
    "    plt.imshow(np.transpose(states[idx], [1, 2, 0]))\n",
    "    plt.title('Position: {}, {}, {}'.format(*positions[idx]))"
   ]
  },
  {
   "cell_type": "code",
   "execution_count": null,
   "metadata": {},
   "outputs": [],
   "source": [
    "for state, act, sim, pos in zip(policy_states, policy_actions, policy_sims, policy_pos):\n",
    "    plt.figure()\n",
    "    plt.imshow(np.transpose(state, [1, 2, 0]))\n",
    "    plt.title('Sim: {:.3f}, took action:{}, position: {:.3f}, {:.3f}, {:.3f}'.format(sim, ACTIONS[act], *pos))"
   ]
  },
  {
   "cell_type": "markdown",
   "metadata": {},
   "source": [
    "## Testing SPTM Setup"
   ]
  },
  {
   "cell_type": "code",
   "execution_count": null,
   "metadata": {},
   "outputs": [],
   "source": [
    "def check_if_close(first_point, second_point):\n",
    "    if ((first_point[0] - second_point[0]) ** 2 +\n",
    "        (first_point[1] - second_point[1]) ** 2 <= GOAL_DISTANCE_ALLOWANCE ** 2):\n",
    "        return True\n",
    "    else:\n",
    "        return False"
   ]
  },
  {
   "cell_type": "code",
   "execution_count": null,
   "metadata": {},
   "outputs": [],
   "source": [
    "GOAL_DISTNACE_ALLOWANCE = 63"
   ]
  },
  {
   "cell_type": "code",
   "execution_count": null,
   "metadata": {},
   "outputs": [],
   "source": [
    "run = '../data/local/20200826/vizdoom/run_32/'\n",
    "itr = 1250000"
   ]
  },
  {
   "cell_type": "code",
   "execution_count": null,
   "metadata": {},
   "outputs": [],
   "source": [
    "with open('{}/params.json'.format(run), 'r') as f:\n",
    "    config = json.load(f)\n",
    "config['env']['config'] = '../experiments/vizdoom/train_SPTM.cfg'"
   ]
  },
  {
   "cell_type": "code",
   "execution_count": null,
   "metadata": {},
   "outputs": [],
   "source": [
    "dsr_weights = torch.load('{}/itr_{}.pkl'.format(run, itr - 1), map_location=device)"
   ]
  },
  {
   "cell_type": "code",
   "execution_count": null,
   "metadata": {},
   "outputs": [],
   "source": [
    "env = VizDoomEnv(**config['env'])"
   ]
  },
  {
   "cell_type": "code",
   "execution_count": null,
   "metadata": {},
   "outputs": [],
   "source": [
    "obs = env.reset()"
   ]
  },
  {
   "cell_type": "code",
   "execution_count": null,
   "metadata": {},
   "outputs": [],
   "source": [
    "states = []\n",
    "positions = []"
   ]
  },
  {
   "cell_type": "code",
   "execution_count": null,
   "metadata": {},
   "outputs": [],
   "source": [
    "while True:\n",
    "    state, reward, done, info = env.step(np.random.randint(env.action_space.n))\n",
    "    states.append(state)\n",
    "    positions.append(info.position)\n",
    "    if done:\n",
    "        break\n",
    "states = np.array(states)\n",
    "positions = np.array(positions)"
   ]
  },
  {
   "cell_type": "code",
   "execution_count": null,
   "metadata": {},
   "outputs": [],
   "source": [
    "dsr_model = DsrModel(env.observation_space.shape, env.action_space.n, **config['agent']['model_kwargs'])\n",
    "dsr_model = dsr_model.to(device=device)"
   ]
  },
  {
   "cell_type": "code",
   "execution_count": null,
   "metadata": {},
   "outputs": [],
   "source": [
    "dsr_model.load_state_dict(dsr_weights['agent_state_dict']['model'])\n",
    "dsr_model.eval()"
   ]
  },
  {
   "cell_type": "code",
   "execution_count": null,
   "metadata": {},
   "outputs": [],
   "source": [
    "def get_representation(states):\n",
    "    features = []\n",
    "    s_features = []\n",
    "    for state in states:\n",
    "        feature = sptm_model.layers[3].predict(np.expand_dims(np.transpose(state, [1, 2, 0]), axis=0)).squeeze()\n",
    "        features.append(feature)\n",
    "        s_feature = dsr_model(torch.Tensor(feature).unsqueeze(0).to(device), mode='dsr')\n",
    "        s_features.append(s_feature)\n",
    "    features = np.array(features)\n",
    "    s_features = torch.cat(s_features, dim=0)\n",
    "    return features, s_features\n",
    "\n",
    "def get_sim(s_features, subgoal_index=0):\n",
    "    mean_s_features = torch.mean(s_features, dim=1)\n",
    "    norm_s_features = mean_s_features / torch.norm(mean_s_features, p=2, dim=1, keepdim=True)\n",
    "    similarities = torch.sum(norm_s_features * norm_s_features[subgoal_index], dim=1)\n",
    "    return similarities.detach().cpu().numpy()\n",
    "\n",
    "def get_f_sim(features, subgoal_index=0):\n",
    "    norm_features = features / np.linalg.norm(features, ord=2, keepdims=True, axis=1)\n",
    "    similarities = np.sum(norm_features * norm_features[subgoal_index], axis=1)\n",
    "    return similarities"
   ]
  },
  {
   "cell_type": "code",
   "execution_count": null,
   "metadata": {},
   "outputs": [],
   "source": [
    "features, s_features = get_representation(states)"
   ]
  },
  {
   "cell_type": "code",
   "execution_count": null,
   "metadata": {},
   "outputs": [],
   "source": [
    "subgoal_index = 1000"
   ]
  },
  {
   "cell_type": "code",
   "execution_count": null,
   "metadata": {},
   "outputs": [],
   "source": [
    "sims = get_sim(s_features, subgoal_index)"
   ]
  },
  {
   "cell_type": "code",
   "execution_count": null,
   "metadata": {},
   "outputs": [],
   "source": [
    "plt.figure(figsize=(14, 10))\n",
    "env.plot_topdown(objects=False)\n",
    "plt.scatter(positions[::4, 0], positions[::4, 1], c=sims[::4])\n",
    "plt.scatter(positions[subgoal_index, 0], positions[subgoal_index, 1], marker='D', c='pink')\n",
    "plt.colorbar()"
   ]
  },
  {
   "cell_type": "code",
   "execution_count": null,
   "metadata": {},
   "outputs": [],
   "source": [
    "mean_s_features = torch.mean(s_features, dim=1)\n",
    "norm_s_features = mean_s_features / torch.norm(mean_s_features, p=2, dim=1, keepdim=True)"
   ]
  },
  {
   "cell_type": "code",
   "execution_count": null,
   "metadata": {},
   "outputs": [],
   "source": [
    "ACTIONS = ['MOVE_LEFT', 'MOVE_RIGHT', 'MOVE_FORWARD', 'MOVE_BACKWARD', 'TURN_LEFT', 'TURN_RIGHT', 'NOOP']"
   ]
  },
  {
   "cell_type": "code",
   "execution_count": null,
   "metadata": {},
   "outputs": [],
   "source": [
    "horizon = 10\n",
    "action_limit = 20\n",
    "action_limit_threshold = 10\n",
    "eps = 0.05\n",
    "stop_threshold = 0.90"
   ]
  },
  {
   "cell_type": "code",
   "execution_count": null,
   "metadata": {},
   "outputs": [],
   "source": [
    "env.game.set_episode_timeout(0)\n",
    "env.game.init()"
   ]
  },
  {
   "cell_type": "code",
   "execution_count": null,
   "metadata": {},
   "outputs": [],
   "source": [
    "cur_obs = env.reset()\n",
    "subgoal_idx = horizon\n",
    "policy_states = [cur_obs]\n",
    "policy_pos = [np.array(config['env']['start_position'])]\n",
    "policy_actions = []\n",
    "policy_actions_taken = []\n",
    "reached_subgoals = []\n",
    "failed_subgoals = []\n",
    "policy_sims = []\n",
    "actions_taken = 0\n",
    "action_limit_count = 0"
   ]
  },
  {
   "cell_type": "code",
   "execution_count": null,
   "metadata": {},
   "outputs": [],
   "source": [
    "plt.imshow(np.transpose(cur_obs, [1, 2, 0]))"
   ]
  },
  {
   "cell_type": "code",
   "execution_count": null,
   "metadata": {},
   "outputs": [],
   "source": [
    "while True:\n",
    "    cur_s_feature = get_representation([cur_obs])[1].squeeze(0)\n",
    "    cur_mean_s_feature = cur_s_feature.mean(dim=0)\n",
    "    cur_norm_mean_s_feature = cur_mean_s_feature / torch.norm(cur_mean_s_feature, p=2, dim=-1, keepdim=True)\n",
    "    cur_sim = torch.sum(cur_norm_mean_s_feature * norm_s_features[subgoal_idx]).item()\n",
    "    policy_sims.append(cur_sim)\n",
    "    cur_s_feature = cur_s_feature / torch.norm(cur_s_feature, p=2, dim=-1, keepdim=True)\n",
    "    q_values = torch.sum(cur_s_feature * norm_s_features[subgoal_idx], dim=-1)\n",
    "    if np.random.random() < eps:\n",
    "        action = np.random.randint(env.action_space.n)\n",
    "    else:\n",
    "        action = q_values.argmax().item()\n",
    "    \n",
    "    policy_actions.append(action)\n",
    "    cur_obs, _, _, info = env.step(action)\n",
    "    actions_taken += 1\n",
    "    cur_pos = info.position\n",
    "    policy_states.append(cur_obs)\n",
    "    policy_pos.append(cur_pos)\n",
    "    if cur_sim > stop_threshold or actions_taken == action_limit:\n",
    "        if actions_taken == action_limit:\n",
    "            print('Reached action limit on subgoal {}'.format(subgoal_idx))\n",
    "            failed_subgoals.append(subgoal_idx)\n",
    "            action_limit_count += 1\n",
    "            if action_limit_count == action_limit_threshold:\n",
    "                print('Reached action limit threshold')\n",
    "                break\n",
    "        else:\n",
    "            reached_subgoals.append(subgoal_idx)\n",
    "            action_limit_count = 0\n",
    "        policy_actions_taken.append(actions_taken)\n",
    "        if subgoal_idx + horizon > len(norm_s_features):\n",
    "            break\n",
    "        subgoal_idx += horizon\n",
    "        actions_taken = 0\n",
    "\n",
    "policy_pos = np.array(policy_pos)\n",
    "policy_sims = np.array(policy_sims)"
   ]
  },
  {
   "cell_type": "code",
   "execution_count": null,
   "metadata": {},
   "outputs": [],
   "source": [
    "plt.figure(figsize=(14, 10))\n",
    "env.plot_topdown(objects=False)\n",
    "plt.scatter(policy_pos[:, 0], policy_pos[:, 1], c=range(len(policy_pos)))\n",
    "plt.scatter(positions[reached_subgoals, 0], positions[reached_subgoals, 1], c='green', marker='d')\n",
    "plt.scatter(positions[failed_subgoals, 0], positions[failed_subgoals, 1], c='red', marker='x')\n",
    "plt.scatter(*positions[-2, :2], marker='D')\n",
    "plt.colorbar()"
   ]
  },
  {
   "cell_type": "markdown",
   "metadata": {},
   "source": [
    "# OLD"
   ]
  },
  {
   "cell_type": "markdown",
   "metadata": {},
   "source": [
    "### Cosine Similarity Testing"
   ]
  },
  {
   "cell_type": "code",
   "execution_count": null,
   "metadata": {},
   "outputs": [],
   "source": [
    "env = VizDoomEnv('../experiments/vizdoom/train_SPTM.cfg', 100, [595, 1200], 270, grayscale=False, map_id='map05')"
   ]
  },
  {
   "cell_type": "code",
   "execution_count": null,
   "metadata": {},
   "outputs": [],
   "source": [
    "sptm_model = resnet.ResnetBuilder.build_siamese_resnet_18((6, 120, 160), 2)\n",
    "sptm_model.load_weights('../../sptm/experiments/0103_R/models/model_weights.h5')\n",
    "sptm_model.compile(loss='categorical_crossentropy', optimizer='adam', metrics=['accuracy'])"
   ]
  },
  {
   "cell_type": "code",
   "execution_count": null,
   "metadata": {},
   "outputs": [],
   "source": [
    "env.set_record_files(['vizdoom_data/test.lmp'])"
   ]
  },
  {
   "cell_type": "code",
   "execution_count": null,
   "metadata": {},
   "outputs": [],
   "source": [
    "obs = env.reset()"
   ]
  },
  {
   "cell_type": "code",
   "execution_count": null,
   "metadata": {},
   "outputs": [],
   "source": [
    "states = []\n",
    "positions = []\n",
    "features = []"
   ]
  },
  {
   "cell_type": "code",
   "execution_count": null,
   "metadata": {},
   "outputs": [],
   "source": [
    "while True:\n",
    "    state, reward, done, info = env.step(np.random.randint(env.action_space.n))\n",
    "    states.append(state)\n",
    "    positions.append(info.position)\n",
    "    if done:\n",
    "        break\n",
    "states = np.array(states)\n",
    "positions = np.array(positions)"
   ]
  },
  {
   "cell_type": "code",
   "execution_count": null,
   "metadata": {},
   "outputs": [],
   "source": [
    "positions[:, 0] *= env.max_x\n",
    "positions[:, 1] *= env.max_y"
   ]
  },
  {
   "cell_type": "code",
   "execution_count": null,
   "metadata": {},
   "outputs": [],
   "source": [
    "for state in states:\n",
    "    feature = sptm_model.layers[3].predict(np.expand_dims(np.transpose(state, [1, 2, 0]), axis=0)).squeeze()\n",
    "    features.append(feature)\n",
    "features = np.array(features)\n",
    "norm_features = features / np.linalg.norm(features, ord=2, keepdims=True, axis=1)"
   ]
  },
  {
   "cell_type": "code",
   "execution_count": null,
   "metadata": {},
   "outputs": [],
   "source": [
    "stacked_size = 20\n",
    "stacked_features = np.array(list(nwise(np.concatenate((features, np.zeros((stacked_size - 1, 512)))), stacked_size)))\n",
    "stacked_features = stacked_features.reshape(stacked_features.shape[0], -1)\n",
    "norm_stacked_features = stacked_features / np.linalg.norm(stacked_features, ord=2, keepdims=True, axis=1)"
   ]
  },
  {
   "cell_type": "code",
   "execution_count": null,
   "metadata": {},
   "outputs": [],
   "source": [
    "sequence_length = 20\n",
    "sequences = np.array(list(nwise(np.concatenate((norm_features, np.zeros((sequence_length - 1, 512)))), sequence_length)))"
   ]
  },
  {
   "cell_type": "code",
   "execution_count": null,
   "metadata": {},
   "outputs": [],
   "source": [
    "compare_idx = 500"
   ]
  },
  {
   "cell_type": "code",
   "execution_count": null,
   "metadata": {},
   "outputs": [],
   "source": [
    "sequence_similarities = np.sum(sequences[compare_idx] * sequences, axis=-1)\n",
    "similarities = np.median(sequence_similarities, axis=-1)\n",
    "# similarities = np.sum(norm_stacked_features * norm_stacked_features[compare_idx], axis=1)\n",
    "# similarities = np.sum(norm_features * norm_features[compare_idx], axis=1)"
   ]
  },
  {
   "cell_type": "code",
   "execution_count": null,
   "metadata": {},
   "outputs": [],
   "source": [
    "high_sim = similarities > 0.90\n",
    "med_sim = similarities > 0.80\n",
    "low_sim = similarities > 0.70"
   ]
  },
  {
   "cell_type": "code",
   "execution_count": null,
   "metadata": {},
   "outputs": [],
   "source": [
    "indices = np.arange(len(similarities))[high_sim]\n",
    "print(indices)\n",
    "indices = np.arange(len(similarities))[med_sim]\n",
    "print(indices)\n",
    "indices = np.arange(len(similarities))[low_sim]\n",
    "print(indices)"
   ]
  },
  {
   "cell_type": "code",
   "execution_count": null,
   "metadata": {},
   "outputs": [],
   "source": [
    "nearby = range(compare_idx - 10, compare_idx + 10)"
   ]
  },
  {
   "cell_type": "code",
   "execution_count": null,
   "metadata": {},
   "outputs": [],
   "source": [
    "for sim, state, pos in zip(similarities[nearby], states[nearby], positions[nearby]):\n",
    "    plt.figure()\n",
    "    plt.imshow(np.transpose(state, [1, 2, 0]))\n",
    "    plt.title('sim: {}, pos: {}'.format(sim, pos))"
   ]
  },
  {
   "cell_type": "code",
   "execution_count": null,
   "metadata": {},
   "outputs": [],
   "source": [
    "for sim, state, pos in zip(similarities[high_sim], states[high_sim], positions[high_sim]):\n",
    "    plt.figure()\n",
    "    plt.imshow(np.transpose(state, [1, 2, 0]))\n",
    "    plt.title('sim: {}, pos: {}'.format(sim, pos))"
   ]
  },
  {
   "cell_type": "code",
   "execution_count": null,
   "metadata": {},
   "outputs": [],
   "source": [
    "for sim, state, pos in zip(similarities[med_sim], states[med_sim], positions[med_sim]):\n",
    "    plt.figure()\n",
    "    plt.imshow(np.transpose(state, [1, 2, 0]))\n",
    "    plt.title('sim: {}, pos: {}'.format(sim, pos))"
   ]
  },
  {
   "cell_type": "code",
   "execution_count": null,
   "metadata": {},
   "outputs": [],
   "source": [
    "plt.figure(figsize=(10, 10))\n",
    "env.plot_topdown(objects=False)\n",
    "plt.scatter(positions[low_sim, 0], positions[low_sim, 1], c='pink', label='Points with similarity > 0.70')\n",
    "plt.scatter(positions[med_sim, 0], positions[med_sim, 1], c='blue', label='Points with similarity > 0.80')\n",
    "plt.scatter(positions[high_sim, 0], positions[high_sim, 1], c='green', label='Points with similarity > 0.90')\n",
    "plt.scatter(positions[compare_idx, 0], positions[compare_idx, 1], c='red', label='Comparison Point')\n",
    "plt.legend()"
   ]
  },
  {
   "cell_type": "code",
   "execution_count": null,
   "metadata": {},
   "outputs": [],
   "source": [
    "nearby = range(compare_idx - 20, compare_idx + 20)"
   ]
  },
  {
   "cell_type": "code",
   "execution_count": null,
   "metadata": {},
   "outputs": [],
   "source": [
    "plt.figure(figsize=(10, 10))\n",
    "env.plot_topdown(objects=False)\n",
    "plt.scatter(positions[nearby, 0], positions[nearby, 1], c='blue')"
   ]
  },
  {
   "cell_type": "code",
   "execution_count": null,
   "metadata": {},
   "outputs": [],
   "source": [
    "plt.figure(figsize=(10, 10))\n",
    "env.plot_topdown(objects=False)\n",
    "# plt.scatter(positions[high_sim, 0], positions[high_sim, 1], c='green')\n",
    "plt.scatter(positions[stacked_high_sim, 0], positions[stacked_high_sim, 1], c='blue')\n",
    "# plt.scatter(positions[med_sim & ~high_sim, 0], positions[med_sim & ~high_sim, 1])\n",
    "# plt.scatter(positions[::4, 0], positions[::4, 1], c=similarities[::4])\n",
    "plt.colorbar()"
   ]
  },
  {
   "cell_type": "code",
   "execution_count": null,
   "metadata": {},
   "outputs": [],
   "source": [
    "plt.figure(figsize=(10, 10))\n",
    "env.plot_topdown(objects=False)\n",
    "plt.scatter(positions[:, 0], positions[:, 1], c=np.arange(len(states)))"
   ]
  },
  {
   "cell_type": "markdown",
   "metadata": {},
   "source": [
    "## MyWayHome"
   ]
  },
  {
   "cell_type": "code",
   "execution_count": null,
   "metadata": {},
   "outputs": [],
   "source": [
    "env = VizDoomEnv('../experiments/vizdoom/my_way_home_SPTM.cfg', 0, [1040, -300], 270, grayscale=False)"
   ]
  },
  {
   "cell_type": "code",
   "execution_count": null,
   "metadata": {},
   "outputs": [],
   "source": [
    "env.plot_topdown()\n",
    "plt.scatter(env.sample_sectors[:, 0], env.sample_sectors[:, 1], c=env.sample_sectors[:, 2], s=100)"
   ]
  },
  {
   "cell_type": "code",
   "execution_count": null,
   "metadata": {},
   "outputs": [],
   "source": [
    "for state, position in env.sample_states:\n",
    "    plt.figure(figsize=(7, 7))\n",
    "    plt.imshow(np.transpose(state, [1, 2, 0]))\n",
    "    plt.title('{} {}'.format(*position))"
   ]
  },
  {
   "cell_type": "code",
   "execution_count": null,
   "metadata": {},
   "outputs": [],
   "source": [
    "obs = env.reset()"
   ]
  },
  {
   "cell_type": "code",
   "execution_count": null,
   "metadata": {},
   "outputs": [],
   "source": [
    "env.plot_topdown()"
   ]
  },
  {
   "cell_type": "code",
   "execution_count": null,
   "metadata": {},
   "outputs": [],
   "source": [
    "plt.imshow(env.goal_state[-1], cmap='gray')"
   ]
  },
  {
   "cell_type": "code",
   "execution_count": null,
   "metadata": {
    "scrolled": true
   },
   "outputs": [],
   "source": [
    "env.plot_topdown()"
   ]
  },
  {
   "cell_type": "code",
   "execution_count": null,
   "metadata": {},
   "outputs": [],
   "source": [
    "state = env.state"
   ]
  },
  {
   "cell_type": "code",
   "execution_count": null,
   "metadata": {},
   "outputs": [],
   "source": [
    "state.sectors[0].lines[5].y2"
   ]
  },
  {
   "cell_type": "code",
   "execution_count": null,
   "metadata": {},
   "outputs": [],
   "source": [
    "env.goal_position"
   ]
  },
  {
   "cell_type": "code",
   "execution_count": null,
   "metadata": {},
   "outputs": [],
   "source": [
    "env.game.get_game_variable(vzd.GameVariable.ANGLE)"
   ]
  },
  {
   "cell_type": "code",
   "execution_count": null,
   "metadata": {},
   "outputs": [],
   "source": [
    "env.game.send_game_command(\"warp 200 -200\")"
   ]
  },
  {
   "cell_type": "code",
   "execution_count": null,
   "metadata": {},
   "outputs": [],
   "source": [
    "obs, reward, done, info = env.step(3)"
   ]
  },
  {
   "cell_type": "code",
   "execution_count": null,
   "metadata": {},
   "outputs": [],
   "source": [
    "done"
   ]
  },
  {
   "cell_type": "code",
   "execution_count": null,
   "metadata": {},
   "outputs": [],
   "source": [
    "env.state.game_variables"
   ]
  },
  {
   "cell_type": "code",
   "execution_count": null,
   "metadata": {},
   "outputs": [],
   "source": [
    "plt.imshow(obs[-1], cmap='gray')"
   ]
  },
  {
   "cell_type": "code",
   "execution_count": null,
   "metadata": {},
   "outputs": [],
   "source": [
    "for i in range(500):\n",
    "    obs, reward, done, info = env.step(np.random.randint(3))\n",
    "    if done:\n",
    "        print(reward, i + 1)\n",
    "        break"
   ]
  },
  {
   "cell_type": "code",
   "execution_count": null,
   "metadata": {},
   "outputs": [],
   "source": [
    "env.plot_topdown()"
   ]
  },
  {
   "cell_type": "code",
   "execution_count": null,
   "metadata": {},
   "outputs": [],
   "source": [
    "plt.imshow(env.visited.T, origin='lower')"
   ]
  },
  {
   "cell_type": "markdown",
   "metadata": {},
   "source": [
    "## Testing SPTM Retrieval Network"
   ]
  },
  {
   "cell_type": "code",
   "execution_count": null,
   "metadata": {},
   "outputs": [],
   "source": [
    "game = vzd.DoomGame()\n",
    "game.load_config('vizdoom_data/train_SPTM_control.cfg')\n",
    "game.set_doom_map('map%02d' % 5)\n",
    "game.set_screen_resolution(vzd.ScreenResolution.RES_640X480)\n",
    "game.set_mode(vzd.Mode.SPECTATOR)\n",
    "game.set_seed(100)\n",
    "game.set_window_visible(True)"
   ]
  },
  {
   "cell_type": "code",
   "execution_count": null,
   "metadata": {},
   "outputs": [],
   "source": [
    "game.init()\n",
    "game.new_episode()\n",
    "new_episode = True\n",
    "while not game.is_episode_finished():\n",
    "    s = game.get_state()\n",
    "    if new_episode:\n",
    "        print(s.game_variables)\n",
    "        new_episode = False\n",
    "    game.advance_action()\n",
    "    a = game.get_last_action()\n",
    "    r = game.get_last_reward()\n",
    "game.close()"
   ]
  },
  {
   "cell_type": "code",
   "execution_count": null,
   "metadata": {},
   "outputs": [],
   "source": [
    "env = VizDoomEnv('vizdoom_data/train_SPTM.cfg', 100, [1600, 1500], grayscale=False, map_id=5)"
   ]
  },
  {
   "cell_type": "code",
   "execution_count": null,
   "metadata": {},
   "outputs": [],
   "source": [
    "for state, position in env.sample_states:\n",
    "    print(position)"
   ]
  },
  {
   "cell_type": "code",
   "execution_count": null,
   "metadata": {},
   "outputs": [],
   "source": [
    "model = resnet.ResnetBuilder.build_siamese_resnet_18((6, 120, 160), 2)"
   ]
  },
  {
   "cell_type": "code",
   "execution_count": null,
   "metadata": {},
   "outputs": [],
   "source": [
    "model.load_weights('../../sptm/experiments/0103_R/models/model_weights.h5')"
   ]
  },
  {
   "cell_type": "code",
   "execution_count": null,
   "metadata": {},
   "outputs": [],
   "source": [
    "model.compile(loss='categorical_crossentropy', optimizer='adam', metrics=['accuracy'])"
   ]
  },
  {
   "cell_type": "code",
   "execution_count": null,
   "metadata": {},
   "outputs": [],
   "source": [
    "def get_features(state, norm=True):\n",
    "    model_input = np.expand_dims(np.transpose(state, [1, 2, 0]), 0)\n",
    "    features = model.layers[3].predict(model_input).squeeze()\n",
    "    if norm:\n",
    "        features = features / np.linalg.norm(features, ord=2)\n",
    "    return features\n",
    "def get_edge_prediction(A, B):\n",
    "    concat = np.concatenate((A, B), axis=0)\n",
    "    model_input = np.expand_dims(np.transpose(concat, [1, 2, 0]), 0)\n",
    "    return model.predict(model_input)[:, 1]\n",
    "def get_valid(data, m=3):\n",
    "    return abs(data - np.mean(data)) < m * np.std(data)"
   ]
  },
  {
   "cell_type": "code",
   "execution_count": null,
   "metadata": {},
   "outputs": [],
   "source": [
    "start_state, start_position = env.get_obs_at((1200, 1000))\n",
    "start_state_features = get_features(start_state)"
   ]
  },
  {
   "cell_type": "code",
   "execution_count": null,
   "metadata": {},
   "outputs": [],
   "source": [
    "sample_x = np.random.randint(env.min_x, env.max_x, 100)\n",
    "sample_y = np.random.randint(env.min_y, env.max_y, 100)\n",
    "samples = []\n",
    "sample_states = []"
   ]
  },
  {
   "cell_type": "code",
   "execution_count": null,
   "metadata": {},
   "outputs": [],
   "source": [
    "for x, y in zip(sample_x, sample_y):\n",
    "    state, position = env.get_obs_at((x, y))\n",
    "    features = get_features(state)\n",
    "    similarity = np.dot(features, start_state_features)\n",
    "    prediction = get_edge_prediction(start_state, state).item()\n",
    "    samples.append((*position, similarity, prediction))\n",
    "    sample_states.append(state)\n",
    "samples = np.array(samples)"
   ]
  },
  {
   "cell_type": "code",
   "execution_count": null,
   "metadata": {},
   "outputs": [],
   "source": [
    "env.plot_topdown()\n",
    "plt.scatter(samples[:, 0], samples[:, 1], c=samples[:, 3], s=81)\n",
    "plt.scatter(*start_position, marker='D')\n",
    "plt.colorbar()"
   ]
  },
  {
   "cell_type": "markdown",
   "metadata": {},
   "source": [
    "## Player Control"
   ]
  },
  {
   "cell_type": "code",
   "execution_count": null,
   "metadata": {},
   "outputs": [],
   "source": [
    "game = vzd.DoomGame()\n",
    "game.load_config('vizdoom_data/train_SPTM.cfg')\n",
    "game.set_screen_resolution(vzd.ScreenResolution.RES_640X480)\n",
    "game.set_mode(vzd.Mode.SPECTATOR)\n",
    "game.set_seed(100)\n",
    "game.set_doom_map('map05')\n",
    "game.set_window_visible(True)"
   ]
  },
  {
   "cell_type": "code",
   "execution_count": null,
   "metadata": {},
   "outputs": [],
   "source": [
    "game.init()\n",
    "game.new_episode()\n",
    "i = 0\n",
    "while not game.is_episode_finished():\n",
    "    s = game.get_state()\n",
    "#     print('Step {}'.format(i))\n",
    "    i += 1\n",
    "    game.advance_action()\n",
    "    a = game.get_last_action()\n",
    "    r = game.get_last_reward()\n",
    "game.close()"
   ]
  },
  {
   "cell_type": "markdown",
   "metadata": {},
   "source": [
    "## Replay Episode"
   ]
  },
  {
   "cell_type": "code",
   "execution_count": null,
   "metadata": {},
   "outputs": [],
   "source": [
    "game = vzd.DoomGame()\n",
    "game.load_config('vizdoom_data/my_way_home_control.cfg')\n",
    "game.init()\n",
    "game.replay_episode('../data/local/20200722/vizdoom/run_0/eval_run_0_itr_0.lmp')\n",
    "while not game.is_episode_finished():\n",
    "    game.advance_action()\n",
    "game.close()"
   ]
  },
  {
   "cell_type": "markdown",
   "metadata": {},
   "source": [
    "## Position Prediction Exploration"
   ]
  },
  {
   "cell_type": "code",
   "execution_count": null,
   "metadata": {},
   "outputs": [],
   "source": [
    "np.random.seed(333)"
   ]
  },
  {
   "cell_type": "code",
   "execution_count": null,
   "metadata": {},
   "outputs": [],
   "source": [
    "env = VizDoomEnv('../experiments/vizdoom/train_SPTM.cfg', 100, [595, 1200], 270, grayscale=False, num_samples=20000, map_id='map05')"
   ]
  },
  {
   "cell_type": "code",
   "execution_count": null,
   "metadata": {},
   "outputs": [],
   "source": [
    "model = FixedVizDoomModel('../../sptm/experiments/0103_R/models/model_weights.h5', final_feature_size=2)"
   ]
  },
  {
   "cell_type": "code",
   "execution_count": null,
   "metadata": {},
   "outputs": [],
   "source": [
    "weights = torch.load('../data/local/20200801/vizdoom/run_1/itr_299999.pkl')\n",
    "model.load_state_dict(weights['agent_state_dict']['feature_model'])"
   ]
  },
  {
   "cell_type": "code",
   "execution_count": null,
   "metadata": {},
   "outputs": [],
   "source": [
    "device = torch.device('cuda', index=0)\n",
    "model.to(device)"
   ]
  },
  {
   "cell_type": "code",
   "execution_count": null,
   "metadata": {},
   "outputs": [],
   "source": [
    "states = np.stack([state for state, _ in env.sample_states])\n",
    "positions = np.array([position for _, position in env.sample_states])"
   ]
  },
  {
   "cell_type": "code",
   "execution_count": null,
   "metadata": {},
   "outputs": [],
   "source": [
    "positions[:, 0] = positions[:, 0] / env.max_x\n",
    "positions[:, 1] = positions[:, 1] / env.max_y"
   ]
  },
  {
   "cell_type": "code",
   "execution_count": null,
   "metadata": {},
   "outputs": [],
   "source": [
    "batch_size = 64\n",
    "batches = len(states) // batch_size"
   ]
  },
  {
   "cell_type": "code",
   "execution_count": null,
   "metadata": {},
   "outputs": [],
   "source": [
    "diffs = []\n",
    "for ind in range(batches):\n",
    "    X = torch.cuda.FloatTensor(states[ind * batch_size: (ind + 1) * batch_size], device=device)\n",
    "    features = model(X)\n",
    "    pred_y = model(features, mode='output').detach().cpu().numpy()\n",
    "    true_y = positions[ind * batch_size: (ind + 1) * batch_size]\n",
    "    diffs.append(abs(true_y - pred_y))"
   ]
  },
  {
   "cell_type": "code",
   "execution_count": null,
   "metadata": {},
   "outputs": [],
   "source": [
    "diffs = np.concatenate(diffs)"
   ]
  },
  {
   "cell_type": "code",
   "execution_count": null,
   "metadata": {},
   "outputs": [],
   "source": [
    "mean_x = diffs[:, 0].mean()\n",
    "mean_x"
   ]
  },
  {
   "cell_type": "code",
   "execution_count": null,
   "metadata": {},
   "outputs": [],
   "source": [
    "mean_y = diffs[:, 1].mean()\n",
    "mean_y"
   ]
  },
  {
   "cell_type": "code",
   "execution_count": null,
   "metadata": {},
   "outputs": [],
   "source": [
    "np.sqrt(mean_x ** 2 + mean_y ** 2)"
   ]
  },
  {
   "cell_type": "markdown",
   "metadata": {},
   "source": [
    "## Cosine Similarity Exploration"
   ]
  },
  {
   "cell_type": "code",
   "execution_count": null,
   "metadata": {},
   "outputs": [],
   "source": [
    "np.random.seed(333)"
   ]
  },
  {
   "cell_type": "code",
   "execution_count": null,
   "metadata": {},
   "outputs": [],
   "source": [
    "env = VizDoomEnv('../experiments/vizdoom/train_SPTM.cfg', 100, [595, 1200], 270, grayscale=False, map_id='map05')"
   ]
  },
  {
   "cell_type": "code",
   "execution_count": null,
   "metadata": {},
   "outputs": [],
   "source": [
    "env.reset()"
   ]
  },
  {
   "cell_type": "code",
   "execution_count": null,
   "metadata": {},
   "outputs": [],
   "source": [
    "env.state.game_variables"
   ]
  },
  {
   "cell_type": "code",
   "execution_count": null,
   "metadata": {},
   "outputs": [],
   "source": [
    "env.plot_topdown()"
   ]
  },
  {
   "cell_type": "code",
   "execution_count": null,
   "metadata": {},
   "outputs": [],
   "source": [
    "env.sample_states[0][1]"
   ]
  },
  {
   "cell_type": "code",
   "execution_count": null,
   "metadata": {},
   "outputs": [],
   "source": [
    "plt.imshow(np.transpose(env.sample_states[1][0], [1, 2, 0]))"
   ]
  },
  {
   "cell_type": "code",
   "execution_count": null,
   "metadata": {},
   "outputs": [],
   "source": [
    "plt.imshow(np.transpose(env.get_obs_at([595, 1200])[0], [1, 2, 0]))"
   ]
  },
  {
   "cell_type": "code",
   "execution_count": null,
   "metadata": {},
   "outputs": [],
   "source": [
    "positions = np.array([pos for _, pos in env.sample_states])"
   ]
  },
  {
   "cell_type": "code",
   "execution_count": null,
   "metadata": {},
   "outputs": [],
   "source": [
    "env.game.get_state().objects[1].position_y"
   ]
  },
  {
   "cell_type": "code",
   "execution_count": null,
   "metadata": {},
   "outputs": [],
   "source": [
    "env.plot_topdown()\n",
    "plt.scatter(positions[:, 0], positions[:, 1])"
   ]
  },
  {
   "cell_type": "code",
   "execution_count": null,
   "metadata": {},
   "outputs": [],
   "source": [
    "env.plot_topdown()\n",
    "plt.scatter(env.sample_sectors[:, 0], env.sample_sectors[:, 1], c=env.sample_sectors[:, 2], s=100)"
   ]
  },
  {
   "cell_type": "code",
   "execution_count": null,
   "metadata": {},
   "outputs": [],
   "source": [
    "start_state = env.sample_states[0]"
   ]
  },
  {
   "cell_type": "code",
   "execution_count": null,
   "metadata": {},
   "outputs": [],
   "source": [
    "start_state_features = start_state[0].flatten() / np.linalg.norm(start_state[0])"
   ]
  },
  {
   "cell_type": "code",
   "execution_count": null,
   "metadata": {},
   "outputs": [],
   "source": [
    "similarities = []"
   ]
  },
  {
   "cell_type": "code",
   "execution_count": null,
   "metadata": {},
   "outputs": [],
   "source": [
    "for state, position in env.sample_states:\n",
    "    state_features = state.flatten() / np.linalg.norm(state)\n",
    "    similarity = np.dot(start_state_features, state_features)\n",
    "    similarities.append((*position, similarity))\n",
    "#     plt.figure(figsize=(7, 7))\n",
    "#     plt.imshow(np.transpose(state, [1, 2, 0]))\n",
    "#     plt.title('{} {}: {}'.format(*position, similarity))"
   ]
  },
  {
   "cell_type": "code",
   "execution_count": null,
   "metadata": {},
   "outputs": [],
   "source": [
    "similarities = np.array(similarities)"
   ]
  },
  {
   "cell_type": "code",
   "execution_count": null,
   "metadata": {},
   "outputs": [],
   "source": [
    "plt.figure(figsize=(7, 7))\n",
    "env.plot_topdown()\n",
    "plt.scatter(similarities[:, 0], similarities[:, 1], c=range(len(similarities)), s=100)\n",
    "plt.colorbar()"
   ]
  }
 ],
 "metadata": {
  "kernelspec": {
   "display_name": "Python [conda env:tf] *",
   "language": "python",
   "name": "conda-env-tf-py"
  },
  "language_info": {
   "codemirror_mode": {
    "name": "ipython",
    "version": 3
   },
   "file_extension": ".py",
   "mimetype": "text/x-python",
   "name": "python",
   "nbconvert_exporter": "python",
   "pygments_lexer": "ipython3",
   "version": "3.7.8"
  }
 },
 "nbformat": 4,
 "nbformat_minor": 2
}

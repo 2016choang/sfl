{
 "cells": [
  {
   "cell_type": "markdown",
   "metadata": {},
   "source": [
    "# VizDoom Playground"
   ]
  },
  {
   "cell_type": "code",
   "execution_count": 1,
   "metadata": {},
   "outputs": [
    {
     "name": "stderr",
     "output_type": "stream",
     "text": [
      "Using TensorFlow backend.\n"
     ]
    }
   ],
   "source": [
    "import warnings\n",
    "warnings.simplefilter(action='ignore', category=FutureWarning)\n",
    "\n",
    "import itertools as it\n",
    "import json\n",
    "import os\n",
    "\n",
    "import cv2\n",
    "import gym\n",
    "from gym.spaces import Box, Discrete\n",
    "import matplotlib.pyplot as plt\n",
    "import numpy as np\n",
    "import torch\n",
    "import vizdoom as vzd\n",
    "\n",
    "from rlpyt.envs.vizdoom.vizdoom_env import VizDoomEnv\n",
    "import rlpyt.models.resnet as resnet\n",
    "from rlpyt.models.dqn.dsr.dsr_model import DsrModel\n",
    "from rlpyt.models.dqn.dsr.tcf_model import FixedVizDoomModel\n",
    "\n",
    "vzd_dir = 'vizdoom_data'\n",
    "import keras\n",
    "import tensorflow as tf\n",
    "config = tf.ConfigProto()\n",
    "config.gpu_options.per_process_gpu_memory_fraction = 0.3\n",
    "keras.backend.tensorflow_backend.set_session(tf.Session(config=config))\n",
    "\n",
    "from itertools import tee, islice\n",
    "def nwise(iterable, n=2):                                                      \n",
    "    iters = tee(iterable, n)                                                     \n",
    "    for i, it in enumerate(iters):                                               \n",
    "        next(islice(it, i, i), None)                                               \n",
    "    return zip(*iters)\n",
    "\n",
    "np.random.seed(333)\n",
    "device = torch.device('cuda', index=0)"
   ]
  },
  {
   "cell_type": "markdown",
   "metadata": {},
   "source": [
    "## Player Control"
   ]
  },
  {
   "cell_type": "code",
   "execution_count": null,
   "metadata": {},
   "outputs": [],
   "source": [
    "game = vzd.DoomGame()\n",
    "game.load_config('vizdoom_data/train_SPTM.cfg')\n",
    "game.set_screen_resolution(vzd.ScreenResolution.RES_640X480)\n",
    "game.set_mode(vzd.Mode.SPECTATOR)\n",
    "game.set_seed(100)\n",
    "game.set_doom_map('map05')\n",
    "game.set_window_visible(True)"
   ]
  },
  {
   "cell_type": "code",
   "execution_count": null,
   "metadata": {},
   "outputs": [],
   "source": [
    "game.init()\n",
    "game.new_episode()\n",
    "i = 0\n",
    "while not game.is_episode_finished():\n",
    "    s = game.get_state()\n",
    "#     print('Step {}'.format(i))\n",
    "    i += 1\n",
    "    game.advance_action()\n",
    "    a = game.get_last_action()\n",
    "    r = game.get_last_reward()\n",
    "game.close()"
   ]
  },
  {
   "cell_type": "markdown",
   "metadata": {},
   "source": [
    "# SPTM Retrieval Network Features"
   ]
  },
  {
   "cell_type": "markdown",
   "metadata": {},
   "source": [
    "## Successor Feature Testing"
   ]
  },
  {
   "cell_type": "code",
   "execution_count": 2,
   "metadata": {},
   "outputs": [],
   "source": [
    "with open('../experiments/configs/fixed-vizdoom.json', 'r') as f:\n",
    "    config = json.load(f)"
   ]
  },
  {
   "cell_type": "code",
   "execution_count": 3,
   "metadata": {},
   "outputs": [],
   "source": [
    "env = VizDoomEnv('../experiments/vizdoom/train_SPTM.cfg', 100, [595, 1200], 270, grayscale=False, map_id='map05')"
   ]
  },
  {
   "cell_type": "code",
   "execution_count": 4,
   "metadata": {},
   "outputs": [],
   "source": [
    "obs = env.reset()"
   ]
  },
  {
   "cell_type": "code",
   "execution_count": 5,
   "metadata": {},
   "outputs": [
    {
     "data": {
      "text/plain": [
       "array([800.        , 256.        , 277.14660651])"
      ]
     },
     "execution_count": 5,
     "metadata": {},
     "output_type": "execute_result"
    }
   ],
   "source": [
    "env.game.get_state().game_variables"
   ]
  },
  {
   "cell_type": "code",
   "execution_count": 18,
   "metadata": {},
   "outputs": [],
   "source": [
    "obs, pos = env.get_obs_at(position=[400, 250], angle=230)"
   ]
  },
  {
   "cell_type": "code",
   "execution_count": 19,
   "metadata": {},
   "outputs": [
    {
     "data": {
      "text/plain": [
       "array([400.        , 250.        , 230.15808111])"
      ]
     },
     "execution_count": 19,
     "metadata": {},
     "output_type": "execute_result"
    }
   ],
   "source": [
    "env.game.get_state().game_variables"
   ]
  },
  {
   "cell_type": "code",
   "execution_count": null,
   "metadata": {},
   "outputs": [],
   "source": [
    "sptm_model = resnet.ResnetBuilder.build_siamese_resnet_18((6, 120, 160), 2)\n",
    "sptm_model.load_weights('../../sptm/experiments/0103_R/models/model_weights.h5')\n",
    "sptm_model.compile(loss='categorical_crossentropy', optimizer='adam', metrics=['accuracy'])"
   ]
  },
  {
   "cell_type": "code",
   "execution_count": null,
   "metadata": {},
   "outputs": [],
   "source": [
    "dsr_weights = torch.load('../data/local/20200803/')"
   ]
  },
  {
   "cell_type": "code",
   "execution_count": null,
   "metadata": {},
   "outputs": [],
   "source": [
    "dsr_model = DsrModel(env.observation_space.shape, env.action_space.n, **config['agent']['model_kwargs'])\n",
    "dsr_model = dsr_model.to(device=device)\n"
   ]
  },
  {
   "cell_type": "code",
   "execution_count": null,
   "metadata": {},
   "outputs": [],
   "source": [
    "obs = env.reset()"
   ]
  },
  {
   "cell_type": "code",
   "execution_count": null,
   "metadata": {},
   "outputs": [],
   "source": [
    "states = []\n",
    "positions = []\n",
    "features = []"
   ]
  },
  {
   "cell_type": "code",
   "execution_count": null,
   "metadata": {},
   "outputs": [],
   "source": [
    "while True:\n",
    "    state, reward, done, info = env.step(np.random.randint(env.action_space.n))\n",
    "    states.append(state)\n",
    "    positions.append(info.position)\n",
    "    if done:\n",
    "        break\n",
    "states = np.array(states)\n",
    "positions = np.array(positions)"
   ]
  },
  {
   "cell_type": "code",
   "execution_count": null,
   "metadata": {},
   "outputs": [],
   "source": [
    "positions[:, 0] *= env.max_x\n",
    "positions[:, 1] *= env.max_y"
   ]
  },
  {
   "cell_type": "code",
   "execution_count": null,
   "metadata": {},
   "outputs": [],
   "source": [
    "for state in states:\n",
    "    feature = sptm_model.layers[3].predict(np.expand_dims(np.transpose(state, [1, 2, 0]), axis=0)).squeeze()\n",
    "    features.append(feature)\n",
    "features = np.array(features)\n",
    "norm_features = features / np.linalg.norm(features, ord=2, keepdims=True, axis=1)"
   ]
  },
  {
   "cell_type": "markdown",
   "metadata": {},
   "source": [
    "## Cosine Similarity Testing"
   ]
  },
  {
   "cell_type": "code",
   "execution_count": null,
   "metadata": {},
   "outputs": [],
   "source": [
    "env = VizDoomEnv('../experiments/vizdoom/train_SPTM.cfg', 100, [595, 1200], 270, grayscale=False, map_id='map05')"
   ]
  },
  {
   "cell_type": "code",
   "execution_count": null,
   "metadata": {},
   "outputs": [],
   "source": [
    "sptm_model = resnet.ResnetBuilder.build_siamese_resnet_18((6, 120, 160), 2)\n",
    "sptm_model.load_weights('../../sptm/experiments/0103_R/models/model_weights.h5')\n",
    "sptm_model.compile(loss='categorical_crossentropy', optimizer='adam', metrics=['accuracy'])"
   ]
  },
  {
   "cell_type": "code",
   "execution_count": null,
   "metadata": {},
   "outputs": [],
   "source": [
    "env.set_record_files(['vizdoom_data/test.lmp'])"
   ]
  },
  {
   "cell_type": "code",
   "execution_count": null,
   "metadata": {},
   "outputs": [],
   "source": [
    "obs = env.reset()"
   ]
  },
  {
   "cell_type": "code",
   "execution_count": null,
   "metadata": {},
   "outputs": [],
   "source": [
    "states = []\n",
    "positions = []\n",
    "features = []"
   ]
  },
  {
   "cell_type": "code",
   "execution_count": null,
   "metadata": {},
   "outputs": [],
   "source": [
    "while True:\n",
    "    state, reward, done, info = env.step(np.random.randint(env.action_space.n))\n",
    "    states.append(state)\n",
    "    positions.append(info.position)\n",
    "    if done:\n",
    "        break\n",
    "states = np.array(states)\n",
    "positions = np.array(positions)"
   ]
  },
  {
   "cell_type": "code",
   "execution_count": null,
   "metadata": {},
   "outputs": [],
   "source": [
    "positions[:, 0] *= env.max_x\n",
    "positions[:, 1] *= env.max_y"
   ]
  },
  {
   "cell_type": "code",
   "execution_count": null,
   "metadata": {},
   "outputs": [],
   "source": [
    "for state in states:\n",
    "    feature = sptm_model.layers[3].predict(np.expand_dims(np.transpose(state, [1, 2, 0]), axis=0)).squeeze()\n",
    "    features.append(feature)\n",
    "features = np.array(features)\n",
    "norm_features = features / np.linalg.norm(features, ord=2, keepdims=True, axis=1)"
   ]
  },
  {
   "cell_type": "code",
   "execution_count": null,
   "metadata": {},
   "outputs": [],
   "source": [
    "stacked_size = 20\n",
    "stacked_features = np.array(list(nwise(np.concatenate((features, np.zeros((stacked_size - 1, 512)))), stacked_size)))\n",
    "stacked_features = stacked_features.reshape(stacked_features.shape[0], -1)\n",
    "norm_stacked_features = stacked_features / np.linalg.norm(stacked_features, ord=2, keepdims=True, axis=1)"
   ]
  },
  {
   "cell_type": "code",
   "execution_count": null,
   "metadata": {},
   "outputs": [],
   "source": [
    "sequence_length = 20\n",
    "sequences = np.array(list(nwise(np.concatenate((norm_features, np.zeros((sequence_length - 1, 512)))), sequence_length)))"
   ]
  },
  {
   "cell_type": "code",
   "execution_count": null,
   "metadata": {},
   "outputs": [],
   "source": [
    "compare_idx = 500"
   ]
  },
  {
   "cell_type": "code",
   "execution_count": null,
   "metadata": {},
   "outputs": [],
   "source": [
    "sequence_similarities = np.sum(sequences[compare_idx] * sequences, axis=-1)\n",
    "similarities = np.median(sequence_similarities, axis=-1)\n",
    "# similarities = np.sum(norm_stacked_features * norm_stacked_features[compare_idx], axis=1)\n",
    "# similarities = np.sum(norm_features * norm_features[compare_idx], axis=1)"
   ]
  },
  {
   "cell_type": "code",
   "execution_count": null,
   "metadata": {},
   "outputs": [],
   "source": [
    "high_sim = similarities > 0.90\n",
    "med_sim = similarities > 0.80\n",
    "low_sim = similarities > 0.70"
   ]
  },
  {
   "cell_type": "code",
   "execution_count": null,
   "metadata": {},
   "outputs": [],
   "source": [
    "indices = np.arange(len(similarities))[high_sim]\n",
    "print(indices)\n",
    "indices = np.arange(len(similarities))[med_sim]\n",
    "print(indices)\n",
    "indices = np.arange(len(similarities))[low_sim]\n",
    "print(indices)"
   ]
  },
  {
   "cell_type": "code",
   "execution_count": null,
   "metadata": {},
   "outputs": [],
   "source": [
    "nearby = range(compare_idx - 10, compare_idx + 10)"
   ]
  },
  {
   "cell_type": "code",
   "execution_count": null,
   "metadata": {},
   "outputs": [],
   "source": [
    "for sim, state, pos in zip(similarities[nearby], states[nearby], positions[nearby]):\n",
    "    plt.figure()\n",
    "    plt.imshow(np.transpose(state, [1, 2, 0]))\n",
    "    plt.title('sim: {}, pos: {}'.format(sim, pos))"
   ]
  },
  {
   "cell_type": "code",
   "execution_count": null,
   "metadata": {},
   "outputs": [],
   "source": [
    "for sim, state, pos in zip(similarities[high_sim], states[high_sim], positions[high_sim]):\n",
    "    plt.figure()\n",
    "    plt.imshow(np.transpose(state, [1, 2, 0]))\n",
    "    plt.title('sim: {}, pos: {}'.format(sim, pos))"
   ]
  },
  {
   "cell_type": "code",
   "execution_count": null,
   "metadata": {},
   "outputs": [],
   "source": [
    "for sim, state, pos in zip(similarities[med_sim], states[med_sim], positions[med_sim]):\n",
    "    plt.figure()\n",
    "    plt.imshow(np.transpose(state, [1, 2, 0]))\n",
    "    plt.title('sim: {}, pos: {}'.format(sim, pos))"
   ]
  },
  {
   "cell_type": "code",
   "execution_count": null,
   "metadata": {},
   "outputs": [],
   "source": [
    "plt.figure(figsize=(10, 10))\n",
    "env.plot_topdown(objects=False)\n",
    "plt.scatter(positions[low_sim, 0], positions[low_sim, 1], c='pink', label='Points with similarity > 0.70')\n",
    "plt.scatter(positions[med_sim, 0], positions[med_sim, 1], c='blue', label='Points with similarity > 0.80')\n",
    "plt.scatter(positions[high_sim, 0], positions[high_sim, 1], c='green', label='Points with similarity > 0.90')\n",
    "plt.scatter(positions[compare_idx, 0], positions[compare_idx, 1], c='red', label='Comparison Point')\n",
    "plt.legend()"
   ]
  },
  {
   "cell_type": "code",
   "execution_count": null,
   "metadata": {},
   "outputs": [],
   "source": [
    "nearby = range(compare_idx - 20, compare_idx + 20)"
   ]
  },
  {
   "cell_type": "code",
   "execution_count": null,
   "metadata": {},
   "outputs": [],
   "source": [
    "plt.figure(figsize=(10, 10))\n",
    "env.plot_topdown(objects=False)\n",
    "plt.scatter(positions[nearby, 0], positions[nearby, 1], c='blue')"
   ]
  },
  {
   "cell_type": "code",
   "execution_count": null,
   "metadata": {},
   "outputs": [],
   "source": [
    "plt.figure(figsize=(10, 10))\n",
    "env.plot_topdown(objects=False)\n",
    "# plt.scatter(positions[high_sim, 0], positions[high_sim, 1], c='green')\n",
    "plt.scatter(positions[stacked_high_sim, 0], positions[stacked_high_sim, 1], c='blue')\n",
    "# plt.scatter(positions[med_sim & ~high_sim, 0], positions[med_sim & ~high_sim, 1])\n",
    "# plt.scatter(positions[::4, 0], positions[::4, 1], c=similarities[::4])\n",
    "plt.colorbar()"
   ]
  },
  {
   "cell_type": "code",
   "execution_count": null,
   "metadata": {},
   "outputs": [],
   "source": [
    "plt.figure(figsize=(10, 10))\n",
    "env.plot_topdown(objects=False)\n",
    "plt.scatter(positions[:, 0], positions[:, 1], c=np.arange(len(states)))"
   ]
  },
  {
   "cell_type": "markdown",
   "metadata": {},
   "source": [
    "## MyWayHome"
   ]
  },
  {
   "cell_type": "code",
   "execution_count": null,
   "metadata": {},
   "outputs": [],
   "source": [
    "env = VizDoomEnv('../experiments/vizdoom/my_way_home_SPTM.cfg', 0, [1040, -300], 270, grayscale=False)"
   ]
  },
  {
   "cell_type": "code",
   "execution_count": null,
   "metadata": {},
   "outputs": [],
   "source": [
    "env.plot_topdown()\n",
    "plt.scatter(env.sample_sectors[:, 0], env.sample_sectors[:, 1], c=env.sample_sectors[:, 2], s=100)"
   ]
  },
  {
   "cell_type": "code",
   "execution_count": null,
   "metadata": {},
   "outputs": [],
   "source": [
    "for state, position in env.sample_states:\n",
    "    plt.figure(figsize=(7, 7))\n",
    "    plt.imshow(np.transpose(state, [1, 2, 0]))\n",
    "    plt.title('{} {}'.format(*position))"
   ]
  },
  {
   "cell_type": "code",
   "execution_count": null,
   "metadata": {},
   "outputs": [],
   "source": [
    "obs = env.reset()"
   ]
  },
  {
   "cell_type": "code",
   "execution_count": null,
   "metadata": {},
   "outputs": [],
   "source": [
    "env.plot_topdown()"
   ]
  },
  {
   "cell_type": "code",
   "execution_count": null,
   "metadata": {},
   "outputs": [],
   "source": [
    "plt.imshow(env.goal_state[-1], cmap='gray')"
   ]
  },
  {
   "cell_type": "code",
   "execution_count": null,
   "metadata": {
    "scrolled": true
   },
   "outputs": [],
   "source": [
    "env.plot_topdown()"
   ]
  },
  {
   "cell_type": "code",
   "execution_count": null,
   "metadata": {},
   "outputs": [],
   "source": [
    "state = env.state"
   ]
  },
  {
   "cell_type": "code",
   "execution_count": null,
   "metadata": {},
   "outputs": [],
   "source": [
    "state.sectors[0].lines[5].y2"
   ]
  },
  {
   "cell_type": "code",
   "execution_count": null,
   "metadata": {},
   "outputs": [],
   "source": [
    "env.goal_position"
   ]
  },
  {
   "cell_type": "code",
   "execution_count": null,
   "metadata": {},
   "outputs": [],
   "source": [
    "env.game.get_game_variable(vzd.GameVariable.ANGLE)"
   ]
  },
  {
   "cell_type": "code",
   "execution_count": null,
   "metadata": {},
   "outputs": [],
   "source": [
    "env.game.send_game_command(\"warp 200 -200\")"
   ]
  },
  {
   "cell_type": "code",
   "execution_count": null,
   "metadata": {},
   "outputs": [],
   "source": [
    "obs, reward, done, info = env.step(3)"
   ]
  },
  {
   "cell_type": "code",
   "execution_count": null,
   "metadata": {},
   "outputs": [],
   "source": [
    "done"
   ]
  },
  {
   "cell_type": "code",
   "execution_count": null,
   "metadata": {},
   "outputs": [],
   "source": [
    "env.state.game_variables"
   ]
  },
  {
   "cell_type": "code",
   "execution_count": null,
   "metadata": {},
   "outputs": [],
   "source": [
    "plt.imshow(obs[-1], cmap='gray')"
   ]
  },
  {
   "cell_type": "code",
   "execution_count": null,
   "metadata": {},
   "outputs": [],
   "source": [
    "for i in range(500):\n",
    "    obs, reward, done, info = env.step(np.random.randint(3))\n",
    "    if done:\n",
    "        print(reward, i + 1)\n",
    "        break"
   ]
  },
  {
   "cell_type": "code",
   "execution_count": null,
   "metadata": {},
   "outputs": [],
   "source": [
    "env.plot_topdown()"
   ]
  },
  {
   "cell_type": "code",
   "execution_count": null,
   "metadata": {},
   "outputs": [],
   "source": [
    "plt.imshow(env.visited.T, origin='lower')"
   ]
  },
  {
   "cell_type": "markdown",
   "metadata": {},
   "source": [
    "## Testing SPTM Retrieval Network"
   ]
  },
  {
   "cell_type": "code",
   "execution_count": null,
   "metadata": {},
   "outputs": [],
   "source": [
    "game = vzd.DoomGame()\n",
    "game.load_config('vizdoom_data/train_SPTM_control.cfg')\n",
    "game.set_doom_map('map%02d' % 5)\n",
    "game.set_screen_resolution(vzd.ScreenResolution.RES_640X480)\n",
    "game.set_mode(vzd.Mode.SPECTATOR)\n",
    "game.set_seed(100)\n",
    "game.set_window_visible(True)"
   ]
  },
  {
   "cell_type": "code",
   "execution_count": null,
   "metadata": {},
   "outputs": [],
   "source": [
    "game.init()\n",
    "game.new_episode()\n",
    "new_episode = True\n",
    "while not game.is_episode_finished():\n",
    "    s = game.get_state()\n",
    "    if new_episode:\n",
    "        print(s.game_variables)\n",
    "        new_episode = False\n",
    "    game.advance_action()\n",
    "    a = game.get_last_action()\n",
    "    r = game.get_last_reward()\n",
    "game.close()"
   ]
  },
  {
   "cell_type": "code",
   "execution_count": null,
   "metadata": {},
   "outputs": [],
   "source": [
    "env = VizDoomEnv('vizdoom_data/train_SPTM.cfg', 100, [1600, 1500], grayscale=False, map_id=5)"
   ]
  },
  {
   "cell_type": "code",
   "execution_count": null,
   "metadata": {},
   "outputs": [],
   "source": [
    "for state, position in env.sample_states:\n",
    "    print(position)"
   ]
  },
  {
   "cell_type": "code",
   "execution_count": null,
   "metadata": {},
   "outputs": [],
   "source": [
    "model = resnet.ResnetBuilder.build_siamese_resnet_18((6, 120, 160), 2)"
   ]
  },
  {
   "cell_type": "code",
   "execution_count": null,
   "metadata": {},
   "outputs": [],
   "source": [
    "model.load_weights('../../sptm/experiments/0103_R/models/model_weights.h5')"
   ]
  },
  {
   "cell_type": "code",
   "execution_count": null,
   "metadata": {},
   "outputs": [],
   "source": [
    "model.compile(loss='categorical_crossentropy', optimizer='adam', metrics=['accuracy'])"
   ]
  },
  {
   "cell_type": "code",
   "execution_count": null,
   "metadata": {},
   "outputs": [],
   "source": [
    "def get_features(state, norm=True):\n",
    "    model_input = np.expand_dims(np.transpose(state, [1, 2, 0]), 0)\n",
    "    features = model.layers[3].predict(model_input).squeeze()\n",
    "    if norm:\n",
    "        features = features / np.linalg.norm(features, ord=2)\n",
    "    return features\n",
    "def get_edge_prediction(A, B):\n",
    "    concat = np.concatenate((A, B), axis=0)\n",
    "    model_input = np.expand_dims(np.transpose(concat, [1, 2, 0]), 0)\n",
    "    return model.predict(model_input)[:, 1]\n",
    "def get_valid(data, m=3):\n",
    "    return abs(data - np.mean(data)) < m * np.std(data)"
   ]
  },
  {
   "cell_type": "code",
   "execution_count": null,
   "metadata": {},
   "outputs": [],
   "source": [
    "start_state, start_position = env.get_obs_at((1200, 1000))\n",
    "start_state_features = get_features(start_state)"
   ]
  },
  {
   "cell_type": "code",
   "execution_count": null,
   "metadata": {},
   "outputs": [],
   "source": [
    "sample_x = np.random.randint(env.min_x, env.max_x, 100)\n",
    "sample_y = np.random.randint(env.min_y, env.max_y, 100)\n",
    "samples = []\n",
    "sample_states = []"
   ]
  },
  {
   "cell_type": "code",
   "execution_count": null,
   "metadata": {},
   "outputs": [],
   "source": [
    "for x, y in zip(sample_x, sample_y):\n",
    "    state, position = env.get_obs_at((x, y))\n",
    "    features = get_features(state)\n",
    "    similarity = np.dot(features, start_state_features)\n",
    "    prediction = get_edge_prediction(start_state, state).item()\n",
    "    samples.append((*position, similarity, prediction))\n",
    "    sample_states.append(state)\n",
    "samples = np.array(samples)"
   ]
  },
  {
   "cell_type": "code",
   "execution_count": null,
   "metadata": {},
   "outputs": [],
   "source": [
    "env.plot_topdown()\n",
    "plt.scatter(samples[:, 0], samples[:, 1], c=samples[:, 3], s=81)\n",
    "plt.scatter(*start_position, marker='D')\n",
    "plt.colorbar()"
   ]
  },
  {
   "cell_type": "markdown",
   "metadata": {},
   "source": [
    "## Replay Episode"
   ]
  },
  {
   "cell_type": "code",
   "execution_count": null,
   "metadata": {},
   "outputs": [],
   "source": [
    "game = vzd.DoomGame()\n",
    "game.load_config('vizdoom_data/my_way_home_control.cfg')\n",
    "game.init()\n",
    "game.replay_episode('../data/local/20200722/vizdoom/run_0/eval_run_0_itr_0.lmp')\n",
    "while not game.is_episode_finished():\n",
    "    game.advance_action()\n",
    "game.close()"
   ]
  },
  {
   "cell_type": "markdown",
   "metadata": {},
   "source": [
    "## Position Prediction Exploration"
   ]
  },
  {
   "cell_type": "code",
   "execution_count": null,
   "metadata": {},
   "outputs": [],
   "source": [
    "np.random.seed(333)"
   ]
  },
  {
   "cell_type": "code",
   "execution_count": null,
   "metadata": {},
   "outputs": [],
   "source": [
    "env = VizDoomEnv('../experiments/vizdoom/train_SPTM.cfg', 100, [595, 1200], 270, grayscale=False, num_samples=20000, map_id='map05')"
   ]
  },
  {
   "cell_type": "code",
   "execution_count": null,
   "metadata": {},
   "outputs": [],
   "source": [
    "model = FixedVizDoomModel('../../sptm/experiments/0103_R/models/model_weights.h5', final_feature_size=2)"
   ]
  },
  {
   "cell_type": "code",
   "execution_count": null,
   "metadata": {},
   "outputs": [],
   "source": [
    "weights = torch.load('../data/local/20200801/vizdoom/run_1/itr_299999.pkl')\n",
    "model.load_state_dict(weights['agent_state_dict']['feature_model'])"
   ]
  },
  {
   "cell_type": "code",
   "execution_count": null,
   "metadata": {},
   "outputs": [],
   "source": [
    "device = torch.device('cuda', index=0)\n",
    "model.to(device)"
   ]
  },
  {
   "cell_type": "code",
   "execution_count": null,
   "metadata": {},
   "outputs": [],
   "source": [
    "states = np.stack([state for state, _ in env.sample_states])\n",
    "positions = np.array([position for _, position in env.sample_states])"
   ]
  },
  {
   "cell_type": "code",
   "execution_count": null,
   "metadata": {},
   "outputs": [],
   "source": [
    "positions[:, 0] = positions[:, 0] / env.max_x\n",
    "positions[:, 1] = positions[:, 1] / env.max_y"
   ]
  },
  {
   "cell_type": "code",
   "execution_count": null,
   "metadata": {},
   "outputs": [],
   "source": [
    "batch_size = 64\n",
    "batches = len(states) // batch_size"
   ]
  },
  {
   "cell_type": "code",
   "execution_count": null,
   "metadata": {},
   "outputs": [],
   "source": [
    "diffs = []\n",
    "for ind in range(batches):\n",
    "    X = torch.cuda.FloatTensor(states[ind * batch_size: (ind + 1) * batch_size], device=device)\n",
    "    features = model(X)\n",
    "    pred_y = model(features, mode='output').detach().cpu().numpy()\n",
    "    true_y = positions[ind * batch_size: (ind + 1) * batch_size]\n",
    "    diffs.append(abs(true_y - pred_y))"
   ]
  },
  {
   "cell_type": "code",
   "execution_count": null,
   "metadata": {},
   "outputs": [],
   "source": [
    "diffs = np.concatenate(diffs)"
   ]
  },
  {
   "cell_type": "code",
   "execution_count": null,
   "metadata": {},
   "outputs": [],
   "source": [
    "mean_x = diffs[:, 0].mean()\n",
    "mean_x"
   ]
  },
  {
   "cell_type": "code",
   "execution_count": null,
   "metadata": {},
   "outputs": [],
   "source": [
    "mean_y = diffs[:, 1].mean()\n",
    "mean_y"
   ]
  },
  {
   "cell_type": "code",
   "execution_count": null,
   "metadata": {},
   "outputs": [],
   "source": [
    "np.sqrt(mean_x ** 2 + mean_y ** 2)"
   ]
  },
  {
   "cell_type": "markdown",
   "metadata": {},
   "source": [
    "## Cosine Similarity Exploration"
   ]
  },
  {
   "cell_type": "code",
   "execution_count": null,
   "metadata": {},
   "outputs": [],
   "source": [
    "np.random.seed(333)"
   ]
  },
  {
   "cell_type": "code",
   "execution_count": null,
   "metadata": {},
   "outputs": [],
   "source": [
    "env = VizDoomEnv('../experiments/vizdoom/train_SPTM.cfg', 100, [595, 1200], 270, grayscale=False, map_id='map05')"
   ]
  },
  {
   "cell_type": "code",
   "execution_count": null,
   "metadata": {},
   "outputs": [],
   "source": [
    "env.reset()"
   ]
  },
  {
   "cell_type": "code",
   "execution_count": null,
   "metadata": {},
   "outputs": [],
   "source": [
    "env.state.game_variables"
   ]
  },
  {
   "cell_type": "code",
   "execution_count": null,
   "metadata": {},
   "outputs": [],
   "source": [
    "env.plot_topdown()"
   ]
  },
  {
   "cell_type": "code",
   "execution_count": null,
   "metadata": {},
   "outputs": [],
   "source": [
    "env.sample_states[0][1]"
   ]
  },
  {
   "cell_type": "code",
   "execution_count": null,
   "metadata": {},
   "outputs": [],
   "source": [
    "plt.imshow(np.transpose(env.sample_states[1][0], [1, 2, 0]))"
   ]
  },
  {
   "cell_type": "code",
   "execution_count": null,
   "metadata": {},
   "outputs": [],
   "source": [
    "plt.imshow(np.transpose(env.get_obs_at([595, 1200])[0], [1, 2, 0]))"
   ]
  },
  {
   "cell_type": "code",
   "execution_count": null,
   "metadata": {},
   "outputs": [],
   "source": [
    "positions = np.array([pos for _, pos in env.sample_states])"
   ]
  },
  {
   "cell_type": "code",
   "execution_count": null,
   "metadata": {},
   "outputs": [],
   "source": [
    "env.game.get_state().objects[1].position_y"
   ]
  },
  {
   "cell_type": "code",
   "execution_count": null,
   "metadata": {},
   "outputs": [],
   "source": [
    "env.plot_topdown()\n",
    "plt.scatter(positions[:, 0], positions[:, 1])"
   ]
  },
  {
   "cell_type": "code",
   "execution_count": null,
   "metadata": {},
   "outputs": [],
   "source": [
    "env.plot_topdown()\n",
    "plt.scatter(env.sample_sectors[:, 0], env.sample_sectors[:, 1], c=env.sample_sectors[:, 2], s=100)"
   ]
  },
  {
   "cell_type": "code",
   "execution_count": null,
   "metadata": {},
   "outputs": [],
   "source": [
    "start_state = env.sample_states[0]"
   ]
  },
  {
   "cell_type": "code",
   "execution_count": null,
   "metadata": {},
   "outputs": [],
   "source": [
    "start_state_features = start_state[0].flatten() / np.linalg.norm(start_state[0])"
   ]
  },
  {
   "cell_type": "code",
   "execution_count": null,
   "metadata": {},
   "outputs": [],
   "source": [
    "similarities = []"
   ]
  },
  {
   "cell_type": "code",
   "execution_count": null,
   "metadata": {},
   "outputs": [],
   "source": [
    "for state, position in env.sample_states:\n",
    "    state_features = state.flatten() / np.linalg.norm(state)\n",
    "    similarity = np.dot(start_state_features, state_features)\n",
    "    similarities.append((*position, similarity))\n",
    "#     plt.figure(figsize=(7, 7))\n",
    "#     plt.imshow(np.transpose(state, [1, 2, 0]))\n",
    "#     plt.title('{} {}: {}'.format(*position, similarity))"
   ]
  },
  {
   "cell_type": "code",
   "execution_count": null,
   "metadata": {},
   "outputs": [],
   "source": [
    "similarities = np.array(similarities)"
   ]
  },
  {
   "cell_type": "code",
   "execution_count": null,
   "metadata": {},
   "outputs": [],
   "source": [
    "plt.figure(figsize=(7, 7))\n",
    "env.plot_topdown()\n",
    "plt.scatter(similarities[:, 0], similarities[:, 1], c=range(len(similarities)), s=100)\n",
    "plt.colorbar()"
   ]
  }
 ],
 "metadata": {
  "kernelspec": {
   "display_name": "Python [conda env:rlpyt] *",
   "language": "python",
   "name": "conda-env-rlpyt-py"
  },
  "language_info": {
   "codemirror_mode": {
    "name": "ipython",
    "version": 3
   },
   "file_extension": ".py",
   "mimetype": "text/x-python",
   "name": "python",
   "nbconvert_exporter": "python",
   "pygments_lexer": "ipython3",
   "version": "3.7.6"
  }
 },
 "nbformat": 4,
 "nbformat_minor": 2
}

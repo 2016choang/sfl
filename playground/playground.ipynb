{
 "cells": [
  {
   "cell_type": "code",
   "execution_count": 1,
   "metadata": {},
   "outputs": [],
   "source": [
    "import gym\n",
    "from gym_minigrid.minigrid import Grid\n",
    "from gym_minigrid.wrappers import FullyObsWrapper, ReseedWrapper, RGBImgObsWrapper\n",
    "from PIL import Image"
   ]
  },
  {
   "cell_type": "markdown",
   "metadata": {},
   "source": [
    "### Atari Test"
   ]
  },
  {
   "cell_type": "code",
   "execution_count": 2,
   "metadata": {},
   "outputs": [],
   "source": [
    "from rlpyt.envs.atari.atari_env import AtariEnv"
   ]
  },
  {
   "cell_type": "code",
   "execution_count": 3,
   "metadata": {},
   "outputs": [],
   "source": [
    "atari_env = AtariEnv()"
   ]
  },
  {
   "cell_type": "code",
   "execution_count": 4,
   "metadata": {},
   "outputs": [],
   "source": [
    "obs = atari_env.reset()"
   ]
  },
  {
   "cell_type": "code",
   "execution_count": 6,
   "metadata": {},
   "outputs": [
    {
     "data": {
      "text/plain": [
       "(4, 104, 80)"
      ]
     },
     "execution_count": 6,
     "metadata": {},
     "output_type": "execute_result"
    }
   ],
   "source": [
    "obs.shape"
   ]
  },
  {
   "cell_type": "code",
   "execution_count": 9,
   "metadata": {},
   "outputs": [],
   "source": [
    "env_id = 'MiniGrid-FourRooms-v0'\n",
    "env = ReseedWrapper(gym.make(id=env_id))"
   ]
  },
  {
   "cell_type": "code",
   "execution_count": 10,
   "metadata": {},
   "outputs": [],
   "source": [
    "compact_env = FullyObsWrapper(env)\n",
    "reset = compact_env.reset()\n",
    "# compact_arr = compact_env.step(compact_env.action_space.sample())[0]\n",
    "# compact_img = Image.fromarray(compact_arr, 'RGB')\n",
    "# compact_img.show()"
   ]
  },
  {
   "cell_type": "code",
   "execution_count": 12,
   "metadata": {},
   "outputs": [
    {
     "data": {
      "text/plain": [
       "array([12,  6])"
      ]
     },
     "execution_count": 12,
     "metadata": {},
     "output_type": "execute_result"
    }
   ],
   "source": [
    "compact_env.unwrapped.agent_pos"
   ]
  },
  {
   "cell_type": "code",
   "execution_count": 16,
   "metadata": {},
   "outputs": [
    {
     "data": {
      "text/plain": [
       "0.9104339796860572"
      ]
     },
     "execution_count": 16,
     "metadata": {},
     "output_type": "execute_result"
    }
   ],
   "source": [
    "reset.mean()"
   ]
  },
  {
   "cell_type": "code",
   "execution_count": 25,
   "metadata": {},
   "outputs": [
    {
     "name": "stdout",
     "output_type": "stream",
     "text": [
      "12 6\n"
     ]
    }
   ],
   "source": [
    "for r, row in enumerate(compact_arr):\n",
    "    for c, point in enumerate(row):\n",
    "        if point[0] == 10:\n",
    "            print(r, c)"
   ]
  },
  {
   "cell_type": "code",
   "execution_count": null,
   "metadata": {},
   "outputs": [],
   "source": [
    "compact_env.reset()\n",
    "for i in range(1000):\n",
    "    compact_env.render()\n",
    "    compact_env.step(2)\n",
    "    if i % 50 == 0: \n",
    "        compact_env.step(1)\n",
    "        compact_env.step(1)\n",
    "compact_env.close()"
   ]
  },
  {
   "cell_type": "code",
   "execution_count": null,
   "metadata": {},
   "outputs": [],
   "source": [
    "compact_env.reset()\n",
    "for _ in range(1000):\n",
    "    compact_env.render()\n",
    "    compact_env.step(compact_env.action_space.sample())\n",
    "compact_env.close()"
   ]
  },
  {
   "cell_type": "code",
   "execution_count": null,
   "metadata": {},
   "outputs": [],
   "source": [
    "compact_env = FullyObsWrapper(env)\n",
    "compact_env.reset()\n",
    "for _ in range(1000):\n",
    "    compact_env.render()\n",
    "    compact_env.step(3)\n",
    "compact_env.close()"
   ]
  },
  {
   "cell_type": "code",
   "execution_count": 7,
   "metadata": {},
   "outputs": [],
   "source": [
    "full_env = RGBImgObsWrapper(env)\n",
    "reset = full_env.reset()"
   ]
  },
  {
   "cell_type": "code",
   "execution_count": 8,
   "metadata": {},
   "outputs": [
    {
     "data": {
      "text/plain": [
       "(152, 152, 3)"
      ]
     },
     "execution_count": 8,
     "metadata": {},
     "output_type": "execute_result"
    }
   ],
   "source": [
    "reset.shape"
   ]
  },
  {
   "cell_type": "code",
   "execution_count": 13,
   "metadata": {},
   "outputs": [
    {
     "data": {
      "text/plain": [
       "array([12,  6])"
      ]
     },
     "execution_count": 13,
     "metadata": {},
     "output_type": "execute_result"
    }
   ],
   "source": [
    "full_env.unwrapped.agent_pos"
   ]
  },
  {
   "cell_type": "code",
   "execution_count": 17,
   "metadata": {},
   "outputs": [
    {
     "data": {
      "text/plain": [
       "array([12,  6])"
      ]
     },
     "execution_count": 17,
     "metadata": {},
     "output_type": "execute_result"
    }
   ],
   "source": [
    "full_env.step(1)\n",
    "full_env.unwrapped.agent_pos"
   ]
  },
  {
   "cell_type": "code",
   "execution_count": 26,
   "metadata": {},
   "outputs": [
    {
     "data": {
      "text/plain": [
       "array([17,  6])"
      ]
     },
     "execution_count": 26,
     "metadata": {},
     "output_type": "execute_result"
    }
   ],
   "source": [
    "full_env.step(2)\n",
    "full_env.unwrapped.agent_pos"
   ]
  },
  {
   "cell_type": "code",
   "execution_count": null,
   "metadata": {},
   "outputs": [],
   "source": []
  },
  {
   "cell_type": "code",
   "execution_count": null,
   "metadata": {},
   "outputs": [],
   "source": []
  },
  {
   "cell_type": "code",
   "execution_count": 11,
   "metadata": {},
   "outputs": [],
   "source": [
    "obs = full_env.step(full_env.action_space.sample())"
   ]
  },
  {
   "cell_type": "code",
   "execution_count": 16,
   "metadata": {},
   "outputs": [],
   "source": [
    "full_arr = full_env.step(full_env.action_space.sample())[0]\n",
    "full_img = Image.fromarray(full_arr, 'RGB')\n",
    "full_img.show()"
   ]
  },
  {
   "cell_type": "code",
   "execution_count": null,
   "metadata": {},
   "outputs": [],
   "source": [
    "full_env.reset()\n",
    "for _ in range(1000):\n",
    "    full_env.render()\n",
    "    full_env.step(full_env.action_space.sample())\n",
    "full_env.close()"
   ]
  },
  {
   "cell_type": "code",
   "execution_count": 3,
   "metadata": {},
   "outputs": [],
   "source": [
    "import numpy as np"
   ]
  },
  {
   "cell_type": "code",
   "execution_count": 5,
   "metadata": {},
   "outputs": [],
   "source": [
    "moves = np.random.randint(0, 3, int(1e6))"
   ]
  },
  {
   "cell_type": "code",
   "execution_count": null,
   "metadata": {},
   "outputs": [],
   "source": []
  },
  {
   "cell_type": "code",
   "execution_count": null,
   "metadata": {},
   "outputs": [],
   "source": []
  },
  {
   "cell_type": "code",
   "execution_count": null,
   "metadata": {},
   "outputs": [],
   "source": []
  },
  {
   "cell_type": "code",
   "execution_count": 111,
   "metadata": {},
   "outputs": [],
   "source": [
    "import matplotlib.pylab as plt\n",
    "import numpy as np\n",
    "import pickle\n",
    "import seaborn as sns\n",
    "import torch"
   ]
  },
  {
   "cell_type": "code",
   "execution_count": 112,
   "metadata": {},
   "outputs": [],
   "source": [
    "with open('../experiments/successor.pkl', 'rb') as handle:\n",
    "    SR = pickle.load(handle)"
   ]
  },
  {
   "cell_type": "code",
   "execution_count": 113,
   "metadata": {},
   "outputs": [],
   "source": [
    "starting_pos = (12, 6)\n",
    "starting_sr = SR[starting_pos]"
   ]
  },
  {
   "cell_type": "code",
   "execution_count": 114,
   "metadata": {},
   "outputs": [],
   "source": [
    "grid = np.zeros((19, 19))"
   ]
  },
  {
   "cell_type": "code",
   "execution_count": 115,
   "metadata": {},
   "outputs": [],
   "source": [
    "for i in range(19):\n",
    "    for j in range(19):\n",
    "        val = -1e-3\n",
    "        pos = (i, j)\n",
    "        if pos in SR:\n",
    "            val = torch.norm(SR[pos] - starting_sr, 2)\n",
    "        grid[i, j] = val"
   ]
  },
  {
   "cell_type": "code",
   "execution_count": 116,
   "metadata": {
    "scrolled": false
   },
   "outputs": [
    {
     "data": {
      "text/plain": [
       "<matplotlib.axes._subplots.AxesSubplot at 0x12fa60e10>"
      ]
     },
     "execution_count": 116,
     "metadata": {},
     "output_type": "execute_result"
    },
    {
     "data": {
      "image/png": "[encoded data removed]",
      "text/plain": [
       "<Figure size 1224x1224 with 2 Axes>"
      ]
     },
     "metadata": {
      "needs_background": "light"
     },
     "output_type": "display_data"
    }
   ],
   "source": [
    "f, ax = plt.subplots(figsize=(17, 17))\n",
    "sns.heatmap(grid, annot=True, linewidth=0.5)"
   ]
  },
  {
   "cell_type": "code",
   "execution_count": 1,
   "metadata": {},
   "outputs": [
    {
     "ename": "NameError",
     "evalue": "name 'torch' is not defined",
     "output_type": "error",
     "traceback": [
      "\u001b[0;31m---------------------------------------------------------------------------\u001b[0m",
      "\u001b[0;31mNameError\u001b[0m                                 Traceback (most recent call last)",
      "\u001b[0;32m<ipython-input-1-74b9b40512f8>\u001b[0m in \u001b[0;36m<module>\u001b[0;34m\u001b[0m\n\u001b[0;32m----> 1\u001b[0;31m \u001b[0mparams\u001b[0m \u001b[0;34m=\u001b[0m \u001b[0mtorch\u001b[0m\u001b[0;34m.\u001b[0m\u001b[0mload\u001b[0m\u001b[0;34m(\u001b[0m\u001b[0;34m'../experiments/20191024-run2.pkl'\u001b[0m\u001b[0;34m,\u001b[0m \u001b[0mmap_location\u001b[0m\u001b[0;34m=\u001b[0m\u001b[0mtorch\u001b[0m\u001b[0;34m.\u001b[0m\u001b[0mdevice\u001b[0m\u001b[0;34m(\u001b[0m\u001b[0;34m'cpu'\u001b[0m\u001b[0;34m)\u001b[0m\u001b[0;34m)\u001b[0m\u001b[0;34m\u001b[0m\u001b[0;34m\u001b[0m\u001b[0m\n\u001b[0m",
      "\u001b[0;31mNameError\u001b[0m: name 'torch' is not defined"
     ]
    }
   ],
   "source": [
    "params = torch.load('../experiments/20191024-run2.pkl', map_location=torch.device('cpu'))"
   ]
  },
  {
   "cell_type": "code",
   "execution_count": 35,
   "metadata": {},
   "outputs": [],
   "source": [
    "from rlpyt.models.dqn.grid_dsr_model import GridDsrModel"
   ]
  },
  {
   "cell_type": "code",
   "execution_count": 86,
   "metadata": {},
   "outputs": [],
   "source": [
    "full_env = RGBImgObsWrapper(gym.make(id=env_id))"
   ]
  },
  {
   "cell_type": "code",
   "execution_count": 39,
   "metadata": {},
   "outputs": [
    {
     "data": {
      "text/plain": [
       "<All keys matched successfully>"
      ]
     },
     "execution_count": 39,
     "metadata": {},
     "output_type": "execute_result"
    }
   ],
   "source": [
    "model = GridDsrModel(env.observation_space.shape, env.action_space.n)\n",
    "model.load_state_dict(params['agent_state_dict']['model'])"
   ]
  },
  {
   "cell_type": "code",
   "execution_count": 93,
   "metadata": {},
   "outputs": [],
   "source": [
    "obs = full_env.reset()"
   ]
  },
  {
   "cell_type": "code",
   "execution_count": 94,
   "metadata": {},
   "outputs": [],
   "source": [
    "full_img = Image.fromarray(obs, 'RGB')\n",
    "full_img.show()"
   ]
  },
  {
   "cell_type": "code",
   "execution_count": 96,
   "metadata": {},
   "outputs": [],
   "source": [
    "obs = torch.Tensor(obs).unsqueeze(0)"
   ]
  },
  {
   "cell_type": "code",
   "execution_count": 97,
   "metadata": {},
   "outputs": [],
   "source": [
    "reconstruct = model(obs, mode='reconstruct').squeeze(0)"
   ]
  },
  {
   "cell_type": "code",
   "execution_count": 98,
   "metadata": {},
   "outputs": [],
   "source": [
    "reconstructed = reconstruct.data.numpy()"
   ]
  },
  {
   "cell_type": "code",
   "execution_count": 50,
   "metadata": {},
   "outputs": [],
   "source": [
    "reconstruct_img = Image.fromarray(reconstruct.data.numpy(), 'RGB')\n",
    "reconstruct_img.show()"
   ]
  },
  {
   "cell_type": "code",
   "execution_count": 71,
   "metadata": {},
   "outputs": [
    {
     "data": {
      "text/plain": [
       "tensor([0.7430, 0.7433, 0.7432], grad_fn=<StdBackward1>)"
      ]
     },
     "execution_count": 71,
     "metadata": {},
     "output_type": "execute_result"
    }
   ],
   "source": [
    "reconstruct.std(dim=[0, 1])"
   ]
  },
  {
   "cell_type": "code",
   "execution_count": 89,
   "metadata": {},
   "outputs": [],
   "source": [
    "obs = obs.squeeze(0)"
   ]
  },
  {
   "cell_type": "code",
   "execution_count": 90,
   "metadata": {},
   "outputs": [],
   "source": [
    "obs_normed = (obs - obs.mean(dim=[0, 1])) / obs.std(dim=[0, 1])"
   ]
  },
  {
   "cell_type": "code",
   "execution_count": 109,
   "metadata": {},
   "outputs": [
    {
     "data": {
      "text/plain": [
       "tensor([[151, 151, 151],\n",
       "        [151, 151, 151],\n",
       "        [151, 151, 151],\n",
       "        [151, 151, 151],\n",
       "        [151, 151, 151],\n",
       "        [151, 151, 151],\n",
       "        [151, 151, 151],\n",
       "        [151, 151, 151],\n",
       "        [151, 151, 151],\n",
       "        [151, 151, 151],\n",
       "        [ 68, 151, 151],\n",
       "        [ 68, 151, 151],\n",
       "        [ 68, 151, 151],\n",
       "        [ 69, 151, 151],\n",
       "        [ 69, 151, 151],\n",
       "        [151, 151, 151],\n",
       "        [151, 151, 151],\n",
       "        [151, 151, 151],\n",
       "        [151, 151, 151],\n",
       "        [151, 151, 151],\n",
       "        [151, 151, 151],\n",
       "        [151, 151, 151],\n",
       "        [151, 151, 151],\n",
       "        [151, 151, 151],\n",
       "        [151, 151, 151],\n",
       "        [151, 151, 151],\n",
       "        [151, 151, 151],\n",
       "        [151, 151, 151],\n",
       "        [151, 151, 151],\n",
       "        [151, 151, 151],\n",
       "        [151, 151, 151],\n",
       "        [151, 151, 151],\n",
       "        [151, 151, 151],\n",
       "        [151, 151, 151],\n",
       "        [151, 151, 151],\n",
       "        [151, 151, 151],\n",
       "        [151, 151, 151],\n",
       "        [151, 151, 151],\n",
       "        [151, 151, 151],\n",
       "        [151, 151, 151],\n",
       "        [151, 151, 151],\n",
       "        [151, 151, 151],\n",
       "        [151, 151, 151],\n",
       "        [151, 151, 151],\n",
       "        [151, 151, 151],\n",
       "        [151, 151, 151],\n",
       "        [151, 151, 151],\n",
       "        [151, 151, 151],\n",
       "        [151, 151, 151],\n",
       "        [151, 151, 151],\n",
       "        [151, 151, 151],\n",
       "        [151, 151, 151],\n",
       "        [151, 151, 151],\n",
       "        [151, 151, 151],\n",
       "        [151, 151, 151],\n",
       "        [151, 151, 151],\n",
       "        [151, 151, 151],\n",
       "        [151, 151, 151],\n",
       "        [151, 151, 151],\n",
       "        [151, 151, 151],\n",
       "        [151, 151, 151],\n",
       "        [151, 151, 151],\n",
       "        [151, 151, 151],\n",
       "        [151, 151, 151],\n",
       "        [151, 151, 151],\n",
       "        [151, 151, 151],\n",
       "        [151, 151, 151],\n",
       "        [151, 151, 151],\n",
       "        [151, 151, 151],\n",
       "        [151, 151, 151],\n",
       "        [151, 151, 151],\n",
       "        [151, 151, 151],\n",
       "        [151, 151, 151],\n",
       "        [151, 151, 151],\n",
       "        [151, 151, 151],\n",
       "        [151, 151, 151],\n",
       "        [151, 151, 151],\n",
       "        [151, 151, 151],\n",
       "        [151, 151, 151],\n",
       "        [151, 151, 151],\n",
       "        [151, 151, 151],\n",
       "        [151, 151, 151],\n",
       "        [151, 151, 151],\n",
       "        [151, 151, 151],\n",
       "        [151, 151, 151],\n",
       "        [151, 151, 151],\n",
       "        [151, 151, 151],\n",
       "        [151, 151, 151],\n",
       "        [151, 151, 151],\n",
       "        [151, 151, 151],\n",
       "        [151, 151, 151],\n",
       "        [151, 151, 151],\n",
       "        [151, 151, 151],\n",
       "        [151, 151, 151],\n",
       "        [151, 151, 151],\n",
       "        [151, 151, 151],\n",
       "        [151, 151, 151],\n",
       "        [151, 151, 151],\n",
       "        [151, 151, 151],\n",
       "        [151, 151, 151],\n",
       "        [151, 151, 151],\n",
       "        [151, 151, 151],\n",
       "        [151, 151, 151],\n",
       "        [151, 151, 151],\n",
       "        [151, 151, 151],\n",
       "        [151, 151, 151],\n",
       "        [151, 151, 151],\n",
       "        [151, 151, 151],\n",
       "        [151, 151, 151],\n",
       "        [151, 151, 151],\n",
       "        [151, 151, 151],\n",
       "        [151, 151, 151],\n",
       "        [151, 151, 151],\n",
       "        [151, 151, 151],\n",
       "        [151, 151, 151],\n",
       "        [151, 151, 151],\n",
       "        [151, 151, 151],\n",
       "        [151, 151, 151],\n",
       "        [151, 151, 151],\n",
       "        [151, 151, 151],\n",
       "        [151, 151, 151],\n",
       "        [151, 151, 151],\n",
       "        [151, 151, 151],\n",
       "        [151, 151, 151],\n",
       "        [151, 151, 151],\n",
       "        [151, 151, 151],\n",
       "        [151, 151, 151],\n",
       "        [151, 151, 151],\n",
       "        [151,  23, 151],\n",
       "        [151,  23, 151],\n",
       "        [151,  23, 151],\n",
       "        [151,  23, 151],\n",
       "        [151,  23, 151],\n",
       "        [151,  23, 151],\n",
       "        [151,  23, 151],\n",
       "        [151,  23, 151],\n",
       "        [151, 151, 151],\n",
       "        [151, 151, 151],\n",
       "        [151, 151, 151],\n",
       "        [151, 151, 151],\n",
       "        [151, 151, 151],\n",
       "        [151, 151, 151],\n",
       "        [151, 151, 151],\n",
       "        [151, 151, 151],\n",
       "        [151, 151, 151],\n",
       "        [151, 151, 151],\n",
       "        [151, 151, 151],\n",
       "        [151, 151, 151],\n",
       "        [151, 151, 151],\n",
       "        [151, 151, 151],\n",
       "        [151, 151, 151],\n",
       "        [151, 151, 151]])"
      ]
     },
     "execution_count": 109,
     "metadata": {},
     "output_type": "execute_result"
    }
   ],
   "source": [
    "obs_normed.argmax(dim=0)"
   ]
  },
  {
   "cell_type": "code",
   "execution_count": 99,
   "metadata": {},
   "outputs": [
    {
     "data": {
      "text/plain": [
       "tensor([[[ 2.1803,  2.1267,  2.1983],\n",
       "         [ 2.1798,  2.1268,  2.1975],\n",
       "         [ 2.1787,  2.1252,  2.1950],\n",
       "         ...,\n",
       "         [ 2.2110,  2.1569,  2.2263],\n",
       "         [ 2.2119,  2.1584,  2.2271],\n",
       "         [ 2.2125,  2.1583,  2.2274]],\n",
       "\n",
       "        [[ 2.1825,  2.1266,  2.1985],\n",
       "         [ 2.1825,  2.1275,  2.1983],\n",
       "         [ 2.1824,  2.1293,  2.1984],\n",
       "         ...,\n",
       "         [ 2.2077,  2.1539,  2.2239],\n",
       "         [ 2.2082,  2.1549,  2.2249],\n",
       "         [ 2.2084,  2.1548,  2.2247]],\n",
       "\n",
       "        [[ 2.1805,  2.1271,  2.1957],\n",
       "         [ 2.1808,  2.1269,  2.1962],\n",
       "         [ 2.1807,  2.1272,  2.1963],\n",
       "         ...,\n",
       "         [ 2.2095,  2.1560,  2.2258],\n",
       "         [ 2.2097,  2.1562,  2.2258],\n",
       "         [ 2.2097,  2.1560,  2.2258]],\n",
       "\n",
       "        ...,\n",
       "\n",
       "        [[-0.1496, -0.2038, -0.1243],\n",
       "         [-0.1486, -0.1999, -0.1280],\n",
       "         [-0.1404, -0.1947, -0.1252],\n",
       "         ...,\n",
       "         [-0.1241, -0.1873, -0.1158],\n",
       "         [-0.1293, -0.1812, -0.1132],\n",
       "         [-0.1284, -0.1815, -0.1120]],\n",
       "\n",
       "        [[-0.1426, -0.1965, -0.1283],\n",
       "         [-0.1436, -0.1973, -0.1261],\n",
       "         [-0.1207, -0.1582, -0.0964],\n",
       "         ...,\n",
       "         [-0.1364, -0.1889, -0.1196],\n",
       "         [-0.1193, -0.1721, -0.1002],\n",
       "         [-0.1212, -0.1722, -0.1010]],\n",
       "\n",
       "        [[-0.1488, -0.2007, -0.1320],\n",
       "         [-0.1495, -0.2014, -0.1319],\n",
       "         [-0.1772, -0.2228, -0.1587],\n",
       "         ...,\n",
       "         [-0.1284, -0.1828, -0.1133],\n",
       "         [-0.1462, -0.1984, -0.1298],\n",
       "         [-0.1472, -0.1980, -0.1286]]], grad_fn=<SubBackward0>)"
      ]
     },
     "execution_count": 99,
     "metadata": {},
     "output_type": "execute_result"
    }
   ],
   "source": [
    "((obs_normed - reconstruct))"
   ]
  },
  {
   "cell_type": "code",
   "execution_count": 85,
   "metadata": {},
   "outputs": [],
   "source": [
    "for _ in range(1):\n",
    "    test_env = RGBImgObsWrapper(ReseedWrapper(gym.make(id=env_id)))\n",
    "    full_img = Image.fromarray(test_env.reset(), 'RGB')\n",
    "    full_img.show()"
   ]
  },
  {
   "cell_type": "code",
   "execution_count": 17,
   "metadata": {},
   "outputs": [
    {
     "data": {
      "text/plain": [
       "array([0.        , 0.05555556, 0.11111111, 0.16666667, 0.22222222,\n",
       "       0.27777778, 0.33333333, 0.38888889, 0.44444444, 0.5       ,\n",
       "       0.55555556, 0.61111111, 0.66666667, 0.72222222, 0.77777778,\n",
       "       0.83333333, 0.88888889, 0.94444444, 1.        ])"
      ]
     },
     "execution_count": 17,
     "metadata": {},
     "output_type": "execute_result"
    }
   ],
   "source": [
    "np.linspace(0, 1, num=19)"
   ]
  },
  {
   "cell_type": "code",
   "execution_count": 1,
   "metadata": {},
   "outputs": [],
   "source": [
    "import numpy as np"
   ]
  },
  {
   "cell_type": "code",
   "execution_count": 7,
   "metadata": {},
   "outputs": [],
   "source": [
    "num_features=64\n",
    "sigma=1\n",
    "cov = [[sigma, 0], [0, sigma]]"
   ]
  },
  {
   "cell_type": "code",
   "execution_count": 8,
   "metadata": {},
   "outputs": [],
   "source": [
    "feature_map = np.array([[np.random.multivariate_normal([x, y], cov, num_features // 2).flatten() for x in range(19)] for y in range(19)])"
   ]
  },
  {
   "cell_type": "code",
   "execution_count": 14,
   "metadata": {},
   "outputs": [
    {
     "data": {
      "text/plain": [
       "(0, 0)"
      ]
     },
     "execution_count": 14,
     "metadata": {},
     "output_type": "execute_result"
    }
   ],
   "source": [
    "(0, 0)"
   ]
  },
  {
   "cell_type": "code",
   "execution_count": 21,
   "metadata": {},
   "outputs": [
    {
     "data": {
      "text/plain": [
       "array([ 0.13443533, -0.00636564,  0.54120367, -0.17107303,  0.02080377,\n",
       "       -0.28195859, -0.45521075,  0.14659174, -0.03814311, -0.71472845,\n",
       "        0.26676686, -0.0252475 , -0.41190121,  0.0208478 , -0.11426382,\n",
       "        0.013379  , -0.27894162,  0.44052262,  0.02718706,  0.35921573,\n",
       "       -0.05074346,  0.14785627, -0.29502873,  0.14755739,  0.07671952,\n",
       "       -0.08156355,  0.06521696,  0.36716145,  0.24731715, -0.3111925 ,\n",
       "       -0.32158845, -0.38290488,  0.07035463,  0.11277564,  0.26703662,\n",
       "       -0.09475703, -0.16008462, -0.21965077,  0.23780558,  0.80629118,\n",
       "       -0.10865316, -0.26225906,  0.48199718,  0.18862681, -0.2928876 ,\n",
       "       -0.15651988, -0.14941064,  0.10817175, -0.05831149, -0.1157485 ,\n",
       "       -0.19859643, -0.3269293 , -0.35576106, -0.33032545,  0.01756923,\n",
       "        0.24267672,  0.15925464, -0.07000418,  0.3999283 , -0.58917843,\n",
       "        0.09431885,  0.14660414,  0.1532269 ,  0.72881797])"
      ]
     },
     "execution_count": 21,
     "metadata": {},
     "output_type": "execute_result"
    }
   ],
   "source": [
    "np.random.multivariate_normal([0, 0], [[0.1, 0], [0, 0.1]], (32)).flatten()"
   ]
  },
  {
   "cell_type": "code",
   "execution_count": null,
   "metadata": {},
   "outputs": [],
   "source": []
  }
 ],
 "metadata": {
  "kernelspec": {
   "display_name": "Python [conda env:rlpyt] *",
   "language": "python",
   "name": "conda-env-rlpyt-py"
  },
  "language_info": {
   "codemirror_mode": {
    "name": "ipython",
    "version": 3
   },
   "file_extension": ".py",
   "mimetype": "text/x-python",
   "name": "python",
   "nbconvert_exporter": "python",
   "pygments_lexer": "ipython3",
   "version": "3.7.6"
  }
 },
 "nbformat": 4,
 "nbformat_minor": 2
}

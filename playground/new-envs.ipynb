{
 "cells": [
  {
   "cell_type": "code",
   "execution_count": 1,
   "metadata": {},
   "outputs": [],
   "source": [
    "from collections import defaultdict\n",
    "import copy\n",
    "import json\n",
    "import pickle\n",
    "\n",
    "import gym\n",
    "from gym_minigrid.minigrid import Grid\n",
    "from gym_minigrid.wrappers import FullyObsWrapper, ReseedWrapper, RGBImgObsWrapper\n",
    "import matplotlib.pylab as plt\n",
    "import networkx as nx\n",
    "import numpy as np\n",
    "from PIL import Image\n",
    "import pytorch_ssim\n",
    "import seaborn as sns\n",
    "import sklearn\n",
    "from skimage.transform import resize, rescale, downscale_local_mean\n",
    "from skimage.util import img_as_ubyte\n",
    "from sklearn.decomposition import PCA\n",
    "from sklearn.manifold import TSNE\n",
    "import torch\n",
    "import torch.nn as nn\n",
    "\n",
    "from rlpyt.models.dqn.dsr.idf_model import IDFModel\n",
    "from rlpyt.envs.gym import make as gym_make\n",
    "from rlpyt.utils.seed import set_seed\n",
    "from gym_minigrid.envs.multiroom import MultiRoomEnv"
   ]
  },
  {
   "cell_type": "code",
   "execution_count": null,
   "metadata": {},
   "outputs": [],
   "source": [
    "A = np.array([[0, 1, 0.5],\n",
    "              [1, 0, 0.3],\n",
    "              [0.5, 0.3, 0]])"
   ]
  },
  {
   "cell_type": "code",
   "execution_count": null,
   "metadata": {},
   "outputs": [],
   "source": [
    "G = nx.from_numpy_array(A)"
   ]
  },
  {
   "cell_type": "code",
   "execution_count": null,
   "metadata": {},
   "outputs": [],
   "source": [
    "pos = nx.circular_layout(G)  # positions for all nodes\n",
    "\n",
    "# nodes\n",
    "nx.draw_networkx_nodes(G, pos, node_size=600)\n",
    "\n",
    "# edges\n",
    "nx.draw_networkx_edges(G, pos, edgelist=G.edges,\n",
    "                       width=6)\n",
    "\n",
    "labels=nx.get_edge_attributes(G, 'weight')\n",
    "nx.draw_networkx_labels(G, pos, font_size=8, font_family='sans-serif')\n",
    "nx.draw_networkx_edge_labels(G, pos, font_size=10, font_family='sans-serif', edge_labels=labels)\n",
    "plt.axis('off')\n",
    "plt.savefig(\"test.png\", dpi=1000)"
   ]
  },
  {
   "cell_type": "code",
   "execution_count": null,
   "metadata": {},
   "outputs": [],
   "source": [
    "nx.shortest_path(G, 0, 1, weight='weight')"
   ]
  },
  {
   "cell_type": "code",
   "execution_count": null,
   "metadata": {},
   "outputs": [],
   "source": [
    "predecessors, distance = nx.floyd_warshall_predecessor_and_distance(G)"
   ]
  },
  {
   "cell_type": "code",
   "execution_count": null,
   "metadata": {},
   "outputs": [],
   "source": [
    "nx.is_connected(G)"
   ]
  },
  {
   "cell_type": "code",
   "execution_count": null,
   "metadata": {},
   "outputs": [],
   "source": [
    "nx.to_numpy_array(G)"
   ]
  },
  {
   "cell_type": "code",
   "execution_count": null,
   "metadata": {},
   "outputs": [],
   "source": [
    "np.array(list(path))"
   ]
  },
  {
   "cell_type": "code",
   "execution_count": null,
   "metadata": {},
   "outputs": [],
   "source": [
    "G = nx.Graph()\n",
    "\n",
    "G.add_edge('a', 'b', weight=0.6)\n",
    "G.add_edge('a', 'c', weight=0.2)\n",
    "G.add_edge('c', 'd', weight=0.1)\n",
    "G.add_edge('c', 'e', weight=0.7)\n",
    "G.add_edge('c', 'f', weight=0.9)\n",
    "G.add_edge('a', 'd', weight=0.3)\n",
    "\n",
    "\n",
    "pos = nx.circular_layout(G)  # positions for all nodes\n",
    "\n",
    "# nodes\n",
    "nx.draw_networkx_nodes(G, pos, node_size=600)\n",
    "\n",
    "# edges\n",
    "nx.draw_networkx_edges(G, pos, edgelist=G.edges,\n",
    "                       width=6)\n",
    "\n",
    "# labels\n",
    "names = {'a': '1, 1',\n",
    "         'b': '2, 3',\n",
    "         'c': '3, 4',\n",
    "         'd': '23, 23'}\n",
    "\n",
    "labels=nx.get_edge_attributes(G, 'weight')\n",
    "nx.draw_networkx_labels(G, pos, font_size=8, font_family='sans-serif', labels=names)\n",
    "nx.draw_networkx_edge_labels(G, pos, font_size=10, font_family='sans-serif', edge_labels=labels)\n",
    "plt.axis('off')\n",
    "plt.savefig(\"test.png\", dpi=1000)"
   ]
  },
  {
   "cell_type": "code",
   "execution_count": null,
   "metadata": {},
   "outputs": [],
   "source": [
    "A = np.random.randn(5, 3)"
   ]
  },
  {
   "cell_type": "code",
   "execution_count": null,
   "metadata": {},
   "outputs": [],
   "source": [
    "A = np.random.randint(0, 100, size=(25, 25))"
   ]
  },
  {
   "cell_type": "code",
   "execution_count": null,
   "metadata": {},
   "outputs": [],
   "source": [
    "from scipy.stats import entropy"
   ]
  },
  {
   "cell_type": "code",
   "execution_count": null,
   "metadata": {},
   "outputs": [],
   "source": [
    "entropy([0, 0, 1], base=2)"
   ]
  },
  {
   "cell_type": "code",
   "execution_count": null,
   "metadata": {},
   "outputs": [],
   "source": [
    "A[0, 0]"
   ]
  },
  {
   "cell_type": "code",
   "execution_count": null,
   "metadata": {},
   "outputs": [],
   "source": [
    "A = torch.rand((5, 5)) - 0.5\n",
    "A  = A / torch.norm(A, p=2, dim=1, keepdim=True)"
   ]
  },
  {
   "cell_type": "code",
   "execution_count": null,
   "metadata": {},
   "outputs": [],
   "source": [
    "A[range(5), range(5)] = -2"
   ]
  },
  {
   "cell_type": "code",
   "execution_count": null,
   "metadata": {},
   "outputs": [],
   "source": [
    "A"
   ]
  },
  {
   "cell_type": "code",
   "execution_count": null,
   "metadata": {},
   "outputs": [],
   "source": [
    "max_idx = A.argmax(dim=1)\n",
    "max_idx"
   ]
  },
  {
   "cell_type": "code",
   "execution_count": null,
   "metadata": {},
   "outputs": [],
   "source": [
    "non_edges = A < 0.4\n",
    "non_edges"
   ]
  },
  {
   "cell_type": "code",
   "execution_count": null,
   "metadata": {},
   "outputs": [],
   "source": [
    "non_edges[range(5), max_idx] = False\n",
    "non_edges"
   ]
  },
  {
   "cell_type": "code",
   "execution_count": null,
   "metadata": {},
   "outputs": [],
   "source": [
    "A[non_edges] = np.nan"
   ]
  },
  {
   "cell_type": "code",
   "execution_count": null,
   "metadata": {},
   "outputs": [],
   "source": [
    "print(A)\n",
    "A = A.detach().cpu().numpy()"
   ]
  },
  {
   "cell_type": "code",
   "execution_count": null,
   "metadata": {},
   "outputs": [],
   "source": [
    "np.isnan(A[0, 0])"
   ]
  },
  {
   "cell_type": "code",
   "execution_count": null,
   "metadata": {},
   "outputs": [],
   "source": [
    "A[range(len(A) - 1)]"
   ]
  },
  {
   "cell_type": "code",
   "execution_count": null,
   "metadata": {},
   "outputs": [],
   "source": []
  },
  {
   "cell_type": "code",
   "execution_count": 2,
   "metadata": {},
   "outputs": [],
   "source": [
    "with open('../experiments/configs/no_landmark.json') as f:\n",
    "    config = json.load(f)"
   ]
  },
  {
   "cell_type": "code",
   "execution_count": 3,
   "metadata": {},
   "outputs": [
    {
     "name": "stdout",
     "output_type": "stream",
     "text": [
      "\u001b[32musing seed 333\u001b[0m\n"
     ]
    }
   ],
   "source": [
    "mode = config['mode']\n",
    "minigrid_config = config['env']\n",
    "env_id=None\n",
    "set_seed(config['seed'])\n",
    "\n",
    "env = gym_make(id=env_id, mode=mode, minigrid_config=minigrid_config)"
   ]
  },
  {
   "cell_type": "code",
   "execution_count": 4,
   "metadata": {},
   "outputs": [
    {
     "data": {
      "image/png": "[encoded data removed]",
      "text/plain": [
       "<Figure size 432x288 with 1 Axes>"
      ]
     },
     "metadata": {
      "needs_background": "light"
     },
     "output_type": "display_data"
    }
   ],
   "source": [
    "obs = env.reset()\n",
    "plt.imshow(obs)\n",
    "steps = int(5e3)"
   ]
  },
  {
   "cell_type": "code",
   "execution_count": 5,
   "metadata": {
    "scrolled": true
   },
   "outputs": [
    {
     "name": "stdout",
     "output_type": "stream",
     "text": [
      "499 steps done!\n",
      "999 steps done!\n",
      "1499 steps done!\n",
      "1999 steps done!\n",
      "2499 steps done!\n",
      "2999 steps done!\n",
      "3499 steps done!\n",
      "3999 steps done!\n",
      "4499 steps done!\n",
      "4999 steps done!\n"
     ]
    }
   ],
   "source": [
    "for i in range(steps):\n",
    "    _, _, d, _ = env.step(env.action_space.sample())\n",
    "    if d:\n",
    "        print('{} steps done!'.format(i))\n",
    "        env.reset()"
   ]
  },
  {
   "cell_type": "code",
   "execution_count": 6,
   "metadata": {},
   "outputs": [
    {
     "data": {
      "text/plain": [
       "<matplotlib.colorbar.Colorbar at 0x7efb443c8e90>"
      ]
     },
     "execution_count": 6,
     "metadata": {},
     "output_type": "execute_result"
    },
    {
     "data": {
      "image/png": "[encoded data removed]",
      "text/plain": [
       "<Figure size 432x288 with 2 Axes>"
      ]
     },
     "metadata": {
      "needs_background": "light"
     },
     "output_type": "display_data"
    }
   ],
   "source": [
    "plt.imshow(env.visited.T)\n",
    "plt.colorbar()"
   ]
  },
  {
   "cell_type": "code",
   "execution_count": null,
   "metadata": {},
   "outputs": [],
   "source": [
    "mode = 'multiroom'\n",
    "# minigrid_config = {'size': [25, 25], 'epsilon': 0.5}\n",
    "minigrid_config = {'epsilon': 0.5}\n",
    "env_id=None\n",
    "set_seed(333)\n",
    "\n",
    "env = gym_make(id=env_id, mode=mode, minigrid_config=minigrid_config)\n",
    "obs = env.reset()\n",
    "# plt.imshow(obs[:, :, 0] - obs[:, :, 1])\n",
    "# plt.colorbar()"
   ]
  },
  {
   "cell_type": "code",
   "execution_count": null,
   "metadata": {},
   "outputs": [],
   "source": [
    "env.step(0)"
   ]
  },
  {
   "cell_type": "code",
   "execution_count": null,
   "metadata": {},
   "outputs": [],
   "source": [
    "plt.imshow(obs)"
   ]
  },
  {
   "cell_type": "code",
   "execution_count": null,
   "metadata": {},
   "outputs": [],
   "source": [
    "env.goal_pos"
   ]
  },
  {
   "cell_type": "code",
   "execution_count": null,
   "metadata": {},
   "outputs": [],
   "source": [
    "plt.imshow(obs)"
   ]
  },
  {
   "cell_type": "code",
   "execution_count": null,
   "metadata": {},
   "outputs": [],
   "source": [
    "plt.imshow(env.get_goal_state())"
   ]
  },
  {
   "cell_type": "code",
   "execution_count": null,
   "metadata": {},
   "outputs": [],
   "source": [
    "plt.imshow(obs)"
   ]
  },
  {
   "cell_type": "code",
   "execution_count": null,
   "metadata": {},
   "outputs": [],
   "source": [
    "pos = tuple(env.agent_pos)\n",
    "pos"
   ]
  },
  {
   "cell_type": "code",
   "execution_count": null,
   "metadata": {},
   "outputs": [],
   "source": [
    "idx = (obs[:, :, 0] - obs[:, :, 1]).argmax()"
   ]
  },
  {
   "cell_type": "code",
   "execution_count": null,
   "metadata": {},
   "outputs": [],
   "source": [
    "agent_pos = idx // 25, idx % 25"
   ]
  },
  {
   "cell_type": "code",
   "execution_count": null,
   "metadata": {},
   "outputs": [],
   "source": [
    "A = np.zeros((25, 25))"
   ]
  },
  {
   "cell_type": "code",
   "execution_count": null,
   "metadata": {},
   "outputs": [],
   "source": [
    "A[agent_pos] = 1"
   ]
  },
  {
   "cell_type": "code",
   "execution_count": null,
   "metadata": {},
   "outputs": [],
   "source": [
    "obs[agent_pos] = (1, 1, 1)\n",
    "plt.imshow(obs)"
   ]
  },
  {
   "cell_type": "markdown",
   "metadata": {},
   "source": [
    "### Successor Features Heatmap"
   ]
  },
  {
   "cell_type": "code",
   "execution_count": null,
   "metadata": {},
   "outputs": [],
   "source": [
    "def generate_dsr_grid(sr_matrix, starting_pos=(1, 8)):\n",
    "    starting_sr = sr_matrix[starting_pos]\n",
    "    \n",
    "    side_size = sr_matrix.shape[0]\n",
    "    \n",
    "    grid = np.zeros((side_size, side_size))\n",
    "    for x in range(side_size):\n",
    "        for y in range(side_size):\n",
    "            grid[x, y] = np.linalg.norm(sr_matrix[x, y] - starting_sr, 2)\n",
    "    return grid\n",
    "\n",
    "\n",
    "def visualize_dsr(sr_source, starting_pos=(1, 8), direction=-1, action=-1, normalize=True):\n",
    "    if isinstance(sr_source, str):\n",
    "        if 'pt' in sr_source:\n",
    "            sr = torch.load(sr_source)\n",
    "            sr = sr.detach().numpy()\n",
    "        else:\n",
    "            sr = np.load(sr_source)\n",
    "    else:\n",
    "        sr = sr_source\n",
    "\n",
    "    if direction == -1:\n",
    "        sr_matrix = sr.mean(axis=2)\n",
    "        \n",
    "    else:\n",
    "        sr_matrix = sr[:, :, direction]\n",
    "\n",
    "    if action == -1:\n",
    "        sr_matrix = sr_matrix.mean(axis=2)\n",
    "    else:\n",
    "        sr_matrix = sr_matrix[:, :, action]\n",
    "    \n",
    "    side_size = sr_matrix.shape[0]\n",
    "    \n",
    "    if normalize:\n",
    "        sr_matrix = sr_matrix.reshape(side_size ** 2, -1)\n",
    "        sr_matrix = (sr_matrix - np.nanmean(sr_matrix, axis=0)) / np.nanstd(sr_matrix, axis=0)\n",
    "        sr_matrix = sr_matrix.reshape(side_size, side_size, -1)\n",
    "#         sr_matrix = sr_matrix / np.linalg.norm(sr_matrix, axis=2).reshape(side_size, side_size, -1)\n",
    "    grid = generate_dsr_grid(sr_matrix, starting_pos)\n",
    "    return sr_matrix, grid\n"
   ]
  },
  {
   "cell_type": "code",
   "execution_count": null,
   "metadata": {},
   "outputs": [],
   "source": [
    "dsr, dsr_heatmap = visualize_dsr('../experiments/successor-data/20200411-run0-100k.pt', (14, 4), -1, -1, True)\n",
    "figure = plt.figure(figsize=(10, 10))\n",
    "plt.imshow(dsr_heatmap.T)\n",
    "plt.colorbar()"
   ]
  },
  {
   "cell_type": "markdown",
   "metadata": {},
   "source": [
    "### Subgoal Q-Values"
   ]
  },
  {
   "cell_type": "code",
   "execution_count": null,
   "metadata": {},
   "outputs": [],
   "source": [
    "from sklearn_extra.cluster import KMedoids"
   ]
  },
  {
   "cell_type": "code",
   "execution_count": null,
   "metadata": {},
   "outputs": [],
   "source": [
    "config_file = '../data/local/20200411/multiroom/run_0/params.json'\n",
    "with open(config_file, 'r') as f:\n",
    "    config = json.load(f)"
   ]
  },
  {
   "cell_type": "code",
   "execution_count": null,
   "metadata": {},
   "outputs": [],
   "source": [
    "mode = config['mode']\n",
    "seed = config['seed']\n",
    "set_seed(seed)\n",
    "\n",
    "device = torch.device('cuda', index=0)"
   ]
  },
  {
   "cell_type": "code",
   "execution_count": null,
   "metadata": {},
   "outputs": [],
   "source": [
    "checkpoint = '../data/local/20200411/multiroom/run_0/itr_99999.pkl'"
   ]
  },
  {
   "cell_type": "code",
   "execution_count": null,
   "metadata": {},
   "outputs": [],
   "source": [
    "params = torch.load(checkpoint, map_location=device)"
   ]
  },
  {
   "cell_type": "code",
   "execution_count": null,
   "metadata": {},
   "outputs": [],
   "source": [
    "ENV_ID = 'MiniGrid-FourRooms-v0'\n",
    "env = gym_make(id=ENV_ID, mode=mode, minigrid_config=config['env'])\n",
    "obs = env.reset()"
   ]
  },
  {
   "cell_type": "code",
   "execution_count": null,
   "metadata": {},
   "outputs": [],
   "source": [
    "feature_model = IDFModel(env.observation_space.shape, env.action_space.n, **config['agent']['idf_model_kwargs'])\n",
    "feature_model.load_state_dict(params['agent_state_dict']['idf_model'])\n",
    "feature_model.to(device)"
   ]
  },
  {
   "cell_type": "code",
   "execution_count": null,
   "metadata": {},
   "outputs": [],
   "source": [
    "dsr = torch.load('../experiments/successor-data/20200411-run0-100k.pt').detach().numpy()\n",
    "action_dsr = dsr.mean(axis=2)  # normalize direction dimension\n",
    "normed_dsr = action_dsr / np.linalg.norm(action_dsr, ord=2, axis=3, keepdims=True)"
   ]
  },
  {
   "cell_type": "markdown",
   "metadata": {},
   "source": [
    "### Find Landmarks"
   ]
  },
  {
   "cell_type": "code",
   "execution_count": null,
   "metadata": {},
   "outputs": [],
   "source": [
    "state_dsr = action_dsr.mean(axis=2)"
   ]
  },
  {
   "cell_type": "code",
   "execution_count": null,
   "metadata": {},
   "outputs": [],
   "source": [
    "raw_s_features = state_dsr.reshape(25 * 25, 64)"
   ]
  },
  {
   "cell_type": "code",
   "execution_count": null,
   "metadata": {},
   "outputs": [],
   "source": [
    "walls = np.isnan(raw_s_features).any(axis=1)\n",
    "s_features = raw_s_features[~walls]"
   ]
  },
  {
   "cell_type": "code",
   "execution_count": null,
   "metadata": {},
   "outputs": [],
   "source": [
    "indices = np.array(list(itertools.product(range(25), range(25))))"
   ]
  },
  {
   "cell_type": "code",
   "execution_count": null,
   "metadata": {},
   "outputs": [],
   "source": [
    "kmedoids = KMedoids(n_clusters=8, random_state=seed).fit(s_features)\n",
    "landmarks = kmedoids.medoid_indices_\n",
    "landmark_states = indices[~walls][landmarks]\n",
    "landmark_states"
   ]
  },
  {
   "cell_type": "code",
   "execution_count": null,
   "metadata": {},
   "outputs": [],
   "source": [
    "landmark_map = walls.astype(int).reshape(25, 25)\n",
    "landmark_map[landmark_states[:, 0], landmark_states[:, 1]] = 2"
   ]
  },
  {
   "cell_type": "code",
   "execution_count": null,
   "metadata": {},
   "outputs": [],
   "source": [
    "figure = plt.figure(figsize=(10, 10))\n",
    "plt.imshow(landmark_map.T)"
   ]
  },
  {
   "cell_type": "markdown",
   "metadata": {},
   "source": [
    "### Subgoal Policy"
   ]
  },
  {
   "cell_type": "code",
   "execution_count": null,
   "metadata": {},
   "outputs": [],
   "source": [
    "subgoal = (14, 4)"
   ]
  },
  {
   "cell_type": "code",
   "execution_count": null,
   "metadata": {},
   "outputs": [],
   "source": [
    "env.unwrapped.agent_pos = np.array(subgoal)\n",
    "\n",
    "obs, _, _, _ = env.env.env.step(5)\n",
    "obs = torch.Tensor(obs).unsqueeze(0)\n",
    "features = feature_model(obs.to(device), mode='encode')\n",
    "features = features.squeeze().detach().cpu().numpy()\n",
    "normed_features = features / np.linalg.norm(features, ord=2)\n",
    "\n",
    "\n",
    "\n",
    "q_values = np.dot(normed_dsr, normed_features)"
   ]
  },
  {
   "cell_type": "code",
   "execution_count": null,
   "metadata": {},
   "outputs": [],
   "source": [
    "figure = plt.figure(figsize=(10, 10))\n",
    "plt.imshow(q_values.max(axis=2).T)\n",
    "for x in range(q_values.shape[0]):\n",
    "    plt.axvline(x + 0.5, color='k', linestyle=':')\n",
    "    for y in range(q_values.shape[1]):\n",
    "        plt.axhline(y + 0.5, color='k', linestyle=':')\n",
    "        \n",
    "        if (x, y) == subgoal:\n",
    "            circle = plt.Circle((x, y), 0.2, color='k')\n",
    "            plt.gca().add_artist(circle)\n",
    "        \n",
    "        else:\n",
    "            if any(np.isnan(q_values[x, y])):\n",
    "                continue\n",
    "\n",
    "            action = q_values[x, y].argmax()\n",
    "            dx = 0\n",
    "            dy = 0\n",
    "            if action == 0:\n",
    "                dx = 0.35\n",
    "            elif action == 1:\n",
    "                dy = 0.35\n",
    "            elif action == 2:\n",
    "                dx = -0.35\n",
    "            else:\n",
    "                dy = -0.35\n",
    "\n",
    "            plt.arrow(x - dx, y - dy, dx, dy, head_width=0.3, head_length=0.3, fc='k', ec='k')\n",
    "    \n",
    "plt.colorbar()"
   ]
  },
  {
   "cell_type": "markdown",
   "metadata": {},
   "source": [
    "### T-SNE Plots"
   ]
  },
  {
   "cell_type": "code",
   "execution_count": null,
   "metadata": {},
   "outputs": [],
   "source": [
    "import itertools\n",
    "from sklearn.manifold import TSNE"
   ]
  },
  {
   "cell_type": "code",
   "execution_count": null,
   "metadata": {},
   "outputs": [],
   "source": [
    "dsr = torch.load('../experiments/successor-data/20200411-run0-100k.pt').detach().numpy()"
   ]
  },
  {
   "cell_type": "code",
   "execution_count": null,
   "metadata": {},
   "outputs": [],
   "source": [
    "raw_sf = dsr.mean(axis=(2, 3))"
   ]
  },
  {
   "cell_type": "code",
   "execution_count": null,
   "metadata": {},
   "outputs": [],
   "source": [
    "s_features = raw_sf.reshape(25 * 25, 64)\n",
    "walls = np.isnan(s_features).any(axis=1)\n",
    "s_features = s_features[~walls]"
   ]
  },
  {
   "cell_type": "code",
   "execution_count": null,
   "metadata": {},
   "outputs": [],
   "source": [
    "sf_embedded = TSNE(n_components=2).fit_transform(s_features)"
   ]
  },
  {
   "cell_type": "code",
   "execution_count": null,
   "metadata": {},
   "outputs": [],
   "source": [
    "rooms = np.zeros((25, 25))"
   ]
  },
  {
   "cell_type": "code",
   "execution_count": null,
   "metadata": {},
   "outputs": [],
   "source": [
    "for i, room in enumerate(env.rooms, 1):\n",
    "    start_x, start_y = room.top\n",
    "    size_x, size_y = room.size\n",
    "    for x in range(start_x + 1, start_x + size_x - 1):\n",
    "        for y in range(start_y + 1, start_y + size_y - 1):\n",
    "            rooms[x, y] = i"
   ]
  },
  {
   "cell_type": "code",
   "execution_count": null,
   "metadata": {},
   "outputs": [],
   "source": [
    "rooms = rooms.reshape(25 * 25)[~walls]"
   ]
  },
  {
   "cell_type": "code",
   "execution_count": null,
   "metadata": {},
   "outputs": [],
   "source": [
    "figure = plt.figure(figsize=(10, 10))\n",
    "data = sf_embedded[rooms == 0]\n",
    "plt.scatter(data[:, 0], data[:, 1], label='Doorway', marker='*')\n",
    "for i in range(1, len(env.rooms) + 1):\n",
    "    data = sf_embedded[rooms == i]\n",
    "    plt.scatter(data[:, 0], data[:, 1], label='Room ' + str(i))\n",
    "plt.legend()"
   ]
  },
  {
   "cell_type": "code",
   "execution_count": null,
   "metadata": {},
   "outputs": [],
   "source": []
  }
 ],
 "metadata": {
  "kernelspec": {
   "display_name": "Python 3",
   "language": "python",
   "name": "python3"
  },
  "language_info": {
   "codemirror_mode": {
    "name": "ipython",
    "version": 3
   },
   "file_extension": ".py",
   "mimetype": "text/x-python",
   "name": "python",
   "nbconvert_exporter": "python",
   "pygments_lexer": "ipython3",
   "version": "3.7.6"
  }
 },
 "nbformat": 4,
 "nbformat_minor": 2
}

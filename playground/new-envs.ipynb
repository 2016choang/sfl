{
 "cells": [
  {
   "cell_type": "code",
   "execution_count": 2,
   "metadata": {},
   "outputs": [],
   "source": [
    "from collections import defaultdict\n",
    "import copy\n",
    "import json\n",
    "import pickle\n",
    "\n",
    "import gym\n",
    "from gym_minigrid.minigrid import *\n",
    "from gym_minigrid.wrappers import *\n",
    "import matplotlib.pylab as plt\n",
    "import networkx as nx\n",
    "import numpy as np\n",
    "from PIL import Image\n",
    "import pytorch_ssim\n",
    "from scipy.special import softmax\n",
    "import seaborn as sns\n",
    "import sklearn\n",
    "from skimage.transform import resize, rescale, downscale_local_mean\n",
    "from skimage.util import img_as_ubyte\n",
    "from sklearn.decomposition import PCA\n",
    "from sklearn.manifold import TSNE\n",
    "import torch\n",
    "import torch.nn as nn\n",
    "import vizdoom as vzd\n",
    "import vizdoomgym\n",
    "\n",
    "\n",
    "from rlpyt.models.dqn.dsr.idf_model import IDFModel\n",
    "from rlpyt.envs.gym import *\n",
    "from rlpyt.envs.gym import make as gym_make\n",
    "from rlpyt.utils.seed import set_seed\n",
    "from gym_minigrid.envs.multiroom import MultiRoomEnv"
   ]
  },
  {
   "cell_type": "code",
   "execution_count": 10,
   "metadata": {},
   "outputs": [
    {
     "name": "stdout",
     "output_type": "stream",
     "text": [
      "1 A\n",
      "2 B\n"
     ]
    }
   ],
   "source": [
    "for i, j in [(1, 'A'), (2, 'B')]:\n",
    "    print(i, j)"
   ]
  },
  {
   "cell_type": "markdown",
   "metadata": {},
   "source": [
    "### Landmarks Exploration"
   ]
  },
  {
   "cell_type": "code",
   "execution_count": 43,
   "metadata": {},
   "outputs": [
    {
     "name": "stdout",
     "output_type": "stream",
     "text": [
      "\u001b[32musing seed 333\u001b[0m\n"
     ]
    }
   ],
   "source": [
    "with open('../experiments/configs/tcf-doors-start.json') as f:\n",
    "    config = json.load(f)\n",
    "\n",
    "mode = config['mode']\n",
    "minigrid_config = config['env']\n",
    "env_id=None\n",
    "set_seed(config['seed'])\n",
    "\n",
    "env = gym_make(id=env_id, mode=mode, minigrid_config=minigrid_config)"
   ]
  },
  {
   "cell_type": "code",
   "execution_count": 44,
   "metadata": {},
   "outputs": [],
   "source": [
    "start_obs = env.reset()"
   ]
  },
  {
   "cell_type": "code",
   "execution_count": 45,
   "metadata": {},
   "outputs": [
    {
     "data": {
      "text/plain": [
       "(25, 25, 3)"
      ]
     },
     "execution_count": 45,
     "metadata": {},
     "output_type": "execute_result"
    }
   ],
   "source": [
    "start_obs.shape"
   ]
  },
  {
   "cell_type": "code",
   "execution_count": 46,
   "metadata": {},
   "outputs": [
    {
     "data": {
      "text/plain": [
       "<matplotlib.image.AxesImage at 0x7fbb119bc8d0>"
      ]
     },
     "execution_count": 46,
     "metadata": {},
     "output_type": "execute_result"
    },
    {
     "data": {
      "image/png": "[encoded data removed]",
      "text/plain": [
       "<Figure size 432x288 with 1 Axes>"
      ]
     },
     "metadata": {
      "needs_background": "light"
     },
     "output_type": "display_data"
    }
   ],
   "source": [
    "plt.imshow(env.render(8))"
   ]
  },
  {
   "cell_type": "code",
   "execution_count": 47,
   "metadata": {},
   "outputs": [],
   "source": [
    "start_obs[start_obs == 10] = 1"
   ]
  },
  {
   "cell_type": "code",
   "execution_count": 48,
   "metadata": {},
   "outputs": [],
   "source": [
    "grid, _ = Grid.decode(start_obs)"
   ]
  },
  {
   "cell_type": "code",
   "execution_count": 49,
   "metadata": {},
   "outputs": [],
   "source": [
    "img = grid.render(8, agent_pos=env.agent_pos, agent_dir=env.agent_dir)"
   ]
  },
  {
   "cell_type": "code",
   "execution_count": 50,
   "metadata": {},
   "outputs": [
    {
     "data": {
      "text/plain": [
       "<matplotlib.image.AxesImage at 0x7fbb11265810>"
      ]
     },
     "execution_count": 50,
     "metadata": {},
     "output_type": "execute_result"
    },
    {
     "data": {
      "image/png": "[encoded data removed]",
      "text/plain": [
       "<Figure size 432x288 with 1 Axes>"
      ]
     },
     "metadata": {
      "needs_background": "light"
     },
     "output_type": "display_data"
    }
   ],
   "source": [
    "plt.imshow(img)"
   ]
  },
  {
   "cell_type": "code",
   "execution_count": 3,
   "metadata": {},
   "outputs": [],
   "source": [
    "landmarks = np.load('../data/local/20200625/multiroom/run_19/landmarks_itr_269999.npz')"
   ]
  },
  {
   "cell_type": "code",
   "execution_count": 6,
   "metadata": {},
   "outputs": [
    {
     "data": {
      "text/plain": [
       "array([[0., 0., 0., 0., 0., 0., 0.],\n",
       "       [0., 0., 0., 0., 0., 0., 0.],\n",
       "       [0., 0., 0., 0., 0., 0., 0.],\n",
       "       [0., 0., 0., 0., 0., 0., 0.],\n",
       "       [0., 0., 0., 0., 0., 0., 0.],\n",
       "       [0., 0., 0., 0., 0., 0., 0.],\n",
       "       [0., 0., 0., 0., 0., 0., 0.]])"
      ]
     },
     "execution_count": 6,
     "metadata": {},
     "output_type": "execute_result"
    }
   ],
   "source": [
    "landmarks['attempts']"
   ]
  },
  {
   "cell_type": "code",
   "execution_count": 54,
   "metadata": {},
   "outputs": [],
   "source": [
    "landmark_idx = 1"
   ]
  },
  {
   "cell_type": "code",
   "execution_count": 55,
   "metadata": {},
   "outputs": [],
   "source": [
    "obs = landmarks['observations'][landmark_idx]\n",
    "obs = obs.astype('uint8')\n",
    "pos = landmarks['positions'][landmark_idx]"
   ]
  },
  {
   "cell_type": "code",
   "execution_count": 57,
   "metadata": {},
   "outputs": [
    {
     "data": {
      "text/plain": [
       "array([4, 4, 0], dtype=uint8)"
      ]
     },
     "execution_count": 57,
     "metadata": {},
     "output_type": "execute_result"
    }
   ],
   "source": [
    "obs[pos[0], pos[1] + 1]"
   ]
  },
  {
   "cell_type": "code",
   "execution_count": 167,
   "metadata": {},
   "outputs": [],
   "source": [
    "obs[obs == 10] = 1"
   ]
  },
  {
   "cell_type": "code",
   "execution_count": 168,
   "metadata": {},
   "outputs": [],
   "source": [
    "grid, _ = Grid.decode(obs)"
   ]
  },
  {
   "cell_type": "code",
   "execution_count": 169,
   "metadata": {},
   "outputs": [],
   "source": [
    "grid.get(pos[0], pos[1])"
   ]
  },
  {
   "cell_type": "code",
   "execution_count": 170,
   "metadata": {},
   "outputs": [],
   "source": [
    "img = grid.render(8, agent_pos=tuple(pos), agent_dir=3)"
   ]
  },
  {
   "cell_type": "code",
   "execution_count": 171,
   "metadata": {},
   "outputs": [
    {
     "data": {
      "text/plain": [
       "<matplotlib.image.AxesImage at 0x7f402f29fe90>"
      ]
     },
     "execution_count": 171,
     "metadata": {},
     "output_type": "execute_result"
    },
    {
     "data": {
      "image/png": "[encoded data removed]",
      "text/plain": [
       "<Figure size 432x288 with 1 Axes>"
      ]
     },
     "metadata": {
      "needs_background": "light"
     },
     "output_type": "display_data"
    }
   ],
   "source": [
    "plt.imshow(img)"
   ]
  },
  {
   "cell_type": "code",
   "execution_count": 59,
   "metadata": {},
   "outputs": [],
   "source": [
    "dsr = torch.load('../data/local/20200622/multiroom/run_9/dsr_itr_769999.pt')"
   ]
  },
  {
   "cell_type": "code",
   "execution_count": 60,
   "metadata": {},
   "outputs": [],
   "source": [
    "def get_q_values(dsr, subgoal=(9, 9), mean_axes=(2, )):\n",
    "    dsr = dsr.detach().numpy()\n",
    "    dsr_matrix = dsr.mean(axis=mean_axes)\n",
    "    dsr_matrix = dsr_matrix / np.linalg.norm(dsr_matrix, ord=2, axis=3, keepdims=True)\n",
    "    subgoal_dsr = dsr_matrix[subgoal].mean(axis=0)\n",
    "    q_values = np.dot(dsr_matrix, subgoal_dsr)\n",
    "    return q_values"
   ]
  },
  {
   "cell_type": "code",
   "execution_count": 77,
   "metadata": {},
   "outputs": [],
   "source": [
    "pos = landmarks['positions'][0]\n",
    "subgoal = tuple(pos)"
   ]
  },
  {
   "cell_type": "code",
   "execution_count": 78,
   "metadata": {},
   "outputs": [
    {
     "data": {
      "text/plain": [
       "<matplotlib.colorbar.Colorbar at 0x7fbac5a61b90>"
      ]
     },
     "execution_count": 78,
     "metadata": {},
     "output_type": "execute_result"
    },
    {
     "data": {
      "image/png": "[encoded data removed]",
      "text/plain": [
       "<Figure size 504x504 with 2 Axes>"
      ]
     },
     "metadata": {
      "needs_background": "light"
     },
     "output_type": "display_data"
    }
   ],
   "source": [
    "figure = plt.figure(figsize=(7, 7))\n",
    "q_values = get_q_values(dsr, subgoal=subgoal)\n",
    "plt.imshow(q_values.max(axis=2).T)\n",
    "for x in range(q_values.shape[0]):\n",
    "    plt.axvline(x + 0.5, color='k', linestyle=':')\n",
    "    for y in range(q_values.shape[1]):\n",
    "        plt.axhline(y + 0.5, color='k', linestyle=':')\n",
    "\n",
    "        if (x, y) == subgoal:\n",
    "            circle = plt.Circle((x, y), 0.2, color='r')\n",
    "            plt.gca().add_artist(circle)\n",
    "\n",
    "        else:\n",
    "            if any(np.isnan(q_values[x, y])):\n",
    "                continue\n",
    "\n",
    "            action = q_values[x, y].argmax()\n",
    "            dx = 0\n",
    "            dy = 0\n",
    "            if action == 0:\n",
    "                dx = 0.35\n",
    "            elif action == 1:\n",
    "                dy = 0.35\n",
    "            elif action == 2:\n",
    "                dx = -0.35\n",
    "            elif action == 3:\n",
    "                dy = -0.35\n",
    "            else:\n",
    "                pass\n",
    "            \n",
    "            if dx == 0 and dy == 0:\n",
    "                circle = plt.Circle((x, y), 0.2, color='yellow')\n",
    "                plt.gca().add_artist(circle)\n",
    "            else:\n",
    "                plt.arrow(x - dx, y - dy, dx, dy, head_width=0.3, head_length=0.3, fc='k', ec='k')\n",
    "plt.colorbar()"
   ]
  },
  {
   "cell_type": "code",
   "execution_count": null,
   "metadata": {},
   "outputs": [],
   "source": [
    "mode = 'fourroom'\n",
    "minigrid_config = {'start_pos': [1, 11],\n",
    "          'goal_pos': [11, 1],\n",
    "          'max_steps': 100}"
   ]
  },
  {
   "cell_type": "code",
   "execution_count": null,
   "metadata": {},
   "outputs": [],
   "source": [
    "max_steps = minigrid_config.get('max_steps', 500)\n",
    "seed = minigrid_config.get('seed', 0)\n",
    "start_pos = minigrid_config.get('start_pos', None)\n",
    "goal_pos = minigrid_config.get('goal_pos', None)"
   ]
  },
  {
   "cell_type": "code",
   "execution_count": null,
   "metadata": {},
   "outputs": [],
   "source": [
    "env = FourRooms(start_pos=start_pos, goal_pos=goal_pos, max_steps=max_steps)\n",
    "env = FourRoomsWrapper(FullyObsWrapper(ReseedWrapper(env, seeds=[seed])))"
   ]
  },
  {
   "cell_type": "code",
   "execution_count": null,
   "metadata": {},
   "outputs": [],
   "source": [
    "env = GymEnvWrapper(env)"
   ]
  },
  {
   "cell_type": "code",
   "execution_count": null,
   "metadata": {},
   "outputs": [],
   "source": [
    "env.goal_pos"
   ]
  },
  {
   "cell_type": "code",
   "execution_count": null,
   "metadata": {},
   "outputs": [],
   "source": [
    "plt.imshow(env.get_goal_state())"
   ]
  },
  {
   "cell_type": "code",
   "execution_count": null,
   "metadata": {},
   "outputs": [],
   "source": [
    "env.unwrapped.agent_pos = [11, 1]"
   ]
  },
  {
   "cell_type": "code",
   "execution_count": null,
   "metadata": {},
   "outputs": [],
   "source": [
    "env.get_current_state()"
   ]
  },
  {
   "cell_type": "code",
   "execution_count": null,
   "metadata": {},
   "outputs": [],
   "source": [
    "plt.imshow(env.observation(env.env.gen_obs()).T)"
   ]
  },
  {
   "cell_type": "code",
   "execution_count": null,
   "metadata": {},
   "outputs": [],
   "source": [
    "env = gym_make(mode=mode, minigrid_config=config)"
   ]
  },
  {
   "cell_type": "code",
   "execution_count": null,
   "metadata": {},
   "outputs": [],
   "source": [
    "plt.imshow(env.reset()[:, :, 0])"
   ]
  },
  {
   "cell_type": "code",
   "execution_count": null,
   "metadata": {},
   "outputs": [],
   "source": [
    "for i in range(100):\n",
    "    print(env.steps_remaining)\n",
    "    _, _, done, _ = env.step(0)\n",
    "    print(done)\n",
    "    "
   ]
  },
  {
   "cell_type": "code",
   "execution_count": null,
   "metadata": {},
   "outputs": [],
   "source": [
    "env = FullyObsWrapper(ImgObsWrapper(FourRoomsEnv([1, 11], [11, 1])))\n",
    "obs = env.reset()"
   ]
  },
  {
   "cell_type": "code",
   "execution_count": null,
   "metadata": {},
   "outputs": [],
   "source": [
    "plt.imshow(obs['image'][:, :, 0].T)"
   ]
  },
  {
   "cell_type": "code",
   "execution_count": null,
   "metadata": {},
   "outputs": [],
   "source": [
    "env = RGBImgObsWrapper(FourRoomsEnv([1, 11], [11, 1]))"
   ]
  },
  {
   "cell_type": "code",
   "execution_count": null,
   "metadata": {},
   "outputs": [],
   "source": [
    "plt.imshow(env.reset()['image'])"
   ]
  },
  {
   "cell_type": "code",
   "execution_count": null,
   "metadata": {},
   "outputs": [],
   "source": [
    "from rlpyt.envs.mdp_wrapper import GridWorld"
   ]
  },
  {
   "cell_type": "code",
   "execution_count": null,
   "metadata": {},
   "outputs": [],
   "source": [
    "env = GridWorld([(11, 7)], '../rlpyt/envs/mdps/4rooms.mdp')"
   ]
  },
  {
   "cell_type": "code",
   "execution_count": null,
   "metadata": {},
   "outputs": [],
   "source": [
    "plt.imshow(env.reset().squeeze())"
   ]
  },
  {
   "cell_type": "code",
   "execution_count": null,
   "metadata": {},
   "outputs": [],
   "source": [
    "class A:\n",
    "    s = 128"
   ]
  },
  {
   "cell_type": "code",
   "execution_count": null,
   "metadata": {},
   "outputs": [],
   "source": [
    "testObj = A()\n",
    "testObj.s"
   ]
  },
  {
   "cell_type": "code",
   "execution_count": null,
   "metadata": {},
   "outputs": [],
   "source": [
    "for i, test in enumerate(testObj.s):\n",
    "    print(i, test)"
   ]
  },
  {
   "cell_type": "code",
   "execution_count": null,
   "metadata": {},
   "outputs": [],
   "source": [
    "env = RGBImgObsWrapper(gym.make(id='MiniGrid-MultiRoom-N4-S5-v0'))"
   ]
  },
  {
   "cell_type": "code",
   "execution_count": null,
   "metadata": {},
   "outputs": [],
   "source": [
    "plt.imshow(env.reset()['image'])"
   ]
  },
  {
   "cell_type": "markdown",
   "metadata": {},
   "source": [
    "### VizDoom Testing"
   ]
  },
  {
   "cell_type": "code",
   "execution_count": null,
   "metadata": {},
   "outputs": [],
   "source": [
    "# Create DoomGame instance. It will run the game and communicate with you.\n",
    "game = vzd.DoomGame()\n",
    "\n",
    "# Now it's time for configuration!\n",
    "# load_config could be used to load configuration instead of doing it here with code.\n",
    "# If load_config is used in-code configuration will also work - most recent changes will add to previous ones.\n",
    "# game.load_config(\"../../scenarios/basic.cfg\")\n",
    "\n",
    "# Sets path to additional resources wad file which is basically your scenario wad.\n",
    "# If not specified default maps will be used and it's pretty much useless... unless you want to play good old Doom.\n",
    "game.set_doom_scenario_path(\"/home/choang/research/vizdoomgym/vizdoomgym/envs/scenarios/my_way_home.wad\")\n",
    "\n",
    "# Sets map to start (scenario .wad files can contain many maps).\n",
    "game.set_doom_map(\"map01\")\n",
    "\n",
    "# Sets resolution. Default is 320X240\n",
    "game.set_screen_resolution(vzd.ScreenResolution.RES_640X480)\n",
    "\n",
    "# Sets the screen buffer format. Not used here but now you can change it. Default is CRCGCB.\n",
    "game.set_screen_format(vzd.ScreenFormat.RGB24)\n",
    "\n",
    "# Enables depth buffer.\n",
    "game.set_depth_buffer_enabled(True)\n",
    "\n",
    "# Enables labeling of in game objects labeling.\n",
    "game.set_labels_buffer_enabled(True)\n",
    "\n",
    "# Enables buffer with top down map of the current episode/level.\n",
    "game.set_automap_buffer_enabled(True)\n",
    "game.set_automap_mode(vzd.AutomapMode.OBJECTS)\n",
    "game.set_automap_rotate(False)\n",
    "\n",
    "# Sets other rendering options (all of these options except crosshair are enabled (set to True) by default)\n",
    "game.set_render_hud(False)\n",
    "game.set_render_minimal_hud(False)  # If hud is enabled\n",
    "game.set_render_crosshair(False)\n",
    "game.set_render_weapon(True)\n",
    "game.set_render_decals(False)  # Bullet holes and blood on the walls\n",
    "game.set_render_particles(False)\n",
    "game.set_render_effects_sprites(False)  # Smoke and blood\n",
    "game.set_render_messages(False)  # In-game messages\n",
    "game.set_render_corpses(False)\n",
    "game.set_render_screen_flashes(True)  # Effect upon taking damage or picking up items\n",
    "\n",
    "# Adds buttons that will be allowed.\n",
    "game.add_available_button(vzd.Button.MOVE_LEFT)\n",
    "game.add_available_button(vzd.Button.MOVE_RIGHT)\n",
    "game.add_available_button(vzd.Button.ATTACK)\n",
    "\n",
    "# Adds game variables that will be included in state.\n",
    "game.clear_available_game_variables()\n",
    "game.add_available_game_variable(vzd.GameVariable.POSITION_X)\n",
    "game.add_available_game_variable(vzd.GameVariable.POSITION_Y)\n",
    "game.add_available_game_variable(vzd.GameVariable.POSITION_Z)\n",
    "\n",
    "# Enables information about all objects present in the current episode/level.\n",
    "game.set_objects_info_enabled(True)\n",
    "\n",
    "# Enables information about all sectors (map layout).\n",
    "game.set_sectors_info_enabled(True)\n",
    "\n",
    "# Causes episodes to finish after 200 tics (actions)\n",
    "game.set_episode_timeout(200)\n",
    "\n",
    "# Makes episodes start after 10 tics (~after raising the weapon)\n",
    "game.set_episode_start_time(10)\n",
    "\n",
    "# Makes the window appear (turned on by default)\n",
    "game.set_window_visible(True)\n",
    "\n",
    "# Turns on the sound. (turned off by default)\n",
    "game.set_sound_enabled(True)\n",
    "\n",
    "# Sets the livin reward (for each move) to -1\n",
    "game.set_living_reward(-1)\n",
    "\n",
    "# Sets ViZDoom mode (PLAYER, ASYNC_PLAYER, SPECTATOR, ASYNC_SPECTATOR, PLAYER mode is default)\n",
    "game.set_mode(vzd.Mode.PLAYER)\n",
    "\n",
    "# Enables engine output to console.\n",
    "#game.set_console_enabled(True)\n",
    "# Initialize the game. Further configuration won't take any effect from now on.\n",
    "game.init()\n"
   ]
  },
  {
   "cell_type": "code",
   "execution_count": null,
   "metadata": {},
   "outputs": [],
   "source": [
    "game.new_episode()\n",
    "state = game.get_state()"
   ]
  },
  {
   "cell_type": "code",
   "execution_count": null,
   "metadata": {},
   "outputs": [],
   "source": [
    "state.game_variables"
   ]
  },
  {
   "cell_type": "code",
   "execution_count": null,
   "metadata": {},
   "outputs": [],
   "source": [
    "plt.imshow(state.screen_buffer)"
   ]
  },
  {
   "cell_type": "code",
   "execution_count": null,
   "metadata": {},
   "outputs": [],
   "source": [
    "plt.imshow(state.automap_buffer)"
   ]
  },
  {
   "cell_type": "code",
   "execution_count": null,
   "metadata": {},
   "outputs": [],
   "source": [
    "print(\"State #\" + str(state.number))\n",
    "print(\"Player position: x:\", state.game_variables[0], \", y:\", state.game_variables[1], \", z:\", state.game_variables[2])\n",
    "print(\"Objects:\")\n",
    "\n",
    "# Print information about objects present in the episode.\n",
    "for o in state.objects:\n",
    "    print(\"Object id:\", o.id, \"object name:\", o.name)\n",
    "    print(\"Object position: x:\", o.position_x, \", y:\", o.position_y, \", z:\", o.position_z)\n",
    "\n",
    "    # Other available fields:\n",
    "    #print(\"Object rotation angle\", o.angle, \"pitch:\", o.pitch, \"roll:\", o.roll)\n",
    "    #print(\"Object velocity x:\", o.velocity_x, \"y:\", o.velocity_y, \"z:\", o.velocity_z)\n",
    "\n",
    "    # Plot object on map\n",
    "    if o.name == \"DoomPlayer\":\n",
    "        plt.plot(o.position_x, o.position_y, color='green', marker='o')\n",
    "    else:\n",
    "        plt.plot(o.position_x, o.position_y, color='red', marker='o')\n",
    "\n",
    "print(\"=====================\")\n",
    "\n",
    "print(\"Sectors:\")\n",
    "\n",
    "# Print information about sectors.\n",
    "for s in state.sectors:\n",
    "    print(\"Sector floor height:\", s.floor_height, \", ceiling height:\", s.ceiling_height)\n",
    "    print(\"Sector lines:\", [(l.x1, l.y1, l.x2, l.y2, l.is_blocking) for l in s.lines])\n",
    "\n",
    "    # Plot sector on map\n",
    "    for l in s.lines:\n",
    "        if l.is_blocking:\n",
    "            plt.plot([l.x1, l.x2], [l.y1, l.y2], color='black', linewidth=2)\n",
    "\n",
    "# Show map\n",
    "plt.show()"
   ]
  },
  {
   "cell_type": "code",
   "execution_count": null,
   "metadata": {},
   "outputs": [],
   "source": [
    "env = gym.make('VizdoomMyWayHome-v0', labels=True, position=True)\n",
    "\n",
    "# use like a normal Gym environment\n",
    "state = env.reset()\n",
    "state, reward, done, info = env.step(env.action_space.sample())\n"
   ]
  },
  {
   "cell_type": "markdown",
   "metadata": {},
   "source": [
    "### Python Testing"
   ]
  },
  {
   "cell_type": "code",
   "execution_count": null,
   "metadata": {},
   "outputs": [],
   "source": [
    "class A:\n",
    "    def __init__(self):\n",
    "        self.item1 = 'A'\n",
    "\n",
    "class B:\n",
    "    def __init__(self):\n",
    "        self.item2 = 'B'"
   ]
  },
  {
   "cell_type": "code",
   "execution_count": null,
   "metadata": {},
   "outputs": [],
   "source": [
    "class C(A, B):\n",
    "    def __init__(self):\n",
    "        self.item = None\n",
    "        A.__init__(self)\n",
    "        B.__init__(self)\n",
    "    \n",
    "    def print_item(self):\n",
    "        print(self.item1, self.item2)"
   ]
  },
  {
   "cell_type": "code",
   "execution_count": null,
   "metadata": {},
   "outputs": [],
   "source": [
    "test = C()"
   ]
  },
  {
   "cell_type": "code",
   "execution_count": null,
   "metadata": {},
   "outputs": [],
   "source": [
    "test.print_item()"
   ]
  },
  {
   "cell_type": "markdown",
   "metadata": {},
   "source": [
    "### Torch Testing"
   ]
  },
  {
   "cell_type": "code",
   "execution_count": 50,
   "metadata": {},
   "outputs": [],
   "source": [
    "test = torch.Tensor([[1, 2, 3], [2, 3, 4], [1, 2, 3], [0, 1, 2]])"
   ]
  },
  {
   "cell_type": "code",
   "execution_count": 51,
   "metadata": {},
   "outputs": [
    {
     "data": {
      "text/plain": [
       "tensor([[1., 2., 3.],\n",
       "        [2., 3., 4.],\n",
       "        [1., 2., 3.],\n",
       "        [0., 1., 2.]])"
      ]
     },
     "execution_count": 51,
     "metadata": {},
     "output_type": "execute_result"
    }
   ],
   "source": [
    "test"
   ]
  },
  {
   "cell_type": "code",
   "execution_count": 52,
   "metadata": {},
   "outputs": [
    {
     "data": {
      "text/plain": [
       "torch.return_types.topk(\n",
       "values=tensor([[2., 3., 4.]]),\n",
       "indices=tensor([[1, 1, 1]]))"
      ]
     },
     "execution_count": 52,
     "metadata": {},
     "output_type": "execute_result"
    }
   ],
   "source": [
    "torch.topk(test, 1, dim=0)"
   ]
  },
  {
   "cell_type": "code",
   "execution_count": 65,
   "metadata": {},
   "outputs": [
    {
     "data": {
      "text/plain": [
       "tensor([[1., 2., 3.],\n",
       "        [2., 3., 4.]])"
      ]
     },
     "execution_count": 65,
     "metadata": {},
     "output_type": "execute_result"
    }
   ],
   "source": [
    "test[torch.topk(torch.sum(torch.topk(test, 2, dim=0, largest=False).values, dim=0), 2, largest=False).indices]"
   ]
  },
  {
   "cell_type": "code",
   "execution_count": null,
   "metadata": {},
   "outputs": [],
   "source": []
  },
  {
   "cell_type": "code",
   "execution_count": 47,
   "metadata": {},
   "outputs": [
    {
     "data": {
      "text/plain": [
       "tensor([[1., 2., 3.],\n",
       "        [2., 3., 4.],\n",
       "        [1., 2., 3.],\n",
       "        [0., 1., 2.]], device='cuda:0')"
      ]
     },
     "execution_count": 47,
     "metadata": {},
     "output_type": "execute_result"
    }
   ],
   "source": [
    "test.to(device = torch.device('cuda', index=0))"
   ]
  },
  {
   "cell_type": "code",
   "execution_count": null,
   "metadata": {},
   "outputs": [],
   "source": []
  },
  {
   "cell_type": "code",
   "execution_count": 48,
   "metadata": {},
   "outputs": [
    {
     "data": {
      "text/plain": [
       "array([[1., 2., 3.],\n",
       "       [2., 3., 4.],\n",
       "       [1., 2., 3.],\n",
       "       [0., 1., 2.]], dtype=float32)"
      ]
     },
     "execution_count": 48,
     "metadata": {},
     "output_type": "execute_result"
    }
   ],
   "source": [
    "test.numpy()"
   ]
  },
  {
   "cell_type": "code",
   "execution_count": 28,
   "metadata": {},
   "outputs": [],
   "source": [
    "indices = torch.unique(test, dim=0, return_inverse=True)[1]"
   ]
  },
  {
   "cell_type": "code",
   "execution_count": 49,
   "metadata": {},
   "outputs": [
    {
     "data": {
      "text/plain": [
       "array([3, 0, 1])"
      ]
     },
     "execution_count": 49,
     "metadata": {},
     "output_type": "execute_result"
    }
   ],
   "source": [
    "np.unique(test.numpy(), axis=0, return_index=True)[1]"
   ]
  },
  {
   "cell_type": "markdown",
   "metadata": {},
   "source": [
    "### Numpy Testing"
   ]
  },
  {
   "cell_type": "code",
   "execution_count": 6,
   "metadata": {},
   "outputs": [],
   "source": [
    "A = np.arange(25).reshape(5, 5)"
   ]
  },
  {
   "cell_type": "code",
   "execution_count": 11,
   "metadata": {},
   "outputs": [
    {
     "data": {
      "text/plain": [
       "array([11, 12, 13, 14])"
      ]
     },
     "execution_count": 11,
     "metadata": {},
     "output_type": "execute_result"
    }
   ],
   "source": [
    "A[(A > 10) & (A < 15)]"
   ]
  },
  {
   "cell_type": "code",
   "execution_count": null,
   "metadata": {},
   "outputs": [],
   "source": [
    "A = np.array([5, 10])\n",
    "B = np.array([5, 20])"
   ]
  },
  {
   "cell_type": "code",
   "execution_count": null,
   "metadata": {},
   "outputs": [],
   "source": [
    "A / ( A + B)"
   ]
  },
  {
   "cell_type": "code",
   "execution_count": null,
   "metadata": {},
   "outputs": [],
   "source": [
    "print(test)"
   ]
  },
  {
   "cell_type": "code",
   "execution_count": null,
   "metadata": {},
   "outputs": [],
   "source": [
    "p = np.random.rand(10)\n",
    "print(p)\n",
    "test = np.random.rand(10)\n",
    "A = np.random.randint(0, 10, 10)\n",
    "B = np.random.randint(-20, -10, 10)"
   ]
  },
  {
   "cell_type": "code",
   "execution_count": null,
   "metadata": {},
   "outputs": [],
   "source": [
    "np.where(test < p, A, B)"
   ]
  },
  {
   "cell_type": "code",
   "execution_count": null,
   "metadata": {},
   "outputs": [],
   "source": [
    "test = np.concatenate([np.arange(0, 5), np.arange(19992, 20000)])\n",
    "test"
   ]
  },
  {
   "cell_type": "code",
   "execution_count": null,
   "metadata": {},
   "outputs": [],
   "source": [
    "test = np.array([0, 0, 0, 1, 0, 0, 1, 0, 0])\n",
    "A = np.array([101, 102, 103, 104, 0, 1, 2, 3, 4, 5])\n",
    "A[np.nonzero(test)[0]]"
   ]
  },
  {
   "cell_type": "code",
   "execution_count": null,
   "metadata": {},
   "outputs": [],
   "source": [
    "np.maximum([1, 2, 3], [4, 1, 2])"
   ]
  },
  {
   "cell_type": "code",
   "execution_count": null,
   "metadata": {},
   "outputs": [],
   "source": [
    "softmax(-1 * np.array([60.123, 60.001, 180.123]))"
   ]
  },
  {
   "cell_type": "code",
   "execution_count": null,
   "metadata": {},
   "outputs": [],
   "source": [
    "test = np.random.random((5, 5))"
   ]
  },
  {
   "cell_type": "code",
   "execution_count": null,
   "metadata": {},
   "outputs": [],
   "source": [
    "non_edges = test < 0.5\n",
    "non_edges"
   ]
  },
  {
   "cell_type": "code",
   "execution_count": null,
   "metadata": {},
   "outputs": [],
   "source": [
    "np.logical_not(non_edges)"
   ]
  },
  {
   "cell_type": "code",
   "execution_count": null,
   "metadata": {},
   "outputs": [],
   "source": [
    "for index, i in np.ndenumerate(test):\n",
    "    print(index, i)"
   ]
  },
  {
   "cell_type": "code",
   "execution_count": null,
   "metadata": {},
   "outputs": [],
   "source": [
    "test = np.array([[0, 0], [0, 0]])\n",
    "test.shape"
   ]
  },
  {
   "cell_type": "code",
   "execution_count": null,
   "metadata": {},
   "outputs": [],
   "source": [
    "test = np.append(test, np.zeros((2, 1)), axis=1)\n",
    "test.shape"
   ]
  },
  {
   "cell_type": "code",
   "execution_count": null,
   "metadata": {},
   "outputs": [],
   "source": [
    "test = np.append(test, np.zeros((1, 3)), axis=0)\n",
    "test.shape"
   ]
  },
  {
   "cell_type": "code",
   "execution_count": null,
   "metadata": {},
   "outputs": [],
   "source": [
    "test[2, :] = 1\n",
    "test[:, 2] = 1"
   ]
  },
  {
   "cell_type": "code",
   "execution_count": null,
   "metadata": {},
   "outputs": [],
   "source": [
    "np.clip(test, 1, None)"
   ]
  },
  {
   "cell_type": "code",
   "execution_count": null,
   "metadata": {},
   "outputs": [],
   "source": [
    "x = np.array([5, 6, 7, 9])"
   ]
  },
  {
   "cell_type": "code",
   "execution_count": null,
   "metadata": {
    "scrolled": true
   },
   "outputs": [],
   "source": [
    "m = softmax(-1 * x)\n",
    "m"
   ]
  },
  {
   "cell_type": "code",
   "execution_count": null,
   "metadata": {},
   "outputs": [],
   "source": [
    "np.random.choice(x, p=m)"
   ]
  },
  {
   "cell_type": "markdown",
   "metadata": {},
   "source": [
    "### NetworkX Testing"
   ]
  },
  {
   "cell_type": "code",
   "execution_count": null,
   "metadata": {},
   "outputs": [],
   "source": [
    "G = nx.Graph()\n",
    "nx.add_path(G, [0, 1, 2])\n",
    "nx.add_path(G, [0, 10, 2])"
   ]
  },
  {
   "cell_type": "code",
   "execution_count": null,
   "metadata": {},
   "outputs": [],
   "source": [
    "list(nx.all_shortest_paths(G, source=0, target=2))"
   ]
  },
  {
   "cell_type": "markdown",
   "metadata": {},
   "source": [
    "### Environment Testing"
   ]
  },
  {
   "cell_type": "code",
   "execution_count": 3,
   "metadata": {},
   "outputs": [
    {
     "name": "stdout",
     "output_type": "stream",
     "text": [
      "\u001b[32musing seed 333\u001b[0m\n"
     ]
    }
   ],
   "source": [
    "with open('../experiments/configs/tcf.json') as f:\n",
    "    config = json.load(f)\n",
    "\n",
    "mode = config['mode']\n",
    "minigrid_config = config['env']\n",
    "minigrid_config['size'] = [25, 25]\n",
    "minigrid_config['encoding'] = 'obj'\n",
    "minigrid_config['num_rooms'] = 4\n",
    "minigrid_config['use_doors'] = True\n",
    "minigrid_config['tile_size'] = 8\n",
    "env_id=None\n",
    "set_seed(config['seed'])\n",
    "\n",
    "env = gym_make(id=env_id, mode=mode, minigrid_config=minigrid_config)"
   ]
  },
  {
   "cell_type": "code",
   "execution_count": 6,
   "metadata": {},
   "outputs": [
    {
     "data": {
      "text/plain": [
       "<matplotlib.image.AxesImage at 0x7f413f427d90>"
      ]
     },
     "execution_count": 6,
     "metadata": {},
     "output_type": "execute_result"
    },
    {
     "data": {
      "image/png": "[encoded data removed]",
      "text/plain": [
       "<Figure size 432x288 with 1 Axes>"
      ]
     },
     "metadata": {
      "needs_background": "light"
     },
     "output_type": "display_data"
    }
   ],
   "source": [
    "plt.imshow(env.render(8))"
   ]
  },
  {
   "cell_type": "code",
   "execution_count": 7,
   "metadata": {},
   "outputs": [
    {
     "data": {
      "text/plain": [
       "array([ 5, 16])"
      ]
     },
     "execution_count": 7,
     "metadata": {},
     "output_type": "execute_result"
    }
   ],
   "source": [
    "env.agent_pos"
   ]
  },
  {
   "cell_type": "code",
   "execution_count": 8,
   "metadata": {},
   "outputs": [
    {
     "data": {
      "text/plain": [
       "array([13,  3])"
      ]
     },
     "execution_count": 8,
     "metadata": {},
     "output_type": "execute_result"
    }
   ],
   "source": [
    "env.goal_pos"
   ]
  },
  {
   "cell_type": "code",
   "execution_count": 8,
   "metadata": {},
   "outputs": [
    {
     "ename": "TypeError",
     "evalue": "'GymSpaceWrapper' object is not subscriptable",
     "output_type": "error",
     "traceback": [
      "\u001b[0;31m---------------------------------------------------------------------------\u001b[0m",
      "\u001b[0;31mTypeError\u001b[0m                                 Traceback (most recent call last)",
      "\u001b[0;32m<ipython-input-8-27883808cce0>\u001b[0m in \u001b[0;36m<module>\u001b[0;34m\u001b[0m\n\u001b[0;32m----> 1\u001b[0;31m \u001b[0menv\u001b[0m\u001b[0;34m.\u001b[0m\u001b[0mobservation_space\u001b[0m\u001b[0;34m[\u001b[0m\u001b[0;34m'image'\u001b[0m\u001b[0;34m]\u001b[0m\u001b[0;34m\u001b[0m\u001b[0;34m\u001b[0m\u001b[0m\n\u001b[0m",
      "\u001b[0;31mTypeError\u001b[0m: 'GymSpaceWrapper' object is not subscriptable"
     ]
    }
   ],
   "source": [
    "env.observation_space['image']"
   ]
  },
  {
   "cell_type": "code",
   "execution_count": 3,
   "metadata": {},
   "outputs": [
    {
     "data": {
      "text/plain": [
       "<matplotlib.image.AxesImage at 0x7fd40eafc0d0>"
      ]
     },
     "execution_count": 3,
     "metadata": {},
     "output_type": "execute_result"
    },
    {
     "data": {
      "image/png": "[encoded data removed]",
      "text/plain": [
       "<Figure size 432x288 with 1 Axes>"
      ]
     },
     "metadata": {
      "needs_background": "light"
     },
     "output_type": "display_data"
    }
   ],
   "source": [
    "plt.imshow(env.reset())"
   ]
  },
  {
   "cell_type": "code",
   "execution_count": null,
   "metadata": {},
   "outputs": [],
   "source": [
    "env.agent_pos"
   ]
  },
  {
   "cell_type": "code",
   "execution_count": null,
   "metadata": {},
   "outputs": [],
   "source": [
    "env.goal_pos"
   ]
  },
  {
   "cell_type": "code",
   "execution_count": null,
   "metadata": {},
   "outputs": [],
   "source": [
    "test = np.arange(25).reshape(5, 5)\n",
    "test"
   ]
  },
  {
   "cell_type": "code",
   "execution_count": null,
   "metadata": {},
   "outputs": [],
   "source": [
    "test[np.array([0, 1, 3])[:, None], [0, 1, 3]]"
   ]
  },
  {
   "cell_type": "code",
   "execution_count": null,
   "metadata": {},
   "outputs": [],
   "source": [
    "test = set()"
   ]
  },
  {
   "cell_type": "code",
   "execution_count": null,
   "metadata": {},
   "outputs": [],
   "source": [
    "A = np.expand_dims(env.agent_pos, 0)"
   ]
  },
  {
   "cell_type": "code",
   "execution_count": null,
   "metadata": {},
   "outputs": [],
   "source": [
    "B = np.append(B, A, 0)"
   ]
  },
  {
   "cell_type": "code",
   "execution_count": null,
   "metadata": {},
   "outputs": [],
   "source": [
    "for t in map(tuple, B):\n",
    "    print(t)"
   ]
  },
  {
   "cell_type": "code",
   "execution_count": null,
   "metadata": {},
   "outputs": [],
   "source": [
    "B[[1, 2]]"
   ]
  },
  {
   "cell_type": "code",
   "execution_count": null,
   "metadata": {},
   "outputs": [],
   "source": [
    "obs = env.reset()"
   ]
  },
  {
   "cell_type": "code",
   "execution_count": null,
   "metadata": {},
   "outputs": [],
   "source": [
    "env.goal_pos"
   ]
  },
  {
   "cell_type": "code",
   "execution_count": null,
   "metadata": {
    "scrolled": true
   },
   "outputs": [],
   "source": [
    "plt.imshow(obs)"
   ]
  },
  {
   "cell_type": "code",
   "execution_count": null,
   "metadata": {},
   "outputs": [],
   "source": [
    "env.agent_pos"
   ]
  },
  {
   "cell_type": "code",
   "execution_count": null,
   "metadata": {},
   "outputs": [],
   "source": [
    "env.landmark_goal_pos"
   ]
  },
  {
   "cell_type": "code",
   "execution_count": null,
   "metadata": {},
   "outputs": [],
   "source": [
    "test = np.zeros((25, 25)) - 1  "
   ]
  },
  {
   "cell_type": "code",
   "execution_count": null,
   "metadata": {},
   "outputs": [],
   "source": [
    "for room in env.rooms:\n",
    "    start_x, start_y = room.top\n",
    "    size_x, size_y = room.size\n",
    "    for x in range(start_x + 1, start_x + size_x - 1):\n",
    "        for y in range(start_y + 1, start_y + size_y - 1):\n",
    "            test[(x, y)] += 1\n",
    "\n",
    "    if room.exitDoorPos is not None:\n",
    "        test[room.exitDoorPos] += 1"
   ]
  },
  {
   "cell_type": "code",
   "execution_count": null,
   "metadata": {},
   "outputs": [],
   "source": [
    "landmarks = set()"
   ]
  },
  {
   "cell_type": "code",
   "execution_count": null,
   "metadata": {},
   "outputs": [],
   "source": [
    "for room in env.rooms:\n",
    "    x = room.top[0] + (room.size[0] - 1) // 2\n",
    "    y = room.top[1] + (room.size[1] - 1) // 2\n",
    "    test[(x, y)] += 5\n",
    "    landmarks.add((x, y))\n",
    "    \n",
    "    if room.exitDoorPos is not None:\n",
    "        landmarks.add(room.exitDoorPos)\n",
    "        test[room.exitDoorPos] += 10"
   ]
  },
  {
   "cell_type": "code",
   "execution_count": null,
   "metadata": {},
   "outputs": [],
   "source": [
    "plt.imshow(test.T)\n",
    "plt.colorbar()"
   ]
  },
  {
   "cell_type": "code",
   "execution_count": null,
   "metadata": {},
   "outputs": [],
   "source": [
    "len(landmarks)"
   ]
  },
  {
   "cell_type": "code",
   "execution_count": null,
   "metadata": {},
   "outputs": [],
   "source": [
    "env.unwrapped.agent_pos = np.array([15, 18])\n",
    "plt.imshow(env.get_current_state()[0])"
   ]
  },
  {
   "cell_type": "code",
   "execution_count": null,
   "metadata": {},
   "outputs": [],
   "source": [
    "env.unwrapped.agent_pos = np.array([16, 19])"
   ]
  },
  {
   "cell_type": "code",
   "execution_count": null,
   "metadata": {},
   "outputs": [],
   "source": [
    "o, r, d, info = env.step(2)"
   ]
  },
  {
   "cell_type": "code",
   "execution_count": null,
   "metadata": {},
   "outputs": [],
   "source": [
    "plt.imshow(o)"
   ]
  },
  {
   "cell_type": "code",
   "execution_count": null,
   "metadata": {},
   "outputs": [],
   "source": [
    "true_dist = env.get_true_distances()"
   ]
  },
  {
   "cell_type": "code",
   "execution_count": null,
   "metadata": {},
   "outputs": [],
   "source": [
    "from rlpyt.agents.dqn.dsr.landmark_agent import get_true_pos"
   ]
  },
  {
   "cell_type": "code",
   "execution_count": null,
   "metadata": {},
   "outputs": [],
   "source": [
    "obs = env.reset()\n",
    "true_pos = get_true_pos(obs)\n",
    "true_pos"
   ]
  },
  {
   "cell_type": "code",
   "execution_count": null,
   "metadata": {},
   "outputs": [],
   "source": [
    "obs = env.step(3)[0]\n",
    "next_pos = get_true_pos(obs)\n",
    "next_pos"
   ]
  },
  {
   "cell_type": "code",
   "execution_count": null,
   "metadata": {},
   "outputs": [],
   "source": [
    "plt.imshow(obs)"
   ]
  },
  {
   "cell_type": "code",
   "execution_count": null,
   "metadata": {},
   "outputs": [],
   "source": [
    "obs = env.reset()\n",
    "plt.imshow(obs)\n",
    "steps = int(5e3)"
   ]
  },
  {
   "cell_type": "code",
   "execution_count": null,
   "metadata": {},
   "outputs": [],
   "source": [
    "h, w = env.grid.height, env.grid.width\n",
    "incorrect_states = []\n",
    "\n",
    "num_states = 0\n",
    "dist_matrix = np.zeros((h * w, h * w))\n",
    "valid = set()\n",
    "\n",
    "for room in env.rooms:\n",
    "    start_x, start_y = room.top\n",
    "    size_x, size_y = room.size\n",
    "    for x in range(start_x + 1, start_x + size_x - 1):\n",
    "        for y in range(start_y + 1, start_y + size_y - 1):\n",
    "            valid.add((x, y))\n",
    "    \n",
    "    if room.exitDoorPos is not None:\n",
    "        valid.add(room.exitDoorPos)"
   ]
  },
  {
   "cell_type": "code",
   "execution_count": null,
   "metadata": {},
   "outputs": [],
   "source": [
    "for pos in valid:\n",
    "    x, y = pos\n",
    "    \n",
    "    true_pos = y * h + x\n",
    "    \n",
    "    for adjacent in [[x-1, y], [x, y-1], [x+1, y], [x, y+1]]:\n",
    "        adj_x, adj_y = adjacent\n",
    "        if (adj_x, adj_y) in valid:\n",
    "            true_adj_pos = adj_y * h + adj_x\n",
    "            dist_matrix[true_pos, true_adj_pos] = 1"
   ]
  },
  {
   "cell_type": "code",
   "execution_count": null,
   "metadata": {},
   "outputs": [],
   "source": [
    "G = nx.from_numpy_array(dist_matrix)"
   ]
  },
  {
   "cell_type": "code",
   "execution_count": null,
   "metadata": {},
   "outputs": [],
   "source": [
    "lengths = nx.shortest_path_length(G)"
   ]
  },
  {
   "cell_type": "code",
   "execution_count": null,
   "metadata": {},
   "outputs": [],
   "source": [
    "true_dist = np.zeros((w, h, w, h)) - 1"
   ]
  },
  {
   "cell_type": "code",
   "execution_count": null,
   "metadata": {},
   "outputs": [],
   "source": [
    "for source, targets in lengths:\n",
    "    source_x, source_y = source % h, source // h\n",
    "    for target, dist in targets.items():\n",
    "        target_x, target_y = target % h, target // h\n",
    "        true_dist[source_x, source_y, target_x, target_y] = dist"
   ]
  },
  {
   "cell_type": "code",
   "execution_count": null,
   "metadata": {},
   "outputs": [],
   "source": [
    "true_dist[15, 19, 3, 11]"
   ]
  },
  {
   "cell_type": "code",
   "execution_count": null,
   "metadata": {
    "scrolled": false
   },
   "outputs": [],
   "source": [
    "for i in range(steps):\n",
    "    _, _, d, _ = env.step(env.action_space.sample())\n",
    "    if d:\n",
    "        print('{} steps done!'.format(i))\n",
    "        env.reset()"
   ]
  },
  {
   "cell_type": "code",
   "execution_count": null,
   "metadata": {},
   "outputs": [],
   "source": [
    "plt.imshow(env.visited.T)\n",
    "plt.colorbar()"
   ]
  },
  {
   "cell_type": "markdown",
   "metadata": {},
   "source": [
    "### Visualize Subgoal Policy"
   ]
  },
  {
   "cell_type": "code",
   "execution_count": 53,
   "metadata": {},
   "outputs": [],
   "source": [
    "def visualize_subgoal_policy(run, itr, subgoal, q_mode=None):\n",
    "    config_file = '../data/local/{}/params.json'.format(run)\n",
    "    with open(config_file, 'r') as f:\n",
    "        config = json.load(f)\n",
    "    mode = config['mode']\n",
    "    seed = config['seed']\n",
    "    config['env']['oracle'] = False\n",
    "    set_seed(seed)\n",
    "\n",
    "    device = torch.device('cuda', index=0)\n",
    "\n",
    "    ENV_ID = 'MiniGrid-FourRooms-v0'\n",
    "    env = gym_make(id=ENV_ID, mode=mode, minigrid_config=config['env'])\n",
    "    obs = env.reset()\n",
    "#     plt.imshow(obs)\n",
    "    \n",
    "    dsr = torch.load('../data/local/{}/dsr_itr_{}.pt'.format(run, itr)).detach().cpu().numpy()\n",
    "    action_dsr = dsr.mean(axis=2)  # normalize direction dimension\n",
    "    normed_dsr = action_dsr / np.linalg.norm(action_dsr, ord=2, axis=3, keepdims=True)\n",
    "\n",
    "    if q_mode == 'sf':\n",
    "        subgoal_dsr = normed_dsr[subgoal].mean(axis=0)\n",
    "        subgoal_dsr = subgoal_dsr / np.linalg.norm(subgoal_dsr, ord=2)\n",
    "        q_values = np.dot(normed_dsr, subgoal_dsr)   \n",
    "    elif q_mode == 'sf-look':\n",
    "        avg_dsr = action_dsr.mean(axis=2)\n",
    "        normed_avg_dsr = avg_dsr / np.linalg.norm(avg_dsr, ord=2, axis=2, keepdims=True)\n",
    "        subgoal_dsr = normed_avg_dsr[subgoal]\n",
    "        \n",
    "        side_size = normed_avg_dsr.shape[0]\n",
    "        q_values = np.zeros(tuple(action_dsr.shape[:3])) + np.nan\n",
    "        \n",
    "        for x in range(side_size):\n",
    "            for y in range(side_size):\n",
    "                if any(np.isnan(normed_avg_dsr[x, y])):\n",
    "                    continue\n",
    "                new_pos = [[x + 1, y], [x, y + 1], [x - 1, y], [x, y - 1]]\n",
    "                for i, pos in enumerate(new_pos):\n",
    "                    n_x, n_y = pos\n",
    "                    if n_x < 0 or n_x >= side_size or n_y < 0 or n_y >= side_size:\n",
    "                        q_values[x, y, i] = -2\n",
    "                    elif any(np.isnan(normed_avg_dsr[n_x, n_y])):\n",
    "                        q_values[x, y, i] = -2\n",
    "                    else:\n",
    "                        q_values[x, y, i] = np.dot(normed_avg_dsr[n_x, n_y], subgoal_dsr)\n",
    "\n",
    "    else:\n",
    "        params = torch.load('../data/local/{}/itr_{}.pkl'.format(run, itr), map_location=device)\n",
    "        feature_model = IDFModel(env.observation_space.shape, env.action_space.n, **config['agent']['idf_model_kwargs'])\n",
    "        feature_model.load_state_dict(params['agent_state_dict']['idf_model'])\n",
    "        feature_model.to(device)\n",
    "\n",
    "        env.unwrapped.agent_pos = np.array(subgoal)\n",
    "\n",
    "        obs = env.get_current_state()[0]\n",
    "        obs = torch.Tensor(obs).unsqueeze(0)\n",
    "        features = feature_model(obs.to(device), mode='encode')\n",
    "        features = features.squeeze().detach().cpu().numpy()\n",
    "        normed_features = features / np.linalg.norm(features, ord=2)\n",
    "\n",
    "        q_values = np.dot(normed_dsr, normed_features)\n",
    "    \n",
    "    figure = plt.figure(figsize=(10, 10))\n",
    "    plt.imshow(q_values.max(axis=2).T)\n",
    "    for x in range(q_values.shape[0]):\n",
    "        plt.axvline(x + 0.5, color='k', linestyle=':')\n",
    "        for y in range(q_values.shape[1]):\n",
    "            plt.axhline(y + 0.5, color='k', linestyle=':')\n",
    "\n",
    "            if (x, y) == subgoal:\n",
    "                circle = plt.Circle((x, y), 0.2, color='r')\n",
    "                plt.gca().add_artist(circle)\n",
    "\n",
    "            if any(np.isnan(q_values[x, y])):\n",
    "                continue\n",
    "\n",
    "            action = q_values[x, y].argmax()\n",
    "            dx = 0\n",
    "            dy = 0\n",
    "            if action == 0:\n",
    "                dx = 0.35\n",
    "            elif action == 1:\n",
    "                dy = 0.35\n",
    "            elif action == 2:\n",
    "                dx = -0.35\n",
    "            else:\n",
    "                dy = -0.35\n",
    "\n",
    "            plt.arrow(x - dx, y - dy, dx, dy, head_width=0.3, head_length=0.3, fc='k', ec='k')\n",
    "    plt.colorbar()"
   ]
  },
  {
   "cell_type": "code",
   "execution_count": null,
   "metadata": {},
   "outputs": [],
   "source": [
    "# Random agent\n",
    "subgoal = (3, 10)\n",
    "run = '20200506/multiroom/run_0'\n",
    "itr = 200000\n",
    "itr -= 1\n",
    "visualize_subgoal_policy(run, itr, subgoal)\n",
    "visualize_subgoal_policy(run, itr, subgoal, 'sf')\n",
    "visualize_subgoal_policy(run, itr, subgoal, 'sf-look')"
   ]
  },
  {
   "cell_type": "code",
   "execution_count": null,
   "metadata": {},
   "outputs": [],
   "source": [
    "# perfect landmarks\n",
    "subgoal = (6, 6)\n",
    "run = '20200512/multiroom/run_30'\n",
    "itr = 200000\n",
    "itr -= 1\n",
    "# visualize_subgoal_policy(run, itr, subgoal)\n",
    "visualize_subgoal_policy(run, itr, subgoal, 'sf')\n",
    "# visualize_subgoal_policy(run, itr, subgoal, 'sf-look')"
   ]
  },
  {
   "cell_type": "code",
   "execution_count": null,
   "metadata": {},
   "outputs": [],
   "source": [
    "# Online landmarks in training only\n",
    "subgoal = (16, 19)\n",
    "run = '20200512/multiroom/run_33'\n",
    "itr = 150000\n",
    "itr -= 1\n",
    "# visualize_subgoal_policy(run, itr, subgoal)\n",
    "visualize_subgoal_policy(run, itr, subgoal, 'sf')\n",
    "# visualize_subgoal_policy(run, itr, subgoal, 'sf-look')"
   ]
  },
  {
   "cell_type": "code",
   "execution_count": null,
   "metadata": {},
   "outputs": [],
   "source": [
    "# Estimated landmark graph\n",
    "subgoal = (10, 14)\n",
    "run = '20200515/multiroom/run_69'\n",
    "itr = 200000\n",
    "itr -= 1\n",
    "# visualize_subgoal_policy(run, itr, subgoal)\n",
    "visualize_subgoal_policy(run, itr, subgoal, 'sf')\n",
    "# visualize_subgoal_policy(run, itr, subgoal, 'sf-look')"
   ]
  },
  {
   "cell_type": "code",
   "execution_count": null,
   "metadata": {},
   "outputs": [],
   "source": [
    "run = '20200513/multiroom/run_41'\n",
    "itr = 20000\n",
    "itr -= 1"
   ]
  },
  {
   "cell_type": "code",
   "execution_count": null,
   "metadata": {},
   "outputs": [],
   "source": [
    "with open('../data/local/{}/params.json'.format(run)) as f:\n",
    "    config = json.load(f)\n",
    "\n",
    "mode = config['mode']\n",
    "minigrid_config = config['eval_env']\n",
    "env_id=None\n",
    "set_seed(config['seed'])\n",
    "\n",
    "env = gym_make(id=env_id, mode=mode, minigrid_config=minigrid_config)\n",
    "\n",
    "device = torch.device('cuda', 0)"
   ]
  },
  {
   "cell_type": "code",
   "execution_count": null,
   "metadata": {},
   "outputs": [],
   "source": [
    "params = torch.load('../data/local/{}/itr_{}.pkl'.format(run, itr))"
   ]
  },
  {
   "cell_type": "code",
   "execution_count": null,
   "metadata": {},
   "outputs": [],
   "source": [
    "del model\n",
    "model = IDFModel(env.observation_space.shape, env.action_space.n, **config['agent']['idf_model_kwargs'])\n",
    "model.load_state_dict(params['agent_state_dict']['idf_model'])\n",
    "model.to(device)"
   ]
  },
  {
   "cell_type": "code",
   "execution_count": null,
   "metadata": {},
   "outputs": [],
   "source": [
    "h, w = env.grid.height, env.grid.width\n",
    "features = torch.zeros((h, w, 4, 64), dtype=torch.float)\n",
    "features += np.nan\n",
    "\n",
    "for pos in env.get_possible_pos():\n",
    "    x, y = pos\n",
    "    for direction in range(4):\n",
    "        env.unwrapped.agent_pos = np.array([x, y])\n",
    "        env.unwrapped.agent_dir = direction\n",
    "        obs, _, _, _ = env.get_current_state()\n",
    "        model_inputs = torch.Tensor(obs).unsqueeze(0).to(device)\n",
    "\n",
    "        features[x, y, direction] = model(model_inputs, mode='encode')"
   ]
  },
  {
   "cell_type": "code",
   "execution_count": null,
   "metadata": {},
   "outputs": [],
   "source": [
    "subgoal = (3, 5)\n",
    "\n",
    "np_features = features.detach().numpy()\n",
    "features_matrix = np_features.mean(axis=2)\n",
    "features_matrix = features_matrix / np.linalg.norm(features_matrix, ord=2, axis=2, keepdims=True)\n",
    "\n",
    "subgoal_features = features_matrix[subgoal]\n",
    "\n",
    "side_size = features_matrix.shape[0]\n",
    "heatmap = np.zeros((side_size, side_size))\n",
    "for r in range(side_size):\n",
    "    for c in range(side_size):\n",
    "#         heatmap[r, c] = np.dot(features_matrix[r, c], subgoal_features)\n",
    "        heatmap[r, c] = np.linalg.norm(features_matrix[r, c] - subgoal_features)"
   ]
  },
  {
   "cell_type": "code",
   "execution_count": null,
   "metadata": {},
   "outputs": [],
   "source": [
    "plt.figure(figsize=(10, 10))\n",
    "plt.imshow(heatmap.T)\n",
    "circle = plt.Circle(subgoal, 0.2, color='r')\n",
    "plt.gca().add_artist(circle)\n",
    "plt.title('L2 distance between (x, y) and {} in feature space'.format(subgoal))\n",
    "plt.colorbar()"
   ]
  },
  {
   "cell_type": "code",
   "execution_count": null,
   "metadata": {},
   "outputs": [],
   "source": [
    "np_features = features.detach().numpy()\n",
    "raw_features = np_features.mean(axis=2)\n",
    "valid_features = raw_features.reshape(25 * 25, 64)\n",
    "walls = np.isnan(valid_features).any(axis=1)\n",
    "valid_features = valid_features[~walls]"
   ]
  },
  {
   "cell_type": "code",
   "execution_count": null,
   "metadata": {},
   "outputs": [],
   "source": [
    "rooms = np.zeros((25, 25))\n",
    "for i, room in enumerate(env.rooms, 1):\n",
    "    start_x, start_y = room.top\n",
    "    size_x, size_y = room.size\n",
    "    for x in range(start_x + 1, start_x + size_x - 1):\n",
    "        for y in range(start_y + 1, start_y + size_y - 1):\n",
    "            rooms[x, y] = i\n",
    "rooms = rooms.reshape(25 * 25)[~walls]"
   ]
  },
  {
   "cell_type": "code",
   "execution_count": null,
   "metadata": {},
   "outputs": [],
   "source": [
    "embeddings = TSNE(n_components=2).fit_transform(valid_features)"
   ]
  },
  {
   "cell_type": "code",
   "execution_count": null,
   "metadata": {},
   "outputs": [],
   "source": [
    "figure = plt.figure(figsize=(10, 10))\n",
    "tsne_data = embeddings[rooms == 0]\n",
    "plt.scatter(tsne_data[:, 0], tsne_data[:, 1], label='Doorway', marker='*')\n",
    "for i in range(1, len(env.rooms) + 1):\n",
    "    tsne_data = embeddings[rooms == i]\n",
    "    plt.scatter(tsne_data[:, 0], tsne_data[:, 1], label='Room ' + str(i))\n",
    "plt.legend()"
   ]
  },
  {
   "cell_type": "markdown",
   "metadata": {},
   "source": [
    "### Successor Features Heatmap"
   ]
  },
  {
   "cell_type": "code",
   "execution_count": null,
   "metadata": {},
   "outputs": [],
   "source": [
    "def generate_dsr_grid(sr_matrix, starting_pos=(1, 8)):\n",
    "    starting_sr = sr_matrix[starting_pos]\n",
    "    \n",
    "    side_size = sr_matrix.shape[0]\n",
    "    \n",
    "    grid = np.zeros((side_size, side_size))\n",
    "    for x in range(side_size):\n",
    "        for y in range(side_size):\n",
    "            grid[x, y] = np.linalg.norm(sr_matrix[x, y] - starting_sr, 2)\n",
    "    return grid\n",
    "\n",
    "\n",
    "def visualize_dsr(sr_source, starting_pos=(1, 8), direction=-1, action=-1, normalize=True):\n",
    "    if isinstance(sr_source, str):\n",
    "        if 'pt' in sr_source:\n",
    "            sr = torch.load(sr_source)\n",
    "            sr = sr.detach().numpy()\n",
    "        else:\n",
    "            sr = np.load(sr_source)\n",
    "    else:\n",
    "        sr = sr_source\n",
    "\n",
    "    if direction == -1:\n",
    "        sr_matrix = sr.mean(axis=2)\n",
    "        \n",
    "    else:\n",
    "        sr_matrix = sr[:, :, direction]\n",
    "\n",
    "    if action == -1:\n",
    "        sr_matrix = sr_matrix.mean(axis=2)\n",
    "    else:\n",
    "        sr_matrix = sr_matrix[:, :, action]\n",
    "    \n",
    "    side_size = sr_matrix.shape[0]\n",
    "    \n",
    "    if normalize:\n",
    "        sr_matrix = sr_matrix.reshape(side_size ** 2, -1)\n",
    "        sr_matrix = (sr_matrix - np.nanmean(sr_matrix, axis=0)) / np.nanstd(sr_matrix, axis=0)\n",
    "        sr_matrix = sr_matrix.reshape(side_size, side_size, -1)\n",
    "#         sr_matrix = sr_matrix / np.linalg.norm(sr_matrix, axis=2).reshape(side_size, side_size, -1)\n",
    "    grid = generate_dsr_grid(sr_matrix, starting_pos)\n",
    "    return sr_matrix, grid\n"
   ]
  },
  {
   "cell_type": "code",
   "execution_count": null,
   "metadata": {},
   "outputs": [],
   "source": [
    "subgoal = (14, 4)\n",
    "dsr, dsr_heatmap = visualize_dsr('../experiments/successor-data/20200411-run0-100k.pt', subgoal, -1, -1, True)\n",
    "figure = plt.figure(figsize=(10, 10))\n",
    "plt.imshow(dsr_heatmap.T)\n",
    "circle = plt.Circle(subgoal, 0.2, color='r')\n",
    "plt.gca().add_artist(circle)\n",
    "plt.colorbar()"
   ]
  },
  {
   "cell_type": "markdown",
   "metadata": {},
   "source": [
    "### Subgoal Q-Values"
   ]
  },
  {
   "cell_type": "code",
   "execution_count": null,
   "metadata": {},
   "outputs": [],
   "source": [
    "from sklearn_extra.cluster import KMedoids"
   ]
  },
  {
   "cell_type": "code",
   "execution_count": null,
   "metadata": {},
   "outputs": [],
   "source": [
    "config_file = '../data/local/20200411/multiroom/run_0/params.json'\n",
    "with open(config_file, 'r') as f:\n",
    "    config = json.load(f)"
   ]
  },
  {
   "cell_type": "code",
   "execution_count": null,
   "metadata": {},
   "outputs": [],
   "source": [
    "mode = config['mode']\n",
    "seed = config['seed']\n",
    "set_seed(seed)\n",
    "\n",
    "device = torch.device('cuda', index=0)"
   ]
  },
  {
   "cell_type": "code",
   "execution_count": null,
   "metadata": {},
   "outputs": [],
   "source": [
    "checkpoint = '../data/local/20200411/multiroom/run_0/itr_99999.pkl'"
   ]
  },
  {
   "cell_type": "code",
   "execution_count": null,
   "metadata": {},
   "outputs": [],
   "source": [
    "params = torch.load(checkpoint, map_location=device)"
   ]
  },
  {
   "cell_type": "code",
   "execution_count": null,
   "metadata": {},
   "outputs": [],
   "source": [
    "ENV_ID = 'MiniGrid-FourRooms-v0'\n",
    "env = gym_make(id=ENV_ID, mode=mode, minigrid_config=config['env'])\n",
    "obs = env.reset()"
   ]
  },
  {
   "cell_type": "code",
   "execution_count": null,
   "metadata": {},
   "outputs": [],
   "source": [
    "feature_model = IDFModel(env.observation_space.shape, env.action_space.n, **config['agent']['idf_model_kwargs'])\n",
    "feature_model.load_state_dict(params['agent_state_dict']['idf_model'])\n",
    "feature_model.to(device)"
   ]
  },
  {
   "cell_type": "code",
   "execution_count": null,
   "metadata": {},
   "outputs": [],
   "source": [
    "dsr = torch.load('../experiments/successor-data/20200411-run0-100k.pt').detach().numpy()\n",
    "action_dsr = dsr.mean(axis=2)  # normalize direction dimension\n",
    "normed_dsr = action_dsr / np.linalg.norm(action_dsr, ord=2, axis=3, keepdims=True)"
   ]
  },
  {
   "cell_type": "markdown",
   "metadata": {},
   "source": [
    "### Find Landmarks"
   ]
  },
  {
   "cell_type": "code",
   "execution_count": null,
   "metadata": {},
   "outputs": [],
   "source": [
    "state_dsr = action_dsr.mean(axis=2)"
   ]
  },
  {
   "cell_type": "code",
   "execution_count": null,
   "metadata": {},
   "outputs": [],
   "source": [
    "raw_s_features = state_dsr.reshape(25 * 25, 64)"
   ]
  },
  {
   "cell_type": "code",
   "execution_count": null,
   "metadata": {},
   "outputs": [],
   "source": [
    "walls = np.isnan(raw_s_features).any(axis=1)\n",
    "s_features = raw_s_features[~walls]"
   ]
  },
  {
   "cell_type": "code",
   "execution_count": null,
   "metadata": {},
   "outputs": [],
   "source": [
    "indices = np.array(list(itertools.product(range(25), range(25))))"
   ]
  },
  {
   "cell_type": "code",
   "execution_count": null,
   "metadata": {},
   "outputs": [],
   "source": [
    "kmedoids = KMedoids(n_clusters=8, random_state=seed).fit(s_features)\n",
    "landmarks = kmedoids.medoid_indices_\n",
    "landmark_states = indices[~walls][landmarks]\n",
    "landmark_states"
   ]
  },
  {
   "cell_type": "code",
   "execution_count": null,
   "metadata": {},
   "outputs": [],
   "source": [
    "landmark_map = walls.astype(int).reshape(25, 25)\n",
    "landmark_map[landmark_states[:, 0], landmark_states[:, 1]] = 2"
   ]
  },
  {
   "cell_type": "code",
   "execution_count": null,
   "metadata": {},
   "outputs": [],
   "source": [
    "figure = plt.figure(figsize=(10, 10))\n",
    "plt.imshow(landmark_map.T)"
   ]
  },
  {
   "cell_type": "markdown",
   "metadata": {},
   "source": [
    "### Subgoal Policy"
   ]
  },
  {
   "cell_type": "code",
   "execution_count": null,
   "metadata": {},
   "outputs": [],
   "source": [
    "subgoal = (14, 4)\n",
    "env.unwrapped.agent_pos = np.array(subgoal)\n",
    "\n",
    "obs = env.get_current_state()[0]\n",
    "obs = torch.Tensor(obs).unsqueeze(0)\n",
    "features = feature_model(obs.to(device), mode='encode')\n",
    "features = features.squeeze().detach().cpu().numpy()\n",
    "normed_features = features / np.linalg.norm(features, ord=2)\n",
    "\n",
    "\n",
    "\n",
    "q_values = np.dot(normed_dsr, normed_features)"
   ]
  },
  {
   "cell_type": "code",
   "execution_count": null,
   "metadata": {},
   "outputs": [],
   "source": [
    "figure = plt.figure(figsize=(10, 10))\n",
    "plt.imshow(q_values.max(axis=2).T)\n",
    "for x in range(q_values.shape[0]):\n",
    "    plt.axvline(x + 0.5, color='k', linestyle=':')\n",
    "    for y in range(q_values.shape[1]):\n",
    "        plt.axhline(y + 0.5, color='k', linestyle=':')\n",
    "        \n",
    "        if (x, y) == subgoal:\n",
    "            circle = plt.Circle((x, y), 0.2, color='r')\n",
    "            plt.gca().add_artist(circle)\n",
    "        else:\n",
    "            if any(np.isnan(q_values[x, y])):\n",
    "                continue\n",
    "\n",
    "            action = q_values[x, y].argmax()\n",
    "            dx = 0\n",
    "            dy = 0\n",
    "            if action == 0:\n",
    "                dx = 0.35\n",
    "            elif action == 1:\n",
    "                dy = 0.35\n",
    "            elif action == 2:\n",
    "                dx = -0.35\n",
    "            else:\n",
    "                dy = -0.35\n",
    "\n",
    "            plt.arrow(x - dx, y - dy, dx, dy, head_width=0.3, head_length=0.3, fc='k', ec='k')\n",
    "\n",
    "            \n",
    "plt.colorbar()"
   ]
  },
  {
   "cell_type": "markdown",
   "metadata": {},
   "source": [
    "### T-SNE Plots"
   ]
  },
  {
   "cell_type": "code",
   "execution_count": null,
   "metadata": {},
   "outputs": [],
   "source": [
    "import itertools\n",
    "from sklearn.manifold import TSNE"
   ]
  },
  {
   "cell_type": "code",
   "execution_count": null,
   "metadata": {},
   "outputs": [],
   "source": [
    "dsr = torch.load('../experiments/successor-data/20200411-run0-100k.pt').detach().numpy()"
   ]
  },
  {
   "cell_type": "code",
   "execution_count": null,
   "metadata": {},
   "outputs": [],
   "source": [
    "raw_sf = dsr.mean(axis=(2, 3))"
   ]
  },
  {
   "cell_type": "code",
   "execution_count": null,
   "metadata": {},
   "outputs": [],
   "source": [
    "s_features = raw_sf.reshape(25 * 25, 64)\n",
    "walls = np.isnan(s_features).any(axis=1)\n",
    "s_features = s_features[~walls]"
   ]
  },
  {
   "cell_type": "code",
   "execution_count": null,
   "metadata": {},
   "outputs": [],
   "source": [
    "sf_embedded = TSNE(n_components=2).fit_transform(s_features)"
   ]
  },
  {
   "cell_type": "code",
   "execution_count": null,
   "metadata": {},
   "outputs": [],
   "source": [
    "rooms = np.zeros((25, 25))"
   ]
  },
  {
   "cell_type": "code",
   "execution_count": null,
   "metadata": {},
   "outputs": [],
   "source": [
    "for i, room in enumerate(env.rooms, 1):\n",
    "    start_x, start_y = room.top\n",
    "    size_x, size_y = room.size\n",
    "    for x in range(start_x + 1, start_x + size_x - 1):\n",
    "        for y in range(start_y + 1, start_y + size_y - 1):\n",
    "            rooms[x, y] = i"
   ]
  },
  {
   "cell_type": "code",
   "execution_count": null,
   "metadata": {},
   "outputs": [],
   "source": [
    "rooms = rooms.reshape(25 * 25)[~walls]"
   ]
  },
  {
   "cell_type": "code",
   "execution_count": null,
   "metadata": {},
   "outputs": [],
   "source": [
    "figure = plt.figure(figsize=(10, 10))\n",
    "data = sf_embedded[rooms == 0]\n",
    "plt.scatter(data[:, 0], data[:, 1], label='Doorway', marker='*')\n",
    "for i in range(1, len(env.rooms) + 1):\n",
    "    data = sf_embedded[rooms == i]\n",
    "    plt.scatter(data[:, 0], data[:, 1], label='Room ' + str(i))\n",
    "plt.legend()"
   ]
  },
  {
   "cell_type": "code",
   "execution_count": null,
   "metadata": {},
   "outputs": [],
   "source": []
  }
 ],
 "metadata": {
  "kernelspec": {
   "display_name": "Python 3",
   "language": "python",
   "name": "python3"
  },
  "language_info": {
   "codemirror_mode": {
    "name": "ipython",
    "version": 3
   },
   "file_extension": ".py",
   "mimetype": "text/x-python",
   "name": "python",
   "nbconvert_exporter": "python",
   "pygments_lexer": "ipython3",
   "version": "3.7.6"
  }
 },
 "nbformat": 4,
 "nbformat_minor": 2
}

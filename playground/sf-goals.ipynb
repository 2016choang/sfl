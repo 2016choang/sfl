{
 "cells": [
  {
   "cell_type": "code",
   "execution_count": 13,
   "metadata": {},
   "outputs": [],
   "source": [
    "import cv2\n",
    "import gym\n",
    "import itertools\n",
    "import json\n",
    "import matplotlib.pylab as plt\n",
    "import numpy as np\n",
    "import sklearn\n",
    "from sklearn.manifold import TSNE\n",
    "from sklearn_extra.cluster import KMedoids\n",
    "import torch\n",
    "\n",
    "from rlpyt.envs.gym import make as gym_make\n",
    "from rlpyt.models.dqn.grid_dsr_model import GridGoalModel\n",
    "from rlpyt.utils.seed import set_seed"
   ]
  },
  {
   "cell_type": "code",
   "execution_count": 14,
   "metadata": {},
   "outputs": [],
   "source": [
    "GRID_SIZE = 19\n",
    "\n",
    "\n",
    "def normalize_sr(sr_matrix, dim=1):\n",
    "    return sr_matrix / torch.norm(sr_matrix, dim=dim).reshape(-1, 1)\n",
    "\n",
    "\n",
    "def generate_dsr_grid(sr_matrix, starting_pos=(1, 8)):\n",
    "    starting_sr = sr_matrix[starting_pos]\n",
    "    grid = np.zeros((GRID_SIZE, GRID_SIZE))\n",
    "    for y in range(GRID_SIZE):\n",
    "        for x in range(GRID_SIZE):\n",
    "            if isinstance(sr_matrix, np.ndarray):\n",
    "                grid[y, x] = np.linalg.norm(sr_matrix[y, x] - starting_sr, 2)\n",
    "            else:\n",
    "#                 grid[y, x] = torch.norm(sr_matrix[y, x] - starting_sr, 2)\n",
    "                grid[y, x] = torch.dot(sr_matrix[y, x], starting_sr)\n",
    "    return grid.T\n",
    "\n",
    "\n",
    "def visualize_dsr(sr_file, starting_pos=(1, 8), action=-1, normalize=True):\n",
    "    sr = torch.load(sr_file)\n",
    "    if action == -1:\n",
    "        sr_matrix = sr.mean(dim=2)\n",
    "    else:\n",
    "        sr_matrix = sr[:, :, action]\n",
    "    if normalize:\n",
    "        sr_matrix = sr_matrix / torch.norm(sr_matrix, p=2, dim=2, keepdim=True)\n",
    "    grid = generate_dsr_grid(sr_matrix, starting_pos)\n",
    "    return sr_matrix, grid"
   ]
  },
  {
   "cell_type": "code",
   "execution_count": 15,
   "metadata": {},
   "outputs": [],
   "source": [
    "folder = '../data/local/20200315/train_sf_goal/run_0/'\n",
    "folder = '../data/local/20200308/minigrid_test/run_13/'"
   ]
  },
  {
   "cell_type": "code",
   "execution_count": 16,
   "metadata": {},
   "outputs": [],
   "source": [
    "with open(folder + 'params.json', 'r') as f:\n",
    "    config = json.load(f)"
   ]
  },
  {
   "cell_type": "code",
   "execution_count": 17,
   "metadata": {},
   "outputs": [],
   "source": [
    "env = gym_make(id=config['env_id'], mode=config['mode'], minigrid_config=config['env'])"
   ]
  },
  {
   "cell_type": "code",
   "execution_count": 18,
   "metadata": {},
   "outputs": [
    {
     "data": {
      "text/plain": [
       "<matplotlib.colorbar.Colorbar at 0x7efb43f7ca90>"
      ]
     },
     "execution_count": 18,
     "metadata": {},
     "output_type": "execute_result"
    },
    {
     "data": {
      "image/png": "[encoded data removed]",
      "text/plain": [
       "<Figure size 432x288 with 2 Axes>"
      ]
     },
     "metadata": {
      "needs_background": "light"
     },
     "output_type": "display_data"
    }
   ],
   "source": [
    "dsr, dsr_heatmap = visualize_dsr('../experiments/successor-data/20200308-run13.pt', (1, 8), -1, True)\n",
    "plt.imshow(dsr_heatmap)\n",
    "plt.colorbar()"
   ]
  },
  {
   "cell_type": "code",
   "execution_count": 19,
   "metadata": {},
   "outputs": [
    {
     "name": "stdout",
     "output_type": "stream",
     "text": [
      "\u001b[32musing seed 333\u001b[0m\n"
     ]
    }
   ],
   "source": [
    "seed = config['seed']\n",
    "set_seed(seed)"
   ]
  },
  {
   "cell_type": "code",
   "execution_count": 20,
   "metadata": {},
   "outputs": [],
   "source": [
    "np_dsr = dsr.cpu().detach().numpy()"
   ]
  },
  {
   "cell_type": "code",
   "execution_count": 21,
   "metadata": {},
   "outputs": [],
   "source": [
    "num_features = 361"
   ]
  },
  {
   "cell_type": "code",
   "execution_count": 22,
   "metadata": {},
   "outputs": [],
   "source": [
    "raw_s_features = np_dsr.reshape(-1, num_features)\n",
    "walls = np.isnan(raw_s_features).any(axis=1)\n",
    "s_features = raw_s_features[~walls]"
   ]
  },
  {
   "cell_type": "code",
   "execution_count": 23,
   "metadata": {},
   "outputs": [],
   "source": [
    "kmedoids = KMedoids(n_clusters=4, random_state=seed).fit(s_features)"
   ]
  },
  {
   "cell_type": "code",
   "execution_count": 24,
   "metadata": {},
   "outputs": [],
   "source": [
    "centers = kmedoids.medoid_indices_"
   ]
  },
  {
   "cell_type": "code",
   "execution_count": 25,
   "metadata": {},
   "outputs": [],
   "source": [
    "indices = np.array(list(itertools.product(range(GRID_SIZE), range(GRID_SIZE))))\n",
    "rooms = np.zeros(361)\n",
    "rooms[(indices[:, 0] < 9) & (indices[:, 1] < 9)] = 1\n",
    "rooms[(indices[:, 0] < 9) & (indices[:, 1] > 9)] = 2\n",
    "rooms[(indices[:, 0] > 9) & (indices[:, 1] < 9)] = 3\n",
    "rooms[(indices[:, 0] > 9) & (indices[:, 1] > 9)] = 4\n",
    "rooms = rooms.reshape(GRID_SIZE, GRID_SIZE)"
   ]
  },
  {
   "cell_type": "code",
   "execution_count": 26,
   "metadata": {},
   "outputs": [
    {
     "data": {
      "text/plain": [
       "array([[ 4, 12],\n",
       "       [17, 16],\n",
       "       [13, 13],\n",
       "       [ 5, 15]])"
      ]
     },
     "execution_count": 26,
     "metadata": {},
     "output_type": "execute_result"
    }
   ],
   "source": [
    "true_centers = indices[~walls][centers]\n",
    "true_centers"
   ]
  },
  {
   "cell_type": "code",
   "execution_count": 35,
   "metadata": {},
   "outputs": [
    {
     "data": {
      "text/plain": [
       "(13, 13)"
      ]
     },
     "execution_count": 35,
     "metadata": {},
     "output_type": "execute_result"
    }
   ],
   "source": [
    "center = tuple(true_centers[2])\n",
    "center"
   ]
  },
  {
   "cell_type": "code",
   "execution_count": 36,
   "metadata": {},
   "outputs": [],
   "source": [
    "center = (1, 8)"
   ]
  },
  {
   "cell_type": "code",
   "execution_count": 37,
   "metadata": {},
   "outputs": [],
   "source": [
    "# subgoal = env.feature_map[center]\n",
    "subgoal = env.one_hot[center[0] * GRID_SIZE + center[1]]\n",
    "subgoal = subgoal / np.linalg.norm(subgoal)"
   ]
  },
  {
   "cell_type": "code",
   "execution_count": 38,
   "metadata": {},
   "outputs": [
    {
     "data": {
      "text/plain": [
       "<matplotlib.colorbar.Colorbar at 0x7efb400cb450>"
      ]
     },
     "execution_count": 38,
     "metadata": {},
     "output_type": "execute_result"
    },
    {
     "data": {
      "image/png": "[encoded data removed]",
      "text/plain": [
       "<Figure size 432x288 with 2 Axes>"
      ]
     },
     "metadata": {
      "needs_background": "light"
     },
     "output_type": "display_data"
    }
   ],
   "source": [
    "reward = np.matmul(np_dsr, subgoal)\n",
    "plt.imshow(reward.T)\n",
    "plt.colorbar()"
   ]
  },
  {
   "cell_type": "code",
   "execution_count": 31,
   "metadata": {},
   "outputs": [],
   "source": [
    "max_reward_loc = np.nanargmax(reward)"
   ]
  },
  {
   "cell_type": "code",
   "execution_count": 32,
   "metadata": {},
   "outputs": [
    {
     "data": {
      "text/plain": [
       "(13, 13)"
      ]
     },
     "execution_count": 32,
     "metadata": {},
     "output_type": "execute_result"
    }
   ],
   "source": [
    "max_reward_loc // GRID_SIZE, max_reward_loc % GRID_SIZE"
   ]
  },
  {
   "cell_type": "code",
   "execution_count": null,
   "metadata": {},
   "outputs": [],
   "source": []
  },
  {
   "cell_type": "code",
   "execution_count": null,
   "metadata": {},
   "outputs": [],
   "source": []
  },
  {
   "cell_type": "code",
   "execution_count": null,
   "metadata": {},
   "outputs": [],
   "source": []
  },
  {
   "cell_type": "code",
   "execution_count": null,
   "metadata": {},
   "outputs": [],
   "source": []
  },
  {
   "cell_type": "code",
   "execution_count": null,
   "metadata": {},
   "outputs": [],
   "source": []
  },
  {
   "cell_type": "code",
   "execution_count": 61,
   "metadata": {},
   "outputs": [],
   "source": [
    "env.reset()\n",
    "obs = env.env.env.step(6)[0]['image']\n",
    "for _ in range(1000):\n",
    "    cv2.imshow('image', obs)\n",
    "    env.step(env.action_space.sample()) # take a random action\n",
    "    obs = env.env.env.step(6)[0]['image']\n",
    "    cv2.waitKey(1)\n",
    "env.close()"
   ]
  },
  {
   "cell_type": "code",
   "execution_count": null,
   "metadata": {},
   "outputs": [],
   "source": []
  },
  {
   "cell_type": "code",
   "execution_count": null,
   "metadata": {},
   "outputs": [],
   "source": []
  }
 ],
 "metadata": {
  "kernelspec": {
   "display_name": "Python [conda env:rlpyt] *",
   "language": "python",
   "name": "conda-env-rlpyt-py"
  },
  "language_info": {
   "codemirror_mode": {
    "name": "ipython",
    "version": 3
   },
   "file_extension": ".py",
   "mimetype": "text/x-python",
   "name": "python",
   "nbconvert_exporter": "python",
   "pygments_lexer": "ipython3",
   "version": "3.7.6"
  }
 },
 "nbformat": 4,
 "nbformat_minor": 2
}

{
 "cells": [
  {
   "cell_type": "code",
   "execution_count": 14,
   "metadata": {},
   "outputs": [],
   "source": [
    "from collections import defaultdict\n",
    "import copy\n",
    "import json\n",
    "import pickle\n",
    "\n",
    "import gym\n",
    "from gym_minigrid.minigrid import Grid\n",
    "from gym_minigrid.wrappers import FullyObsWrapper, ReseedWrapper, RGBImgObsWrapper\n",
    "from matplotlib import cm\n",
    "import matplotlib.pylab as plt\n",
    "import networkx as nx\n",
    "import numpy as np\n",
    "from PIL import Image\n",
    "import pytorch_ssim\n",
    "import seaborn as sns\n",
    "import sklearn\n",
    "from skimage.transform import resize, rescale, downscale_local_mean\n",
    "from skimage.util import img_as_ubyte\n",
    "from sklearn.decomposition import PCA\n",
    "from sklearn.manifold import TSNE\n",
    "import torch\n",
    "import torch.nn as nn\n",
    "\n",
    "# from rlpyt.models.dqn.dsr.idf_model import IDFModel\n",
    "from rlpyt.envs.gym import make as gym_make\n",
    "from rlpyt.utils.seed import set_seed\n",
    "from gym_minigrid.envs.multiroom import MultiRoomEnv"
   ]
  },
  {
   "cell_type": "markdown",
   "metadata": {},
   "source": [
    "### 0. Environment setup\n",
    "\n",
    "1. Downsample image 8x (200 x 200 --> 25 x 25)\n",
    "2. 500 steps per episode\n",
    "3. New agent position every episode"
   ]
  },
  {
   "cell_type": "code",
   "execution_count": 4,
   "metadata": {},
   "outputs": [
    {
     "name": "stdout",
     "output_type": "stream",
     "text": [
      "\u001b[32musing seed 333\u001b[0m\n"
     ]
    }
   ],
   "source": [
    "minigrid_config = {'size': [25, 25],\n",
    "                   'steps': 500,\n",
    "                   'reset_same': False,\n",
    "                   'reset_episodes': 1}\n",
    "mode = 'multiroom'\n",
    "env_id=None\n",
    "set_seed(333)\n",
    "\n",
    "env = gym_make(id=env_id, mode=mode, minigrid_config=minigrid_config)"
   ]
  },
  {
   "cell_type": "code",
   "execution_count": 5,
   "metadata": {},
   "outputs": [],
   "source": [
    "# minigrid_config = {'size': [19, 19],\n",
    "#                    'steps': 500,\n",
    "#                    'reset_same': False,\n",
    "#                    'reset_episodes': 1}\n",
    "# mode = 'image'\n",
    "# env_id='MiniGrid-FourRooms-v0'\n",
    "# set_seed(333)\n",
    "\n",
    "# env = gym_make(id=env_id, mode=mode, minigrid_config=minigrid_config)"
   ]
  },
  {
   "cell_type": "code",
   "execution_count": 6,
   "metadata": {},
   "outputs": [],
   "source": [
    "device = torch.device('cuda', 0)"
   ]
  },
  {
   "cell_type": "markdown",
   "metadata": {},
   "source": [
    "### 1. Collect data\n",
    "\n",
    "1. 10,000 total steps"
   ]
  },
  {
   "cell_type": "code",
   "execution_count": 7,
   "metadata": {},
   "outputs": [],
   "source": [
    "steps = int(2e4)"
   ]
  },
  {
   "cell_type": "code",
   "execution_count": 8,
   "metadata": {},
   "outputs": [],
   "source": [
    "eps_count = 0"
   ]
  },
  {
   "cell_type": "code",
   "execution_count": 9,
   "metadata": {},
   "outputs": [],
   "source": [
    "obs = env.reset()\n",
    "actions = np.array([])\n",
    "np_data = np.expand_dims(obs, 0)\n",
    "episodes = np.array([eps_count])"
   ]
  },
  {
   "cell_type": "code",
   "execution_count": 10,
   "metadata": {},
   "outputs": [],
   "source": [
    "for i in range(steps):\n",
    "    act = env.action_space.sample()\n",
    "    s, _, d, _ = env.step(act)\n",
    "    actions = np.append(actions, [act], axis=0)\n",
    "    np_data = np.append(np_data, np.expand_dims(s, 0), axis=0)\n",
    "    episodes = np.append(episodes, [eps_count], axis=0)\n",
    "    if d:\n",
    "        actions = np.append(actions, [-1], axis=0)\n",
    "        np_data = np.append(np_data, np.expand_dims(env.reset(), 0), axis=0)\n",
    "        eps_count += 1\n",
    "        episodes = np.append(episodes, [eps_count], axis=0)"
   ]
  },
  {
   "cell_type": "code",
   "execution_count": 11,
   "metadata": {},
   "outputs": [],
   "source": [
    "actions = np.append(actions, [-1], axis=0)"
   ]
  },
  {
   "cell_type": "code",
   "execution_count": 12,
   "metadata": {},
   "outputs": [
    {
     "name": "stdout",
     "output_type": "stream",
     "text": [
      "(20041, 25, 25, 3)\n",
      "(20041,)\n",
      "(20041,)\n"
     ]
    }
   ],
   "source": [
    "print(np_data.shape)\n",
    "print(episodes.shape)\n",
    "print(actions.shape)"
   ]
  },
  {
   "cell_type": "code",
   "execution_count": 13,
   "metadata": {},
   "outputs": [
    {
     "data": {
      "text/plain": [
       "<matplotlib.colorbar.Colorbar at 0x7fae2286dcd0>"
      ]
     },
     "execution_count": 13,
     "metadata": {},
     "output_type": "execute_result"
    },
    {
     "data": {
      "image/png": "[encoded data removed]",
      "text/plain": [
       "<Figure size 432x288 with 2 Axes>"
      ]
     },
     "metadata": {
      "needs_background": "light"
     },
     "output_type": "display_data"
    }
   ],
   "source": [
    "plt.imshow(env.visited.T)\n",
    "plt.colorbar()"
   ]
  },
  {
   "cell_type": "code",
   "execution_count": 14,
   "metadata": {},
   "outputs": [],
   "source": [
    "with open('data/states.npy', 'wb') as s_f, open('data/episodes.npy', 'wb') as e_f, open('data/actions.npy', 'wb') as a_f:\n",
    "    np.save(s_f, np_data)\n",
    "    np.save(e_f, episodes)\n",
    "    np.save(a_f, actions)"
   ]
  },
  {
   "cell_type": "code",
   "execution_count": 7,
   "metadata": {},
   "outputs": [],
   "source": [
    "np_data = np.load('data/states.npy')\n",
    "episodes = np.load('data/episodes.npy')\n",
    "actions = np.load('data/actions.npy')"
   ]
  },
  {
   "cell_type": "markdown",
   "metadata": {},
   "source": [
    "### 2. Create triplets\n",
    "\n",
    "1. 2000 anchors randomly sampled from collected data\n",
    "2. Positive samples are defined as +/- 3 time steps from anchor, i.e. [t - 3, t + 3]\n",
    "3. Negative samples are randomly sampled from [t - 30, t - 15] and [t + 15, t + 30]\n",
    "4. Made sure that triplets all come from same episode"
   ]
  },
  {
   "cell_type": "code",
   "execution_count": 8,
   "metadata": {},
   "outputs": [],
   "source": [
    "X = []\n",
    "n_samples = np_data.shape[0]\n",
    "num_anchors = 10000\n",
    "anchors = np.random.choice(range(n_samples), size=num_anchors)\n",
    "neg_threshold = 15\n",
    "pos_threshold = 3"
   ]
  },
  {
   "cell_type": "code",
   "execution_count": 9,
   "metadata": {},
   "outputs": [],
   "source": [
    "for anchor in anchors:\n",
    "    if actions[anchor] == -1:\n",
    "        continue\n",
    "    anchor_episode = episodes[anchor]\n",
    "    \n",
    "    pos_choices = []\n",
    "    for idx in range(max(0, anchor - pos_threshold), anchor):\n",
    "        if episodes[idx] == anchor_episode:\n",
    "            pos_choices.append(idx)\n",
    "            \n",
    "    for idx in range(anchor + 1, min(n_samples, anchor + pos_threshold + 1)):\n",
    "        if episodes[idx] == anchor_episode:\n",
    "            pos_choices.append(idx)\n",
    "    \n",
    "    neg_choices = []\n",
    "    for idx in range(max(0, anchor - (2 * neg_threshold)), anchor - neg_threshold + 1):\n",
    "        if episodes[idx] == anchor_episode:\n",
    "            neg_choices.append(idx)\n",
    "            \n",
    "    for idx in range(anchor + neg_threshold, min(n_samples, anchor + (2 * neg_threshold) + 1)):\n",
    "        if episodes[idx] == anchor_episode:\n",
    "            neg_choices.append(idx)\n",
    "        \n",
    "    pos_sample = np.random.choice(pos_choices)\n",
    "    neg_sample = np.random.choice(neg_choices)\n",
    "    X.append([anchor, pos_sample, neg_sample])"
   ]
  },
  {
   "cell_type": "code",
   "execution_count": 10,
   "metadata": {},
   "outputs": [],
   "source": [
    "X = np.array(X)"
   ]
  },
  {
   "cell_type": "code",
   "execution_count": 11,
   "metadata": {},
   "outputs": [],
   "source": [
    "data = torch.Tensor(np_data).to(device)"
   ]
  },
  {
   "cell_type": "code",
   "execution_count": 12,
   "metadata": {},
   "outputs": [],
   "source": [
    "anchor_data = data[X[:, 0]].detach().cpu().numpy()\n",
    "pos_data = data[X[:, 1]].detach().cpu().numpy()\n",
    "neg_data = data[X[:, 2]].detach().cpu().numpy()"
   ]
  },
  {
   "cell_type": "code",
   "execution_count": null,
   "metadata": {},
   "outputs": [],
   "source": [
    "def get_coord(data):\n",
    "    N = data.shape[0]\n",
    "    h, w = data.shape[1: 3]\n",
    "    diff = data[:, :, :, 0] - data[:, :, :, 2]\n",
    "    coord = np.array(np.unravel_index(diff.reshape(N, -1).argmax(axis=1), (h, w))).T\n",
    "    return coord"
   ]
  },
  {
   "cell_type": "code",
   "execution_count": null,
   "metadata": {},
   "outputs": [],
   "source": [
    "anchor_coord = get_coord(anchor_data)\n",
    "pos_coord = get_coord(pos_data)\n",
    "neg_coord = get_coord(neg_data)"
   ]
  },
  {
   "cell_type": "code",
   "execution_count": null,
   "metadata": {},
   "outputs": [],
   "source": [
    "env_true_dist = env.get_true_distances()"
   ]
  },
  {
   "cell_type": "code",
   "execution_count": null,
   "metadata": {},
   "outputs": [],
   "source": [
    "pos_dist = []\n",
    "neg_dist = []\n",
    "count = 0\n",
    "\n",
    "for a, p, n in zip(anchor_coord, pos_coord, neg_coord):\n",
    "    a_x, a_y = a\n",
    "    p_x, p_y = p\n",
    "    n_x, n_y = n\n",
    "    pos_d = env_true_dist[a_y, a_x, p_y, p_x]\n",
    "    pos_dist.append(pos_d)\n",
    "\n",
    "    neg_d = env_true_dist[a_y, a_x, n_y, n_x]\n",
    "    neg_dist.append(neg_d)"
   ]
  },
  {
   "cell_type": "code",
   "execution_count": null,
   "metadata": {},
   "outputs": [],
   "source": [
    "print(np.mean(pos_dist))\n",
    "print(np.std(pos_dist))"
   ]
  },
  {
   "cell_type": "code",
   "execution_count": null,
   "metadata": {
    "scrolled": true
   },
   "outputs": [],
   "source": [
    "print(np.mean(neg_dist))\n",
    "print(np.std(neg_dist))"
   ]
  },
  {
   "cell_type": "markdown",
   "metadata": {},
   "source": [
    "### 3. Define model\n",
    "\n",
    "1. 2 conv layers, 1 linear layer\n",
    "2. Feature size = 64"
   ]
  },
  {
   "cell_type": "code",
   "execution_count": 13,
   "metadata": {},
   "outputs": [],
   "source": [
    "import torch\n",
    "from torch import nn\n",
    "from torch.nn import functional as F\n",
    "from torchvision import models\n",
    "from torch.autograd import Function\n",
    "\n",
    "class BatchNormConv2d(nn.Module):\n",
    "    def __init__(self, in_channels, out_channels, **kwargs):\n",
    "        super().__init__()\n",
    "        self.conv2d = nn.Conv2d(in_channels, out_channels, **kwargs)\n",
    "        self.batch_norm = nn.BatchNorm2d(out_channels, eps=1e-3)\n",
    "\n",
    "    def forward(self, x):\n",
    "        x = self.conv2d(x)\n",
    "        x = self.batch_norm(x)\n",
    "        return F.relu(x, inplace=True)\n",
    "\n",
    "class Dense(nn.Module):\n",
    "    def __init__(self, in_features, out_features, activation=None):\n",
    "        super().__init__()\n",
    "        self.linear = nn.Linear(in_features, out_features)\n",
    "        self.activation = activation\n",
    "\n",
    "    def forward(self, x):\n",
    "        x = self.linear(x)\n",
    "        if self.activation is not None:\n",
    "            x = self.activation(x, inplace=True)\n",
    "        return x\n",
    "\n",
    "class EmbeddingNet(nn.Module):\n",
    "    def normalize(self, x):\n",
    "        buffer = torch.pow(x, 2)\n",
    "        normp = torch.sum(buffer, 1).add_(1e-10)\n",
    "        normalization_constant = torch.sqrt(normp)\n",
    "        output = torch.div(x, normalization_constant.view(-1, 1).expand_as(x))\n",
    "        return output\n",
    "\n",
    "class TCN(EmbeddingNet):\n",
    "\n",
    "    def __init__(\n",
    "            self,\n",
    "            image_shape,\n",
    "            output_size,\n",
    "            feature_size=64,\n",
    "            norm_output=True\n",
    "            ):\n",
    "        super().__init__()\n",
    "        h, w, c = image_shape\n",
    "\n",
    "        self.output_size = output_size\n",
    "        self.feature_size = feature_size\n",
    "        self.norm_output = norm_output\n",
    "        \n",
    "        self.alpha = 10.0\n",
    "\n",
    "        conv_embedding_size = 32 * 10 * 10\n",
    "\n",
    "        self.encoder = nn.Sequential(\n",
    "            # 25 x 25 x 3\n",
    "            nn.Conv2d(c, 32, (3, 3), stride=2),\n",
    "            nn.ReLU(),\n",
    "            # 12 x 12 x 32\n",
    "            nn.Conv2d(32, 32, (3, 3), stride=1),\n",
    "            nn.ReLU(),\n",
    "            # 10 x 10 x 32 \n",
    "#             nn.Conv2d(64, 64, (3, 3), stride=1),\n",
    "#             # 8 x 8 x 64\n",
    "#             nn.ReLU(),\n",
    "            nn.Flatten(),\n",
    "            nn.Linear(conv_embedding_size, feature_size),\n",
    "        )\n",
    "\n",
    "    def forward(self, obs):\n",
    "        x = obs.type(torch.float)\n",
    "        x = x.permute(0, 3, 1, 2)\n",
    "        x = self.encoder(x)\n",
    "        if self.norm_output:\n",
    "            return self.normalize(x) * self.alpha\n",
    "        else:\n",
    "            return x\n",
    "    \n",
    "class TCNModel(EmbeddingNet):\n",
    "    def __init__(self, inception):\n",
    "        super().__init__()\n",
    "        self.transform_input = True\n",
    "        self.Conv2d_1a_3x3 = inception.Conv2d_1a_3x3\n",
    "        self.Conv2d_2a_3x3 = inception.Conv2d_2a_3x3\n",
    "        self.Conv2d_2b_3x3 = inception.Conv2d_2b_3x3\n",
    "        self.Conv2d_3b_1x1 = inception.Conv2d_3b_1x1\n",
    "        self.Conv2d_4a_3x3 = inception.Conv2d_4a_3x3\n",
    "        self.Mixed_5b = inception.Mixed_5b\n",
    "        self.Mixed_5c = inception.Mixed_5c\n",
    "        self.Mixed_5d = inception.Mixed_5d\n",
    "        self.Conv2d_6a_3x3 = BatchNormConv2d(288, 100, kernel_size=3, stride=1)\n",
    "        self.Conv2d_6b_3x3 = BatchNormConv2d(100, 20, kernel_size=3, stride=1)\n",
    "        self.SpatialSoftmax = nn.Softmax2d()\n",
    "        self.FullyConnected7a = Dense(4 * 4 * 20, 32)\n",
    "\n",
    "        self.alpha = 10.0\n",
    "\n",
    "    def forward(self, obs):\n",
    "        x = obs.type(torch.float)\n",
    "        x = x.permute(0, 3, 1, 2)\n",
    "        if self.transform_input:\n",
    "            x = x.clone()\n",
    "            x[:, 0] = x[:, 0] * (0.229 / 0.5) + (0.485 - 0.5) / 0.5\n",
    "            x[:, 1] = x[:, 1] * (0.224 / 0.5) + (0.456 - 0.5) / 0.5\n",
    "            x[:, 2] = x[:, 2] * (0.225 / 0.5) + (0.406 - 0.5) / 0.5\n",
    "        # 25 x 25 x 3\n",
    "        x = self.Conv2d_1a_3x3(x)\n",
    "        # 12 x 12 x 32 \n",
    "        x = self.Conv2d_2a_3x3(x)\n",
    "        # 10 x 10 x 32\n",
    "        x = self.Conv2d_2b_3x3(x)\n",
    "        # 10 x 10 x 64\n",
    "        x = self.Conv2d_3b_1x1(x)\n",
    "        # 10 x 10 x 80\n",
    "        x = self.Conv2d_4a_3x3(x)\n",
    "        # 8 x 8 x 192\n",
    "        x = self.Mixed_5b(x)\n",
    "        # 8 x 8 x 256\n",
    "        x = self.Mixed_5c(x)\n",
    "        # 8 x 8 x 288\n",
    "        x = self.Mixed_5d(x)\n",
    "        # 8 x 8 x 288\n",
    "        x = self.Conv2d_6a_3x3(x)\n",
    "        # 6 x 6 x 100\n",
    "        x = self.Conv2d_6b_3x3(x)\n",
    "        # 4 x 4 x 20\n",
    "        x = self.SpatialSoftmax(x)\n",
    "        # 4 x 4 x 20\n",
    "        x = self.FullyConnected7a(x.view(x.size()[0], -1))\n",
    "        # 32\n",
    "        # Normalize output such that output lives on unit sphere.\n",
    "        # Multiply by alpha as in https://arxiv.org/pdf/1703.09507.pdf\n",
    "        return self.normalize(x) * self.alpha\n",
    "\n",
    "\n",
    "def define_model(pretrained=True):\n",
    "    return TCNModel(models.inception_v3(pretrained=pretrained))"
   ]
  },
  {
   "cell_type": "code",
   "execution_count": 15,
   "metadata": {},
   "outputs": [],
   "source": [
    "class IDFModel(torch.nn.Module):\n",
    "\n",
    "    def __init__(\n",
    "            self,\n",
    "            image_shape,\n",
    "            output_size,\n",
    "            feature_size=64\n",
    "            ):\n",
    "        super().__init__()\n",
    "        h, w, c = image_shape\n",
    "\n",
    "        self.output_size = output_size\n",
    "        self.feature_size = feature_size\n",
    "\n",
    "        conv_embedding_size = 32 * 10 * 10\n",
    "\n",
    "        self.encoder = nn.Sequential(\n",
    "            nn.Conv2d(c, 32, (3, 3), stride=2),\n",
    "            nn.ReLU(),\n",
    "            nn.Conv2d(32, 32, (3, 3), stride=1),\n",
    "            nn.ReLU(),\n",
    "            nn.Flatten(),\n",
    "            nn.Linear(conv_embedding_size, self.feature_size)\n",
    "        )\n",
    "\n",
    "        self.inverse = nn.Sequential(\n",
    "            nn.Linear(feature_size * 2, self.output_size)\n",
    "        )\n",
    "\n",
    "    def forward(self, obs, next_obs=None, mode='inverse'):\n",
    "        x = obs.type(torch.float)\n",
    "        if mode == 'inverse':\n",
    "            next_x = next_obs.type(torch.float)\n",
    "            return self.inverse(torch.cat((x, next_x), dim=1))\n",
    "        elif mode == 'encode':\n",
    "            x = x.permute(0, 3, 1, 2)\n",
    "            return self.encoder(x)\n",
    "        else:\n",
    "            raise ValueError('Invalid mode!')"
   ]
  },
  {
   "cell_type": "markdown",
   "metadata": {},
   "source": [
    "### 4. IDF Training"
   ]
  },
  {
   "cell_type": "code",
   "execution_count": 22,
   "metadata": {},
   "outputs": [],
   "source": [
    "states = data[X[:, 0]]\n",
    "next_states = data[X[:, 0] + 1]\n",
    "idf_actions = torch.LongTensor(actions[X[:, 0]]).to(device)"
   ]
  },
  {
   "cell_type": "code",
   "execution_count": 23,
   "metadata": {},
   "outputs": [
    {
     "data": {
      "text/plain": [
       "IDFModel(\n",
       "  (encoder): Sequential(\n",
       "    (0): Conv2d(3, 32, kernel_size=(3, 3), stride=(2, 2))\n",
       "    (1): ReLU()\n",
       "    (2): Conv2d(32, 32, kernel_size=(3, 3), stride=(1, 1))\n",
       "    (3): ReLU()\n",
       "    (4): Flatten()\n",
       "    (5): Linear(in_features=3200, out_features=64, bias=True)\n",
       "  )\n",
       "  (inverse): Sequential(\n",
       "    (0): Linear(in_features=128, out_features=4, bias=True)\n",
       "  )\n",
       ")"
      ]
     },
     "execution_count": 23,
     "metadata": {},
     "output_type": "execute_result"
    }
   ],
   "source": [
    "try:\n",
    "    del idf_model\n",
    "except:\n",
    "    print('IDF model does not yet exist')\n",
    "idf_model = IDFModel(env.observation_space.shape, 4, 64)\n",
    "idf_model.to(device)"
   ]
  },
  {
   "cell_type": "code",
   "execution_count": 24,
   "metadata": {},
   "outputs": [],
   "source": [
    "IDF_RUN_ID = 2"
   ]
  },
  {
   "cell_type": "code",
   "execution_count": 25,
   "metadata": {},
   "outputs": [],
   "source": [
    "N = states.size()[0]\n",
    "learning_rate = 1e-4\n",
    "epochs = 5000\n",
    "batch_size = 128\n",
    "# optim_kwargs = dict(eps=0.01 / N)\n",
    "clip_grad_norm = 10\n",
    "log_interval = 500"
   ]
  },
  {
   "cell_type": "code",
   "execution_count": 26,
   "metadata": {},
   "outputs": [],
   "source": [
    "idf_optimizer = torch.optim.Adam(idf_model.parameters(), lr=learning_rate)\n",
    "cross_entropy_loss = nn.CrossEntropyLoss()\n",
    "idf_losses = []\n",
    "accuracies = []\n",
    "idf_grad_norms = []"
   ]
  },
  {
   "cell_type": "code",
   "execution_count": 27,
   "metadata": {},
   "outputs": [
    {
     "name": "stdout",
     "output_type": "stream",
     "text": [
      "Epoch 0: loss = 1.386963951436779, accuracy = 24.634098101265824%\n",
      "Epoch 500: loss = 0.17944617371393157, accuracy = 92.71162974683544%\n",
      "Epoch 1000: loss = 0.06850778523691092, accuracy = 96.86511075949367%\n",
      "Epoch 1500: loss = 0.033732240948873234, accuracy = 98.6748417721519%\n",
      "Epoch 2000: loss = 0.018412841766884055, accuracy = 99.37697784810126%\n",
      "Epoch 2500: loss = 0.009874136340391786, accuracy = 99.74287974683544%\n",
      "Epoch 3000: loss = 0.004321197236451922, accuracy = 99.96044303797468%\n",
      "Epoch 3500: loss = 0.0016792959333220615, accuracy = 99.99011075949367%\n",
      "Epoch 4000: loss = 0.0016174615018918544, accuracy = 99.96044303797468%\n",
      "Epoch 4500: loss = 0.0008279613154362651, accuracy = 99.99011075949367%\n",
      "Epoch 4999: loss = 0.00014811678777767133, accuracy = 100.0%\n"
     ]
    }
   ],
   "source": [
    "for epoch in range(epochs):\n",
    "\n",
    "    permutation = torch.randint(0, N, (N, ))\n",
    "    \n",
    "    epoch_losses = []\n",
    "    epoch_accuracies = []\n",
    "    epoch_grad_norms = []\n",
    "    \n",
    "    for i in range(0, N, batch_size):\n",
    "        idf_optimizer.zero_grad()\n",
    "        \n",
    "        indices = permutation[i: i + batch_size]\n",
    "\n",
    "        state_embedding = idf_model(states[indices], mode='encode')\n",
    "        next_state_embedding = idf_model(next_states[indices], mode='encode')\n",
    "        \n",
    "        pred_actions = idf_model(state_embedding, next_state_embedding, mode='inverse')\n",
    "        loss = cross_entropy_loss(pred_actions, idf_actions[indices])\n",
    "\n",
    "        loss.backward()\n",
    "        grad_norm = nn.utils.clip_grad_norm_(idf_model.parameters(), clip_grad_norm)\n",
    "\n",
    "        idf_optimizer.step()\n",
    "        \n",
    "        accuracy = ((pred_actions.argmax(dim=1) == idf_actions[indices]).sum().float() / idf_actions[indices].shape[0]) * 100\n",
    "        \n",
    "        epoch_losses.append(loss.item())\n",
    "        epoch_accuracies.append(accuracy.item())\n",
    "        epoch_grad_norms.append(grad_norm)\n",
    "        \n",
    "    idf_losses.append(np.mean(epoch_losses))\n",
    "    accuracies.append(np.mean(epoch_accuracies))\n",
    "    idf_grad_norms.append(np.mean(epoch_grad_norms))\n",
    "    \n",
    "    if epoch % log_interval == 0 or epoch == epochs - 1:\n",
    "        print('Epoch {}: loss = {}, accuracy = {}%'.format(epoch, np.mean(epoch_losses), np.mean(epoch_accuracies)))\n",
    "        \n",
    "        torch.save(idf_model.state_dict(), 'models/IDF-{}-{}.pt'.format(IDF_RUN_ID, epoch))"
   ]
  },
  {
   "cell_type": "code",
   "execution_count": 28,
   "metadata": {},
   "outputs": [
    {
     "data": {
      "text/plain": [
       "[<matplotlib.lines.Line2D at 0x7f14b1f330d0>]"
      ]
     },
     "execution_count": 28,
     "metadata": {},
     "output_type": "execute_result"
    },
    {
     "data": {
      "image/png": "[encoded data removed]",
      "text/plain": [
       "<Figure size 432x288 with 1 Axes>"
      ]
     },
     "metadata": {
      "needs_background": "light"
     },
     "output_type": "display_data"
    }
   ],
   "source": [
    "plt.plot(idf_losses)"
   ]
  },
  {
   "cell_type": "code",
   "execution_count": 29,
   "metadata": {},
   "outputs": [
    {
     "data": {
      "text/plain": [
       "[<matplotlib.lines.Line2D at 0x7f14b80b1810>]"
      ]
     },
     "execution_count": 29,
     "metadata": {},
     "output_type": "execute_result"
    },
    {
     "data": {
      "image/png": "[encoded data removed]",
      "text/plain": [
       "<Figure size 432x288 with 1 Axes>"
      ]
     },
     "metadata": {
      "needs_background": "light"
     },
     "output_type": "display_data"
    }
   ],
   "source": [
    "plt.plot(accuracies)"
   ]
  },
  {
   "cell_type": "markdown",
   "metadata": {},
   "source": [
    "### 4. Time-Contrastive Training\n",
    "\n",
    "1. Defined distance function to be -1 * cosine similarity of features\n",
    "2. Trained with triplet hinge loss\n",
    "3. Margin between positive and negative distance should be 2.0"
   ]
  },
  {
   "cell_type": "code",
   "execution_count": 47,
   "metadata": {},
   "outputs": [],
   "source": [
    "def l2_distance(a, b, norm=False):\n",
    "    if norm:\n",
    "        a = a / torch.norm(a, dim=1, keepdim=True)\n",
    "        b = b / torch.norm(b, dim=1, keepdim=True)\n",
    "    return torch.norm(a - b, dim=1)\n",
    "\n",
    "def cos_distance(a, b, norm=False):\n",
    "    if norm:\n",
    "        a = a / torch.norm(a, dim=1, keepdim=True)\n",
    "        b = b / torch.norm(b, dim=1, keepdim=True)\n",
    "    return -1 * torch.sum(a * b, dim=1)"
   ]
  },
  {
   "cell_type": "code",
   "execution_count": 48,
   "metadata": {},
   "outputs": [],
   "source": [
    "try:\n",
    "    del model\n",
    "except:\n",
    "    print('TCN model does not yet exist')\n",
    "feature_size = 64\n",
    "model = TCN(env.observation_space.shape, env.action_space.n, feature_size, True)\n",
    "# model = define_model()\n",
    "model.to(device)\n",
    "N = X.shape[0]"
   ]
  },
  {
   "cell_type": "code",
   "execution_count": 49,
   "metadata": {},
   "outputs": [],
   "source": [
    "# learning_rate = 1e-2\n",
    "# optimizer = torch.optim.SGD(model.parameters(), lr=learning_rate, momentum=0.9)\n",
    "# learning_rate_scheduler = torch.optim.lr_scheduler.MultiStepLR(optimizer, milestones=[100, 500, 1000], gamma=0.1)"
   ]
  },
  {
   "cell_type": "code",
   "execution_count": 50,
   "metadata": {},
   "outputs": [],
   "source": [
    "learning_rate = 1e-3\n",
    "optimizer = torch.optim.Adam(model.parameters(), lr=learning_rate)"
   ]
  },
  {
   "cell_type": "code",
   "execution_count": 51,
   "metadata": {},
   "outputs": [],
   "source": [
    "RUN_ID = 12"
   ]
  },
  {
   "cell_type": "code",
   "execution_count": 54,
   "metadata": {},
   "outputs": [],
   "source": [
    "epochs = 3500\n",
    "batch_size = 128\n",
    "clip_grad_norm = 10\n",
    "log_interval = 500\n",
    "margin = 2.0"
   ]
  },
  {
   "cell_type": "code",
   "execution_count": 55,
   "metadata": {},
   "outputs": [],
   "source": [
    "losses = []\n",
    "avg_d_pos = []\n",
    "avg_d_neg = []\n",
    "grad_norms = []"
   ]
  },
  {
   "cell_type": "code",
   "execution_count": 56,
   "metadata": {},
   "outputs": [
    {
     "name": "stdout",
     "output_type": "stream",
     "text": [
      "Epoch 0: loss = 1.251, d_pos = 1.636, d_neg = 2.748\n",
      "Epoch 500: loss = 0.718, d_pos = 2.444, d_neg = 5.625\n",
      "Epoch 1000: loss = 0.633, d_pos = 3.176, d_neg = 6.886\n",
      "Epoch 1500: loss = 0.577, d_pos = 3.812, d_neg = 7.796\n",
      "Epoch 2000: loss = 0.549, d_pos = 4.158, d_neg = 8.278\n",
      "Epoch 2500: loss = 0.534, d_pos = 4.376, d_neg = 8.551\n",
      "Epoch 3000: loss = 0.523, d_pos = 4.552, d_neg = 8.768\n",
      "Epoch 3499: loss = 0.515, d_pos = 4.687, d_neg = 8.928\n"
     ]
    }
   ],
   "source": [
    "for epoch in range(epochs):\n",
    "    permutation = torch.randint(0, N, (N, ))\n",
    "    \n",
    "    epoch_losses = []\n",
    "    epoch_d_pos = []\n",
    "    epoch_d_neg = []\n",
    "    epoch_grad_norms = []\n",
    "    \n",
    "    for i in range(0, N, batch_size):\n",
    "        optimizer.zero_grad()\n",
    "        \n",
    "        indices = permutation[i: i + batch_size]\n",
    "        \n",
    "        X_batch = X[indices]\n",
    "        if len(X_batch.shape) == 1:\n",
    "            X_batch = X_batch.reshape(1, -1)\n",
    "        \n",
    "        anchor_embeddings = model(data[X_batch[:, 0]])\n",
    "        pos_embeddings = model(data[X_batch[:, 1]])\n",
    "        neg_embeddings = model(data[X_batch[:, 2]])\n",
    "        \n",
    "#         d_pos = cos_distance(anchor_embeddings, pos_embeddings, True)\n",
    "#         d_neg = cos_distance(anchor_embeddings, neg_embeddings, True)\n",
    "        d_pos = l2_distance(anchor_embeddings, pos_embeddings)\n",
    "        d_neg = l2_distance(anchor_embeddings, neg_embeddings)\n",
    "        \n",
    "        epoch_d_pos.append(d_pos.data.cpu().numpy().mean())\n",
    "        epoch_d_neg.append(d_neg.data.cpu().numpy().mean())\n",
    "        \n",
    "        loss = torch.clamp(margin + d_pos - d_neg, min=0.0).mean()\n",
    "        \n",
    "        loss.backward()\n",
    "        grad_norm = nn.utils.clip_grad_norm_(model.parameters(), clip_grad_norm)\n",
    "\n",
    "        optimizer.step()\n",
    "            \n",
    "        epoch_losses.append(loss.data.cpu().numpy())\n",
    "        epoch_grad_norms.append(grad_norm)\n",
    "    \n",
    "    # learning_rate_scheduler.step()\n",
    "    \n",
    "    losses.append(np.mean(epoch_losses))\n",
    "    avg_d_pos.append(np.mean(epoch_d_pos))\n",
    "    avg_d_neg.append(np.mean(epoch_d_neg))\n",
    "    grad_norms.append(np.mean(epoch_grad_norms))\n",
    "    \n",
    "    if epoch % log_interval == 0 or epoch == epochs - 1:\n",
    "        print('Epoch {}: loss = {:.3f}, d_pos = {:.3f}, d_neg = {:.3f}'.format(epoch,\n",
    "                                                                               np.mean(losses[-log_interval:]),\n",
    "                                                                               np.mean(avg_d_pos[-log_interval:]),\n",
    "                                                                               np.mean(avg_d_neg[-log_interval:])))\n",
    "        \n",
    "        torch.save(model.state_dict(), 'models/TCN-{}-{}.pt'.format(RUN_ID, epoch))"
   ]
  },
  {
   "cell_type": "code",
   "execution_count": 57,
   "metadata": {},
   "outputs": [
    {
     "data": {
      "text/plain": [
       "[<matplotlib.lines.Line2D at 0x7fa08c493a50>]"
      ]
     },
     "execution_count": 57,
     "metadata": {},
     "output_type": "execute_result"
    },
    {
     "data": {
      "image/png": "[encoded data removed]",
      "text/plain": [
       "<Figure size 432x288 with 1 Axes>"
      ]
     },
     "metadata": {
      "needs_background": "light"
     },
     "output_type": "display_data"
    }
   ],
   "source": [
    "plt.plot(losses)"
   ]
  },
  {
   "cell_type": "code",
   "execution_count": 58,
   "metadata": {},
   "outputs": [
    {
     "data": {
      "text/plain": [
       "[<matplotlib.lines.Line2D at 0x7fa08c5479d0>]"
      ]
     },
     "execution_count": 58,
     "metadata": {},
     "output_type": "execute_result"
    },
    {
     "data": {
      "image/png": "[encoded data removed]",
      "text/plain": [
       "<Figure size 432x288 with 1 Axes>"
      ]
     },
     "metadata": {
      "needs_background": "light"
     },
     "output_type": "display_data"
    }
   ],
   "source": [
    "plt.plot(avg_d_pos)"
   ]
  },
  {
   "cell_type": "code",
   "execution_count": 59,
   "metadata": {},
   "outputs": [
    {
     "data": {
      "text/plain": [
       "[<matplotlib.lines.Line2D at 0x7fa08c304510>]"
      ]
     },
     "execution_count": 59,
     "metadata": {},
     "output_type": "execute_result"
    },
    {
     "data": {
      "image/png": "[encoded data removed]",
      "text/plain": [
       "<Figure size 432x288 with 1 Axes>"
      ]
     },
     "metadata": {
      "needs_background": "light"
     },
     "output_type": "display_data"
    }
   ],
   "source": [
    "plt.plot(avg_d_neg)"
   ]
  },
  {
   "cell_type": "code",
   "execution_count": 60,
   "metadata": {},
   "outputs": [
    {
     "data": {
      "text/plain": [
       "[<matplotlib.lines.Line2D at 0x7fa08c452110>]"
      ]
     },
     "execution_count": 60,
     "metadata": {},
     "output_type": "execute_result"
    },
    {
     "data": {
      "image/png": "[encoded data removed]",
      "text/plain": [
       "<Figure size 432x288 with 1 Axes>"
      ]
     },
     "metadata": {
      "needs_background": "light"
     },
     "output_type": "display_data"
    }
   ],
   "source": [
    "plt.plot(grad_norms)"
   ]
  },
  {
   "cell_type": "markdown",
   "metadata": {},
   "source": [
    "### 5. Visualize results\n",
    "\n",
    "1. Computed features for all positive states\n",
    "2. Computed cosine similarity between all states and a selected subgoal state, e.g. (4, 13)"
   ]
  },
  {
   "cell_type": "code",
   "execution_count": 30,
   "metadata": {},
   "outputs": [],
   "source": [
    "def get_heatmap(features, subgoal):\n",
    "    np_features = features.detach().numpy()\n",
    "    features_matrix = np_features.mean(axis=2)\n",
    "    features_matrix = features_matrix / np.linalg.norm(features_matrix, ord=2, axis=2, keepdims=True)\n",
    "\n",
    "    subgoal_features = features_matrix[subgoal]\n",
    "\n",
    "    side_size = features_matrix.shape[0]\n",
    "    heatmap = np.zeros((side_size, side_size))\n",
    "    for r in range(side_size):\n",
    "        for c in range(side_size):\n",
    "#             heatmap[r, c] = np.dot(features_matrix[r, c], subgoal_features)\n",
    "            heatmap[r, c] = np.linalg.norm(features_matrix[r, c] - subgoal_features)\n",
    "    return heatmap"
   ]
  },
  {
   "cell_type": "code",
   "execution_count": 31,
   "metadata": {},
   "outputs": [],
   "source": [
    "# obs = env.reset()\n",
    "# h, w = env.grid.height, env.grid.width\n",
    "# features = torch.zeros((h, w, 4, 32), dtype=torch.float)\n",
    "# features += np.nan\n",
    "\n",
    "# positions = set()\n",
    "# for r in range(19):\n",
    "#     for c in range(19):\n",
    "#         if r not in [0, 9, 18] and c not in [0, 9, 18]:\n",
    "#             for action in range(4):\n",
    "#                 env.env.env.unwrapped.agent_pos = np.array([r, c])\n",
    "#                 _, _, done, _ = env.step(action)\n",
    "\n",
    "#                 pos = tuple(env.agent_pos)\n",
    "#                 if pos not in positions:\n",
    "#                     positions.add(pos)\n",
    "#                 if done:\n",
    "#                     env.reset()\n",
    "\n",
    "# for pos in positions:\n",
    "#     for direction in range(4):\n",
    "#         env.env.env.unwrapped.agent_pos = np.array(pos)\n",
    "#         env.env.env.unwrapped.agent_dir = direction\n",
    "#         obs, _, _, _ = env.step(4)\n",
    "#         model_inputs = torch.Tensor(obs).unsqueeze(0).to(device)\n",
    "#         features[pos[0], pos[1], direction] = model(model_inputs)"
   ]
  },
  {
   "cell_type": "code",
   "execution_count": 34,
   "metadata": {},
   "outputs": [],
   "source": [
    "load_run_id = 11\n",
    "load_idf_run_id = 2\n",
    "load_epoch = 3000"
   ]
  },
  {
   "cell_type": "code",
   "execution_count": 35,
   "metadata": {},
   "outputs": [
    {
     "data": {
      "text/plain": [
       "IDFModel(\n",
       "  (encoder): Sequential(\n",
       "    (0): Conv2d(3, 32, kernel_size=(3, 3), stride=(2, 2))\n",
       "    (1): ReLU()\n",
       "    (2): Conv2d(32, 32, kernel_size=(3, 3), stride=(1, 1))\n",
       "    (3): ReLU()\n",
       "    (4): Flatten()\n",
       "    (5): Linear(in_features=3200, out_features=64, bias=True)\n",
       "  )\n",
       "  (inverse): Sequential(\n",
       "    (0): Linear(in_features=128, out_features=4, bias=True)\n",
       "  )\n",
       ")"
      ]
     },
     "execution_count": 35,
     "metadata": {},
     "output_type": "execute_result"
    }
   ],
   "source": [
    "params = torch.load('models/IDF-{}-{}.pt'.format(load_idf_run_id, load_epoch), map_location=device)\n",
    "feature_size = 64\n",
    "idf_model = IDFModel(env.observation_space.shape, 4, 64)\n",
    "idf_model.load_state_dict(params)\n",
    "idf_model.to(device)"
   ]
  },
  {
   "cell_type": "code",
   "execution_count": 36,
   "metadata": {},
   "outputs": [
    {
     "data": {
      "text/plain": [
       "TCN(\n",
       "  (encoder): Sequential(\n",
       "    (0): Conv2d(3, 32, kernel_size=(3, 3), stride=(2, 2))\n",
       "    (1): ReLU()\n",
       "    (2): Conv2d(32, 32, kernel_size=(3, 3), stride=(1, 1))\n",
       "    (3): ReLU()\n",
       "    (4): Flatten()\n",
       "    (5): Linear(in_features=3200, out_features=64, bias=True)\n",
       "  )\n",
       ")"
      ]
     },
     "execution_count": 36,
     "metadata": {},
     "output_type": "execute_result"
    }
   ],
   "source": [
    "params = torch.load('models/TCN-{}-{}.pt'.format(load_run_id, load_epoch), map_location=device)\n",
    "feature_size = 64\n",
    "model = TCN(env.observation_space.shape, env.action_space.n, feature_size, True)\n",
    "model.load_state_dict(params)\n",
    "model.to(device)"
   ]
  },
  {
   "cell_type": "code",
   "execution_count": 37,
   "metadata": {},
   "outputs": [],
   "source": [
    "h, w = env.grid.height, env.grid.width\n",
    "features = torch.zeros((h, w, 4, feature_size), dtype=torch.float)\n",
    "features += np.nan\n",
    "\n",
    "idf_features = torch.zeros((h, w, 4, feature_size), dtype=torch.float)\n",
    "idf_features += np.nan\n",
    "\n",
    "for pos in env.get_possible_pos():\n",
    "    x, y = pos\n",
    "    for direction in range(4):\n",
    "        env.unwrapped.agent_pos = np.array([x, y])\n",
    "        env.unwrapped.agent_dir = direction\n",
    "        obs, _, _, _ = env.get_current_state()\n",
    "\n",
    "        model_inputs = torch.Tensor(obs).unsqueeze(0).to(device)\n",
    "\n",
    "        features[x, y, direction] = model(model_inputs)\n",
    "        idf_features[x, y, direction] = idf_model(model_inputs, mode='encode')"
   ]
  },
  {
   "cell_type": "code",
   "execution_count": 38,
   "metadata": {},
   "outputs": [],
   "source": [
    "subgoal = (4, 14)"
   ]
  },
  {
   "cell_type": "code",
   "execution_count": 39,
   "metadata": {},
   "outputs": [],
   "source": [
    "tc_heatmap = get_heatmap(features, subgoal)\n",
    "idf_heatmap = get_heatmap(idf_features, subgoal)"
   ]
  },
  {
   "cell_type": "code",
   "execution_count": 40,
   "metadata": {},
   "outputs": [
    {
     "data": {
      "text/plain": [
       "<matplotlib.colorbar.Colorbar at 0x7f149c613110>"
      ]
     },
     "execution_count": 40,
     "metadata": {},
     "output_type": "execute_result"
    },
    {
     "data": {
      "image/png": "[encoded data removed]",
      "text/plain": [
       "<Figure size 720x720 with 2 Axes>"
      ]
     },
     "metadata": {
      "needs_background": "light"
     },
     "output_type": "display_data"
    }
   ],
   "source": [
    "plt.figure(figsize=(10, 10))\n",
    "plt.imshow(tc_heatmap.T)\n",
    "circle = plt.Circle(subgoal, 0.2, color='r')\n",
    "plt.gca().add_artist(circle)\n",
    "plt.title('L2 distance between (x, y) and {} in TC feature space'.format(subgoal))\n",
    "plt.colorbar()"
   ]
  },
  {
   "cell_type": "code",
   "execution_count": 41,
   "metadata": {},
   "outputs": [
    {
     "data": {
      "text/plain": [
       "<matplotlib.colorbar.Colorbar at 0x7f149c50d690>"
      ]
     },
     "execution_count": 41,
     "metadata": {},
     "output_type": "execute_result"
    },
    {
     "data": {
      "image/png": "[encoded data removed]",
      "text/plain": [
       "<Figure size 720x720 with 2 Axes>"
      ]
     },
     "metadata": {
      "needs_background": "light"
     },
     "output_type": "display_data"
    }
   ],
   "source": [
    "plt.figure(figsize=(10, 10))\n",
    "plt.imshow(idf_heatmap.T)\n",
    "circle = plt.Circle(subgoal, 0.2, color='r')\n",
    "plt.gca().add_artist(circle)\n",
    "plt.title('L2 distance between (x, y) and {} in IDF feature space'.format(subgoal))\n",
    "plt.colorbar()"
   ]
  },
  {
   "cell_type": "markdown",
   "metadata": {},
   "source": [
    "#### T-SNE"
   ]
  },
  {
   "cell_type": "code",
   "execution_count": 42,
   "metadata": {},
   "outputs": [],
   "source": [
    "def plot_tsne(features):\n",
    "    np_features = features.detach().numpy()\n",
    "    raw_features = np_features.mean(axis=2)\n",
    "\n",
    "    valid_features = raw_features.reshape(25 * 25, feature_size)\n",
    "    walls = np.isnan(valid_features).any(axis=1)\n",
    "    valid_features = valid_features[~walls]\n",
    "\n",
    "    embeddings = TSNE(n_components=2).fit_transform(valid_features)\n",
    "\n",
    "    rooms = np.zeros((25, 25))\n",
    "    for i, room in enumerate(env.rooms, 1):\n",
    "        start_x, start_y = room.top\n",
    "        size_x, size_y = room.size\n",
    "        for x in range(start_x + 1, start_x + size_x - 1):\n",
    "            for y in range(start_y + 1, start_y + size_y - 1):\n",
    "                rooms[x, y] = i\n",
    "    rooms = rooms.reshape(25 * 25)[~walls]\n",
    "\n",
    "    colors = [cm.jet(x) for x in np.linspace(0.0, 1.0, len(env.rooms) + 1)]\n",
    "    \n",
    "    figure = plt.figure(figsize=(10, 10))\n",
    "    tsne_data = embeddings[rooms == 0]\n",
    "    plt.scatter(tsne_data[:, 0], tsne_data[:, 1], label='Doorway', marker='*', color=colors[0])\n",
    "    for i in range(1, len(env.rooms) + 1):\n",
    "        tsne_data = embeddings[rooms == i]\n",
    "        plt.scatter(tsne_data[:, 0], tsne_data[:, 1], label='Room ' + str(i), color=colors[i])\n",
    "    plt.legend()"
   ]
  },
  {
   "cell_type": "code",
   "execution_count": 43,
   "metadata": {},
   "outputs": [
    {
     "data": {
      "image/png": "[encoded data removed]",
      "text/plain": [
       "<Figure size 720x720 with 1 Axes>"
      ]
     },
     "metadata": {
      "needs_background": "light"
     },
     "output_type": "display_data"
    }
   ],
   "source": [
    "plot_tsne(features)"
   ]
  },
  {
   "cell_type": "code",
   "execution_count": 44,
   "metadata": {},
   "outputs": [
    {
     "data": {
      "image/png": "[encoded data removed]",
      "text/plain": [
       "<Figure size 720x720 with 1 Axes>"
      ]
     },
     "metadata": {
      "needs_background": "light"
     },
     "output_type": "display_data"
    }
   ],
   "source": [
    "plot_tsne(idf_features)"
   ]
  },
  {
   "cell_type": "code",
   "execution_count": null,
   "metadata": {},
   "outputs": [],
   "source": []
  }
 ],
 "metadata": {
  "kernelspec": {
   "display_name": "Python [conda env:rlpyt] *",
   "language": "python",
   "name": "conda-env-rlpyt-py"
  },
  "language_info": {
   "codemirror_mode": {
    "name": "ipython",
    "version": 3
   },
   "file_extension": ".py",
   "mimetype": "text/x-python",
   "name": "python",
   "nbconvert_exporter": "python",
   "pygments_lexer": "ipython3",
   "version": "3.7.6"
  }
 },
 "nbformat": 4,
 "nbformat_minor": 2
}

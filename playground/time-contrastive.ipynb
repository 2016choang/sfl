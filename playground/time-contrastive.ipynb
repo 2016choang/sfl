{
 "cells": [
  {
   "cell_type": "code",
   "execution_count": 337,
   "metadata": {},
   "outputs": [],
   "source": [
    "from collections import defaultdict\n",
    "import copy\n",
    "import json\n",
    "import pickle\n",
    "\n",
    "import gym\n",
    "from gym_minigrid.minigrid import Grid\n",
    "from gym_minigrid.wrappers import FullyObsWrapper, ReseedWrapper, RGBImgObsWrapper\n",
    "import matplotlib.pylab as plt\n",
    "import networkx as nx\n",
    "import numpy as np\n",
    "from PIL import Image\n",
    "import pytorch_ssim\n",
    "import seaborn as sns\n",
    "import sklearn\n",
    "from skimage.transform import resize, rescale, downscale_local_mean\n",
    "from skimage.util import img_as_ubyte\n",
    "from sklearn.decomposition import PCA\n",
    "from sklearn.manifold import TSNE\n",
    "import torch\n",
    "import torch.nn as nn\n",
    "\n",
    "from rlpyt.models.dqn.dsr.idf_model import IDFModel\n",
    "from rlpyt.envs.gym import make as gym_make\n",
    "from rlpyt.utils.seed import set_seed\n",
    "from gym_minigrid.envs.multiroom import MultiRoomEnv"
   ]
  },
  {
   "cell_type": "markdown",
   "metadata": {},
   "source": [
    "### 0. Environment setup\n",
    "\n",
    "1. Downsample image 8x (200 x 200 --> 25 x 25)\n",
    "2. 500 steps per episode\n",
    "3. New agent position every episode"
   ]
  },
  {
   "cell_type": "code",
   "execution_count": 338,
   "metadata": {},
   "outputs": [
    {
     "name": "stdout",
     "output_type": "stream",
     "text": [
      "\u001b[32musing seed 333\u001b[0m\n"
     ]
    }
   ],
   "source": [
    "minigrid_config = {'size': [25, 25],\n",
    "                   'steps': 500,\n",
    "                   'reset_same': False,\n",
    "                   'reset_episodes': 1}\n",
    "mode = 'multiroom'\n",
    "env_id=None\n",
    "set_seed(333)\n",
    "\n",
    "env = gym_make(id=env_id, mode=mode, minigrid_config=minigrid_config)"
   ]
  },
  {
   "cell_type": "code",
   "execution_count": 340,
   "metadata": {},
   "outputs": [],
   "source": [
    "# minigrid_config = {'size': [19, 19],\n",
    "#                    'steps': 500,\n",
    "#                    'reset_same': False,\n",
    "#                    'reset_episodes': 1}\n",
    "# mode = 'image'\n",
    "# env_id='MiniGrid-FourRooms-v0'\n",
    "# set_seed(333)\n",
    "\n",
    "# env = gym_make(id=env_id, mode=mode, minigrid_config=minigrid_config)"
   ]
  },
  {
   "cell_type": "code",
   "execution_count": 341,
   "metadata": {},
   "outputs": [],
   "source": [
    "device = torch.device('cuda', 0)"
   ]
  },
  {
   "cell_type": "markdown",
   "metadata": {},
   "source": [
    "### 1. Collect data\n",
    "\n",
    "1. 10,000 total steps"
   ]
  },
  {
   "cell_type": "code",
   "execution_count": 342,
   "metadata": {},
   "outputs": [],
   "source": [
    "steps = int(1e4)"
   ]
  },
  {
   "cell_type": "code",
   "execution_count": 343,
   "metadata": {},
   "outputs": [],
   "source": [
    "eps_count = 0"
   ]
  },
  {
   "cell_type": "code",
   "execution_count": 344,
   "metadata": {},
   "outputs": [],
   "source": [
    "obs = env.reset()\n",
    "data = np.expand_dims(obs, 0)\n",
    "episodes = np.array([eps_count])"
   ]
  },
  {
   "cell_type": "code",
   "execution_count": 345,
   "metadata": {},
   "outputs": [],
   "source": [
    "for i in range(steps):\n",
    "    s, _, d, _ = env.step(env.action_space.sample())\n",
    "    data = np.append(data, np.expand_dims(s, 0), axis=0)\n",
    "    episodes = np.append(episodes, [0], axis=0)\n",
    "    if d:\n",
    "        data = np.append(data, np.expand_dims(env.reset(), 0), axis=0)\n",
    "        eps_count += 1\n",
    "        episodes = np.append(episodes, [eps_count], axis=0)"
   ]
  },
  {
   "cell_type": "code",
   "execution_count": 346,
   "metadata": {},
   "outputs": [
    {
     "name": "stdout",
     "output_type": "stream",
     "text": [
      "(10021, 25, 25, 3)\n",
      "(10021,)\n"
     ]
    }
   ],
   "source": [
    "print(data.shape)\n",
    "print(episodes.shape)"
   ]
  },
  {
   "cell_type": "code",
   "execution_count": 347,
   "metadata": {},
   "outputs": [
    {
     "data": {
      "text/plain": [
       "<matplotlib.colorbar.Colorbar at 0x7efa9980ae50>"
      ]
     },
     "execution_count": 347,
     "metadata": {},
     "output_type": "execute_result"
    },
    {
     "data": {
      "image/png": "[encoded data removed]",
      "text/plain": [
       "<Figure size 432x288 with 2 Axes>"
      ]
     },
     "metadata": {
      "needs_background": "light"
     },
     "output_type": "display_data"
    }
   ],
   "source": [
    "plt.imshow(env.visited.T)\n",
    "plt.colorbar()"
   ]
  },
  {
   "cell_type": "markdown",
   "metadata": {},
   "source": [
    "### 2. Separate into positive and negative pairs\n",
    "\n",
    "1. 1,000 anchors randomly sampled from collected data\n",
    "2. Positive samples are defined as +/- 3 time steps from anchor, i.e. [t - 3, t + 3]\n",
    "3. Negative samples are randomly sampled from [t - 100, t - 50] and [t + 50, t + 100]\n",
    "4. Each anchor has an equal number of positive and negative sampled paired with it\n",
    "5. Made sure that pairs all come from same episode"
   ]
  },
  {
   "cell_type": "code",
   "execution_count": 348,
   "metadata": {},
   "outputs": [],
   "source": [
    "num_anchors = 1000 "
   ]
  },
  {
   "cell_type": "code",
   "execution_count": 349,
   "metadata": {},
   "outputs": [],
   "source": [
    "n_samples = data.shape[0]"
   ]
  },
  {
   "cell_type": "code",
   "execution_count": 350,
   "metadata": {},
   "outputs": [],
   "source": [
    "X = []\n",
    "y = []"
   ]
  },
  {
   "cell_type": "code",
   "execution_count": 351,
   "metadata": {},
   "outputs": [],
   "source": [
    "anchors = np.random.choice(range(n_samples), size=num_anchors)"
   ]
  },
  {
   "cell_type": "code",
   "execution_count": 352,
   "metadata": {},
   "outputs": [],
   "source": [
    "neg_threshold = 50\n",
    "pos_threshold = 3"
   ]
  },
  {
   "cell_type": "code",
   "execution_count": 353,
   "metadata": {},
   "outputs": [],
   "source": [
    "for anchor in anchors:\n",
    "    anchor_episode = episodes[anchor]\n",
    "    \n",
    "    examples = 0\n",
    "    for idx in range(anchor - pos_threshold, anchor + pos_threshold + 1):\n",
    "        if idx >= 0  and idx < n_samples and idx != anchor and episodes[idx] == anchor_episode:\n",
    "            X.append([anchor, idx])\n",
    "            y.append(0)\n",
    "            examples += 1\n",
    "    \n",
    "    neg_examples = np.random.choice(list(range(anchor - 2 * neg_threshold, anchor - neg_threshold)) +\n",
    "                                    list(range(anchor + neg_threshold, anchor + 2 * neg_threshold)), size=4 * neg_threshold)\n",
    "\n",
    "    i = 0\n",
    "    while True:\n",
    "        if examples == 0:\n",
    "            break\n",
    "        \n",
    "        idx = neg_examples[i]\n",
    "        i += 1\n",
    "        \n",
    "        if idx >= 0 and idx < n_samples and episodes[idx] == anchor_episode:\n",
    "            X.append([anchor, idx])\n",
    "            y.append(1)\n",
    "            examples -= 1"
   ]
  },
  {
   "cell_type": "code",
   "execution_count": 354,
   "metadata": {},
   "outputs": [],
   "source": [
    "X = np.array(X)"
   ]
  },
  {
   "cell_type": "code",
   "execution_count": 355,
   "metadata": {},
   "outputs": [],
   "source": [
    "data = torch.Tensor(data).to(device)"
   ]
  },
  {
   "cell_type": "code",
   "execution_count": 356,
   "metadata": {},
   "outputs": [],
   "source": [
    "y = torch.Tensor(y).to(device)"
   ]
  },
  {
   "cell_type": "code",
   "execution_count": 357,
   "metadata": {},
   "outputs": [
    {
     "data": {
      "text/plain": [
       "tensor(5987., device='cuda:0')"
      ]
     },
     "execution_count": 357,
     "metadata": {},
     "output_type": "execute_result"
    }
   ],
   "source": [
    "y.sum()"
   ]
  },
  {
   "cell_type": "markdown",
   "metadata": {},
   "source": [
    "### 3. Define model\n",
    "\n",
    "1. 2 conv layers, 1 linear layer\n",
    "2. Feature size = 64"
   ]
  },
  {
   "cell_type": "code",
   "execution_count": 358,
   "metadata": {},
   "outputs": [],
   "source": [
    "class TCN(torch.nn.Module):\n",
    "\n",
    "    def __init__(\n",
    "            self,\n",
    "            image_shape,\n",
    "            output_size,\n",
    "            feature_size=64\n",
    "            ):\n",
    "        super().__init__()\n",
    "        h, w, c = image_shape\n",
    "\n",
    "        self.output_size = output_size\n",
    "        self.feature_size = feature_size\n",
    "\n",
    "        conv_embedding_size = 16 * (((h - 3) // 2) - 1) ** 2\n",
    "\n",
    "        self.encoder = nn.Sequential(\n",
    "            nn.Conv2d(c, 16, (3, 3), stride=2),\n",
    "            nn.ReLU(),\n",
    "            nn.Conv2d(16, 16, (3, 3), stride=1),\n",
    "            nn.ReLU(),\n",
    "            nn.Flatten(),\n",
    "            nn.Linear(conv_embedding_size, feature_size)\n",
    "        )\n",
    "\n",
    "    def forward(self, obs):\n",
    "        x = obs.type(torch.float)\n",
    "        x = x.permute(0, 3, 1, 2)\n",
    "        return self.encoder(x)"
   ]
  },
  {
   "cell_type": "markdown",
   "metadata": {},
   "source": [
    "### 4. Training\n",
    "\n",
    "1. Defined distance function to be 1 - cosine similarity of normed features\n",
    "2. Trained with joint hinge loss on positive and negative pairs\n",
    "3. Margin for negative samples = 0.3, i.e. we only care about negative samples whose cosine similarity < 0.7"
   ]
  },
  {
   "cell_type": "code",
   "execution_count": 359,
   "metadata": {},
   "outputs": [],
   "source": [
    "feature_size = 64"
   ]
  },
  {
   "cell_type": "code",
   "execution_count": 360,
   "metadata": {},
   "outputs": [],
   "source": [
    "del model\n",
    "model = TCN(env.observation_space.shape, env.action_space.n, feature_size)\n",
    "model.to(device)\n",
    "N = X.shape[0]\n",
    "learning_rate = 1e-4\n",
    "epochs = 500\n",
    "batch_size = 128\n",
    "# optim_kwargs = dict(eps=0.01 / N)\n",
    "clip_grad_norm = 10\n",
    "log_interval = 50\n",
    "m = 0.3"
   ]
  },
  {
   "cell_type": "code",
   "execution_count": 361,
   "metadata": {},
   "outputs": [],
   "source": [
    "optimizer = torch.optim.Adam(model.parameters(), lr=learning_rate)\n",
    "losses = []\n",
    "pos_losses = []\n",
    "neg_losses = []\n",
    "grad_norms = []"
   ]
  },
  {
   "cell_type": "code",
   "execution_count": 362,
   "metadata": {},
   "outputs": [],
   "source": [
    "def l2_distance(a, b):\n",
    "    return torch.norm(a - b, dim=1)"
   ]
  },
  {
   "cell_type": "code",
   "execution_count": 363,
   "metadata": {},
   "outputs": [],
   "source": [
    "def cos_distance(a, b):\n",
    "    a = a / torch.norm(a, dim=1, keepdim=True)\n",
    "    b = b / torch.norm(b, dim=1, keepdim=True)\n",
    "    return 1 - torch.sum(a * b, dim=1)"
   ]
  },
  {
   "cell_type": "code",
   "execution_count": 364,
   "metadata": {},
   "outputs": [
    {
     "name": "stdout",
     "output_type": "stream",
     "text": [
      "Epoch 0: loss = 0.145, pos_loss = 0.010, neg_loss = 0.136\n",
      "Epoch 50: loss = 0.053, pos_loss = 0.021, neg_loss = 0.032\n",
      "Epoch 100: loss = 0.052, pos_loss = 0.021, neg_loss = 0.031\n",
      "Epoch 150: loss = 0.051, pos_loss = 0.020, neg_loss = 0.031\n",
      "Epoch 200: loss = 0.049, pos_loss = 0.020, neg_loss = 0.030\n",
      "Epoch 250: loss = 0.050, pos_loss = 0.020, neg_loss = 0.030\n",
      "Epoch 300: loss = 0.048, pos_loss = 0.019, neg_loss = 0.029\n",
      "Epoch 350: loss = 0.051, pos_loss = 0.020, neg_loss = 0.031\n",
      "Epoch 400: loss = 0.050, pos_loss = 0.020, neg_loss = 0.030\n",
      "Epoch 450: loss = 0.049, pos_loss = 0.020, neg_loss = 0.029\n"
     ]
    }
   ],
   "source": [
    "for epoch in range(epochs):\n",
    "\n",
    "    permutation = torch.randint(0, N, (N, ))\n",
    "    \n",
    "    epoch_losses = []\n",
    "    epoch_pos_losses = []\n",
    "    epoch_neg_losses = []\n",
    "    epoch_grad_norms = []\n",
    "    \n",
    "    for i in range(0, N, batch_size):\n",
    "        optimizer.zero_grad()\n",
    "        \n",
    "        indices = permutation[i: i + batch_size]\n",
    "        \n",
    "        X_batch = X[indices]\n",
    "        y_batch = y[indices]\n",
    "        \n",
    "        anchor_embeddings = model(data[X_batch[:, 0]])\n",
    "        sample_embeddings = model(data[X_batch[:, 1]])\n",
    "        \n",
    "        pos_loss = torch.mean((1 - y_batch) * cos_distance(anchor_embeddings, sample_embeddings))\n",
    "        neg_loss = torch.mean(y_batch * torch.clamp(m  - cos_distance(anchor_embeddings, sample_embeddings), min=0))\n",
    "        \n",
    "        loss = pos_loss + neg_loss\n",
    "        \n",
    "        loss.backward()\n",
    "        grad_norm = nn.utils.clip_grad_norm_(model.parameters(), clip_grad_norm)\n",
    "\n",
    "        optimizer.step()\n",
    "            \n",
    "        epoch_losses.append(loss.item())\n",
    "        epoch_pos_losses.append(pos_loss.item())\n",
    "        epoch_neg_losses.append(neg_loss.item())\n",
    "        epoch_grad_norms.append(grad_norm)\n",
    "    \n",
    "    losses.append(np.mean(epoch_losses))\n",
    "    pos_losses.append(np.mean(epoch_pos_losses))\n",
    "    neg_losses.append(np.mean(epoch_neg_losses))\n",
    "    grad_norms.append(np.mean(epoch_grad_norms))\n",
    "    \n",
    "    if epoch % log_interval == 0:\n",
    "        print('Epoch {}: loss = {:.3f}, pos_loss = {:.3f}, neg_loss = {:.3f}'.format(epoch, losses[-1], pos_losses[-1], neg_losses[-1]))"
   ]
  },
  {
   "cell_type": "code",
   "execution_count": 365,
   "metadata": {},
   "outputs": [
    {
     "data": {
      "text/plain": [
       "<matplotlib.legend.Legend at 0x7efa997cb410>"
      ]
     },
     "execution_count": 365,
     "metadata": {},
     "output_type": "execute_result"
    },
    {
     "data": {
      "image/png": "[encoded data removed]",
      "text/plain": [
       "<Figure size 432x288 with 1 Axes>"
      ]
     },
     "metadata": {
      "needs_background": "light"
     },
     "output_type": "display_data"
    }
   ],
   "source": [
    "plt.plot(losses, label='Overall loss')\n",
    "plt.plot(pos_losses, label='Positive loss')\n",
    "plt.plot(neg_losses, label='Negative loss')\n",
    "plt.legend()"
   ]
  },
  {
   "cell_type": "code",
   "execution_count": 366,
   "metadata": {},
   "outputs": [
    {
     "data": {
      "text/plain": [
       "[<matplotlib.lines.Line2D at 0x7efa996e4e50>]"
      ]
     },
     "execution_count": 366,
     "metadata": {},
     "output_type": "execute_result"
    },
    {
     "data": {
      "image/png": "[encoded data removed]",
      "text/plain": [
       "<Figure size 432x288 with 1 Axes>"
      ]
     },
     "metadata": {
      "needs_background": "light"
     },
     "output_type": "display_data"
    }
   ],
   "source": [
    "plt.plot(grad_norms)"
   ]
  },
  {
   "cell_type": "markdown",
   "metadata": {},
   "source": [
    "### 5. Visualize results\n",
    "\n",
    "1. Computed features for all positive states\n",
    "2. Computed cosine similarity between all states and a selected subgoal state, e.g. (4, 13)"
   ]
  },
  {
   "cell_type": "code",
   "execution_count": 367,
   "metadata": {},
   "outputs": [],
   "source": [
    "obs = env.reset()\n",
    "h, w = env.grid.height, env.grid.width\n",
    "features = torch.zeros((h, w, 4, 64), dtype=torch.float)\n",
    "features += np.nan"
   ]
  },
  {
   "cell_type": "code",
   "execution_count": 368,
   "metadata": {},
   "outputs": [],
   "source": [
    "# positions = set()\n",
    "# for r in range(19):\n",
    "#     for c in range(19):\n",
    "#         if r not in [0, 9, 18] and c not in [0, 9, 18]:\n",
    "#             for action in range(4):\n",
    "#                 env.env.env.unwrapped.agent_pos = np.array([r, c])\n",
    "#                 _, _, done, _ = env.step(action)\n",
    "\n",
    "#                 pos = tuple(env.agent_pos)\n",
    "#                 if pos not in positions:\n",
    "#                     positions.add(pos)\n",
    "\n",
    "#                 if done:\n",
    "#                     env.reset()\n",
    "\n",
    "# for pos in positions:\n",
    "#     for direction in range(4):\n",
    "#         env.env.env.unwrapped.agent_pos = np.array(pos)\n",
    "#         env.env.env.unwrapped.agent_dir = direction\n",
    "#         obs, _, _, _ = env.step(4)\n",
    "#         model_inputs = torch.Tensor(obs).unsqueeze(0).to(device)\n",
    "#         features[pos[0], pos[1], direction] = model(model_inputs)"
   ]
  },
  {
   "cell_type": "code",
   "execution_count": 375,
   "metadata": {},
   "outputs": [],
   "source": [
    "h, w = env.grid.height, env.grid.width\n",
    "features = torch.zeros((h, w, 4, 64), dtype=torch.float)\n",
    "features += np.nan\n",
    "\n",
    "for room in env.rooms:\n",
    "    start_x, start_y = room.top\n",
    "    size_x, size_y = room.size\n",
    "    for direction in range(4):\n",
    "        for r in range(start_x + 1, start_x + size_x - 1):\n",
    "            for c in range(start_y + 1, start_y + size_y - 1):\n",
    "                env.env.env.unwrapped.agent_pos = np.array([r, c])\n",
    "                env.env.env.unwrapped.agent_dir = direction\n",
    "                obs, _, _, _ = env.env.env.step(5)\n",
    "\n",
    "                model_inputs = torch.Tensor(obs).unsqueeze(0).to(device)\n",
    "                \n",
    "                features[r, c, direction] = model(model_inputs)\n",
    "\n",
    "        if room.exitDoorPos is not None:\n",
    "            exit_door = np.array(room.exitDoorPos)\n",
    "            env.env.env.unwrapped.agent_pos = exit_door\n",
    "            env.env.env.unwrapped.agent_dir = direction\n",
    "            obs, _, _, _ = env.env.env.step(5)\n",
    "            \n",
    "            model_inputs = torch.Tensor(obs).unsqueeze(0).to(device)\n",
    "            \n",
    "            features[exit_door[0], exit_door[1], direction] = model(model_inputs)\n"
   ]
  },
  {
   "cell_type": "code",
   "execution_count": 376,
   "metadata": {},
   "outputs": [
    {
     "data": {
      "text/plain": [
       "torch.Size([25, 25, 4, 64])"
      ]
     },
     "execution_count": 376,
     "metadata": {},
     "output_type": "execute_result"
    }
   ],
   "source": [
    "features.shape"
   ]
  },
  {
   "cell_type": "code",
   "execution_count": 393,
   "metadata": {},
   "outputs": [],
   "source": [
    "subgoal = (16, 18)"
   ]
  },
  {
   "cell_type": "code",
   "execution_count": 394,
   "metadata": {},
   "outputs": [],
   "source": [
    "np_features = features.detach().numpy()\n",
    "\n",
    "features_matrix = np_features.mean(axis=2)\n",
    "\n",
    "features_matrix = features_matrix / np.linalg.norm(features_matrix, ord=2, axis=2, keepdims=True)\n",
    "\n",
    "subgoal_features = features_matrix[subgoal]\n",
    "\n",
    "side_size = features_matrix.shape[0]\n",
    "heatmap = np.zeros((side_size, side_size))\n",
    "for r in range(side_size):\n",
    "    for c in range(side_size):\n",
    "        heatmap[r, c] = np.dot(features_matrix[r, c], subgoal_features)\n",
    "#         heatmap[r, c] = np.linalg.norm(features_matrix[r, c] - subgoal_features)"
   ]
  },
  {
   "cell_type": "code",
   "execution_count": 395,
   "metadata": {},
   "outputs": [
    {
     "data": {
      "text/plain": [
       "<matplotlib.colorbar.Colorbar at 0x7efa98f7af90>"
      ]
     },
     "execution_count": 395,
     "metadata": {},
     "output_type": "execute_result"
    },
    {
     "data": {
      "image/png": "[encoded data removed]",
      "text/plain": [
       "<Figure size 720x720 with 2 Axes>"
      ]
     },
     "metadata": {
      "needs_background": "light"
     },
     "output_type": "display_data"
    }
   ],
   "source": [
    "plt.figure(figsize=(10, 10))\n",
    "plt.imshow(heatmap.T)\n",
    "circle = plt.Circle(subgoal, 0.2, color='r')\n",
    "plt.gca().add_artist(circle)\n",
    "plt.title('Cosine similarity between (x, y) and {} in feature space'.format(subgoal))\n",
    "plt.colorbar()"
   ]
  },
  {
   "cell_type": "code",
   "execution_count": 396,
   "metadata": {},
   "outputs": [
    {
     "data": {
      "text/plain": [
       "<matplotlib.colorbar.Colorbar at 0x7efa98eb5910>"
      ]
     },
     "execution_count": 396,
     "metadata": {},
     "output_type": "execute_result"
    },
    {
     "data": {
      "image/png": "[encoded data removed]",
      "text/plain": [
       "<Figure size 720x720 with 2 Axes>"
      ]
     },
     "metadata": {
      "needs_background": "light"
     },
     "output_type": "display_data"
    }
   ],
   "source": [
    "plt.figure(figsize=(10, 10))\n",
    "plt.imshow(env.visited.T)\n",
    "plt.colorbar()"
   ]
  },
  {
   "cell_type": "code",
   "execution_count": null,
   "metadata": {},
   "outputs": [],
   "source": []
  }
 ],
 "metadata": {
  "kernelspec": {
   "display_name": "Python [conda env:rlpyt] *",
   "language": "python",
   "name": "conda-env-rlpyt-py"
  },
  "language_info": {
   "codemirror_mode": {
    "name": "ipython",
    "version": 3
   },
   "file_extension": ".py",
   "mimetype": "text/x-python",
   "name": "python",
   "nbconvert_exporter": "python",
   "pygments_lexer": "ipython3",
   "version": "3.7.6"
  }
 },
 "nbformat": 4,
 "nbformat_minor": 2
}

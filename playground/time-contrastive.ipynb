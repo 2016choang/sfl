{
 "cells": [
  {
   "cell_type": "code",
   "execution_count": 438,
   "metadata": {},
   "outputs": [],
   "source": [
    "from collections import defaultdict\n",
    "import copy\n",
    "import json\n",
    "import pickle\n",
    "\n",
    "import gym\n",
    "from gym_minigrid.minigrid import Grid\n",
    "from gym_minigrid.wrappers import FullyObsWrapper, ReseedWrapper, RGBImgObsWrapper\n",
    "import matplotlib.pylab as plt\n",
    "import networkx as nx\n",
    "import numpy as np\n",
    "from PIL import Image\n",
    "import pytorch_ssim\n",
    "import seaborn as sns\n",
    "import sklearn\n",
    "from skimage.transform import resize, rescale, downscale_local_mean\n",
    "from skimage.util import img_as_ubyte\n",
    "from sklearn.decomposition import PCA\n",
    "from sklearn.manifold import TSNE\n",
    "import torch\n",
    "import torch.nn as nn\n",
    "\n",
    "from rlpyt.models.dqn.dsr.idf_model import IDFModel\n",
    "from rlpyt.envs.gym import make as gym_make\n",
    "from rlpyt.utils.seed import set_seed\n",
    "from gym_minigrid.envs.multiroom import MultiRoomEnv"
   ]
  },
  {
   "cell_type": "markdown",
   "metadata": {},
   "source": [
    "### 0. Environment setup\n",
    "\n",
    "1. Downsample image 8x (200 x 200 --> 25 x 25)\n",
    "2. 500 steps per episode\n",
    "3. New agent position every episode"
   ]
  },
  {
   "cell_type": "code",
   "execution_count": 439,
   "metadata": {},
   "outputs": [
    {
     "name": "stdout",
     "output_type": "stream",
     "text": [
      "\u001b[32musing seed 333\u001b[0m\n"
     ]
    }
   ],
   "source": [
    "minigrid_config = {'size': [25, 25],\n",
    "                   'steps': 500,\n",
    "                   'reset_same': False,\n",
    "                   'reset_episodes': 1}\n",
    "mode = 'multiroom'\n",
    "env_id=None\n",
    "set_seed(333)\n",
    "\n",
    "env = gym_make(id=env_id, mode=mode, minigrid_config=minigrid_config)"
   ]
  },
  {
   "cell_type": "code",
   "execution_count": 440,
   "metadata": {},
   "outputs": [],
   "source": [
    "# minigrid_config = {'size': [19, 19],\n",
    "#                    'steps': 500,\n",
    "#                    'reset_same': False,\n",
    "#                    'reset_episodes': 1}\n",
    "# mode = 'image'\n",
    "# env_id='MiniGrid-FourRooms-v0'\n",
    "# set_seed(333)\n",
    "\n",
    "# env = gym_make(id=env_id, mode=mode, minigrid_config=minigrid_config)"
   ]
  },
  {
   "cell_type": "code",
   "execution_count": 441,
   "metadata": {},
   "outputs": [],
   "source": [
    "device = torch.device('cuda', 0)"
   ]
  },
  {
   "cell_type": "markdown",
   "metadata": {},
   "source": [
    "### 1. Collect data\n",
    "\n",
    "1. 10,000 total steps"
   ]
  },
  {
   "cell_type": "code",
   "execution_count": 442,
   "metadata": {},
   "outputs": [],
   "source": [
    "steps = int(1e4)"
   ]
  },
  {
   "cell_type": "code",
   "execution_count": 443,
   "metadata": {},
   "outputs": [],
   "source": [
    "eps_count = 0"
   ]
  },
  {
   "cell_type": "code",
   "execution_count": 444,
   "metadata": {},
   "outputs": [],
   "source": [
    "obs = env.reset()\n",
    "np_data = np.expand_dims(obs, 0)\n",
    "episodes = np.array([eps_count])"
   ]
  },
  {
   "cell_type": "code",
   "execution_count": 445,
   "metadata": {},
   "outputs": [],
   "source": [
    "for i in range(steps):\n",
    "    s, _, d, _ = env.step(env.action_space.sample())\n",
    "    np_data = np.append(np_data, np.expand_dims(s, 0), axis=0)\n",
    "    episodes = np.append(episodes, [eps_count], axis=0)\n",
    "    if d:\n",
    "        np_data = np.append(np_data, np.expand_dims(env.reset(), 0), axis=0)\n",
    "        eps_count += 1\n",
    "        episodes = np.append(episodes, [eps_count], axis=0)"
   ]
  },
  {
   "cell_type": "code",
   "execution_count": 446,
   "metadata": {},
   "outputs": [
    {
     "name": "stdout",
     "output_type": "stream",
     "text": [
      "(10021, 25, 25, 3)\n",
      "(10021,)\n"
     ]
    }
   ],
   "source": [
    "print(np_data.shape)\n",
    "print(episodes.shape)"
   ]
  },
  {
   "cell_type": "code",
   "execution_count": 447,
   "metadata": {},
   "outputs": [
    {
     "data": {
      "text/plain": [
       "<matplotlib.colorbar.Colorbar at 0x7efacd2c7690>"
      ]
     },
     "execution_count": 447,
     "metadata": {},
     "output_type": "execute_result"
    },
    {
     "data": {
      "image/png": "[encoded data removed]",
      "text/plain": [
       "<Figure size 432x288 with 2 Axes>"
      ]
     },
     "metadata": {
      "needs_background": "light"
     },
     "output_type": "display_data"
    }
   ],
   "source": [
    "plt.imshow(env.visited.T)\n",
    "plt.colorbar()"
   ]
  },
  {
   "cell_type": "markdown",
   "metadata": {},
   "source": [
    "### 2. Create triplets\n",
    "\n",
    "1. 2000 anchors randomly sampled from collected data\n",
    "2. Positive samples are defined as +/- 3 time steps from anchor, i.e. [t - 3, t + 3]\n",
    "3. Negative samples are randomly sampled from [t - 30, t - 15] and [t + 15, t + 30]\n",
    "4. Made sure that triplets all come from same episode"
   ]
  },
  {
   "cell_type": "code",
   "execution_count": 448,
   "metadata": {},
   "outputs": [],
   "source": [
    "X = []\n",
    "n_samples = np_data.shape[0]\n",
    "num_anchors = 2000\n",
    "anchors = np.random.choice(range(n_samples), size=num_anchors)\n",
    "neg_threshold = 15\n",
    "pos_threshold = 3"
   ]
  },
  {
   "cell_type": "code",
   "execution_count": 449,
   "metadata": {},
   "outputs": [],
   "source": [
    "for anchor in anchors:\n",
    "    anchor_episode = episodes[anchor]\n",
    "    \n",
    "    pos_choices = []\n",
    "    for idx in range(max(0, anchor - pos_threshold), anchor):\n",
    "        if episodes[idx] == anchor_episode:\n",
    "            pos_choices.append(idx)\n",
    "            \n",
    "    for idx in range(anchor + 1, min(n_samples, anchor + pos_threshold + 1)):\n",
    "        if episodes[idx] == anchor_episode:\n",
    "            pos_choices.append(idx)\n",
    "    \n",
    "    neg_choices = []\n",
    "    for idx in range(max(0, anchor - (2 * neg_threshold)), anchor - neg_threshold + 1):\n",
    "        if episodes[idx] == anchor_episode:\n",
    "            neg_choices.append(idx)\n",
    "            \n",
    "    for idx in range(anchor + neg_threshold, min(n_samples, anchor + (2 * neg_threshold) + 1)):\n",
    "        if episodes[idx] == anchor_episode or True:\n",
    "            neg_choices.append(idx)\n",
    "        \n",
    "    pos_sample = np.random.choice(pos_choices)\n",
    "    neg_sample = np.random.choice(neg_choices)\n",
    "    X.append([anchor, pos_sample, neg_sample])"
   ]
  },
  {
   "cell_type": "code",
   "execution_count": 450,
   "metadata": {},
   "outputs": [],
   "source": [
    "X = np.array(X)"
   ]
  },
  {
   "cell_type": "code",
   "execution_count": 451,
   "metadata": {},
   "outputs": [],
   "source": [
    "data = torch.Tensor(np_data).to(device)"
   ]
  },
  {
   "cell_type": "code",
   "execution_count": 452,
   "metadata": {},
   "outputs": [],
   "source": [
    "anchor_data = data[X[:, 0]].detach().cpu().numpy()\n",
    "pos_data = data[X[:, 1]].detach().cpu().numpy()\n",
    "neg_data = data[X[:, 2]].detach().cpu().numpy()"
   ]
  },
  {
   "cell_type": "code",
   "execution_count": 453,
   "metadata": {},
   "outputs": [],
   "source": [
    "def get_coord(data):\n",
    "    N = data.shape[0]\n",
    "    h, w = data.shape[1: 3]\n",
    "    diff = data[:, :, :, 0] - data[:, :, :, 2]\n",
    "    coord = np.array(np.unravel_index(diff.reshape(N, -1).argmax(axis=1), (h, w))).T\n",
    "    return coord"
   ]
  },
  {
   "cell_type": "code",
   "execution_count": 454,
   "metadata": {},
   "outputs": [],
   "source": [
    "anchor_coord = get_coord(anchor_data)\n",
    "pos_coord = get_coord(pos_data)\n",
    "neg_coord = get_coord(neg_data)"
   ]
  },
  {
   "cell_type": "code",
   "execution_count": 455,
   "metadata": {},
   "outputs": [],
   "source": [
    "env_true_dist = env.get_true_distances()"
   ]
  },
  {
   "cell_type": "code",
   "execution_count": 456,
   "metadata": {},
   "outputs": [],
   "source": [
    "pos_dist = []\n",
    "neg_dist = []\n",
    "count = 0\n",
    "\n",
    "for a, p, n in zip(anchor_coord, pos_coord, neg_coord):\n",
    "    a_x, a_y = a\n",
    "    p_x, p_y = p\n",
    "    n_x, n_y = n\n",
    "    pos_d = env_true_dist[a_y, a_x, p_y, p_x]\n",
    "    pos_dist.append(pos_d)\n",
    "\n",
    "    neg_d = env_true_dist[a_y, a_x, n_y, n_x]\n",
    "    neg_dist.append(neg_d)"
   ]
  },
  {
   "cell_type": "code",
   "execution_count": 457,
   "metadata": {},
   "outputs": [
    {
     "name": "stdout",
     "output_type": "stream",
     "text": [
      "1.1185\n",
      "0.815755937765702\n"
     ]
    }
   ],
   "source": [
    "print(np.mean(pos_dist))\n",
    "print(np.std(pos_dist))"
   ]
  },
  {
   "cell_type": "code",
   "execution_count": 458,
   "metadata": {
    "scrolled": true
   },
   "outputs": [
    {
     "name": "stdout",
     "output_type": "stream",
     "text": [
      "3.346\n",
      "3.266693129144518\n"
     ]
    }
   ],
   "source": [
    "print(np.mean(neg_dist))\n",
    "print(np.std(neg_dist))"
   ]
  },
  {
   "cell_type": "markdown",
   "metadata": {},
   "source": [
    "### 3. Define model\n",
    "\n",
    "1. 2 conv layers, 1 linear layer\n",
    "2. Feature size = 64"
   ]
  },
  {
   "cell_type": "code",
   "execution_count": 459,
   "metadata": {},
   "outputs": [],
   "source": [
    "import torch\n",
    "from torch import nn\n",
    "from torch.nn import functional as F\n",
    "from torchvision import models\n",
    "from torch.autograd import Function\n",
    "\n",
    "class BatchNormConv2d(nn.Module):\n",
    "    def __init__(self, in_channels, out_channels, **kwargs):\n",
    "        super().__init__()\n",
    "        self.conv2d = nn.Conv2d(in_channels, out_channels, **kwargs)\n",
    "        self.batch_norm = nn.BatchNorm2d(out_channels, eps=1e-3)\n",
    "\n",
    "    def forward(self, x):\n",
    "        x = self.conv2d(x)\n",
    "        x = self.batch_norm(x)\n",
    "        return F.relu(x, inplace=True)\n",
    "\n",
    "class Dense(nn.Module):\n",
    "    def __init__(self, in_features, out_features, activation=None):\n",
    "        super().__init__()\n",
    "        self.linear = nn.Linear(in_features, out_features)\n",
    "        self.activation = activation\n",
    "\n",
    "    def forward(self, x):\n",
    "        x = self.linear(x)\n",
    "        if self.activation is not None:\n",
    "            x = self.activation(x, inplace=True)\n",
    "        return x\n",
    "\n",
    "class EmbeddingNet(nn.Module):\n",
    "    def normalize(self, x):\n",
    "        buffer = torch.pow(x, 2)\n",
    "        normp = torch.sum(buffer, 1).add_(1e-10)\n",
    "        normalization_constant = torch.sqrt(normp)\n",
    "        output = torch.div(x, normalization_constant.view(-1, 1).expand_as(x))\n",
    "        return output\n",
    "\n",
    "class TCN(EmbeddingNet):\n",
    "\n",
    "    def __init__(\n",
    "            self,\n",
    "            image_shape,\n",
    "            output_size,\n",
    "            feature_size=64,\n",
    "            norm_output=True\n",
    "            ):\n",
    "        super().__init__()\n",
    "        h, w, c = image_shape\n",
    "\n",
    "        self.output_size = output_size\n",
    "        self.feature_size = feature_size\n",
    "        self.norm_output = norm_output\n",
    "        \n",
    "        self.alpha = 10.0\n",
    "\n",
    "        conv_embedding_size = 32 * (((h - 3) // 2) - 1) ** 2\n",
    "\n",
    "        self.encoder = nn.Sequential(\n",
    "            # 25 x 25 x 3\n",
    "            nn.Conv2d(c, 32, (3, 3), stride=2),\n",
    "            nn.ReLU(),\n",
    "            # 12 x 12 x 3\n",
    "            nn.Conv2d(32, 32, (3, 3), stride=1),\n",
    "            nn.ReLU(),\n",
    "            nn.Flatten(),\n",
    "            nn.Linear(conv_embedding_size, feature_size),\n",
    "        )\n",
    "\n",
    "    def forward(self, obs):\n",
    "        x = obs.type(torch.float)\n",
    "        x = x.permute(0, 3, 1, 2)\n",
    "        x = self.encoder(x)\n",
    "        if self.norm_output:\n",
    "            return self.normalize(x) * self.alpha\n",
    "        else:\n",
    "            return x\n",
    "    \n",
    "class TCNModel(EmbeddingNet):\n",
    "    def __init__(self, inception):\n",
    "        super().__init__()\n",
    "        self.transform_input = True\n",
    "        self.Conv2d_1a_3x3 = inception.Conv2d_1a_3x3\n",
    "        self.Conv2d_2a_3x3 = inception.Conv2d_2a_3x3\n",
    "        self.Conv2d_2b_3x3 = inception.Conv2d_2b_3x3\n",
    "        self.Conv2d_3b_1x1 = inception.Conv2d_3b_1x1\n",
    "        self.Conv2d_4a_3x3 = inception.Conv2d_4a_3x3\n",
    "        self.Mixed_5b = inception.Mixed_5b\n",
    "        self.Mixed_5c = inception.Mixed_5c\n",
    "        self.Mixed_5d = inception.Mixed_5d\n",
    "        self.Conv2d_6a_3x3 = BatchNormConv2d(288, 100, kernel_size=3, stride=1)\n",
    "        self.Conv2d_6b_3x3 = BatchNormConv2d(100, 20, kernel_size=3, stride=1)\n",
    "        self.SpatialSoftmax = nn.Softmax2d()\n",
    "        self.FullyConnected7a = Dense(4 * 4 * 20, 32)\n",
    "\n",
    "        self.alpha = 10.0\n",
    "\n",
    "    def forward(self, obs):\n",
    "        x = obs.type(torch.float)\n",
    "        x = x.permute(0, 3, 1, 2)\n",
    "        if self.transform_input:\n",
    "            x = x.clone()\n",
    "            x[:, 0] = x[:, 0] * (0.229 / 0.5) + (0.485 - 0.5) / 0.5\n",
    "            x[:, 1] = x[:, 1] * (0.224 / 0.5) + (0.456 - 0.5) / 0.5\n",
    "            x[:, 2] = x[:, 2] * (0.225 / 0.5) + (0.406 - 0.5) / 0.5\n",
    "        # 25 x 25 x 3\n",
    "        x = self.Conv2d_1a_3x3(x)\n",
    "        # 12 x 12 x 32 \n",
    "        x = self.Conv2d_2a_3x3(x)\n",
    "        # 10 x 10 x 32\n",
    "        x = self.Conv2d_2b_3x3(x)\n",
    "        # 10 x 10 x 64\n",
    "        x = self.Conv2d_3b_1x1(x)\n",
    "        # 10 x 10 x 80\n",
    "        x = self.Conv2d_4a_3x3(x)\n",
    "        # 8 x 8 x 192\n",
    "        x = self.Mixed_5b(x)\n",
    "        # 8 x 8 x 256\n",
    "        x = self.Mixed_5c(x)\n",
    "        # 8 x 8 x 288\n",
    "        x = self.Mixed_5d(x)\n",
    "        # 8 x 8 x 288\n",
    "        x = self.Conv2d_6a_3x3(x)\n",
    "        # 6 x 6 x 100\n",
    "        x = self.Conv2d_6b_3x3(x)\n",
    "        # 4 x 4 x 20\n",
    "        x = self.SpatialSoftmax(x)\n",
    "        # 4 x 4 x 20\n",
    "        x = self.FullyConnected7a(x.view(x.size()[0], -1))\n",
    "        # 32\n",
    "        # Normalize output such that output lives on unit sphere.\n",
    "        # Multiply by alpha as in https://arxiv.org/pdf/1703.09507.pdf\n",
    "        return self.normalize(x) * self.alpha\n",
    "\n",
    "\n",
    "def define_model(pretrained=True):\n",
    "    return TCNModel(models.inception_v3(pretrained=pretrained))"
   ]
  },
  {
   "cell_type": "markdown",
   "metadata": {},
   "source": [
    "### 4. Training\n",
    "\n",
    "1. Defined distance function to be -1 * cosine similarity of features\n",
    "2. Trained with triplet hinge loss\n",
    "3. Margin between positive and negative distance should be 2.0"
   ]
  },
  {
   "cell_type": "code",
   "execution_count": 475,
   "metadata": {},
   "outputs": [],
   "source": [
    "def l2_distance(a, b, norm=False):\n",
    "    if norm:\n",
    "        a = a / torch.norm(a, dim=1, keepdim=True)\n",
    "        b = b / torch.norm(b, dim=1, keepdim=True)\n",
    "    return torch.norm(a - b, dim=1)\n",
    "\n",
    "def cos_distance(a, b, norm=False):\n",
    "    if norm:\n",
    "        a = a / torch.norm(a, dim=1, keepdim=True)\n",
    "        b = b / torch.norm(b, dim=1, keepdim=True)\n",
    "    return -1 * torch.sum(a * b, dim=1)"
   ]
  },
  {
   "cell_type": "code",
   "execution_count": 483,
   "metadata": {},
   "outputs": [],
   "source": [
    "del model\n",
    "feature_size = 64\n",
    "model = TCN(env.observation_space.shape, env.action_space.n, feature_size, True)\n",
    "# model = define_model()\n",
    "model.to(device)\n",
    "N = X.shape[0]"
   ]
  },
  {
   "cell_type": "code",
   "execution_count": 484,
   "metadata": {},
   "outputs": [],
   "source": [
    "# learning_rate = 1e-2\n",
    "# optimizer = torch.optim.SGD(model.parameters(), lr=learning_rate, momentum=0.9)\n",
    "# learning_rate_scheduler = torch.optim.lr_scheduler.MultiStepLR(optimizer, milestones=[100, 500, 1000], gamma=0.1)"
   ]
  },
  {
   "cell_type": "code",
   "execution_count": 485,
   "metadata": {},
   "outputs": [],
   "source": [
    "learning_rate = 1e-3\n",
    "optimizer = torch.optim.Adam(model.parameters(), lr=learning_rate)"
   ]
  },
  {
   "cell_type": "code",
   "execution_count": 486,
   "metadata": {},
   "outputs": [],
   "source": [
    "RUN_ID = 3"
   ]
  },
  {
   "cell_type": "code",
   "execution_count": 487,
   "metadata": {},
   "outputs": [],
   "source": [
    "epochs = 5000\n",
    "batch_size = 256\n",
    "clip_grad_norm = 10\n",
    "log_interval = 500\n",
    "margin = 2.0"
   ]
  },
  {
   "cell_type": "code",
   "execution_count": 488,
   "metadata": {},
   "outputs": [],
   "source": [
    "losses = []\n",
    "avg_d_pos = []\n",
    "avg_d_neg = []\n",
    "grad_norms = []"
   ]
  },
  {
   "cell_type": "code",
   "execution_count": 489,
   "metadata": {},
   "outputs": [
    {
     "name": "stdout",
     "output_type": "stream",
     "text": [
      "Epoch 0: loss = 1.841, d_pos = 0.311, d_neg = 0.470\n",
      "Epoch 500: loss = 0.573, d_pos = 2.862, d_neg = 6.341\n",
      "Epoch 1000: loss = 0.478, d_pos = 3.744, d_neg = 8.083\n",
      "Epoch 1500: loss = 0.332, d_pos = 4.801, d_neg = 9.947\n",
      "Epoch 2000: loss = 0.250, d_pos = 5.497, d_neg = 10.912\n",
      "Epoch 2500: loss = 0.213, d_pos = 5.797, d_neg = 11.256\n",
      "Epoch 3000: loss = 0.196, d_pos = 5.958, d_neg = 11.439\n",
      "Epoch 3500: loss = 0.184, d_pos = 6.061, d_neg = 11.543\n",
      "Epoch 4000: loss = 0.178, d_pos = 6.123, d_neg = 11.618\n",
      "Epoch 4500: loss = 0.170, d_pos = 6.168, d_neg = 11.682\n"
     ]
    }
   ],
   "source": [
    "for epoch in range(epochs):\n",
    "    permutation = torch.randint(0, N, (N, ))\n",
    "    \n",
    "    epoch_losses = []\n",
    "    epoch_d_pos = []\n",
    "    epoch_d_neg = []\n",
    "    epoch_grad_norms = []\n",
    "    \n",
    "    for i in range(0, N, batch_size):\n",
    "        optimizer.zero_grad()\n",
    "        \n",
    "        indices = permutation[i: i + batch_size]\n",
    "        \n",
    "        X_batch = X[indices]\n",
    "        \n",
    "        anchor_embeddings = model(data[X_batch[:, 0]])\n",
    "        pos_embeddings = model(data[X_batch[:, 1]])\n",
    "        neg_embeddings = model(data[X_batch[:, 2]])\n",
    "        \n",
    "#         d_pos = cos_distance(anchor_embeddings, pos_embeddings, True)\n",
    "#         d_neg = cos_distance(anchor_embeddings, neg_embeddings, True)\n",
    "        d_pos = l2_distance(anchor_embeddings, pos_embeddings)\n",
    "        d_neg = l2_distance(anchor_embeddings, neg_embeddings)\n",
    "        \n",
    "        epoch_d_pos.append(d_pos.data.cpu().numpy().mean())\n",
    "        epoch_d_neg.append(d_neg.data.cpu().numpy().mean())\n",
    "        \n",
    "        loss = torch.clamp(margin + d_pos - d_neg, min=0.0).mean()\n",
    "        \n",
    "        loss.backward()\n",
    "        grad_norm = nn.utils.clip_grad_norm_(model.parameters(), clip_grad_norm)\n",
    "\n",
    "        optimizer.step()\n",
    "            \n",
    "        epoch_losses.append(loss.data.cpu().numpy())\n",
    "        epoch_grad_norms.append(grad_norm)\n",
    "    \n",
    "    # learning_rate_scheduler.step()\n",
    "    \n",
    "    losses.append(np.mean(epoch_losses))\n",
    "    avg_d_pos.append(np.mean(epoch_d_pos))\n",
    "    avg_d_neg.append(np.mean(epoch_d_neg))\n",
    "    grad_norms.append(np.mean(epoch_grad_norms))\n",
    "    \n",
    "    if epoch % log_interval == 0:\n",
    "        print('Epoch {}: loss = {:.3f}, d_pos = {:.3f}, d_neg = {:.3f}'.format(epoch,\n",
    "                                                                               np.mean(losses[-log_interval:]),\n",
    "                                                                               np.mean(avg_d_pos[-log_interval:]),\n",
    "                                                                               np.mean(avg_d_neg[-log_interval:])))\n",
    "        \n",
    "        torch.save(model.state_dict(), 'models/TCN-{}-{}.pt'.format(RUN_ID, epoch))"
   ]
  },
  {
   "cell_type": "code",
   "execution_count": 490,
   "metadata": {},
   "outputs": [
    {
     "data": {
      "text/plain": [
       "[<matplotlib.lines.Line2D at 0x7efacdba18d0>]"
      ]
     },
     "execution_count": 490,
     "metadata": {},
     "output_type": "execute_result"
    },
    {
     "data": {
      "image/png": "[encoded data removed]",
      "text/plain": [
       "<Figure size 432x288 with 1 Axes>"
      ]
     },
     "metadata": {
      "needs_background": "light"
     },
     "output_type": "display_data"
    }
   ],
   "source": [
    "plt.plot(losses)"
   ]
  },
  {
   "cell_type": "code",
   "execution_count": 491,
   "metadata": {},
   "outputs": [
    {
     "data": {
      "text/plain": [
       "[<matplotlib.lines.Line2D at 0x7efacd86afd0>]"
      ]
     },
     "execution_count": 491,
     "metadata": {},
     "output_type": "execute_result"
    },
    {
     "data": {
      "image/png": "[encoded data removed]",
      "text/plain": [
       "<Figure size 432x288 with 1 Axes>"
      ]
     },
     "metadata": {
      "needs_background": "light"
     },
     "output_type": "display_data"
    }
   ],
   "source": [
    "plt.plot(avg_d_pos)"
   ]
  },
  {
   "cell_type": "code",
   "execution_count": 492,
   "metadata": {},
   "outputs": [
    {
     "data": {
      "text/plain": [
       "[<matplotlib.lines.Line2D at 0x7efacd1030d0>]"
      ]
     },
     "execution_count": 492,
     "metadata": {},
     "output_type": "execute_result"
    },
    {
     "data": {
      "image/png": "[encoded data removed]",
      "text/plain": [
       "<Figure size 432x288 with 1 Axes>"
      ]
     },
     "metadata": {
      "needs_background": "light"
     },
     "output_type": "display_data"
    }
   ],
   "source": [
    "plt.plot(avg_d_neg)"
   ]
  },
  {
   "cell_type": "code",
   "execution_count": 493,
   "metadata": {},
   "outputs": [
    {
     "data": {
      "text/plain": [
       "[<matplotlib.lines.Line2D at 0x7efaccff11d0>]"
      ]
     },
     "execution_count": 493,
     "metadata": {},
     "output_type": "execute_result"
    },
    {
     "data": {
      "image/png": "[encoded data removed]",
      "text/plain": [
       "<Figure size 432x288 with 1 Axes>"
      ]
     },
     "metadata": {
      "needs_background": "light"
     },
     "output_type": "display_data"
    }
   ],
   "source": [
    "plt.plot(grad_norms)"
   ]
  },
  {
   "cell_type": "markdown",
   "metadata": {},
   "source": [
    "### 5. Visualize results\n",
    "\n",
    "1. Computed features for all positive states\n",
    "2. Computed cosine similarity between all states and a selected subgoal state, e.g. (4, 13)"
   ]
  },
  {
   "cell_type": "code",
   "execution_count": 241,
   "metadata": {},
   "outputs": [],
   "source": [
    "# obs = env.reset()\n",
    "# h, w = env.grid.height, env.grid.width\n",
    "# features = torch.zeros((h, w, 4, 32), dtype=torch.float)\n",
    "# features += np.nan\n",
    "\n",
    "# positions = set()\n",
    "# for r in range(19):\n",
    "#     for c in range(19):\n",
    "#         if r not in [0, 9, 18] and c not in [0, 9, 18]:\n",
    "#             for action in range(4):\n",
    "#                 env.env.env.unwrapped.agent_pos = np.array([r, c])\n",
    "#                 _, _, done, _ = env.step(action)\n",
    "\n",
    "#                 pos = tuple(env.agent_pos)\n",
    "#                 if pos not in positions:\n",
    "#                     positions.add(pos)\n",
    "\n",
    "#                 if done:\n",
    "#                     env.reset()\n",
    "\n",
    "# for pos in positions:\n",
    "#     for direction in range(4):\n",
    "#         env.env.env.unwrapped.agent_pos = np.array(pos)\n",
    "#         env.env.env.unwrapped.agent_dir = direction\n",
    "#         obs, _, _, _ = env.step(4)\n",
    "#         model_inputs = torch.Tensor(obs).unsqueeze(0).to(device)\n",
    "#         features[pos[0], pos[1], direction] = model(model_inputs)"
   ]
  },
  {
   "cell_type": "code",
   "execution_count": 494,
   "metadata": {},
   "outputs": [],
   "source": [
    "load_run_id = 3\n",
    "load_epoch = 2000"
   ]
  },
  {
   "cell_type": "code",
   "execution_count": 495,
   "metadata": {},
   "outputs": [],
   "source": [
    "params = torch.load('models/TCN-{}-{}.pt'.format(load_run_id, load_epoch), map_location=device)"
   ]
  },
  {
   "cell_type": "code",
   "execution_count": 496,
   "metadata": {},
   "outputs": [
    {
     "data": {
      "text/plain": [
       "<All keys matched successfully>"
      ]
     },
     "execution_count": 496,
     "metadata": {},
     "output_type": "execute_result"
    }
   ],
   "source": [
    "model.load_state_dict(params)"
   ]
  },
  {
   "cell_type": "code",
   "execution_count": 497,
   "metadata": {},
   "outputs": [],
   "source": [
    "h, w = env.grid.height, env.grid.width\n",
    "features = torch.zeros((h, w, 4, feature_size), dtype=torch.float)\n",
    "features += np.nan\n",
    "\n",
    "for pos in env.get_possible_pos():\n",
    "    x, y = pos\n",
    "    for direction in range(4):\n",
    "        env.unwrapped.agent_pos = np.array([x, y])\n",
    "        env.unwrapped.agent_dir = direction\n",
    "        obs, _, _, _ = env.get_current_state()\n",
    "\n",
    "        model_inputs = torch.Tensor(obs).unsqueeze(0).to(device)\n",
    "\n",
    "        features[x, y, direction] = model(model_inputs)"
   ]
  },
  {
   "cell_type": "code",
   "execution_count": 498,
   "metadata": {},
   "outputs": [],
   "source": [
    "subgoal = (3, 5)\n",
    "\n",
    "np_features = features.detach().numpy()\n",
    "features_matrix = np_features.mean(axis=2)\n",
    "features_matrix = features_matrix / np.linalg.norm(features_matrix, ord=2, axis=2, keepdims=True)\n",
    "\n",
    "subgoal_features = features_matrix[subgoal]\n",
    "\n",
    "side_size = features_matrix.shape[0]\n",
    "heatmap = np.zeros((side_size, side_size))\n",
    "for r in range(side_size):\n",
    "    for c in range(side_size):\n",
    "        heatmap[r, c] = np.dot(features_matrix[r, c], subgoal_features)\n",
    "#         heatmap[r, c] = np.linalg.norm(features_matrix[r, c] - subgoal_features)"
   ]
  },
  {
   "cell_type": "code",
   "execution_count": 499,
   "metadata": {},
   "outputs": [
    {
     "data": {
      "text/plain": [
       "<matplotlib.colorbar.Colorbar at 0x7efaccf96bd0>"
      ]
     },
     "execution_count": 499,
     "metadata": {},
     "output_type": "execute_result"
    },
    {
     "data": {
      "image/png": "[encoded data removed]",
      "text/plain": [
       "<Figure size 720x720 with 2 Axes>"
      ]
     },
     "metadata": {
      "needs_background": "light"
     },
     "output_type": "display_data"
    }
   ],
   "source": [
    "plt.figure(figsize=(10, 10))\n",
    "plt.imshow(heatmap.T)\n",
    "circle = plt.Circle(subgoal, 0.2, color='r')\n",
    "plt.gca().add_artist(circle)\n",
    "plt.title('L2 distance between (x, y) and {} in feature space'.format(subgoal))\n",
    "plt.colorbar()"
   ]
  },
  {
   "cell_type": "markdown",
   "metadata": {},
   "source": [
    "#### T-SNE"
   ]
  },
  {
   "cell_type": "code",
   "execution_count": 500,
   "metadata": {},
   "outputs": [],
   "source": [
    "np_features = features.detach().numpy()\n",
    "raw_features = np_features.mean(axis=2)"
   ]
  },
  {
   "cell_type": "code",
   "execution_count": 501,
   "metadata": {},
   "outputs": [
    {
     "data": {
      "text/plain": [
       "-0.003034275"
      ]
     },
     "execution_count": 501,
     "metadata": {},
     "output_type": "execute_result"
    }
   ],
   "source": [
    "np.nanmean(raw_features)"
   ]
  },
  {
   "cell_type": "code",
   "execution_count": 502,
   "metadata": {},
   "outputs": [],
   "source": [
    "valid_features = raw_features.reshape(25 * 25, feature_size)\n",
    "walls = np.isnan(valid_features).any(axis=1)\n",
    "valid_features = valid_features[~walls]"
   ]
  },
  {
   "cell_type": "code",
   "execution_count": 503,
   "metadata": {},
   "outputs": [],
   "source": [
    "embeddings = TSNE(n_components=2).fit_transform(valid_features)"
   ]
  },
  {
   "cell_type": "code",
   "execution_count": 504,
   "metadata": {},
   "outputs": [],
   "source": [
    "rooms = np.zeros((25, 25))\n",
    "for i, room in enumerate(env.rooms, 1):\n",
    "    start_x, start_y = room.top\n",
    "    size_x, size_y = room.size\n",
    "    for x in range(start_x + 1, start_x + size_x - 1):\n",
    "        for y in range(start_y + 1, start_y + size_y - 1):\n",
    "            rooms[x, y] = i\n",
    "rooms = rooms.reshape(25 * 25)[~walls]"
   ]
  },
  {
   "cell_type": "code",
   "execution_count": 505,
   "metadata": {},
   "outputs": [
    {
     "data": {
      "text/plain": [
       "<matplotlib.legend.Legend at 0x7efaccef7b10>"
      ]
     },
     "execution_count": 505,
     "metadata": {},
     "output_type": "execute_result"
    },
    {
     "data": {
      "image/png": "[encoded data removed]",
      "text/plain": [
       "<Figure size 720x720 with 1 Axes>"
      ]
     },
     "metadata": {
      "needs_background": "light"
     },
     "output_type": "display_data"
    }
   ],
   "source": [
    "figure = plt.figure(figsize=(10, 10))\n",
    "tsne_data = embeddings[rooms == 0]\n",
    "plt.scatter(tsne_data[:, 0], tsne_data[:, 1], label='Doorway', marker='*')\n",
    "for i in range(1, len(env.rooms) + 1):\n",
    "    tsne_data = embeddings[rooms == i]\n",
    "    plt.scatter(tsne_data[:, 0], tsne_data[:, 1], label='Room ' + str(i))\n",
    "plt.legend()"
   ]
  },
  {
   "cell_type": "code",
   "execution_count": null,
   "metadata": {},
   "outputs": [],
   "source": []
  },
  {
   "cell_type": "code",
   "execution_count": null,
   "metadata": {},
   "outputs": [],
   "source": []
  }
 ],
 "metadata": {
  "kernelspec": {
   "display_name": "Python [conda env:rlpyt] *",
   "language": "python",
   "name": "conda-env-rlpyt-py"
  },
  "language_info": {
   "codemirror_mode": {
    "name": "ipython",
    "version": 3
   },
   "file_extension": ".py",
   "mimetype": "text/x-python",
   "name": "python",
   "nbconvert_exporter": "python",
   "pygments_lexer": "ipython3",
   "version": "3.7.6"
  }
 },
 "nbformat": 4,
 "nbformat_minor": 2
}

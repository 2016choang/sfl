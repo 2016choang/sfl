{
 "cells": [
  {
   "cell_type": "code",
   "execution_count": 2,
   "metadata": {},
   "outputs": [],
   "source": [
    "import copy\n",
    "import json\n",
    "import pickle\n",
    "\n",
    "import gym\n",
    "from gym_minigrid.minigrid import Grid\n",
    "from gym_minigrid.wrappers import FullyObsWrapper, ReseedWrapper, RGBImgObsWrapper\n",
    "import matplotlib.pylab as plt\n",
    "import numpy as np\n",
    "from PIL import Image\n",
    "import pytorch_ssim\n",
    "import seaborn as sns\n",
    "import sklearn\n",
    "from skimage.transform import resize, rescale, downscale_local_mean\n",
    "from skimage.util import img_as_ubyte\n",
    "from sklearn.decomposition import PCA\n",
    "from sklearn.manifold import TSNE\n",
    "import torch\n",
    "import torch.nn as nn\n",
    "\n",
    "from rlpyt.envs.gym import make as gym_make\n",
    "from rlpyt.models.dqn.grid_dsr_model import FeatureDSRModel, InverseDynamicsModel, ForwardPixelModel, ForwardFeatureModel\n",
    "from rlpyt.utils.seed import set_seed\n",
    "\n",
    "device = torch.device('cuda', 0)\n",
    "\n",
    "\n",
    "def plot_img(tensor, gray=True):\n",
    "    if gray:\n",
    "        plt.imshow(img_as_ubyte(tensor.detach().cpu().numpy().squeeze(2)), cmap='gray')\n",
    "    else:\n",
    "        plt.imshow(img_as_ubyte(tensor.detach().cpu().numpy()))"
   ]
  },
  {
   "cell_type": "code",
   "execution_count": 3,
   "metadata": {},
   "outputs": [],
   "source": [
    "GRID_SIZE = 19\n",
    "\n",
    "\n",
    "def generate_dsr_grid(sr_matrix, starting_pos=(1, 8)):\n",
    "    starting_sr = sr_matrix[starting_pos]\n",
    "    grid = np.zeros((GRID_SIZE, GRID_SIZE))\n",
    "    for y in range(GRID_SIZE):\n",
    "        for x in range(GRID_SIZE):\n",
    "            if isinstance(sr_matrix, np.ndarray):\n",
    "                grid[y, x] = np.linalg.norm(sr_matrix[y, x] - starting_sr, 2)\n",
    "            else:\n",
    "                grid[y, x] = torch.norm(sr_matrix[y, x] - starting_sr, 2)\n",
    "    return grid.T\n",
    "\n",
    "\n",
    "def visualize_dsr(sr_file, starting_pos=(1, 8), action=-1, normalize=True):\n",
    "    sr = np.load(sr_file)\n",
    "    if len(sr.shape) == 5:\n",
    "        sr = sr.mean(axis=2)\n",
    "    if action == -1:\n",
    "        if isinstance(sr, np.ndarray):\n",
    "            sr_matrix = sr.mean(axis=2)\n",
    "        else:\n",
    "            sr_matrix = sr.mean(dim=2)\n",
    "    else:\n",
    "        sr_matrix = sr[:, :, action]\n",
    "    if normalize:\n",
    "        if isinstance(sr_matrix, np.ndarray):\n",
    "            sr_matrix = sr_matrix / np.linalg.norm(sr_matrix, axis=2).reshape(GRID_SIZE, GRID_SIZE, 1)\n",
    "        else:\n",
    "            sr_matrix = sr_matrix / torch.norm(sr_matrix, dim=2).reshape(GRID_SIZE, GRID_SIZE, 1)\n",
    "    grid = generate_dsr_grid(sr_matrix, starting_pos)\n",
    "    return sr_matrix, grid"
   ]
  },
  {
   "cell_type": "code",
   "execution_count": 5,
   "metadata": {},
   "outputs": [
    {
     "name": "stderr",
     "output_type": "stream",
     "text": [
      "/home/choang/anaconda3/envs/rlpyt/lib/python3.7/site-packages/ipykernel_launcher.py:29: RuntimeWarning: invalid value encountered in true_divide\n"
     ]
    },
    {
     "data": {
      "text/plain": [
       "<matplotlib.colorbar.Colorbar at 0x7efb440cced0>"
      ]
     },
     "execution_count": 5,
     "metadata": {},
     "output_type": "execute_result"
    },
    {
     "data": {
      "image/png": "[encoded data removed]",
      "text/plain": [
       "<Figure size 432x288 with 2 Axes>"
      ]
     },
     "metadata": {
      "needs_background": "light"
     },
     "output_type": "display_data"
    }
   ],
   "source": [
    "dsr, dsr_heatmap = visualize_dsr('../experiments/aux-data/inverse-features-10k.npy', (4, 4), -1, True)\n",
    "plt.imshow(dsr_heatmap)\n",
    "plt.colorbar()"
   ]
  },
  {
   "cell_type": "code",
   "execution_count": 4,
   "metadata": {
    "scrolled": true
   },
   "outputs": [
    {
     "name": "stdout",
     "output_type": "stream",
     "text": [
      "\u001b[32musing seed 333\u001b[0m\n"
     ]
    }
   ],
   "source": [
    "env_id = 'MiniGrid-FourRooms-v0'\n",
    "mode = 'image'\n",
    "set_seed(333)\n",
    "env = gym_make(id=env_id, mode=mode, minigrid_config={'size': [19, 19], 'grayscale': False})\n",
    "obs = env.reset()"
   ]
  },
  {
   "cell_type": "code",
   "execution_count": 5,
   "metadata": {},
   "outputs": [
    {
     "data": {
      "image/png": "[encoded data removed]",
      "text/plain": [
       "<Figure size 432x288 with 1 Axes>"
      ]
     },
     "metadata": {
      "needs_background": "light"
     },
     "output_type": "display_data"
    }
   ],
   "source": [
    "plt.imshow(obs)\n",
    "obs = env.step(2)[0]"
   ]
  },
  {
   "cell_type": "markdown",
   "metadata": {},
   "source": [
    "### Collect data"
   ]
  },
  {
   "cell_type": "markdown",
   "metadata": {},
   "source": [
    "#### Transitions"
   ]
  },
  {
   "cell_type": "code",
   "execution_count": 29,
   "metadata": {},
   "outputs": [],
   "source": [
    "positions = set()\n",
    "for y in range(19):\n",
    "    for x in range(19):\n",
    "        if x not in [0, 9, 18] and y not in [0, 9, 18]:\n",
    "            for action in range(4):\n",
    "                env.env.env.unwrapped.agent_pos = np.array([y, x])\n",
    "                _, _, done, _ = env.step(action)\n",
    "\n",
    "                pos = tuple(env.agent_pos)\n",
    "                if pos not in positions:\n",
    "                    positions.add(pos)\n",
    "\n",
    "                if done:\n",
    "                    env.reset()"
   ]
  },
  {
   "cell_type": "code",
   "execution_count": 30,
   "metadata": {},
   "outputs": [
    {
     "data": {
      "text/plain": [
       "260"
      ]
     },
     "execution_count": 30,
     "metadata": {},
     "output_type": "execute_result"
    }
   ],
   "source": [
    "len(positions)"
   ]
  },
  {
   "cell_type": "markdown",
   "metadata": {},
   "source": [
    "expect 260 * 4 * 4 = 4160 unique transitions"
   ]
  },
  {
   "cell_type": "code",
   "execution_count": 31,
   "metadata": {},
   "outputs": [],
   "source": [
    "seen_states = set()\n",
    "unique_states = []\n",
    "\n",
    "seen_transitions = []\n",
    "states = []\n",
    "actions = []\n",
    "next_states = []"
   ]
  },
  {
   "cell_type": "code",
   "execution_count": 33,
   "metadata": {},
   "outputs": [],
   "source": [
    "for pos in positions:\n",
    "    for direction in range(4):\n",
    "        for a in range(4):\n",
    "            env.env.env.unwrapped.agent_pos = np.array(pos)\n",
    "            env.env.env.unwrapped.agent_dir = direction\n",
    "            \n",
    "            prev_obs, _, _, _ = env.step(4)\n",
    "            \n",
    "            obs, _, done, _ = env.step(a)\n",
    "            \n",
    "            new_pos = tuple(env.env.env.unwrapped.agent_pos)\n",
    "            \n",
    "            transition = (*pos, direction, a, *new_pos)\n",
    "            if transition not in seen_transitions:\n",
    "                seen_transitions.append(transition)\n",
    "                states.append(torch.Tensor(prev_obs))\n",
    "                actions.append(a)\n",
    "                next_states.append(torch.Tensor(obs))\n",
    "                \n",
    "            state = (*pos, direction)\n",
    "            \n",
    "            if state not in seen_states:\n",
    "                seen_states.add(state)\n",
    "                unique_states.append(torch.Tensor(prev_obs))\n",
    "\n",
    "            if done:\n",
    "                env.reset()"
   ]
  },
  {
   "cell_type": "code",
   "execution_count": 25,
   "metadata": {},
   "outputs": [
    {
     "data": {
      "text/plain": [
       "4160"
      ]
     },
     "execution_count": 25,
     "metadata": {},
     "output_type": "execute_result"
    }
   ],
   "source": [
    "len(seen_transitions)"
   ]
  },
  {
   "cell_type": "code",
   "execution_count": 34,
   "metadata": {},
   "outputs": [],
   "source": [
    "np.save('transitions', np.array(seen_transitions))"
   ]
  },
  {
   "cell_type": "code",
   "execution_count": 133,
   "metadata": {},
   "outputs": [],
   "source": [
    "unique_states = torch.stack(unique_states)\n",
    "unique_states = unique_states.to(device)\n",
    "torch.save(unique_states, 'unique_states.pt')"
   ]
  },
  {
   "cell_type": "code",
   "execution_count": 134,
   "metadata": {},
   "outputs": [],
   "source": [
    "states = torch.stack(states)\n",
    "states = states.to(device)\n",
    "torch.save(states, 'states.pt')"
   ]
  },
  {
   "cell_type": "code",
   "execution_count": 135,
   "metadata": {},
   "outputs": [],
   "source": [
    "next_states = torch.stack(next_states)\n",
    "next_states = next_states.to(device)\n",
    "torch.save(next_states, 'next_states.pt')"
   ]
  },
  {
   "cell_type": "code",
   "execution_count": 136,
   "metadata": {},
   "outputs": [],
   "source": [
    "actions = torch.LongTensor(actions)\n",
    "actions = actions.to(device)\n",
    "torch.save(actions, 'actions.pt')"
   ]
  },
  {
   "cell_type": "markdown",
   "metadata": {},
   "source": [
    "### Inverse Dynamics"
   ]
  },
  {
   "cell_type": "markdown",
   "metadata": {},
   "source": [
    "#### Toy Experiment"
   ]
  },
  {
   "cell_type": "code",
   "execution_count": 50,
   "metadata": {},
   "outputs": [],
   "source": [
    "env.reset()\n",
    "env.env.env.unwrapped.agent_pos = np.array([1, 1])\n",
    "obs = env.step(0)[0]"
   ]
  },
  {
   "cell_type": "code",
   "execution_count": 51,
   "metadata": {},
   "outputs": [],
   "source": [
    "states = torch.stack([torch.Tensor(obs) for _ in range(4)])\n",
    "states = states.to(device)"
   ]
  },
  {
   "cell_type": "code",
   "execution_count": 52,
   "metadata": {},
   "outputs": [],
   "source": [
    "next_states = []\n",
    "for pos in [[1, 1], [1, 17], [17, 1], [17, 17]]:\n",
    "    env.reset()\n",
    "    env.env.env.unwrapped.agent_pos = np.array(pos)\n",
    "    obs = env.step(0)[0]\n",
    "    next_states.append(torch.Tensor(obs))\n",
    "next_states = torch.stack(next_states)\n",
    "next_states = next_states.to(device)"
   ]
  },
  {
   "cell_type": "code",
   "execution_count": 53,
   "metadata": {},
   "outputs": [],
   "source": [
    "actions = torch.LongTensor([i for i in range(4)])\n",
    "actions = actions.to(device)"
   ]
  },
  {
   "cell_type": "markdown",
   "metadata": {},
   "source": [
    "#### Actual inverse dynamics"
   ]
  },
  {
   "cell_type": "code",
   "execution_count": 50,
   "metadata": {},
   "outputs": [],
   "source": [
    "states = torch.load('states.pt', map_location=device)\n",
    "# states = states.unsqueeze(3)\n",
    "next_states = torch.load('next_states.pt', map_location=device)\n",
    "# next_states = next_states.unsqueeze(3)\n",
    "actions = torch.load('actions.pt', map_location=device)"
   ]
  },
  {
   "cell_type": "code",
   "execution_count": 53,
   "metadata": {},
   "outputs": [
    {
     "data": {
      "text/plain": [
       "InverseDynamicsModel(\n",
       "  (encoder): Sequential(\n",
       "    (0): Conv2d(3, 16, kernel_size=(3, 3), stride=(2, 2))\n",
       "    (1): ReLU()\n",
       "    (2): Conv2d(16, 16, kernel_size=(3, 3), stride=(1, 1))\n",
       "    (3): ReLU()\n",
       "    (4): Flatten()\n",
       "    (5): Linear(in_features=784, out_features=64, bias=True)\n",
       "  )\n",
       "  (inverse): Sequential(\n",
       "    (0): Linear(in_features=128, out_features=4, bias=True)\n",
       "  )\n",
       ")"
      ]
     },
     "execution_count": 53,
     "metadata": {},
     "output_type": "execute_result"
    }
   ],
   "source": [
    "model = InverseDynamicsModel(env.observation_space.shape, 4, 64)\n",
    "model.to(device)"
   ]
  },
  {
   "cell_type": "code",
   "execution_count": 56,
   "metadata": {},
   "outputs": [],
   "source": [
    "N = states.size()[0]\n",
    "learning_rate = 1e-3\n",
    "epochs = 20000\n",
    "batch_size = N\n",
    "optim_kwargs = dict(eps=0.01 / batch_size)\n",
    "clip_grad_norm = 10\n",
    "log_interval = 1000"
   ]
  },
  {
   "cell_type": "code",
   "execution_count": 57,
   "metadata": {},
   "outputs": [],
   "source": [
    "optimizer = torch.optim.Adam(model.parameters(), lr=learning_rate, **optim_kwargs)\n",
    "cross_entropy_loss = nn.CrossEntropyLoss()\n",
    "losses = []\n",
    "accuracies = []\n",
    "grad_norms = []"
   ]
  },
  {
   "cell_type": "code",
   "execution_count": 58,
   "metadata": {},
   "outputs": [
    {
     "name": "stdout",
     "output_type": "stream",
     "text": [
      "Epoch 0: loss = 1.388809323310852, accuracy = 25.0%\n",
      "Epoch 1000: loss = 0.284857839345932, accuracy = 91.4903793334961%\n",
      "Epoch 2000: loss = 0.08748753368854523, accuracy = 97.40384674072266%\n",
      "Epoch 3000: loss = 0.055454615503549576, accuracy = 97.98076629638672%\n",
      "Epoch 4000: loss = 0.041164882481098175, accuracy = 98.41345977783203%\n",
      "Epoch 5000: loss = 0.03343220800161362, accuracy = 98.53365325927734%\n",
      "Epoch 6000: loss = 0.028177279978990555, accuracy = 98.65384674072266%\n",
      "Epoch 7000: loss = 0.02535593882203102, accuracy = 98.72595977783203%\n",
      "Epoch 8000: loss = 0.022828703746199608, accuracy = 98.89423370361328%\n",
      "Epoch 9000: loss = 0.021360596641898155, accuracy = 98.91827392578125%\n",
      "Epoch 10000: loss = 0.019339274615049362, accuracy = 99.0144271850586%\n",
      "Epoch 11000: loss = 0.01745794154703617, accuracy = 99.18269348144531%\n",
      "Epoch 12000: loss = 0.01705855131149292, accuracy = 99.18269348144531%\n",
      "Epoch 13000: loss = 0.01546755712479353, accuracy = 99.25480651855469%\n",
      "Epoch 14000: loss = 0.014101141132414341, accuracy = 99.39903259277344%\n",
      "Epoch 15000: loss = 0.014274782501161098, accuracy = 99.32691955566406%\n"
     ]
    },
    {
     "ename": "KeyboardInterrupt",
     "evalue": "",
     "output_type": "error",
     "traceback": [
      "\u001b[0;31m---------------------------------------------------------------------------\u001b[0m",
      "\u001b[0;31mKeyboardInterrupt\u001b[0m                         Traceback (most recent call last)",
      "\u001b[0;32m<ipython-input-58-235b61243347>\u001b[0m in \u001b[0;36m<module>\u001b[0;34m\u001b[0m\n\u001b[1;32m     13\u001b[0m \u001b[0;34m\u001b[0m\u001b[0m\n\u001b[1;32m     14\u001b[0m         \u001b[0mpred_actions\u001b[0m \u001b[0;34m=\u001b[0m \u001b[0mmodel\u001b[0m\u001b[0;34m(\u001b[0m\u001b[0mstates\u001b[0m\u001b[0;34m[\u001b[0m\u001b[0mindices\u001b[0m\u001b[0;34m]\u001b[0m\u001b[0;34m,\u001b[0m \u001b[0mnext_states\u001b[0m\u001b[0;34m[\u001b[0m\u001b[0mindices\u001b[0m\u001b[0;34m]\u001b[0m\u001b[0;34m,\u001b[0m \u001b[0mmode\u001b[0m\u001b[0;34m=\u001b[0m\u001b[0;34m'inverse'\u001b[0m\u001b[0;34m)\u001b[0m\u001b[0;34m\u001b[0m\u001b[0;34m\u001b[0m\u001b[0m\n\u001b[0;32m---> 15\u001b[0;31m         \u001b[0mloss\u001b[0m \u001b[0;34m=\u001b[0m \u001b[0mcross_entropy_loss\u001b[0m\u001b[0;34m(\u001b[0m\u001b[0mpred_actions\u001b[0m\u001b[0;34m,\u001b[0m \u001b[0mactions\u001b[0m\u001b[0;34m[\u001b[0m\u001b[0mindices\u001b[0m\u001b[0;34m]\u001b[0m\u001b[0;34m)\u001b[0m\u001b[0;34m\u001b[0m\u001b[0;34m\u001b[0m\u001b[0m\n\u001b[0m\u001b[1;32m     16\u001b[0m \u001b[0;34m\u001b[0m\u001b[0m\n\u001b[1;32m     17\u001b[0m         \u001b[0mloss\u001b[0m\u001b[0;34m.\u001b[0m\u001b[0mbackward\u001b[0m\u001b[0;34m(\u001b[0m\u001b[0;34m)\u001b[0m\u001b[0;34m\u001b[0m\u001b[0;34m\u001b[0m\u001b[0m\n",
      "\u001b[0;31mKeyboardInterrupt\u001b[0m: "
     ]
    }
   ],
   "source": [
    "for epoch in range(epochs):\n",
    "\n",
    "    permutation = torch.randperm(N)\n",
    "    \n",
    "    epoch_losses = []\n",
    "    epoch_accuracies = []\n",
    "    epoch_grad_norms = []\n",
    "    \n",
    "    for i in range(0, N, batch_size):\n",
    "        optimizer.zero_grad()\n",
    "        \n",
    "        indices = permutation[i: i + batch_size]\n",
    "\n",
    "        pred_actions = model(states[indices], next_states[indices], mode='inverse')\n",
    "        loss = cross_entropy_loss(pred_actions, actions[indices])\n",
    "\n",
    "        loss.backward()\n",
    "        grad_norm = nn.utils.clip_grad_norm_(model.parameters(), clip_grad_norm)\n",
    "\n",
    "        optimizer.step()\n",
    "        \n",
    "        accuracy = ((pred_actions.argmax(dim=1) == actions[indices]).sum().float() / actions[indices].shape[0]) * 100\n",
    "        \n",
    "        epoch_losses.append(loss.item())\n",
    "        epoch_accuracies.append(accuracy.item())\n",
    "        epoch_grad_norms.append(grad_norm)\n",
    "        \n",
    "    losses.append(np.mean(epoch_losses))\n",
    "    accuracies.append(np.mean(epoch_accuracies))\n",
    "    grad_norms.append(np.mean(epoch_grad_norms))\n",
    "    \n",
    "    if epoch % log_interval == 0:\n",
    "        print('Epoch {}: loss = {}, accuracy = {}%'.format(epoch, np.mean(epoch_losses), np.mean(epoch_accuracies)))"
   ]
  },
  {
   "cell_type": "code",
   "execution_count": 187,
   "metadata": {},
   "outputs": [
    {
     "data": {
      "text/plain": [
       "[<matplotlib.lines.Line2D at 0x7efad4119910>]"
      ]
     },
     "execution_count": 187,
     "metadata": {},
     "output_type": "execute_result"
    },
    {
     "data": {
      "image/png": "[encoded data removed]",
      "text/plain": [
       "<Figure size 432x288 with 1 Axes>"
      ]
     },
     "metadata": {
      "needs_background": "light"
     },
     "output_type": "display_data"
    }
   ],
   "source": [
    "plt.plot(losses)"
   ]
  },
  {
   "cell_type": "code",
   "execution_count": null,
   "metadata": {
    "scrolled": true
   },
   "outputs": [],
   "source": [
    "plt.plot(grad_norms)"
   ]
  },
  {
   "cell_type": "code",
   "execution_count": null,
   "metadata": {},
   "outputs": [],
   "source": [
    "plt.plot(accuracies)"
   ]
  },
  {
   "cell_type": "code",
   "execution_count": null,
   "metadata": {},
   "outputs": [],
   "source": [
    "torch.save(model.state_dict(), 'models/inverse-model-20k.pt')"
   ]
  },
  {
   "cell_type": "markdown",
   "metadata": {},
   "source": [
    "### Forward Dynamics"
   ]
  },
  {
   "cell_type": "code",
   "execution_count": 7,
   "metadata": {},
   "outputs": [],
   "source": [
    "states = torch.load('states.pt', map_location=device)\n",
    "# states = states.unsqueeze(3)\n",
    "next_states = torch.load('next_states.pt', map_location=device)\n",
    "# next_states = next_states.unsqueeze(3)\n",
    "actions = torch.load('actions.pt', map_location=device)"
   ]
  },
  {
   "cell_type": "code",
   "execution_count": 6,
   "metadata": {},
   "outputs": [
    {
     "data": {
      "text/plain": [
       "InverseDynamicsModel(\n",
       "  (encoder): Sequential(\n",
       "    (0): Conv2d(3, 16, kernel_size=(3, 3), stride=(2, 2))\n",
       "    (1): ReLU()\n",
       "    (2): Conv2d(16, 16, kernel_size=(3, 3), stride=(1, 1))\n",
       "    (3): ReLU()\n",
       "    (4): Flatten()\n",
       "    (5): Linear(in_features=784, out_features=64, bias=True)\n",
       "  )\n",
       "  (inverse): Sequential(\n",
       "    (0): Linear(in_features=128, out_features=4, bias=True)\n",
       "  )\n",
       ")"
      ]
     },
     "execution_count": 6,
     "metadata": {},
     "output_type": "execute_result"
    }
   ],
   "source": [
    "inverse_model = InverseDynamicsModel(env.observation_space.shape, 4, 64)\n",
    "inverse_model.load_state_dict(torch.load('models/inverse-model-10k.pt'))\n",
    "inverse_model.to(device)"
   ]
  },
  {
   "cell_type": "code",
   "execution_count": 61,
   "metadata": {},
   "outputs": [
    {
     "data": {
      "text/plain": [
       "ForwardFeatureModel(\n",
       "  (dynamics): MlpModel(\n",
       "    (model): Sequential(\n",
       "      (0): Linear(in_features=68, out_features=512, bias=True)\n",
       "      (1): ReLU()\n",
       "      (2): Linear(in_features=512, out_features=64, bias=True)\n",
       "    )\n",
       "  )\n",
       ")"
      ]
     },
     "execution_count": 61,
     "metadata": {},
     "output_type": "execute_result"
    }
   ],
   "source": [
    "# del model\n",
    "model = ForwardFeatureModel(4, 64)\n",
    "model.to(device)"
   ]
  },
  {
   "cell_type": "code",
   "execution_count": 62,
   "metadata": {},
   "outputs": [],
   "source": [
    "N = states.size()[0]\n",
    "learning_rate = 1e-3\n",
    "epochs = 10000\n",
    "batch_size = N\n",
    "optim_kwargs = dict(eps=0.01 / batch_size)\n",
    "clip_grad_norm = 10\n",
    "log_interval = 1000"
   ]
  },
  {
   "cell_type": "code",
   "execution_count": 63,
   "metadata": {},
   "outputs": [],
   "source": [
    "optimizer = torch.optim.Adam(model.parameters(), lr=learning_rate, **optim_kwargs)\n",
    "mse_loss = nn.MSELoss()\n",
    "losses = []\n",
    "grad_norms = []"
   ]
  },
  {
   "cell_type": "code",
   "execution_count": 64,
   "metadata": {},
   "outputs": [
    {
     "name": "stdout",
     "output_type": "stream",
     "text": [
      "Epoch 0: loss = 11.588638305664062\n",
      "Epoch 1000: loss = 0.08384840935468674\n",
      "Epoch 2000: loss = 0.046794384717941284\n",
      "Epoch 3000: loss = 0.034004077315330505\n",
      "Epoch 4000: loss = 0.023008055984973907\n",
      "Epoch 5000: loss = 0.020075183361768723\n",
      "Epoch 6000: loss = 0.016420481726527214\n",
      "Epoch 7000: loss = 0.018247853964567184\n",
      "Epoch 8000: loss = 0.013518658466637135\n",
      "Epoch 9000: loss = 0.018268713727593422\n"
     ]
    }
   ],
   "source": [
    "for epoch in range(epochs):\n",
    "\n",
    "    permutation = torch.randperm(N)\n",
    "    \n",
    "    epoch_losses = []\n",
    "    epoch_grad_norms = []\n",
    "    \n",
    "    for i in range(0, N, batch_size):\n",
    "        optimizer.zero_grad()\n",
    "        \n",
    "        indices = permutation[i: i + batch_size]\n",
    "\n",
    "        with torch.no_grad():\n",
    "            embeddings, next_embeddings = inverse_model(states[indices], next_states[indices], mode='encode')\n",
    "        \n",
    "        pred_embeddings = model(embeddings, actions[indices])\n",
    "        loss = mse_loss(pred_embeddings, next_embeddings)\n",
    "        \n",
    "#         pred_next_states = model(states[indices], actions[indices], mode='dynamics')\n",
    "#         loss = mse_loss(pred_next_states, next_states[indices])\n",
    "\n",
    "        loss.backward()\n",
    "        grad_norm = nn.utils.clip_grad_norm_(model.parameters(), clip_grad_norm)\n",
    "\n",
    "        optimizer.step()\n",
    "        \n",
    "        epoch_losses.append(loss.item())\n",
    "        epoch_grad_norms.append(grad_norm)\n",
    "        \n",
    "    losses.append(np.mean(epoch_losses))\n",
    "    grad_norms.append(np.mean(epoch_grad_norms))\n",
    "    \n",
    "    if epoch % log_interval == 0:\n",
    "        print('Epoch {}: loss = {}'.format(epoch, np.mean(epoch_losses)))"
   ]
  },
  {
   "cell_type": "code",
   "execution_count": 65,
   "metadata": {},
   "outputs": [
    {
     "data": {
      "text/plain": [
       "[<matplotlib.lines.Line2D at 0x7efb4437db10>]"
      ]
     },
     "execution_count": 65,
     "metadata": {},
     "output_type": "execute_result"
    },
    {
     "data": {
      "image/png": "[encoded data removed]",
      "text/plain": [
       "<Figure size 432x288 with 1 Axes>"
      ]
     },
     "metadata": {
      "needs_background": "light"
     },
     "output_type": "display_data"
    }
   ],
   "source": [
    "plt.plot(losses[100:])"
   ]
  },
  {
   "cell_type": "code",
   "execution_count": 66,
   "metadata": {},
   "outputs": [
    {
     "data": {
      "text/plain": [
       "[<matplotlib.lines.Line2D at 0x7efb443477d0>]"
      ]
     },
     "execution_count": 66,
     "metadata": {},
     "output_type": "execute_result"
    },
    {
     "data": {
      "image/png": "[encoded data removed]",
      "text/plain": [
       "<Figure size 432x288 with 1 Axes>"
      ]
     },
     "metadata": {
      "needs_background": "light"
     },
     "output_type": "display_data"
    }
   ],
   "source": [
    "plt.plot(grad_norms)"
   ]
  },
  {
   "cell_type": "code",
   "execution_count": 67,
   "metadata": {},
   "outputs": [],
   "source": [
    "torch.save(model.state_dict(), 'models/forward-model-10k.pt')"
   ]
  },
  {
   "cell_type": "code",
   "execution_count": 68,
   "metadata": {},
   "outputs": [
    {
     "data": {
      "text/plain": [
       "ForwardFeatureModel(\n",
       "  (dynamics): MlpModel(\n",
       "    (model): Sequential(\n",
       "      (0): Linear(in_features=68, out_features=512, bias=True)\n",
       "      (1): ReLU()\n",
       "      (2): Linear(in_features=512, out_features=64, bias=True)\n",
       "    )\n",
       "  )\n",
       ")"
      ]
     },
     "execution_count": 68,
     "metadata": {},
     "output_type": "execute_result"
    }
   ],
   "source": [
    "forward_model = ForwardFeatureModel(4, 64)\n",
    "forward_model.load_state_dict(torch.load('models/forward-model-10k.pt'))\n",
    "forward_model.to(device)"
   ]
  },
  {
   "cell_type": "code",
   "execution_count": 12,
   "metadata": {},
   "outputs": [],
   "source": [
    "transitions = np.load('transitions.npy')"
   ]
  },
  {
   "cell_type": "code",
   "execution_count": 8,
   "metadata": {},
   "outputs": [
    {
     "data": {
      "text/plain": [
       "torch.Size([4160, 64])"
      ]
     },
     "execution_count": 8,
     "metadata": {},
     "output_type": "execute_result"
    }
   ],
   "source": [
    "with torch.no_grad():\n",
    "    features, _ = inverse_model(states, next_states, mode='encode')\n",
    "features.shape"
   ]
  },
  {
   "cell_type": "code",
   "execution_count": 13,
   "metadata": {},
   "outputs": [],
   "source": [
    "norm_features = (features - features.min(dim=0).values) / (features.max(dim=0).values - features.min(dim=0).values)"
   ]
  },
  {
   "cell_type": "code",
   "execution_count": 14,
   "metadata": {},
   "outputs": [],
   "source": [
    "feature_map = np.zeros((19, 19, 4, 64))\n",
    "for i, transition in enumerate(transitions):\n",
    "    feature_map[transition[0], transition[1], transition[2]] = norm_features[i].cpu().detach().numpy()"
   ]
  },
  {
   "cell_type": "code",
   "execution_count": 15,
   "metadata": {},
   "outputs": [],
   "source": [
    "np.save('../experiments/aux-data/inverse-features-10k', feature_map)"
   ]
  },
  {
   "cell_type": "code",
   "execution_count": 11,
   "metadata": {},
   "outputs": [
    {
     "ename": "NameError",
     "evalue": "name 'transitions' is not defined",
     "output_type": "error",
     "traceback": [
      "\u001b[0;31m---------------------------------------------------------------------------\u001b[0m",
      "\u001b[0;31mNameError\u001b[0m                                 Traceback (most recent call last)",
      "\u001b[0;32m<ipython-input-11-c786569ccc91>\u001b[0m in \u001b[0;36m<module>\u001b[0;34m\u001b[0m\n\u001b[0;32m----> 1\u001b[0;31m \u001b[0mpos\u001b[0m \u001b[0;34m=\u001b[0m \u001b[0mtransitions\u001b[0m\u001b[0;34m[\u001b[0m\u001b[0;34m:\u001b[0m\u001b[0;34m:\u001b[0m\u001b[0;36m16\u001b[0m\u001b[0;34m]\u001b[0m\u001b[0;34m[\u001b[0m\u001b[0;34m:\u001b[0m\u001b[0;34m,\u001b[0m \u001b[0;34m:\u001b[0m\u001b[0;36m2\u001b[0m\u001b[0;34m]\u001b[0m\u001b[0;34m\u001b[0m\u001b[0;34m\u001b[0m\u001b[0m\n\u001b[0m\u001b[1;32m      2\u001b[0m \u001b[0mrooms\u001b[0m \u001b[0;34m=\u001b[0m \u001b[0mnp\u001b[0m\u001b[0;34m.\u001b[0m\u001b[0mzeros\u001b[0m\u001b[0;34m(\u001b[0m\u001b[0;36m260\u001b[0m\u001b[0;34m)\u001b[0m\u001b[0;34m\u001b[0m\u001b[0;34m\u001b[0m\u001b[0m\n\u001b[1;32m      3\u001b[0m \u001b[0mrooms\u001b[0m\u001b[0;34m[\u001b[0m\u001b[0;34m(\u001b[0m\u001b[0mpos\u001b[0m\u001b[0;34m[\u001b[0m\u001b[0;34m:\u001b[0m\u001b[0;34m,\u001b[0m \u001b[0;36m0\u001b[0m\u001b[0;34m]\u001b[0m \u001b[0;34m<\u001b[0m \u001b[0;36m9\u001b[0m\u001b[0;34m)\u001b[0m \u001b[0;34m&\u001b[0m \u001b[0;34m(\u001b[0m\u001b[0mpos\u001b[0m\u001b[0;34m[\u001b[0m\u001b[0;34m:\u001b[0m\u001b[0;34m,\u001b[0m \u001b[0;36m1\u001b[0m\u001b[0;34m]\u001b[0m \u001b[0;34m<\u001b[0m \u001b[0;36m9\u001b[0m\u001b[0;34m)\u001b[0m\u001b[0;34m]\u001b[0m \u001b[0;34m=\u001b[0m \u001b[0;36m1\u001b[0m\u001b[0;34m\u001b[0m\u001b[0;34m\u001b[0m\u001b[0m\n\u001b[1;32m      4\u001b[0m \u001b[0mrooms\u001b[0m\u001b[0;34m[\u001b[0m\u001b[0;34m(\u001b[0m\u001b[0mpos\u001b[0m\u001b[0;34m[\u001b[0m\u001b[0;34m:\u001b[0m\u001b[0;34m,\u001b[0m \u001b[0;36m0\u001b[0m\u001b[0;34m]\u001b[0m \u001b[0;34m<\u001b[0m \u001b[0;36m9\u001b[0m\u001b[0;34m)\u001b[0m \u001b[0;34m&\u001b[0m \u001b[0;34m(\u001b[0m\u001b[0mpos\u001b[0m\u001b[0;34m[\u001b[0m\u001b[0;34m:\u001b[0m\u001b[0;34m,\u001b[0m \u001b[0;36m1\u001b[0m\u001b[0;34m]\u001b[0m \u001b[0;34m>\u001b[0m \u001b[0;36m9\u001b[0m\u001b[0;34m)\u001b[0m\u001b[0;34m]\u001b[0m \u001b[0;34m=\u001b[0m \u001b[0;36m2\u001b[0m\u001b[0;34m\u001b[0m\u001b[0;34m\u001b[0m\u001b[0m\n\u001b[1;32m      5\u001b[0m \u001b[0mrooms\u001b[0m\u001b[0;34m[\u001b[0m\u001b[0;34m(\u001b[0m\u001b[0mpos\u001b[0m\u001b[0;34m[\u001b[0m\u001b[0;34m:\u001b[0m\u001b[0;34m,\u001b[0m \u001b[0;36m0\u001b[0m\u001b[0;34m]\u001b[0m \u001b[0;34m>\u001b[0m \u001b[0;36m9\u001b[0m\u001b[0;34m)\u001b[0m \u001b[0;34m&\u001b[0m \u001b[0;34m(\u001b[0m\u001b[0mpos\u001b[0m\u001b[0;34m[\u001b[0m\u001b[0;34m:\u001b[0m\u001b[0;34m,\u001b[0m \u001b[0;36m1\u001b[0m\u001b[0;34m]\u001b[0m \u001b[0;34m<\u001b[0m \u001b[0;36m9\u001b[0m\u001b[0;34m)\u001b[0m\u001b[0;34m]\u001b[0m \u001b[0;34m=\u001b[0m \u001b[0;36m3\u001b[0m\u001b[0;34m\u001b[0m\u001b[0;34m\u001b[0m\u001b[0m\n",
      "\u001b[0;31mNameError\u001b[0m: name 'transitions' is not defined"
     ]
    }
   ],
   "source": [
    "pos = transitions[::16][:, :2]\n",
    "rooms = np.zeros(260)\n",
    "rooms[(pos[:, 0] < 9) & (pos[:, 1] < 9)] = 1\n",
    "rooms[(pos[:, 0] < 9) & (pos[:, 1] > 9)] = 2\n",
    "rooms[(pos[:, 0] > 9) & (pos[:, 1] < 9)] = 3\n",
    "rooms[(pos[:, 0] > 9) & (pos[:, 1] > 9)] = 4"
   ]
  },
  {
   "cell_type": "code",
   "execution_count": 196,
   "metadata": {},
   "outputs": [],
   "source": [
    "embeddings = norm_features[::16]\n",
    "np_features = embeddings.cpu().detach().numpy()\n",
    "tsne_features = TSNE(n_components=2).fit_transform(np_features)"
   ]
  },
  {
   "cell_type": "code",
   "execution_count": 197,
   "metadata": {},
   "outputs": [
    {
     "data": {
      "text/plain": [
       "<matplotlib.collections.PathCollection at 0x7efac8761f90>"
      ]
     },
     "execution_count": 197,
     "metadata": {},
     "output_type": "execute_result"
    },
    {
     "data": {
      "image/png": "[encoded data removed]",
      "text/plain": [
       "<Figure size 432x288 with 1 Axes>"
      ]
     },
     "metadata": {
      "needs_background": "light"
     },
     "output_type": "display_data"
    }
   ],
   "source": [
    "plt.scatter(tsne_features[rooms == 0][:, 0], tsne_features[rooms==0][:, 1], color='pink')\n",
    "plt.scatter(tsne_features[rooms == 1][:, 0], tsne_features[rooms==1][:, 1], color='red')\n",
    "plt.scatter(tsne_features[rooms == 2][:, 0], tsne_features[rooms==2][:, 1], color='green')\n",
    "plt.scatter(tsne_features[rooms == 3][:, 0], tsne_features[rooms==3][:, 1], color='blue')\n",
    "plt.scatter(tsne_features[rooms == 4][:, 0], tsne_features[rooms==4][:, 1], color='yellow')"
   ]
  },
  {
   "cell_type": "code",
   "execution_count": 76,
   "metadata": {},
   "outputs": [],
   "source": [
    "with torch.no_grad():\n",
    "    features, _ = inverse_model(states, next_states, mode='encode')\n",
    "    next_features = forward_model(features, actions)"
   ]
  },
  {
   "cell_type": "code",
   "execution_count": 77,
   "metadata": {},
   "outputs": [],
   "source": [
    "norm_next_features = (next_features - next_features.min(dim=0).values) / (next_features.max(dim=0).values - next_features.min(dim=0).values)"
   ]
  },
  {
   "cell_type": "code",
   "execution_count": 78,
   "metadata": {},
   "outputs": [],
   "source": [
    "feature_map = np.zeros((19, 19, 4, 4, 64))"
   ]
  },
  {
   "cell_type": "code",
   "execution_count": 79,
   "metadata": {},
   "outputs": [],
   "source": [
    "for i, transition in enumerate(transitions):\n",
    "    feature_map[transition[0], transition[1], transition[2], transition[3]] = norm_next_features[i].cpu().detach().numpy()"
   ]
  },
  {
   "cell_type": "code",
   "execution_count": 81,
   "metadata": {},
   "outputs": [],
   "source": [
    "np.save('../experiments/aux-data/forward-features-10k', feature_map)"
   ]
  },
  {
   "cell_type": "code",
   "execution_count": 255,
   "metadata": {},
   "outputs": [],
   "source": [
    "reshaped_norm_next_features = norm_next_features[::4].reshape(260, 4, 64)[:, 0]"
   ]
  },
  {
   "cell_type": "code",
   "execution_count": 256,
   "metadata": {},
   "outputs": [],
   "source": [
    "reshaped_next_features = next_features[::4].reshape(260, 4, 64)[:, 0]"
   ]
  },
  {
   "cell_type": "code",
   "execution_count": 259,
   "metadata": {},
   "outputs": [],
   "source": [
    "embeddings = reshaped_next_features\n",
    "np_features = embeddings.cpu().detach().numpy()\n",
    "tsne_features = TSNE(n_components=2).fit_transform(np_features)"
   ]
  },
  {
   "cell_type": "code",
   "execution_count": 260,
   "metadata": {},
   "outputs": [
    {
     "data": {
      "text/plain": [
       "<matplotlib.collections.PathCollection at 0x7efac1ed5790>"
      ]
     },
     "execution_count": 260,
     "metadata": {},
     "output_type": "execute_result"
    },
    {
     "data": {
      "image/png": "[encoded data removed]",
      "text/plain": [
       "<Figure size 432x288 with 1 Axes>"
      ]
     },
     "metadata": {
      "needs_background": "light"
     },
     "output_type": "display_data"
    }
   ],
   "source": [
    "plt.scatter(tsne_features[rooms == 0][:, 0], tsne_features[rooms==0][:, 1], color='pink')\n",
    "plt.scatter(tsne_features[rooms == 1][:, 0], tsne_features[rooms==1][:, 1], color='red')\n",
    "plt.scatter(tsne_features[rooms == 2][:, 0], tsne_features[rooms==2][:, 1], color='green')\n",
    "plt.scatter(tsne_features[rooms == 3][:, 0], tsne_features[rooms==3][:, 1], color='blue')\n",
    "plt.scatter(tsne_features[rooms == 4][:, 0], tsne_features[rooms==4][:, 1], color='yellow')"
   ]
  },
  {
   "cell_type": "code",
   "execution_count": null,
   "metadata": {},
   "outputs": [],
   "source": []
  },
  {
   "cell_type": "code",
   "execution_count": null,
   "metadata": {},
   "outputs": [],
   "source": []
  },
  {
   "cell_type": "code",
   "execution_count": null,
   "metadata": {},
   "outputs": [],
   "source": []
  },
  {
   "cell_type": "markdown",
   "metadata": {},
   "source": [
    "### Initialization"
   ]
  },
  {
   "cell_type": "code",
   "execution_count": 62,
   "metadata": {},
   "outputs": [],
   "source": [
    "dsr_params = {\"fc_sizes\": [512],\n",
    "              \"nonlinearity\": \"relu\"}  "
   ]
  },
  {
   "cell_type": "code",
   "execution_count": 63,
   "metadata": {},
   "outputs": [],
   "source": [
    "l2_loss = nn.MSELoss()"
   ]
  },
  {
   "cell_type": "code",
   "execution_count": 64,
   "metadata": {},
   "outputs": [
    {
     "data": {
      "text/plain": [
       "GridReconstructModel(\n",
       "  (encoder): Sequential(\n",
       "    (0): Conv2d(3, 8, kernel_size=(4, 4), stride=(2, 2))\n",
       "    (1): ReLU()\n",
       "    (2): Conv2d(8, 16, kernel_size=(3, 3), stride=(2, 2))\n",
       "    (3): ReLU()\n",
       "    (4): Conv2d(16, 32, kernel_size=(4, 4), stride=(2, 2))\n",
       "    (5): ReLU()\n",
       "    (6): Flatten()\n",
       "    (7): Linear(in_features=2592, out_features=512, bias=True)\n",
       "    (8): ReLU()\n",
       "  )\n",
       "  (decoder): Sequential(\n",
       "    (0): Linear(in_features=512, out_features=2592, bias=True)\n",
       "    (1): ReLU()\n",
       "    (2): Reshape()\n",
       "    (3): ConvTranspose2d(32, 16, kernel_size=(4, 4), stride=(2, 2))\n",
       "    (4): ReLU()\n",
       "    (5): ConvTranspose2d(16, 8, kernel_size=(3, 3), stride=(2, 2))\n",
       "    (6): ReLU()\n",
       "    (7): ConvTranspose2d(8, 3, kernel_size=(4, 4), stride=(2, 2))\n",
       "  )\n",
       "  (dsr): MlpModel(\n",
       "    (model): Sequential(\n",
       "      (0): Linear(in_features=512, out_features=512, bias=True)\n",
       "      (1): ReLU()\n",
       "      (2): Linear(in_features=512, out_features=1536, bias=True)\n",
       "    )\n",
       "  )\n",
       "  (q_estimate): Linear(in_features=512, out_features=1, bias=True)\n",
       ")"
      ]
     },
     "execution_count": 64,
     "metadata": {},
     "output_type": "execute_result"
    }
   ],
   "source": [
    "model = GridReconstructModel(env.observation_space.shape, env.action_space.n, 512, dsr_params)\n",
    "model.to(device)"
   ]
  },
  {
   "cell_type": "code",
   "execution_count": 39,
   "metadata": {},
   "outputs": [
    {
     "ename": "NameError",
     "evalue": "name 'data' is not defined",
     "output_type": "error",
     "traceback": [
      "\u001b[0;31m---------------------------------------------------------------------------\u001b[0m",
      "\u001b[0;31mNameError\u001b[0m                                 Traceback (most recent call last)",
      "\u001b[0;32m<ipython-input-39-0d892c9d1778>\u001b[0m in \u001b[0;36m<module>\u001b[0;34m\u001b[0m\n\u001b[1;32m      1\u001b[0m \u001b[0mlearning_rate\u001b[0m \u001b[0;34m=\u001b[0m \u001b[0;36m1e-4\u001b[0m\u001b[0;34m\u001b[0m\u001b[0;34m\u001b[0m\u001b[0m\n\u001b[0;32m----> 2\u001b[0;31m \u001b[0mbatch_size\u001b[0m \u001b[0;34m=\u001b[0m \u001b[0mdata\u001b[0m\u001b[0;34m.\u001b[0m\u001b[0mshape\u001b[0m\u001b[0;34m[\u001b[0m\u001b[0;36m0\u001b[0m\u001b[0;34m]\u001b[0m\u001b[0;34m\u001b[0m\u001b[0;34m\u001b[0m\u001b[0m\n\u001b[0m\u001b[1;32m      3\u001b[0m \u001b[0mepochs\u001b[0m \u001b[0;34m=\u001b[0m \u001b[0;36m10000\u001b[0m\u001b[0;34m\u001b[0m\u001b[0;34m\u001b[0m\u001b[0m\n\u001b[1;32m      4\u001b[0m \u001b[0moptim_kwargs\u001b[0m \u001b[0;34m=\u001b[0m \u001b[0mdict\u001b[0m\u001b[0;34m(\u001b[0m\u001b[0meps\u001b[0m\u001b[0;34m=\u001b[0m\u001b[0;36m0.01\u001b[0m \u001b[0;34m/\u001b[0m \u001b[0mbatch_size\u001b[0m\u001b[0;34m)\u001b[0m\u001b[0;34m\u001b[0m\u001b[0;34m\u001b[0m\u001b[0m\n\u001b[1;32m      5\u001b[0m \u001b[0mclip_grad_norm\u001b[0m \u001b[0;34m=\u001b[0m \u001b[0;36m10\u001b[0m\u001b[0;34m\u001b[0m\u001b[0;34m\u001b[0m\u001b[0m\n",
      "\u001b[0;31mNameError\u001b[0m: name 'data' is not defined"
     ]
    }
   ],
   "source": [
    "learning_rate = 1e-4\n",
    "batch_size = data.shape[0]\n",
    "epochs = 10000\n",
    "optim_kwargs = dict(eps=0.01 / batch_size)\n",
    "clip_grad_norm = 10\n",
    "log_interval = 1000"
   ]
  },
  {
   "cell_type": "code",
   "execution_count": 66,
   "metadata": {},
   "outputs": [],
   "source": [
    "optimizer = torch.optim.Adam(model.parameters(), lr=learning_rate, **optim_kwargs)"
   ]
  },
  {
   "cell_type": "code",
   "execution_count": 67,
   "metadata": {},
   "outputs": [],
   "source": [
    "losses = []\n",
    "grad_norms = []"
   ]
  },
  {
   "cell_type": "code",
   "execution_count": null,
   "metadata": {},
   "outputs": [
    {
     "name": "stdout",
     "output_type": "stream",
     "text": [
      "Epoch 0: 0.05676276981830597\n",
      "Epoch 1000: 0.0024810885079205036\n",
      "Epoch 2000: 0.0012856796383857727\n",
      "Epoch 3000: 0.0007588175358250737\n",
      "Epoch 4000: 0.0004786360077559948\n",
      "Epoch 5000: 0.00035500642843544483\n",
      "Epoch 6000: 0.00029101831023581326\n",
      "Epoch 7000: 0.00025442292098887265\n",
      "Epoch 8000: 0.00023078525555320084\n",
      "Epoch 9000: 0.00021538251894526184\n"
     ]
    }
   ],
   "source": [
    "for i in range(epochs):\n",
    "    optimizer.zero_grad()\n",
    "    \n",
    "    embeddings = model(data, mode='encode')\n",
    "    reconstructed = model(embeddings, mode='decode')\n",
    "#     loss = l2_loss(reconstructed, data)\n",
    "    loss = torch.mean(torch.norm(data - reconstructed, p=8))\n",
    "    loss = torch.mean(torch.abs(data - reconstructed))\n",
    "    \n",
    "    loss.backward()\n",
    "    grad_norm = nn.utils.clip_grad_norm_(model.parameters(), clip_grad_norm)\n",
    "\n",
    "    optimizer.step()\n",
    "    \n",
    "    losses.append(loss.item())\n",
    "    grad_norms.append(grad_norm)\n",
    "    \n",
    "    if i % log_interval == 0:\n",
    "        print('Epoch {}: {}'.format(i, loss.item()))"
   ]
  },
  {
   "cell_type": "code",
   "execution_count": null,
   "metadata": {},
   "outputs": [],
   "source": [
    "plt.plot(losses)\n",
    "plt.xlabel('Epochs')\n",
    "plt.ylabel('Loss')"
   ]
  },
  {
   "cell_type": "code",
   "execution_count": null,
   "metadata": {},
   "outputs": [],
   "source": [
    "plt.plot(grad_norms)\n",
    "plt.xlabel('Epochs')\n",
    "plt.ylabel('Gradient Norm')"
   ]
  },
  {
   "cell_type": "markdown",
   "metadata": {},
   "source": [
    "### Testing"
   ]
  },
  {
   "cell_type": "code",
   "execution_count": 29,
   "metadata": {},
   "outputs": [],
   "source": [
    "with torch.no_grad():\n",
    "    embeddings = model(data, mode='encode')\n",
    "    reconstructed = model(embeddings, mode='decode')"
   ]
  },
  {
   "cell_type": "code",
   "execution_count": 31,
   "metadata": {},
   "outputs": [],
   "source": [
    "def rescale(data):\n",
    "    return (data - data.min()) / (data.max() - data.min())"
   ]
  },
  {
   "cell_type": "code",
   "execution_count": 32,
   "metadata": {},
   "outputs": [],
   "source": [
    "reconstructed = rescale(reconstructed)"
   ]
  },
  {
   "cell_type": "code",
   "execution_count": 36,
   "metadata": {},
   "outputs": [
    {
     "data": {
      "text/plain": [
       "torch.Size([1040, 84, 84, 3])"
      ]
     },
     "execution_count": 36,
     "metadata": {},
     "output_type": "execute_result"
    }
   ],
   "source": [
    "reconstructed.shape"
   ]
  },
  {
   "cell_type": "code",
   "execution_count": 38,
   "metadata": {},
   "outputs": [
    {
     "data": {
      "image/png": "[encoded data removed]",
      "text/plain": [
       "<Figure size 432x288 with 1 Axes>"
      ]
     },
     "metadata": {
      "needs_background": "light"
     },
     "output_type": "display_data"
    },
    {
     "data": {
      "image/png": "[encoded data removed]",
      "text/plain": [
       "<Figure size 432x288 with 1 Axes>"
      ]
     },
     "metadata": {
      "needs_background": "light"
     },
     "output_type": "display_data"
    }
   ],
   "source": [
    "for idx in [300]:\n",
    "    plt.figure()\n",
    "    plot_img(data[idx], False)\n",
    "    plt.figure()\n",
    "    plot_img(reconstructed[idx], False)"
   ]
  }
 ],
 "metadata": {
  "kernelspec": {
   "display_name": "Python [conda env:rlpyt] *",
   "language": "python",
   "name": "conda-env-rlpyt-py"
  },
  "language_info": {
   "codemirror_mode": {
    "name": "ipython",
    "version": 3
   },
   "file_extension": ".py",
   "mimetype": "text/x-python",
   "name": "python",
   "nbconvert_exporter": "python",
   "pygments_lexer": "ipython3",
   "version": "3.7.6"
  }
 },
 "nbformat": 4,
 "nbformat_minor": 2
}
